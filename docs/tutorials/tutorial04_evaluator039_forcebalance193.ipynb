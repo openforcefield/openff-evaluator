{
 "cells": [
  {
   "cell_type": "markdown",
   "metadata": {
    "colab_type": "text",
    "collapsed": false,
    "id": "lgtY-H9A--wi"
   },
   "source": [
    "# Tutorial 04 - Optimizing Force Fields\n",
    "\n",
    "[![Open In Colab](https://colab.research.google.com/assets/colab-badge.svg)](https://colab.research.google.com/github/openforcefield/openff-evaluator/blob/master/docs/tutorials/tutorial04.ipynb)\n",
    "\n",
    "In this tutorial we will be using the OpenFF Evaluator framework in combination with the fantastic [*ForceBalance*](\n",
    "https://github.com/leeping/forcebalance) software to optimize a molecular force field against the physical property data \n",
    "set we created in the [first tutorial](tutorial01.ipynb).\n",
    "\n",
    "*ForceBalance* offers a suite of tools for optimizing molecular force fields against a set of target data. Perhaps one of \n",
    "the most fundamental targets to fit against is experimental physical property data. Physical property data has been used \n",
    "extensively for decades to inform the values of non-bonded Van der Waals (VdW) interaction parameters (often referred to \n",
    "as Lennard-Jones parameters).\n",
    "\n",
    "*ForceBalance* is seamlessly integrated with the evaluator framework, using it to evaluate the deviations between\n",
    "target experimentally measured data points and those evaluated using the force field being optimized (as well as the \n",
    "gradient of those deviations with respect to the force field parameters being optimized).\n",
    "\n",
    "The tutorial will cover:\n",
    "\n",
    "- setting up the input files and directory structure required by ForceBalace.\n",
    "- setting up an `EvaluatorServer` for *ForceBalance* to connect to.\n",
    "- running *ForceBalance* using those input files.\n",
    "- extracting and plotting a number of statistics output during the optimization."
   ]
  },
  {
   "cell_type": "markdown",
   "metadata": {
    "colab_type": "text",
    "collapsed": false,
    "id": "cPgYOGJG--wj"
   },
   "source": [
    "*Note: If you are running this tutorial in google colab you will need to run a setup script instead of following the \n",
    "installation instructions:*"
   ]
  },
  {
   "cell_type": "code",
   "execution_count": 1,
   "metadata": {
    "colab": {},
    "colab_type": "code",
    "id": "OS7HuXMj--wn",
    "pycharm": {
     "name": "#%%\n"
    }
   },
   "outputs": [],
   "source": [
    "# !wget https://raw.githubusercontent.com/openforcefield/openff-evaluator/master/docs/tutorials/colab_setup.ipynb\n",
    "# %run colab_setup.ipynb"
   ]
  },
  {
   "cell_type": "code",
   "execution_count": 2,
   "metadata": {},
   "outputs": [],
   "source": [
    "import os, sys\n",
    "os.environ['CUDA_VISIBLE_DEVICES']='0'\n",
    "sys.path.append('../../')"
   ]
  },
  {
   "cell_type": "markdown",
   "metadata": {
    "colab_type": "text",
    "collapsed": false,
    "id": "4JOt9Apq--wt"
   },
   "source": [
    "*For this tutorial make sure that you are using a GPU accelerated runtime.*\n",
    "\n",
    "For the sake of clarity all warnings will be disabled in this tutorial:"
   ]
  },
  {
   "cell_type": "code",
   "execution_count": 3,
   "metadata": {
    "colab": {},
    "colab_type": "code",
    "id": "k7tFiECf--wu",
    "pycharm": {
     "name": "#%%\n"
    }
   },
   "outputs": [],
   "source": [
    "import warnings\n",
    "warnings.filterwarnings('ignore')\n",
    "import logging\n",
    "logging.getLogger(\"openforcefield\").setLevel(logging.ERROR)"
   ]
  },
  {
   "cell_type": "markdown",
   "metadata": {
    "colab_type": "text",
    "collapsed": false,
    "id": "sFwGxGQA--w0"
   },
   "source": [
    "We will also enable time-stamped logging to help track the progress of our calculations:"
   ]
  },
  {
   "cell_type": "code",
   "execution_count": 4,
   "metadata": {
    "colab": {},
    "colab_type": "code",
    "id": "nqp2BKbJ--w1",
    "pycharm": {
     "name": "#%%\n"
    }
   },
   "outputs": [],
   "source": [
    "from openff.evaluator.utils import setup_timestamp_logging\n",
    "setup_timestamp_logging()"
   ]
  },
  {
   "cell_type": "markdown",
   "metadata": {
    "colab_type": "text",
    "collapsed": false,
    "id": "cdnCJ18b--w6"
   },
   "source": [
    "## Setting up the ForceBalance Inputs\n",
    "\n",
    "In this section we will be creating the directory structure required by *ForceBalance*, and populating it with the \n",
    "required input files.\n",
    "\n",
    "### Creating the Directory Structure\n",
    "\n",
    "To begin with, we will create a directory to store the starting force field parameters in:"
   ]
  },
  {
   "cell_type": "code",
   "execution_count": 5,
   "metadata": {
    "colab": {},
    "colab_type": "code",
    "id": "Fp-lsXMt--w7",
    "pycharm": {
     "name": "#%%\n"
    }
   },
   "outputs": [
    {
     "name": "stdout",
     "output_type": "stream",
     "text": [
      "mkdir: cannot create directory ‘forcefield’: File exists\n"
     ]
    }
   ],
   "source": [
    "!mkdir forcefield"
   ]
  },
  {
   "cell_type": "markdown",
   "metadata": {
    "colab_type": "text",
    "collapsed": false,
    "id": "J7sd8tN8--w-"
   },
   "source": [
    "and one to store the input parameters for our 'fitting target' - in this case a data set of physical properties:"
   ]
  },
  {
   "cell_type": "code",
   "execution_count": 6,
   "metadata": {
    "colab": {},
    "colab_type": "code",
    "id": "_ZX45ta6--xA",
    "pycharm": {
     "name": "#%%\n"
    }
   },
   "outputs": [],
   "source": [
    "!mkdir -p targets/pure_data"
   ]
  },
  {
   "cell_type": "markdown",
   "metadata": {
    "colab_type": "text",
    "collapsed": false,
    "id": "dYYPy60I--xE"
   },
   "source": [
    "### Defining the Training Data Set\n",
    "\n",
    "With the directories created, we will next specify the data set of physical properties which we will be training the \n",
    "force field against:"
   ]
  },
  {
   "cell_type": "code",
   "execution_count": 7,
   "metadata": {
    "colab": {},
    "colab_type": "code",
    "id": "qlLsxPQm--xG",
    "pycharm": {
     "name": "#%%\n"
    }
   },
   "outputs": [
    {
     "name": "stdout",
     "output_type": "stream",
     "text": [
      "2022-12-12 14:32:04.938 INFO     Enabling RDKit 2022.09.1 jupyter extensions\n"
     ]
    }
   ],
   "source": [
    "# For convenience we will use the copy shipped with the framework\n",
    "from openff.evaluator.utils import get_data_filename\n",
    "data_set_path = get_data_filename(\"tutorials/tutorial01/filtered_data_set.json\")\n",
    "\n",
    "# Load the data set.\n",
    "from openff.evaluator.datasets import PhysicalPropertyDataSet\n",
    "data_set = PhysicalPropertyDataSet.from_json(data_set_path)\n",
    "\n",
    "# Due to a small bug in ForceBalance we need to zero out any uncertainties\n",
    "# which are undefined. This will be fixed in future versions.\n",
    "from openff.evaluator.attributes import UNDEFINED\n",
    "\n",
    "for physical_property in data_set:\n",
    "    \n",
    "    if physical_property.uncertainty != UNDEFINED:\n",
    "        continue\n",
    "        \n",
    "    physical_property.uncertainty = 0.0 * physical_property.default_unit()"
   ]
  },
  {
   "cell_type": "code",
   "execution_count": 8,
   "metadata": {},
   "outputs": [
    {
     "name": "stdout",
     "output_type": "stream",
     "text": [
      "2022-12-12 14:32:05.093 INFO     2 data points were removed after applying the FilterBySmiles component.\n"
     ]
    }
   ],
   "source": [
    "from openff.evaluator.datasets.curation.components.filtering import (\n",
    "    FilterBySmiles,\n",
    "    FilterBySmilesSchema,\n",
    ")\n",
    "\n",
    "data_set = FilterBySmiles.apply(\n",
    "    data_set, FilterBySmilesSchema(smiles_to_include=[\"CCO\"]),\n",
    ")"
   ]
  },
  {
   "cell_type": "markdown",
   "metadata": {
    "colab_type": "text",
    "collapsed": false,
    "id": "GaPGpS4d--xL",
    "pycharm": {
     "name": "#%% md\n"
    }
   },
   "source": [
    "To speed up the runtime of this tutorial, we will only train the force field against measurements made for ethanol"
   ]
  },
  {
   "cell_type": "code",
   "execution_count": 9,
   "metadata": {
    "colab": {},
    "colab_type": "code",
    "id": "UD7Vim_u--xM",
    "pycharm": {
     "name": "#%%\n"
    }
   },
   "outputs": [],
   "source": [
    "# data_set.filter_by_smiles(\"CCO\")"
   ]
  },
  {
   "cell_type": "markdown",
   "metadata": {
    "colab_type": "text",
    "collapsed": false,
    "id": "hDpgPpB4--xQ",
    "pycharm": {
     "name": "#%% md\n"
    }
   },
   "source": [
    "in real optimizations however the data set should be **much** larger than two data points!\n",
    "\n",
    "With those changes made, we can save the data set in our targets directory:"
   ]
  },
  {
   "cell_type": "code",
   "execution_count": 10,
   "metadata": {
    "colab": {},
    "colab_type": "code",
    "id": "MMsDtL9y--xR",
    "pycharm": {
     "name": "#%%\n"
    }
   },
   "outputs": [],
   "source": [
    "# Store the data set in the `pure_data` targets folder:\n",
    "data_set.json(\"targets/pure_data/training_set.json\");"
   ]
  },
  {
   "cell_type": "markdown",
   "metadata": {
    "colab_type": "text",
    "collapsed": false,
    "id": "5Zy5rehy--xV"
   },
   "source": [
    "### Defining the Starting Force Field Parameters\n",
    "\n",
    "We will use the OpenFF Parsley 1.0.0 force field as the starting parameters for the optimization. These can be loaded\n",
    "directly into an OpenFF `ForceField` object using the OpenFF toolkit:"
   ]
  },
  {
   "cell_type": "code",
   "execution_count": 11,
   "metadata": {
    "colab": {},
    "colab_type": "code",
    "id": "EaHKkQ61--xW",
    "pycharm": {
     "name": "#%%\n"
    }
   },
   "outputs": [
    {
     "name": "stdout",
     "output_type": "stream",
     "text": [
      "2022-12-12 14:32:05.308 WARNING  Warning: Unable to load toolkit 'OpenEye Toolkit'. The Open Force Field Toolkit does not require the OpenEye Toolkits, and can use RDKit/AmberTools instead. However, if you have a valid license for the OpenEye Toolkits, consider installing them for faster performance and additional file format support: https://docs.eyesopen.com/toolkits/python/quickstart-python/linuxosx.html OpenEye offers free Toolkit licenses for academics: https://www.eyesopen.com/academic-licensing\n"
     ]
    }
   ],
   "source": [
    "from openff.toolkit.typing.engines.smirnoff import ForceField\n",
    "force_field = ForceField('openff-1.0.0.offxml')"
   ]
  },
  {
   "cell_type": "markdown",
   "metadata": {
    "colab_type": "text",
    "collapsed": false,
    "id": "fCSYfufg--xa",
    "pycharm": {
     "name": "#%% md\n"
    }
   },
   "source": [
    "In order to use these parameters in *ForceBalance*, we need to 'tag' the individual parameters in the force field that\n",
    "we wish to optimize. The toolkit easily enables us to add these tags using cosmetic attributes:"
   ]
  },
  {
   "cell_type": "code",
   "execution_count": 12,
   "metadata": {
    "colab": {},
    "colab_type": "code",
    "id": "fFzLhLKE--xb",
    "pycharm": {
     "name": "#%%\n"
    }
   },
   "outputs": [
    {
     "name": "stdout",
     "output_type": "stream",
     "text": [
      "<openff.toolkit.topology.topology.ValenceDict object at 0x7f59a49165b0>\n",
      "<openff.toolkit.topology.topology.ValenceDict object at 0x7f59a486d1c0>\n",
      "<openff.toolkit.topology.topology.ValenceDict object at 0x7f59a4916f40>\n",
      "<openff.toolkit.topology.topology.ValenceDict object at 0x7f59a486d8e0>\n",
      "<openff.toolkit.topology.topology.ImproperDict object at 0x7f59a486d100>\n",
      "<openff.toolkit.topology.topology.ValenceDict object at 0x7f59a486daf0>\n",
      "<openff.toolkit.topology.topology.ValenceDict object at 0x7f59a486d5e0>\n",
      "<openff.toolkit.topology.topology.ValenceDict object at 0x7f59a486d2b0>\n"
     ]
    }
   ],
   "source": [
    "# Extract the smiles of all unique components in our data set.\n",
    "from openff.toolkit.topology import Molecule, Topology\n",
    "\n",
    "all_smiles = set(\n",
    "    component.smiles\n",
    "    for substance in data_set.substances\n",
    "    for component in substance.components\n",
    ")\n",
    "\n",
    "for smiles in all_smiles:\n",
    "\n",
    "    # Find those VdW parameters which would be applied to those components.\n",
    "    molecule = Molecule.from_smiles(smiles)\n",
    "    topology = Topology.from_molecules([molecule])\n",
    "\n",
    "    labels = force_field.label_molecules(topology)[0]\n",
    "\n",
    "    # Tag the exercised parameters as to be optimized.\n",
    "    for parameter in labels[\"vdW\"].values():\n",
    "        parameter.add_cosmetic_attribute(\"parameterize\", \"epsilon, rmin_half\")"
   ]
  },
  {
   "cell_type": "markdown",
   "metadata": {
    "colab_type": "text",
    "collapsed": false,
    "id": "cIs15IZl--xe",
    "pycharm": {
     "name": "#%% md\n"
    }
   },
   "source": [
    "Here we have made use of the toolkit's handy `label_molecules` function to see which VdW parameters will be assigned\n",
    "to the molecules in our data set, and tagged them to be parameterized.\n",
    "\n",
    "With those tags added, we can save the parameters in the `forcefield` directory:"
   ]
  },
  {
   "cell_type": "code",
   "execution_count": 13,
   "metadata": {
    "colab": {},
    "colab_type": "code",
    "id": "tOs0bcBo--xf",
    "pycharm": {
     "name": "#%%\n"
    }
   },
   "outputs": [],
   "source": [
    "# Save the annotated force field file.\n",
    "force_field.to_file('forcefield/openff-1.0.0-tagged.offxml')"
   ]
  },
  {
   "cell_type": "markdown",
   "metadata": {
    "colab_type": "text",
    "collapsed": false,
    "id": "Zu8JXeni--xj"
   },
   "source": [
    "*Note: The force field parameters are stored in the [OpenFF SMIRNOFF XML format](https://open-forcefield-toolkit.readthedocs.io/en/0.6.0/smirnoff.html).*\n",
    "\n",
    "### Creating the Main Input File\n",
    "\n",
    "Next, we will create the main *ForceBalance* input file. For the sake of brevity a default input file which ships with \n",
    "this framework will be used:"
   ]
  },
  {
   "cell_type": "code",
   "execution_count": 14,
   "metadata": {
    "colab": {
     "base_uri": "https://localhost:8080/",
     "height": 34
    },
    "colab_type": "code",
    "id": "OnaiZmGW--xl",
    "outputId": "bffbe59b-b819-4307-d5fd-4f01fd2422e6",
    "pycharm": {
     "name": "#%%\n"
    }
   },
   "outputs": [
    {
     "data": {
      "text/plain": [
       "'optimize.in'"
      ]
     },
     "execution_count": 14,
     "metadata": {},
     "output_type": "execute_result"
    }
   ],
   "source": [
    "input_file_path = get_data_filename(\"tutorials/tutorial04/optimize.in\")\n",
    "\n",
    "# Copy the input file into our directory structure\n",
    "import shutil\n",
    "shutil.copyfile(input_file_path, \"optimize.in\")"
   ]
  },
  {
   "cell_type": "markdown",
   "metadata": {
    "colab_type": "text",
    "collapsed": false,
    "id": "Oxvx-yIo--xq"
   },
   "source": [
    "While there are many options that can be set within this file, the main options of interest for our purposes appear\n",
    "at the bottom of the file:"
   ]
  },
  {
   "cell_type": "code",
   "execution_count": 15,
   "metadata": {
    "colab": {
     "base_uri": "https://localhost:8080/",
     "height": 119
    },
    "colab_type": "code",
    "id": "vDgpFQUq--xr",
    "outputId": "bc95c1d2-991b-422d-e503-2b68fdd5e250",
    "pycharm": {
     "name": "#%%\n"
    }
   },
   "outputs": [
    {
     "name": "stdout",
     "output_type": "stream",
     "text": [
      "$target\n",
      "name pure_data\n",
      "type Evaluator_SMIRNOFF\n",
      "weight 1.0\n",
      "evaluator_input options.json\n",
      "$end"
     ]
    }
   ],
   "source": [
    "!tail -n 6 optimize.in"
   ]
  },
  {
   "cell_type": "markdown",
   "metadata": {
    "colab_type": "text",
    "collapsed": false,
    "id": "SleJoA3i--xu"
   },
   "source": [
    "Here we have specified that we wish to create a new *ForceBalance* `Evaluator_SMIRNOFF` target called `pure_data` \n",
    "(corresponding to the name of the directory we created in the earlier step).\n",
    " \n",
    "The main input to this target is the file path to an `options.json` file - it is this file which will specify all the\n",
    "options which should be used when *ForceBalance* requests that our target data set be estimated using the current sets\n",
    "of force field parameters.\n",
    "\n",
    "We will create this file in the `targets/pure_data` directory later in this section."
   ]
  },
  {
   "cell_type": "markdown",
   "metadata": {
    "colab_type": "text",
    "collapsed": false,
    "id": "DIUi886c--xv",
    "pycharm": {
     "name": "#%% md\n"
    }
   },
   "source": [
    "The data set is the JSON serialized representation of the `PhysicalPropertyDataSet` we created during the [first \n",
    "tutorial](tutorial01.ipynb).\n",
    "\n",
    "### Defining the Estimation Options\n",
    "\n",
    "The final step before we can start the optimization is to create the set of options which will govern how our data set\n",
    "is estimated using the Evaluator framework.\n",
    " \n",
    "These options will be stored in an `Evaluator_SMIRNOFF` object:"
   ]
  },
  {
   "cell_type": "code",
   "execution_count": 16,
   "metadata": {
    "colab": {},
    "colab_type": "code",
    "id": "Tyloz19F--xw",
    "pycharm": {
     "name": "#%% \n"
    }
   },
   "outputs": [
    {
     "name": "stdout",
     "output_type": "stream",
     "text": [
      "2022-12-12 14:32:06.853 WARNING  Warning: importing 'simtk.openmm' is deprecated.  Import 'openmm' instead.\n"
     ]
    }
   ],
   "source": [
    "from forcebalance.evaluator_io import Evaluator_SMIRNOFF\n",
    "\n",
    "# Create the ForceBalance options object\n",
    "target_options = Evaluator_SMIRNOFF.OptionsFile()\n",
    "# Set the path to the data set\n",
    "target_options.data_set_path = \"training_set.json\"\n",
    "target_options.polling_interval = 30"
   ]
  },
  {
   "cell_type": "markdown",
   "metadata": {
    "colab_type": "text",
    "collapsed": false,
    "id": "mOy6-hgf--xz",
    "pycharm": {
     "name": "#%% md\n"
    }
   },
   "source": [
    "This object exposes both a set of *ForceBalance* specific options, as well as the set of Evaluator options. \n",
    "\n",
    "The *ForceBalance* specific options allow us to define how each type of property will contribute to the optimization\n",
    "objective function (the value which we are trying to minimize):\n",
    "\n",
    "$$\\Delta(\\theta) = \\sum^N_n \\dfrac{weight_n}{M_n} \\sum^{M_n}_m \\left(\\dfrac{y_m^{ref} - y_m(\\theta)}{denominator_{n}}\\right)^2$$ \n",
    "\n",
    "where $N$ is the number of types of properties (e.g. density, enthalpy of vaporization, etc.), $M_n$ is the number of\n",
    "data points of type $n$, $y_m^{ref}$ is the experimental value of data point $m$ and $y_m(\\theta)$ is the estimated \n",
    "value of data point $m$ using the current force field parameters\n",
    "\n",
    "In particular, the options object allows us to specify both an amount to scale each type of properties contribution to \n",
    "the objective function by ($weight_n$), and the amount to scale the difference between the experimental and estimated\n",
    "properties ($denominator_n$):"
   ]
  },
  {
   "cell_type": "code",
   "execution_count": 17,
   "metadata": {
    "colab": {},
    "colab_type": "code",
    "id": "yLM9plwn--xz",
    "pycharm": {
     "name": "#%%\n"
    }
   },
   "outputs": [],
   "source": [
    "from openff.evaluator import unit\n",
    "\n",
    "target_options.weights = {\n",
    "    \"Density\": 1.0,\n",
    "    \"EnthalpyOfVaporization\": 1.0\n",
    "}\n",
    "target_options.denominators = {\n",
    "    \"Density\": 30.0 * unit.kilogram / unit.meter ** 3,\n",
    "    \"EnthalpyOfVaporization\": 3.0 * unit.kilojoule / unit.mole\n",
    "}\n",
    " "
   ]
  },
  {
   "cell_type": "markdown",
   "metadata": {
    "colab_type": "text",
    "collapsed": false,
    "id": "JfdFCewd--x3",
    "pycharm": {
     "name": "#%% md\n"
    }
   },
   "source": [
    " \n",
    "where here we have chosen values that ensure that both types of properties contribute roughly equally to the total\n",
    "objective function.\n",
    "\n",
    "The Evaluator specific options correspond to a standard `RequestOptions` object:"
   ]
  },
  {
   "cell_type": "code",
   "execution_count": 18,
   "metadata": {
    "colab": {},
    "colab_type": "code",
    "id": "70fNiyjg--x4",
    "pycharm": {
     "name": "#%%\n"
    }
   },
   "outputs": [],
   "source": [
    "from openff.evaluator.client import RequestOptions\n",
    "\n",
    "# Create the options which evaluator should use.\n",
    "evaluator_options = RequestOptions()\n",
    "# Choose which calculation layers to make available.\n",
    "evaluator_options.calculation_layers = [\"SimulationLayer\"]\n",
    "\n",
    "# Reduce the default number of molecules\n",
    "from openff.evaluator.properties import Density, EnthalpyOfVaporization\n",
    "\n",
    "density_schema = Density.default_simulation_schema(n_molecules=256)\n",
    "h_vap_schema = EnthalpyOfVaporization.default_simulation_schema(n_molecules=256)\n",
    "\n",
    "evaluator_options.add_schema(\"SimulationLayer\", \"Density\", density_schema)\n",
    "evaluator_options.add_schema(\"SimulationLayer\", \"EnthalpyOfVaporization\", h_vap_schema)\n",
    "\n",
    "target_options.estimation_options = evaluator_options"
   ]
  },
  {
   "cell_type": "markdown",
   "metadata": {
    "colab_type": "text",
    "collapsed": false,
    "id": "O4-QdP-E--x7",
    "pycharm": {
     "name": "#%% md\n"
    }
   },
   "source": [
    "These options allow us to control exactly how each type of property should be estimated, which calculation approaches\n",
    "should be used and more. Here we use the same options are were used in the [second tutorial](tutorial02.ipynb)\n",
    "\n",
    "*Note: more information about the different estimation options can be [found here](../gettingstarted/client.rst)*"
   ]
  },
  {
   "cell_type": "markdown",
   "metadata": {
    "colab_type": "text",
    "collapsed": false,
    "id": "0qXKzNY7--x8",
    "pycharm": {
     "name": "#%% md\n"
    }
   },
   "source": [
    "And that's the options created! We will finish off by serializing the options into our target directory:"
   ]
  },
  {
   "cell_type": "code",
   "execution_count": 19,
   "metadata": {
    "colab": {},
    "colab_type": "code",
    "id": "7TNFFE75--x9",
    "pycharm": {
     "name": "#%%\n"
    }
   },
   "outputs": [],
   "source": [
    "# Save the options to file.\n",
    "with open(\"targets/pure_data/options.json\", \"w\") as file:\n",
    "    file.write(target_options.to_json())"
   ]
  },
  {
   "cell_type": "markdown",
   "metadata": {
    "colab_type": "text",
    "collapsed": false,
    "id": "vZkeoQTV--yA",
    "pycharm": {
     "name": "#%% md\n"
    }
   },
   "source": [
    "## Launching an Evaluator Server\n",
    "\n",
    "With the *ForceBalance* options created, we can now move onto launching the `EvaluatorServer` which *ForceBalance* will \n",
    "call out to when it needs the data set to be evaluated:"
   ]
  },
  {
   "cell_type": "code",
   "execution_count": 20,
   "metadata": {
    "colab": {
     "base_uri": "https://localhost:8080/",
     "height": 34
    },
    "colab_type": "code",
    "id": "Jdr55Aez--yA",
    "outputId": "b56f258e-55c3-4e21-ae0c-fb939c37a95e",
    "pycharm": {
     "name": "#%%\n"
    }
   },
   "outputs": [
    {
     "name": "stdout",
     "output_type": "stream",
     "text": [
      "2022-12-12 14:32:08.562 INFO     Server listening at port 8000\n"
     ]
    }
   ],
   "source": [
    "# Launch the calculation backend which will distribute any calculations.\n",
    "from openff.evaluator.backends import ComputeResources\n",
    "from openff.evaluator.backends.dask import DaskLocalCluster\n",
    "\n",
    "calculation_backend = DaskLocalCluster(\n",
    "    number_of_workers=1,\n",
    "    resources_per_worker=ComputeResources(\n",
    "        number_of_threads=1, \n",
    "        number_of_gpus=1, \n",
    "        preferred_gpu_toolkit=ComputeResources.GPUToolkit.CUDA\n",
    "    ),\n",
    ")\n",
    "calculation_backend.start()\n",
    "\n",
    "# Launch the server object which will listen for estimation requests and schedule any \n",
    "# required calculations.\n",
    "from openff.evaluator.server import EvaluatorServer\n",
    "\n",
    "evaluator_server = EvaluatorServer(calculation_backend=calculation_backend)\n",
    "evaluator_server.start(asynchronous=True)"
   ]
  },
  {
   "cell_type": "markdown",
   "metadata": {
    "colab_type": "text",
    "collapsed": false,
    "id": "R2QFxF68--yF"
   },
   "source": [
    "We will not go into the details of this here as this was already covered in the [second tutorial](tutorial02.ipynb)\n",
    "\n",
    "## Running ForceBalance\n",
    "\n",
    "With the inputs created and an Evaluator server spun up, we are finally ready to run the optimization! This can be \n",
    "accomplished with a single command:"
   ]
  },
  {
   "cell_type": "code",
   "execution_count": 21,
   "metadata": {
    "colab": {},
    "colab_type": "code",
    "id": "mKt1jGxI--yG",
    "pycharm": {
     "name": "#%%\n"
    }
   },
   "outputs": [
    {
     "name": "stdout",
     "output_type": "stream",
     "text": [
      "Backing up the output file to optimize.bak ..\n",
      "Use -f option to force overwrite\n",
      "Output will be written to optimize.out\n",
      "#=====================================#\n",
      "#|     For black and white mode,     |#\n",
      "#|      Run this script with -b      |#\n",
      "#=====================================#\n",
      "#======================================================================#\n",
      "#| \u001b[1m            Welcome to ForceBalance version 1.9.2! =D             \u001b[0m |#\n",
      "#| \u001b[1m                 Force Field Optimization System                  \u001b[0m |#\n",
      "#| \u001b[1m                                                                  \u001b[0m |#\n",
      "#| \u001b[1m                             Authors:                             \u001b[0m |#\n",
      "#| \u001b[1m                          Lee-Ping Wang                           \u001b[0m |#\n",
      "#| \u001b[1m                  Yudong Qiu, Keri A. McKiernan                   \u001b[0m |#\n",
      "#| \u001b[1m          Jeffrey R. Wagner, Hyesu Jang, Simon Boothroyd          \u001b[0m |#\n",
      "#| \u001b[1m          Arthur Vigil, Erik G. Brandt, John Stoppelman           \u001b[0m |#\n",
      "#| \u001b[1m                  Johnny Israeli, Matt Thompson                   \u001b[0m |#\n",
      "#======================================================================#\n",
      "\n",
      "                          \u001b[44m     \u001b[0m                                        \n",
      "                       \u001b[44m        \u001b[0m      \u001b[43m     \u001b[0m                              \n",
      "                    \u001b[44m        \u001b[0m   \u001b[44m  \u001b[0m    \u001b[43m         \u001b[0m                          \n",
      "                 \u001b[44m       \u001b[0m    \u001b[44m      \u001b[0m      \u001b[43m         \u001b[0m                       \n",
      "             \u001b[44m        \u001b[0m    \u001b[44m        \u001b[0m          \u001b[43m         \u001b[0m                    \n",
      "          \u001b[44m        \u001b[0m    \u001b[44m        \u001b[0m                 \u001b[43m        \u001b[0m                 \n",
      "       \u001b[44m        \u001b[0m    \u001b[44m       \u001b[0m                        \u001b[43m        \u001b[0m              \n",
      "    \u001b[44m        \u001b[0m   \u001b[44m        \u001b[0m                              \u001b[43m         \u001b[0m          \n",
      "   \u001b[44m      \u001b[0m   \u001b[44m        \u001b[0m               `.:+@@###@'          \u001b[43m         \u001b[0m       \n",
      "    \u001b[44m \u001b[0m    \u001b[44m        \u001b[0m          ,;'+###############.             \u001b[43m     \u001b[0m       \n",
      "      \u001b[44m        \u001b[0m         +################':`                    \u001b[43m \u001b[0m        \n",
      "      \u001b[44m     \u001b[0m              `.,,...####+.                                  \n",
      "                                ,#####      +##.               \u001b[44m   \u001b[0m   \u001b[44m   \u001b[0m\n",
      " \u001b[43m    \u001b[0m                            #####      ######             \u001b[44m   \u001b[0m   \u001b[44m   \u001b[0m\n",
      " \u001b[43m    \u001b[0m                ###'        ####'     :#####'             \u001b[44m   \u001b[0m   \u001b[44m   \u001b[0m\n",
      " \u001b[43m    \u001b[0m                :####@      ####.    ,####'               \u001b[44m   \u001b[0m   \u001b[44m   \u001b[0m\n",
      " \u001b[43m    \u001b[0m                 ######     ####    +###+                 \u001b[44m   \u001b[0m   \u001b[44m   \u001b[0m\n",
      " \u001b[43m    \u001b[0m                  #####     ####   ###;                   \u001b[44m   \u001b[0m   \u001b[44m   \u001b[0m\n",
      " \u001b[43m    \u001b[0m                   :##      ####  ++`                     \u001b[44m   \u001b[0m   \u001b[44m   \u001b[0m\n",
      " \u001b[43m    \u001b[0m                            ####``..:;+##############+`   \u001b[44m   \u001b[0m   \u001b[44m   \u001b[0m\n",
      " \u001b[43m    \u001b[0m             .,:;;'++##################################`  \u001b[44m   \u001b[0m   \u001b[44m   \u001b[0m\n",
      " \u001b[43m    \u001b[0m    `############################++++''';;;;;;;;;;;'';    \u001b[44m   \u001b[0m   \u001b[44m   \u001b[0m\n",
      " \u001b[43m    \u001b[0m      ,########':,.``       ####                          \u001b[44m   \u001b[0m   \u001b[44m   \u001b[0m\n",
      " \u001b[43m    \u001b[0m                            ####                          \u001b[44m   \u001b[0m   \u001b[44m   \u001b[0m\n",
      " \u001b[43m    \u001b[0m                            ####                          \u001b[44m   \u001b[0m   \u001b[44m   \u001b[0m\n",
      " \u001b[43m    \u001b[0m                            ####                          \u001b[44m   \u001b[0m   \u001b[44m   \u001b[0m\n",
      " \u001b[43m    \u001b[0m                            ####                          \u001b[44m   \u001b[0m   \u001b[44m   \u001b[0m\n",
      " \u001b[43m    \u001b[0m                            ####                          \u001b[44m   \u001b[0m   \u001b[44m   \u001b[0m\n",
      " \u001b[43m    \u001b[0m                            ####                          \u001b[44m   \u001b[0m   \u001b[44m   \u001b[0m\n",
      " \u001b[43m    \u001b[0m                            ####                          \u001b[44m   \u001b[0m   \u001b[44m   \u001b[0m\n",
      "      \u001b[44m    \u001b[0m                       ####                                   \n",
      "     \u001b[44m        \u001b[0m                    ####                                   \n",
      "    \u001b[44m \u001b[0m    \u001b[44m       \u001b[0m                 ####                       \u001b[43m     \u001b[0m       \n",
      "   \u001b[44m     \u001b[0m    \u001b[44m        \u001b[0m             ####                    \u001b[43m        \u001b[0m       \n",
      "   \u001b[44m        \u001b[0m    \u001b[44m        \u001b[0m          ###                  \u001b[43m         \u001b[0m         \n",
      "      \u001b[44m        \u001b[0m    \u001b[44m        \u001b[0m        +`               \u001b[43m        \u001b[0m             \n",
      "          \u001b[44m        \u001b[0m   \u001b[44m        \u001b[0m                   \u001b[43m        \u001b[0m                \n",
      "             \u001b[44m        \u001b[0m   \u001b[44m         \u001b[0m           \u001b[43m         \u001b[0m                   \n",
      "                \u001b[44m        \u001b[0m    \u001b[44m       \u001b[0m      \u001b[43m         \u001b[0m                      \n",
      "                   \u001b[44m        \u001b[0m    \u001b[44m   \u001b[0m    \u001b[43m        \u001b[0m                          \n",
      "                      \u001b[44m        \u001b[0m       \u001b[43m      \u001b[0m                             \n",
      "                          \u001b[44m      \u001b[0m      \u001b[43m  \u001b[0m                                \n",
      "                             \u001b[44m  \u001b[0m                                         \n",
      "\n",
      "Reading options from file: optimize.in\n",
      "#========================================================#\n",
      "#| \u001b[95m  Options at their default values are not printed   \u001b[0m |#\n",
      "#| \u001b[95m        Use 'verbose_options True' to Enable        \u001b[0m |#\n",
      "#========================================================#\n",
      "Reading force field from file: openff-1.0.0-tagged.offxml\n",
      "#=========================================================#\n",
      "#| \u001b[92m Starting parameter indices, physical values and IDs \u001b[0m |#\n",
      "#=========================================================#\n",
      "   0 [  1.5700e-02 ] : vdW/Atom/epsilon/[#1:1]-[#6X4]\n",
      "   1 [  1.4870e+00 ] : vdW/Atom/rmin_half/[#1:1]-[#6X4]\n",
      "   2 [  1.5700e-02 ] : vdW/Atom/epsilon/[#1:1]-[#6X4]-[#7,#8,#9,#16,#17,#35]\n",
      "   3 [  1.3870e+00 ] : vdW/Atom/rmin_half/[#1:1]-[#6X4]-[#7,#8,#9,#16,#17,#35]\n",
      "   4 [  5.2700e-05 ] : vdW/Atom/epsilon/[#1:1]-[#8]\n",
      "   5 [  3.0000e-01 ] : vdW/Atom/rmin_half/[#1:1]-[#8]\n",
      "   6 [  1.0940e-01 ] : vdW/Atom/epsilon/[#6X4:1]\n",
      "   7 [  1.9080e+00 ] : vdW/Atom/rmin_half/[#6X4:1]\n",
      "   8 [  2.1040e-01 ] : vdW/Atom/epsilon/[#8X2H1+0:1]\n",
      "   9 [  1.7210e+00 ] : vdW/Atom/rmin_half/[#8X2H1+0:1]\n",
      "-----------------------------------------------------------\n",
      "#=========================================================#\n",
      "#| \u001b[91m Rescaling Factors by Type (Lower Takes Precedence): \u001b[0m |#\n",
      "#=========================================================#\n",
      "   vdW/Atom/epsilon                     : 1.00000e-01\n",
      "   vdW/Atom/rmin_half                   : 1.00000e+00\n",
      "-----------------------------------------------------------\n",
      "#========================================================#\n",
      "#| \u001b[91m   Rescaling Types / Factors by Parameter Number:   \u001b[0m |#\n",
      "#========================================================#\n",
      "   0 [    vdW/Atom/epsilon              : 1.00000e-01 ] : vdW/Atom/epsilon/[#1:1]-[#6X4]\n",
      "   1 [    vdW/Atom/rmin_half            : 1.00000e+00 ] : vdW/Atom/rmin_half/[#1:1]-[#6X4]\n",
      "   2 [    vdW/Atom/epsilon              : 1.00000e-01 ] : vdW/Atom/epsilon/[#1:1]-[#6X4]-[#7,#8,#9,#16,#17,#35]\n",
      "   3 [    vdW/Atom/rmin_half            : 1.00000e+00 ] : vdW/Atom/rmin_half/[#1:1]-[#6X4]-[#7,#8,#9,#16,#17,#35]\n",
      "   4 [    vdW/Atom/epsilon              : 1.00000e-01 ] : vdW/Atom/epsilon/[#1:1]-[#8]\n",
      "   5 [    vdW/Atom/rmin_half            : 1.00000e+00 ] : vdW/Atom/rmin_half/[#1:1]-[#8]\n",
      "   6 [    vdW/Atom/epsilon              : 1.00000e-01 ] : vdW/Atom/epsilon/[#6X4:1]\n",
      "   7 [    vdW/Atom/rmin_half            : 1.00000e+00 ] : vdW/Atom/rmin_half/[#6X4:1]\n",
      "   8 [    vdW/Atom/epsilon              : 1.00000e-01 ] : vdW/Atom/epsilon/[#8X2H1+0:1]\n",
      "   9 [    vdW/Atom/rmin_half            : 1.00000e+00 ] : vdW/Atom/rmin_half/[#8X2H1+0:1]\n",
      "----------------------------------------------------------\n",
      "#========================================================#\n",
      "#| \u001b[92m               Setup for force field                \u001b[0m |#\n",
      "#========================================================#\n",
      "fnms                      ['openff-1.0.0-tagged.offxml'] \n",
      "priors                    OrderedDict([('vdW/Atom/epsilon', 0.1), ('vdW/Atom/rmin_half', 1.0)]) \n",
      "----------------------------------------------------------\n",
      "Backing up: optimize.tmp/pure_data to: optimize.bak/pure_data_0.tar.bz2\n",
      "targets/pure_data/options.json\n",
      "#========================================================#\n",
      "#| \u001b[92m             Loaded experimental data.              \u001b[0m |#\n",
      "#========================================================#\n",
      "#========================================================#\n",
      "#| \u001b[92m        Reference CCO{solv}{x=1.000000} data        \u001b[0m |#\n",
      "#========================================================#\n",
      "Density 298.15 K-101.325 kPa 785.0700000000002 kg / m ** 3+/-0.0 kg / m ** 3 \n",
      "EnthalpyOfVaporization 298.15 K-101.325 kPa 42.26 kJ / mol+/-0.02 kJ / mol \n",
      "----------------------------------------------------------\n",
      "#========================================================#\n",
      "#| \u001b[92m            Setup for target pure_data :            \u001b[0m |#\n",
      "#========================================================#\n",
      "name                      pure_data \n",
      "type                      EVALUATOR_SMIRNOFF \n",
      "tgtdir                    targets/pure_data \n",
      "evaluator_input           options.json \n",
      "----------------------------------------------------------\n",
      "#========================================================#\n",
      "#| \u001b[92m        SMIRNOFF Parameter Coverage Analysis        \u001b[0m |#\n",
      "#========================================================#\n",
      "Force field assignment data written to /home/wyan/Workspace/openff-evaluator/docs/tutorials/smirnoff_parameter_assignments.json\n",
      " idx Parameter                                                                                                   Count\n",
      "----------------------------------------------------------------------------------------------------------------------\n",
      "   0 vdW/Atom/epsilon/[#1:1]-[#6X4]                                                                       :          0\n",
      "   1 vdW/Atom/rmin_half/[#1:1]-[#6X4]                                                                     :          0\n",
      "   2 vdW/Atom/epsilon/[#1:1]-[#6X4]-[#7,#8,#9,#16,#17,#35]                                                :          0\n",
      "   3 vdW/Atom/rmin_half/[#1:1]-[#6X4]-[#7,#8,#9,#16,#17,#35]                                              :          0\n",
      "   4 vdW/Atom/epsilon/[#1:1]-[#8]                                                                         :          0\n",
      "   5 vdW/Atom/rmin_half/[#1:1]-[#8]                                                                       :          0\n",
      "   6 vdW/Atom/epsilon/[#6X4:1]                                                                            :          0\n",
      "   7 vdW/Atom/rmin_half/[#6X4:1]                                                                          :          0\n",
      "   8 vdW/Atom/epsilon/[#8X2H1+0:1]                                                                        :          0\n",
      "   9 vdW/Atom/rmin_half/[#8X2H1+0:1]                                                                      :          0\n",
      "SNIRNOFF Parameter Coverage Analysis result: 0/10 parameters are covered.\n",
      "----------------------------------------------------------------------------------------------------------------------\n",
      "Using parabolic regularization (Gaussian prior) with strength 1.0e+00 (+), 0.0e+00 (x)\n",
      "#========================================================#\n",
      "#| \u001b[92m           Setup for objective function :           \u001b[0m |#\n",
      "#========================================================#\n",
      "penalty_additive          1.0 \n",
      "normalize_weights         False \n",
      "----------------------------------------------------------\n",
      "#========================================================#\n",
      "#| \u001b[92m                Setup for optimizer                 \u001b[0m |#\n",
      "#========================================================#\n",
      "jobtype                   OPTIMIZE \n",
      "trust0                    0.25 \n",
      "mintrust                  0.05 \n",
      "eps                       0.01 \n",
      "convergence_objective     0.1 \n",
      "convergence_step          0.1 \n",
      "convergence_gradient      0.1 \n",
      "maxstep                   4 \n",
      "adapt_fac                 0.2 \n",
      "adapt_damp                1.0 \n",
      "print_hess                True \n",
      "err_tol                   1.0 \n",
      "input_file                optimize.in \n",
      "----------------------------------------------------------\n",
      "Calculation started at 2022-12-12 02:32 PM\n",
      "#========================================================#\n",
      "#| \u001b[1m                  Main Optimizer                    \u001b[0m |#\n",
      "#| \u001b[1m   Newton-Raphson Method (Adaptive Trust Radius)    \u001b[0m |#\n",
      "#| \u001b[1m                                                    \u001b[0m |#\n",
      "#| \u001b[1m       \u001b[0mConvergence criteria (1 of 3 needed):        \u001b[0m |#\n",
      "#| \u001b[1m          \u001b[0mObjective Function  : 1.000e-01           \u001b[0m |#\n",
      "#| \u001b[1m          \u001b[0mNorm of Gradient    : 1.000e-01           \u001b[0m |#\n",
      "#| \u001b[1m          \u001b[0mParameter step size : 1.000e-01           \u001b[0m |#\n",
      "#========================================================#\n",
      "#========================================================#\n",
      "#|       Color Key for Objective Function -=X2=-        |#\n",
      "#|  \u001b[1mBold\u001b[0m = Initial step                                 |#\n",
      "#|  \u001b[92mGreen = Current lowest value of objective function\u001b[0m  |#\n",
      "#|  \u001b[91mRed = Objective function rises, step rejected\u001b[0m       |#\n",
      "#|  \u001b[0mNo color = Not at the lowest value                  |#\n",
      "#========================================================#\n",
      "#========================================================#\n",
      "#| \u001b[94m     Iteration 0: Evaluating objective function     \u001b[0m |#\n",
      "#| \u001b[94m        and derivatives through second order        \u001b[0m |#\n",
      "#========================================================#\n",
      "2022-12-12 14:32:11.601 INFO     Received estimation request from ('127.0.0.1', 42140)\n",
      "2022-12-12 14:32:11.677 INFO     Launching batch 08cd72472b6649c2b1e662e766853ba2 using the SimulationLayer layer\n",
      "Requesting the estimation of 2 properties, and their gradients with respect to 10 parameters.\n",
      "2022-12-12 14:32:11.680 INFO     Building workflow 0 of 2\n",
      "<openff.toolkit.topology.topology.ValenceDict object at 0x7f58f488ae50>\n",
      "<openff.toolkit.topology.topology.ValenceDict object at 0x7f58f4893a90>\n",
      "<openff.toolkit.topology.topology.ValenceDict object at 0x7f58f4893a00>\n",
      "<openff.toolkit.topology.topology.ValenceDict object at 0x7f58f4893e50>\n",
      "<openff.toolkit.topology.topology.ImproperDict object at 0x7f58f48939d0>\n",
      "<openff.toolkit.topology.topology.ValenceDict object at 0x7f58f4824e50>\n",
      "<openff.toolkit.topology.topology.ValenceDict object at 0x7f58f4824c40>\n",
      "<openff.toolkit.topology.topology.ValenceDict object at 0x7f58f4824d90>\n",
      "2022-12-12 14:32:11.908 INFO     Building workflow 1 of 2\n",
      "<openff.toolkit.topology.topology.ValenceDict object at 0x7f58f4801d90>\n",
      "<openff.toolkit.topology.topology.ValenceDict object at 0x7f58f4872d30>\n",
      "<openff.toolkit.topology.topology.ValenceDict object at 0x7f58f48729d0>\n",
      "<openff.toolkit.topology.topology.ValenceDict object at 0x7f58f4f6d640>\n",
      "<openff.toolkit.topology.topology.ImproperDict object at 0x7f58f4f6d9d0>\n",
      "<openff.toolkit.topology.topology.ValenceDict object at 0x7f58f4f6d610>\n",
      "<openff.toolkit.topology.topology.ValenceDict object at 0x7f58f4f6d5b0>\n",
      "<openff.toolkit.topology.topology.ValenceDict object at 0x7f58f4872820>\n",
      "2022-12-12 14:32:12.195 INFO     Launching a job with access to GPUs 0\n",
      "2022-12-12 14:32:12.239 INFO     Executing 4f0b3bf451bf417395857db8401a004f|build_coordinates_gas\n",
      "2022-12-12 14:32:12.346 INFO     4f0b3bf451bf417395857db8401a004f|build_coordinates_gas finished executing after 105.1222689993665 ms\n",
      "2022-12-12 14:32:12.363 INFO     Launching a job with access to GPUs 0\n",
      "2022-12-12 14:32:12.395 INFO     Executing 4f0b3bf451bf417395857db8401a004f|build_coordinates_liquid\n",
      "2022-12-12 14:32:12.989 INFO     4f0b3bf451bf417395857db8401a004f|build_coordinates_liquid finished executing after 591.6518010008076 ms\n",
      "2022-12-12 14:32:13.007 INFO     Launching a job with access to GPUs 0\n",
      "2022-12-12 14:32:13.036 INFO     Executing 4f0b3bf451bf417395857db8401a004f|assign_parameters_gas\n",
      "2022-12-12 14:32:13.149 INFO     12 torsions added\n",
      "2022-12-12 14:32:13.151 INFO     0 impropers added, each applied in a six-fold trefoil\n",
      "2022-12-12 14:32:13.153 INFO     2 bonds added (6 skipped due to constraints)\n",
      "2022-12-12 14:32:13.156 INFO     13 angles added (0 skipped due to constraints)\n",
      "2022-12-12 14:32:13.481 INFO     4f0b3bf451bf417395857db8401a004f|assign_parameters_gas finished executing after 443.16228600018803 ms\n",
      "2022-12-12 14:32:13.507 INFO     Launching a job with access to GPUs 0\n",
      "2022-12-12 14:32:13.555 INFO     Executing 4f0b3bf451bf417395857db8401a004f|assign_parameters_liquid\n",
      "2022-12-12 14:32:14.472 INFO     3072 torsions added\n",
      "2022-12-12 14:32:14.490 INFO     0 impropers added, each applied in a six-fold trefoil\n",
      "2022-12-12 14:32:14.583 INFO     512 bonds added (1536 skipped due to constraints)\n",
      "2022-12-12 14:32:14.780 INFO     3328 angles added (0 skipped due to constraints)\n",
      "2022-12-12 14:32:15.231 INFO     4f0b3bf451bf417395857db8401a004f|assign_parameters_liquid finished executing after 1673.1749470000068 ms\n",
      "2022-12-12 14:32:15.251 INFO     Launching a job with access to GPUs 0\n",
      "2022-12-12 14:32:15.286 INFO     Executing 4f0b3bf451bf417395857db8401a004f|energy_minimisation_gas\n",
      "2022-12-12 14:32:15.291 INFO     Setting up an openmm platform on GPU 0\n",
      "2022-12-12 14:32:15.810 INFO     4f0b3bf451bf417395857db8401a004f|energy_minimisation_gas finished executing after 521.9772840000587 ms\n",
      "2022-12-12 14:32:15.836 INFO     Launching a job with access to GPUs 0\n",
      "2022-12-12 14:32:15.877 INFO     Executing 4f0b3bf451bf417395857db8401a004f|energy_minimisation_liquid\n",
      "2022-12-12 14:32:15.885 INFO     Setting up an openmm platform on GPU 0\n",
      "2022-12-12 14:32:19.327 INFO     4f0b3bf451bf417395857db8401a004f|energy_minimisation_liquid finished executing after 3447.70569100001 ms\n",
      "2022-12-12 14:32:19.398 INFO     Launching a job with access to GPUs 0\n",
      "2022-12-12 14:32:19.440 INFO     Executing 4f0b3bf451bf417395857db8401a004f|equilibration_simulation_gas\n",
      "2022-12-12 14:32:19.621 INFO     Setting up a simulation with 1 threads\n",
      "2022-12-12 14:32:19.636 INFO     No checkpoint files were found.\n",
      "2022-12-12 14:32:21.174 INFO     4f0b3bf451bf417395857db8401a004f|equilibration_simulation_gas finished executing after 1732.0472270002938 ms\n",
      "2022-12-12 14:32:21.200 INFO     Launching a job with access to GPUs 0\n",
      "2022-12-12 14:32:21.243 INFO     Executing 4f0b3bf451bf417395857db8401a004f|equilibration_simulation_liquid\n",
      "2022-12-12 14:32:21.486 INFO     Setting up an openmm platform on GPU 0\n",
      "2022-12-12 14:32:22.268 INFO     No checkpoint files were found.\n",
      "2022-12-12 14:33:13.530 INFO     4f0b3bf451bf417395857db8401a004f|equilibration_simulation_liquid finished executing after 52284.532217999185 ms\n",
      "2022-12-12 14:33:13.779 INFO     Launching a job with access to GPUs 0\n",
      "2022-12-12 14:33:13.834 INFO     Executing 4f0b3bf451bf417395857db8401a004f|conditional_group\n",
      "2022-12-12 14:33:13.847 INFO     Executing 4f0b3bf451bf417395857db8401a004f|production_simulation_liquid\n",
      "2022-12-12 14:33:14.047 INFO     Setting up an openmm platform on GPU 0\n",
      "2022-12-12 14:33:14.904 INFO     No checkpoint files were found.\n",
      "2022-12-12 14:43:36.666 INFO     Setting up an openmm platform on GPU 0\n",
      "2022-12-12 14:43:39.818 INFO     Setting up an openmm platform on GPU 0\n",
      "2022-12-12 14:43:43.138 INFO     Setting up an openmm platform on GPU 0\n",
      "2022-12-12 14:43:46.269 INFO     Setting up an openmm platform on GPU 0\n",
      "2022-12-12 14:43:49.664 INFO     Setting up an openmm platform on GPU 0\n",
      "2022-12-12 14:43:52.723 INFO     Setting up an openmm platform on GPU 0\n",
      "2022-12-12 14:43:56.033 INFO     Setting up an openmm platform on GPU 0\n",
      "2022-12-12 14:43:59.150 INFO     Setting up an openmm platform on GPU 0\n",
      "2022-12-12 14:44:02.447 INFO     Setting up an openmm platform on GPU 0\n",
      "2022-12-12 14:44:05.544 INFO     Setting up an openmm platform on GPU 0\n",
      "2022-12-12 14:44:08.897 INFO     Setting up an openmm platform on GPU 0\n",
      "2022-12-12 14:44:11.983 INFO     Setting up an openmm platform on GPU 0\n",
      "2022-12-12 14:44:15.287 INFO     Setting up an openmm platform on GPU 0\n",
      "2022-12-12 14:44:18.386 INFO     Setting up an openmm platform on GPU 0\n",
      "2022-12-12 14:44:21.713 INFO     Setting up an openmm platform on GPU 0\n",
      "2022-12-12 14:44:24.782 INFO     Setting up an openmm platform on GPU 0\n",
      "2022-12-12 14:44:28.179 INFO     Setting up an openmm platform on GPU 0\n",
      "2022-12-12 14:44:31.239 INFO     Setting up an openmm platform on GPU 0\n",
      "2022-12-12 14:44:34.522 INFO     Setting up an openmm platform on GPU 0\n",
      "2022-12-12 14:44:37.589 INFO     Setting up an openmm platform on GPU 0\n",
      "2022-12-12 14:44:40.714 INFO     4f0b3bf451bf417395857db8401a004f|production_simulation_liquid finished executing after 686865.5279399999 ms\n",
      "2022-12-12 14:44:40.785 INFO     Executing 4f0b3bf451bf417395857db8401a004f|average_liquid_potential\n",
      "2022-12-12 14:44:41.414 INFO     4f0b3bf451bf417395857db8401a004f|average_liquid_potential finished executing after 628.5844499998348 ms\n",
      "2022-12-12 14:44:41.483 INFO     Executing 3b3bf3f008084e1bbe2ea698dee7509e|average_density\n",
      "2022-12-12 14:44:42.021 INFO     3b3bf3f008084e1bbe2ea698dee7509e|average_density finished executing after 536.3657569996576 ms\n",
      "2022-12-12 14:44:42.023 INFO     Executing 4f0b3bf451bf417395857db8401a004f|production_simulation_gas\n",
      "2022-12-12 14:44:42.026 INFO     Setting up a simulation with 1 threads\n",
      "2022-12-12 14:44:42.033 INFO     No checkpoint files were found.\n",
      "2022-12-12 14:48:09.740 INFO     Setting up an openmm platform on GPU 0\n",
      "2022-12-12 14:48:12.059 INFO     Setting up an openmm platform on GPU 0\n",
      "2022-12-12 14:48:13.099 INFO     Setting up an openmm platform on GPU 0\n",
      "2022-12-12 14:48:14.091 INFO     Setting up an openmm platform on GPU 0\n",
      "2022-12-12 14:48:15.193 INFO     Setting up an openmm platform on GPU 0\n",
      "2022-12-12 14:48:16.197 INFO     Setting up an openmm platform on GPU 0\n",
      "2022-12-12 14:48:17.267 INFO     Setting up an openmm platform on GPU 0\n",
      "2022-12-12 14:48:18.345 INFO     Setting up an openmm platform on GPU 0\n",
      "2022-12-12 14:48:19.404 INFO     Setting up an openmm platform on GPU 0\n",
      "2022-12-12 14:48:20.458 INFO     Setting up an openmm platform on GPU 0\n",
      "2022-12-12 14:48:21.448 INFO     Setting up an openmm platform on GPU 0\n",
      "2022-12-12 14:48:22.460 INFO     Setting up an openmm platform on GPU 0\n",
      "2022-12-12 14:48:23.488 INFO     Setting up an openmm platform on GPU 0\n",
      "2022-12-12 14:48:24.621 INFO     Setting up an openmm platform on GPU 0\n",
      "2022-12-12 14:48:26.195 INFO     Setting up an openmm platform on GPU 0\n",
      "2022-12-12 14:48:27.216 INFO     Setting up an openmm platform on GPU 0\n",
      "2022-12-12 14:48:28.438 INFO     Setting up an openmm platform on GPU 0\n",
      "2022-12-12 14:48:29.507 INFO     Setting up an openmm platform on GPU 0\n",
      "2022-12-12 14:48:30.568 INFO     Setting up an openmm platform on GPU 0\n",
      "2022-12-12 14:48:31.605 INFO     Setting up an openmm platform on GPU 0\n",
      "2022-12-12 14:48:32.834 INFO     4f0b3bf451bf417395857db8401a004f|production_simulation_gas finished executing after 230810.16343199916 ms\n",
      "2022-12-12 14:48:33.016 INFO     Executing 4f0b3bf451bf417395857db8401a004f|average_gas_potential\n",
      "2022-12-12 14:48:33.797 INFO     4f0b3bf451bf417395857db8401a004f|average_gas_potential finished executing after 780.3890790000878 ms\n",
      "2022-12-12 14:48:33.808 INFO     Executing 4f0b3bf451bf417395857db8401a004f|energy_of_vaporization\n",
      "2022-12-12 14:48:33.810 INFO     4f0b3bf451bf417395857db8401a004f|energy_of_vaporization finished executing after 1.120699999773933 ms\n",
      "2022-12-12 14:48:33.811 INFO     Executing 4f0b3bf451bf417395857db8401a004f|ideal_volume\n",
      "2022-12-12 14:48:33.813 INFO     4f0b3bf451bf417395857db8401a004f|ideal_volume finished executing after 0.7052999999359599 ms\n",
      "2022-12-12 14:48:33.821 INFO     Executing 4f0b3bf451bf417395857db8401a004f|enthalpy_of_vaporization\n",
      "2022-12-12 14:48:33.824 INFO     4f0b3bf451bf417395857db8401a004f|enthalpy_of_vaporization finished executing after 1.1394000002837856 ms\n",
      "2022-12-12 14:48:33.825 INFO     4f0b3bf451bf417395857db8401a004f|conditional_group loop finished after 1 iterations\n",
      "2022-12-12 14:48:33.960 INFO     4f0b3bf451bf417395857db8401a004f|conditional_group finished executing after 920123.659639 ms\n",
      "2022-12-12 14:48:34.193 INFO     Launching a job with access to GPUs 0\n",
      "2022-12-12 14:48:34.595 INFO     Executing 3b3bf3f008084e1bbe2ea698dee7509e|decorrelate_observables\n",
      "2022-12-12 14:48:34.614 INFO     3b3bf3f008084e1bbe2ea698dee7509e|decorrelate_observables finished executing after 17.741398999532976 ms\n",
      "2022-12-12 14:48:34.637 INFO     Launching a job with access to GPUs 0\n",
      "2022-12-12 14:48:35.050 INFO     Executing 4f0b3bf451bf417395857db8401a004f|decorrelate_trajectory_gas\n",
      "2022-12-12 14:48:35.778 INFO     4f0b3bf451bf417395857db8401a004f|decorrelate_trajectory_gas finished executing after 725.7956809999087 ms\n",
      "2022-12-12 14:48:35.802 INFO     Launching a job with access to GPUs 0\n",
      "2022-12-12 14:48:36.211 INFO     Executing 4f0b3bf451bf417395857db8401a004f|decorrelate_trajectory_liquid\n",
      "2022-12-12 14:48:36.414 INFO     4f0b3bf451bf417395857db8401a004f|decorrelate_trajectory_liquid finished executing after 200.6870949999211 ms\n",
      "2022-12-12 14:48:36.437 INFO     Launching a job with access to GPUs 0\n",
      "2022-12-12 14:48:36.853 INFO     Executing 3b3bf3f008084e1bbe2ea698dee7509e|decorrelate_trajectory\n",
      "2022-12-12 14:48:37.068 INFO     3b3bf3f008084e1bbe2ea698dee7509e|decorrelate_trajectory finished executing after 213.87689499988483 ms\n",
      "2022-12-12 14:48:37.092 INFO     Launching a job with access to GPUs 0\n",
      "2022-12-12 14:48:37.479 INFO     Executing 4f0b3bf451bf417395857db8401a004f|decorrelate_observables_gas\n",
      "2022-12-12 14:48:37.544 INFO     4f0b3bf451bf417395857db8401a004f|decorrelate_observables_gas finished executing after 63.10209799994482 ms\n",
      "2022-12-12 14:48:37.572 INFO     Launching a job with access to GPUs 0\n",
      "2022-12-12 14:48:38.647 INFO     Launching a job with access to GPUs 0\n",
      "2022-12-12 14:48:39.048 INFO     Executing 4f0b3bf451bf417395857db8401a004f|decorrelate_observables_liquid\n",
      "2022-12-12 14:48:39.064 INFO     4f0b3bf451bf417395857db8401a004f|decorrelate_observables_liquid finished executing after 14.486598999610578 ms\n",
      "2022-12-12 14:48:39.090 INFO     Launching a job with access to GPUs 0\n",
      "2022-12-12 14:48:40.965 INFO     Launching a job with access to GPUs 0\n",
      "2022-12-12 14:48:41.010 INFO     Launching a job with access to GPUs 0\n",
      "2022-12-12 14:48:41.353 INFO     Finished server request 08cd72472b6649c2b1e662e766853ba2\n",
      "\n",
      "2 properties were estimated using the SimulationLayer layer.\n",
      "\n",
      "\n",
      "#=============================================================================================================#\n",
      "#| \u001b[1;94m                                            pure_data Density                                            \u001b[0m |#\n",
      "#| \u001b[1;94m Temperature  Pressure Substance  Reference  Calculated +- Stdev     Delta    Weight    Denom     Term   \u001b[0m |#\n",
      "#=============================================================================================================#\n",
      "  298.15 K 1.0 atm CCO{solv}{x=1.000000}   785.070        792.422 +- 0.662     7.352   1.00000  30.00000   0.06006  \n",
      "---------------------------------------------------------------------------------------------------------------\n",
      "\n",
      "#=============================================================================================================#\n",
      "#| \u001b[1;94m                                    pure_data EnthalpyOfVaporization                                     \u001b[0m |#\n",
      "#| \u001b[1;94m Temperature  Pressure Substance  Reference  Calculated +- Stdev     Delta    Weight    Denom     Term   \u001b[0m |#\n",
      "#=============================================================================================================#\n",
      "  298.15 K 1.0 atm CCO{solv}{x=1.000000}    42.260         39.239 +- 0.180    -3.021   1.00000   3.00000   1.01391  \n",
      "---------------------------------------------------------------------------------------------------------------\n",
      "#====================================================================#\n",
      "#| \u001b[94m                  Objective Function Breakdown                  \u001b[0m |#\n",
      "#| \u001b[94m  Target Name              Residual  x  Weight  =  Contribution \u001b[0m |#\n",
      "#====================================================================#\n",
      "pure_data                      1.07397      1.000 \u001b[94m     1.07397e+00\u001b[0m \n",
      "Regularization                 0.00000      1.000 \u001b[94m     0.00000e+00\u001b[0m \n",
      "Total                                             \u001b[94m     1.07397e+00\u001b[0m \n",
      "----------------------------------------------------------------------\n",
      "\n",
      "  Step       |k|        |dk|       |grad|       -=X2=-     Delta(X2)    StepQual\n",
      "     0   0.000e+00   0.000e+00   5.282e+01\u001b[1m   1.07397e+00\u001b[0m   0.000e+00      0.000\n",
      "\n",
      "#========================================================#\n",
      "#| \u001b[94m                   Total Gradient                   \u001b[0m |#\n",
      "#========================================================#\n",
      "   0 [ -1.41913606e+01 ] : vdW/Atom/epsilon/[#1:1]-[#6X4]\n",
      "   1 [ -4.36464414e+00 ] : vdW/Atom/rmin_half/[#1:1]-[#6X4]\n",
      "   2 [ -9.24985750e+00 ] : vdW/Atom/epsilon/[#1:1]-[#6X4]-[#7,#8,#9,#16,#17,#35]\n",
      "   3 [ -3.14279210e+00 ] : vdW/Atom/rmin_half/[#1:1]-[#6X4]-[#7,#8,#9,#16,#17,#35]\n",
      "   4 [ -1.43560564e+01 ] : vdW/Atom/epsilon/[#1:1]-[#8]\n",
      "   5 [  7.79548044e-02 ] : vdW/Atom/rmin_half/[#1:1]-[#8]\n",
      "   6 [ -6.09339486e+00 ] : vdW/Atom/epsilon/[#6X4:1]\n",
      "   7 [ -1.28391237e+01 ] : vdW/Atom/rmin_half/[#6X4:1]\n",
      "   8 [  4.74723897e-01 ] : vdW/Atom/epsilon/[#8X2H1+0:1]\n",
      "   9 [  4.54514916e+01 ] : vdW/Atom/rmin_half/[#8X2H1+0:1]\n",
      "----------------------------------------------------------\n",
      "#========================================================#\n",
      "#| \u001b[94m                   Total Hessian                    \u001b[0m |#\n",
      "#========================================================#\n",
      " 2.13165546e+02 -1.47807367e+02  1.20278245e+02 -8.75327654e+01  2.28377530e+02 -7.21512065e-01  1.31903431e+02  1.47199073e+02  6.76458548e+00 -5.41315952e+02 \n",
      "-1.47807367e+02  2.76646067e+02 -7.02228611e+01  1.69328670e+02 -1.71732451e+02  1.52244031e-01 -1.25505562e+02 -6.77541835e+01 -1.58616723e+01  2.70277587e+02 \n",
      " 1.20278245e+02 -7.02228611e+01  7.16491143e+01 -4.10414722e+01  1.29112986e+02 -4.39751230e-01  7.24241465e+01  8.67218582e+01  2.94522968e+00 -3.17191736e+02 \n",
      "-8.75327654e+01  1.69328670e+02 -4.10414722e+01  1.06495122e+02 -1.02164944e+02  7.63919400e-02 -7.56203148e+01 -3.87477443e+01 -9.82766202e+00  1.55821447e+02 \n",
      " 2.28377530e+02 -1.71732451e+02  1.29112986e+02 -1.02164944e+02  2.49816538e+02 -7.55844946e-01  1.44956815e+02  1.56749422e+02  8.08796480e+00 -5.77901851e+02 \n",
      "-7.21512065e-01  1.52244031e-01 -4.39751230e-01  7.63919400e-02 -7.55844946e-01  2.00319230e+00 -3.82313791e-01 -5.75655073e-01 -1.83089642e-04  2.07342240e+00 \n",
      " 1.31903431e+02 -1.25505562e+02  7.24241465e+01 -7.56203148e+01  1.44956815e+02 -3.82313791e-01  9.08232412e+01  8.51094927e+01  6.38198361e+00 -3.17077663e+02 \n",
      " 1.47199073e+02 -6.77541835e+01  8.67218582e+01 -3.87477443e+01  1.56749422e+02 -5.75655073e-01  8.51094927e+01  1.11879945e+02  2.42238535e+00 -3.99725428e+02 \n",
      " 6.76458548e+00 -1.58616723e+01  2.94522968e+00 -9.82766202e+00  8.08796480e+00 -1.83089642e-04  6.38198361e+00  2.42238535e+00  2.93991126e+00 -1.02806402e+01 \n",
      "-5.41315952e+02  2.70277587e+02 -3.17191736e+02  1.55821447e+02 -5.77901851e+02  2.07342240e+00 -3.17077663e+02 -3.99725428e+02 -1.02806402e+01  1.45856853e+03 \n",
      "----------------------------------------------------------\n",
      "Calculating nonlinear optimization step\n",
      "Newton-Raphson step found (length 6.1453e-02)\n",
      "#========================================================#\n",
      "#| \u001b[95m  Mathematical Parameters (Current + Step = Next)   \u001b[0m |#\n",
      "#========================================================#\n",
      "   0 [  0.0000e+00 + 3.7021e-03 =  3.7021e-03 ] : vdW/Atom/epsilon/[#1:1]-[#6X4]\n",
      "   1 [  0.0000e+00 + 3.9898e-02 =  3.9898e-02 ] : vdW/Atom/rmin_half/[#1:1]-[#6X4]\n",
      "   2 [  0.0000e+00 + 5.5754e-03 =  5.5754e-03 ] : vdW/Atom/epsilon/[#1:1]-[#6X4]-[#7,#8,#9,#16,#17,#35]\n",
      "   3 [  0.0000e+00 + 2.5286e-02 =  2.5286e-02 ] : vdW/Atom/rmin_half/[#1:1]-[#6X4]-[#7,#8,#9,#16,#17,#35]\n",
      "   4 [  0.0000e+00 + 1.0558e-03 =  1.0558e-03 ] : vdW/Atom/epsilon/[#1:1]-[#8]\n",
      "   5 [  0.0000e+00 - 1.0021e-04 = -1.0021e-04 ] : vdW/Atom/rmin_half/[#1:1]-[#8]\n",
      "   6 [  0.0000e+00 - 5.9226e-03 = -5.9226e-03 ] : vdW/Atom/epsilon/[#6X4:1]\n",
      "   7 [  0.0000e+00 + 1.1337e-02 =  1.1337e-02 ] : vdW/Atom/rmin_half/[#6X4:1]\n",
      "   8 [  0.0000e+00 - 2.6431e-03 = -2.6431e-03 ] : vdW/Atom/epsilon/[#8X2H1+0:1]\n",
      "   9 [  0.0000e+00 - 3.6451e-02 = -3.6451e-02 ] : vdW/Atom/rmin_half/[#8X2H1+0:1]\n",
      "----------------------------------------------------------\n",
      "#========================================================#\n",
      "#| \u001b[95m    Physical Parameters (Current + Step = Next)     \u001b[0m |#\n",
      "#========================================================#\n",
      "   0 [  1.5700e-02 + 3.7021e-04 =  1.6070e-02 ] : vdW/Atom/epsilon/[#1:1]-[#6X4]\n",
      "   1 [  1.4870e+00 + 3.9898e-02 =  1.5269e+00 ] : vdW/Atom/rmin_half/[#1:1]-[#6X4]\n",
      "   2 [  1.5700e-02 + 5.5754e-04 =  1.6258e-02 ] : vdW/Atom/epsilon/[#1:1]-[#6X4]-[#7,#8,#9,#16,#17,#35]\n",
      "   3 [  1.3870e+00 + 2.5286e-02 =  1.4123e+00 ] : vdW/Atom/rmin_half/[#1:1]-[#6X4]-[#7,#8,#9,#16,#17,#35]\n",
      "   4 [  5.2700e-05 + 1.0558e-04 =  1.5828e-04 ] : vdW/Atom/epsilon/[#1:1]-[#8]\n",
      "   5 [  3.0000e-01 - 1.0021e-04 =  2.9990e-01 ] : vdW/Atom/rmin_half/[#1:1]-[#8]\n",
      "   6 [  1.0940e-01 - 5.9226e-04 =  1.0881e-01 ] : vdW/Atom/epsilon/[#6X4:1]\n",
      "   7 [  1.9080e+00 + 1.1337e-02 =  1.9193e+00 ] : vdW/Atom/rmin_half/[#6X4:1]\n",
      "   8 [  2.1040e-01 - 2.6431e-04 =  2.1014e-01 ] : vdW/Atom/epsilon/[#8X2H1+0:1]\n",
      "   9 [  1.7210e+00 - 3.6451e-02 =  1.6845e+00 ] : vdW/Atom/rmin_half/[#8X2H1+0:1]\n",
      "----------------------------------------------------------\n",
      "Backing up optimize.sav -> optimize.bak/optimize_1.sav\n",
      "Input file with saved parameters: optimize.sav\n",
      "#========================================================#\n",
      "#| \u001b[94m     Iteration 1: Evaluating objective function     \u001b[0m |#\n",
      "#| \u001b[94m        and derivatives through second order        \u001b[0m |#\n",
      "#========================================================#\n",
      "2022-12-12 14:48:43.453 INFO     Received estimation request from ('127.0.0.1', 37756)\n",
      "2022-12-12 14:48:43.505 INFO     Launching batch f47a9e0c6c944cbfbc2d1b08c43af130 using the SimulationLayer layer\n",
      "2022-12-12 14:48:43.508 INFO     Building workflow 0 of 2\n",
      "Requesting the estimation of 2 properties, and their gradients with respect to 10 parameters.\n",
      "<openff.toolkit.topology.topology.ValenceDict object at 0x7f58f48469d0>\n",
      "<openff.toolkit.topology.topology.ValenceDict object at 0x7f58f47a1550>\n",
      "<openff.toolkit.topology.topology.ValenceDict object at 0x7f58f4849fd0>\n",
      "<openff.toolkit.topology.topology.ValenceDict object at 0x7f58f47a1580>\n",
      "<openff.toolkit.topology.topology.ImproperDict object at 0x7f58f4849ee0>\n",
      "<openff.toolkit.topology.topology.ValenceDict object at 0x7f58f4849eb0>\n",
      "<openff.toolkit.topology.topology.ValenceDict object at 0x7f58f4849490>\n",
      "<openff.toolkit.topology.topology.ValenceDict object at 0x7f58f4849d60>\n",
      "2022-12-12 14:48:43.641 INFO     Building workflow 1 of 2\n",
      "<openff.toolkit.topology.topology.ValenceDict object at 0x7f58e619fe80>\n",
      "<openff.toolkit.topology.topology.ValenceDict object at 0x7f58f4784700>\n",
      "<openff.toolkit.topology.topology.ValenceDict object at 0x7f58f4784850>\n",
      "<openff.toolkit.topology.topology.ValenceDict object at 0x7f58f47842e0>\n",
      "<openff.toolkit.topology.topology.ImproperDict object at 0x7f58f4771f70>\n",
      "<openff.toolkit.topology.topology.ValenceDict object at 0x7f58f4771670>\n",
      "<openff.toolkit.topology.topology.ValenceDict object at 0x7f58f47713a0>\n",
      "<openff.toolkit.topology.topology.ValenceDict object at 0x7f58f4771c40>\n",
      "2022-12-12 14:48:43.849 INFO     Launching a job with access to GPUs 0\n",
      "2022-12-12 14:48:43.881 INFO     Executing 4f0b3bf451bf417395857db8401a004f|build_coordinates_gas\n",
      "2022-12-12 14:48:43.988 INFO     4f0b3bf451bf417395857db8401a004f|build_coordinates_gas finished executing after 104.8225980002826 ms\n",
      "2022-12-12 14:48:44.008 INFO     Launching a job with access to GPUs 0\n",
      "2022-12-12 14:48:44.043 INFO     Executing 4f0b3bf451bf417395857db8401a004f|build_coordinates_liquid\n",
      "2022-12-12 14:48:44.595 INFO     4f0b3bf451bf417395857db8401a004f|build_coordinates_liquid finished executing after 550.0285859998257 ms\n",
      "2022-12-12 14:48:44.617 INFO     Launching a job with access to GPUs 0\n",
      "2022-12-12 14:48:44.643 INFO     Executing 4f0b3bf451bf417395857db8401a004f|assign_parameters_gas\n",
      "2022-12-12 14:48:44.768 INFO     12 torsions added\n",
      "2022-12-12 14:48:44.769 INFO     0 impropers added, each applied in a six-fold trefoil\n",
      "2022-12-12 14:48:44.773 INFO     2 bonds added (6 skipped due to constraints)\n",
      "2022-12-12 14:48:44.775 INFO     13 angles added (0 skipped due to constraints)\n",
      "2022-12-12 14:48:45.048 INFO     4f0b3bf451bf417395857db8401a004f|assign_parameters_gas finished executing after 402.2530900001584 ms\n",
      "2022-12-12 14:48:45.065 INFO     Launching a job with access to GPUs 0\n",
      "2022-12-12 14:48:45.094 INFO     Executing 4f0b3bf451bf417395857db8401a004f|assign_parameters_liquid\n",
      "2022-12-12 14:48:46.015 INFO     3072 torsions added\n",
      "2022-12-12 14:48:46.032 INFO     0 impropers added, each applied in a six-fold trefoil\n",
      "2022-12-12 14:48:46.116 INFO     512 bonds added (1536 skipped due to constraints)\n",
      "2022-12-12 14:48:46.283 INFO     3328 angles added (0 skipped due to constraints)\n",
      "2022-12-12 14:48:46.690 INFO     4f0b3bf451bf417395857db8401a004f|assign_parameters_liquid finished executing after 1594.3666590001158 ms\n",
      "2022-12-12 14:48:46.714 INFO     Launching a job with access to GPUs 0\n",
      "2022-12-12 14:48:46.745 INFO     Executing 4f0b3bf451bf417395857db8401a004f|energy_minimisation_gas\n",
      "2022-12-12 14:48:46.750 INFO     Setting up an openmm platform on GPU 0\n",
      "2022-12-12 14:48:47.587 INFO     4f0b3bf451bf417395857db8401a004f|energy_minimisation_gas finished executing after 839.8419799996191 ms\n",
      "2022-12-12 14:48:47.605 INFO     Launching a job with access to GPUs 0\n",
      "2022-12-12 14:48:47.635 INFO     Executing 4f0b3bf451bf417395857db8401a004f|energy_minimisation_liquid\n",
      "2022-12-12 14:48:47.641 INFO     Setting up an openmm platform on GPU 0\n",
      "2022-12-12 14:48:49.873 INFO     4f0b3bf451bf417395857db8401a004f|energy_minimisation_liquid finished executing after 2235.9685460005494 ms\n",
      "2022-12-12 14:48:49.925 INFO     Launching a job with access to GPUs 0\n",
      "2022-12-12 14:48:49.959 INFO     Executing 4f0b3bf451bf417395857db8401a004f|equilibration_simulation_gas\n",
      "2022-12-12 14:48:50.145 INFO     Setting up a simulation with 1 threads\n",
      "2022-12-12 14:48:50.156 INFO     No checkpoint files were found.\n",
      "2022-12-12 14:48:51.581 INFO     4f0b3bf451bf417395857db8401a004f|equilibration_simulation_gas finished executing after 1620.0954610003464 ms\n",
      "2022-12-12 14:48:51.603 INFO     Launching a job with access to GPUs 0\n",
      "2022-12-12 14:48:51.635 INFO     Executing 4f0b3bf451bf417395857db8401a004f|equilibration_simulation_liquid\n",
      "2022-12-12 14:48:51.807 INFO     Setting up an openmm platform on GPU 0\n",
      "2022-12-12 14:48:52.594 INFO     No checkpoint files were found.\n",
      "2022-12-12 14:49:59.724 INFO     4f0b3bf451bf417395857db8401a004f|equilibration_simulation_liquid finished executing after 68087.73601200027 ms\n",
      "2022-12-12 14:49:59.948 INFO     Launching a job with access to GPUs 0\n",
      "2022-12-12 14:49:59.998 INFO     Executing 4f0b3bf451bf417395857db8401a004f|conditional_group\n",
      "2022-12-12 14:50:00.011 INFO     Executing 4f0b3bf451bf417395857db8401a004f|production_simulation_liquid\n",
      "2022-12-12 14:50:00.200 INFO     Setting up an openmm platform on GPU 0\n",
      "2022-12-12 14:50:01.022 INFO     No checkpoint files were found.\n",
      "2022-12-12 14:59:50.153 INFO     Setting up an openmm platform on GPU 0\n",
      "2022-12-12 14:59:53.286 INFO     Setting up an openmm platform on GPU 0\n",
      "2022-12-12 14:59:56.780 INFO     Setting up an openmm platform on GPU 0\n",
      "2022-12-12 14:59:59.861 INFO     Setting up an openmm platform on GPU 0\n",
      "2022-12-12 15:00:03.134 INFO     Setting up an openmm platform on GPU 0\n",
      "2022-12-12 15:00:06.203 INFO     Setting up an openmm platform on GPU 0\n",
      "2022-12-12 15:00:09.487 INFO     Setting up an openmm platform on GPU 0\n",
      "2022-12-12 15:00:12.545 INFO     Setting up an openmm platform on GPU 0\n",
      "2022-12-12 15:00:15.936 INFO     Setting up an openmm platform on GPU 0\n",
      "2022-12-12 15:00:19.014 INFO     Setting up an openmm platform on GPU 0\n",
      "2022-12-12 15:00:22.291 INFO     Setting up an openmm platform on GPU 0\n",
      "2022-12-12 15:00:25.387 INFO     Setting up an openmm platform on GPU 0\n",
      "2022-12-12 15:00:28.739 INFO     Setting up an openmm platform on GPU 0\n",
      "2022-12-12 15:00:31.797 INFO     Setting up an openmm platform on GPU 0\n",
      "2022-12-12 15:00:35.095 INFO     Setting up an openmm platform on GPU 0\n",
      "2022-12-12 15:00:38.146 INFO     Setting up an openmm platform on GPU 0\n",
      "2022-12-12 15:00:41.426 INFO     Setting up an openmm platform on GPU 0\n",
      "2022-12-12 15:00:44.489 INFO     Setting up an openmm platform on GPU 0\n",
      "2022-12-12 15:00:47.810 INFO     Setting up an openmm platform on GPU 0\n",
      "2022-12-12 15:00:50.841 INFO     Setting up an openmm platform on GPU 0\n",
      "2022-12-12 15:00:53.922 INFO     4f0b3bf451bf417395857db8401a004f|production_simulation_liquid finished executing after 653909.8342510005 ms\n",
      "2022-12-12 15:00:53.999 INFO     Executing 4f0b3bf451bf417395857db8401a004f|average_liquid_potential\n",
      "2022-12-12 15:00:54.553 INFO     4f0b3bf451bf417395857db8401a004f|average_liquid_potential finished executing after 552.8167140000733 ms\n",
      "2022-12-12 15:00:54.622 INFO     Executing 3b3bf3f008084e1bbe2ea698dee7509e|average_density\n",
      "2022-12-12 15:00:55.167 INFO     3b3bf3f008084e1bbe2ea698dee7509e|average_density finished executing after 544.6378130000085 ms\n",
      "2022-12-12 15:00:55.169 INFO     Executing 4f0b3bf451bf417395857db8401a004f|production_simulation_gas\n",
      "2022-12-12 15:00:55.172 INFO     Setting up a simulation with 1 threads\n",
      "2022-12-12 15:00:55.180 INFO     No checkpoint files were found.\n",
      "2022-12-12 15:04:23.593 INFO     Setting up an openmm platform on GPU 0\n",
      "2022-12-12 15:04:25.527 INFO     Setting up an openmm platform on GPU 0\n",
      "2022-12-12 15:04:26.543 INFO     Setting up an openmm platform on GPU 0\n",
      "2022-12-12 15:04:27.542 INFO     Setting up an openmm platform on GPU 0\n",
      "2022-12-12 15:04:28.561 INFO     Setting up an openmm platform on GPU 0\n",
      "2022-12-12 15:04:29.577 INFO     Setting up an openmm platform on GPU 0\n",
      "2022-12-12 15:04:30.580 INFO     Setting up an openmm platform on GPU 0\n",
      "2022-12-12 15:04:31.582 INFO     Setting up an openmm platform on GPU 0\n",
      "2022-12-12 15:04:32.631 INFO     Setting up an openmm platform on GPU 0\n",
      "2022-12-12 15:04:33.673 INFO     Setting up an openmm platform on GPU 0\n",
      "2022-12-12 15:04:34.682 INFO     Setting up an openmm platform on GPU 0\n",
      "2022-12-12 15:04:35.790 INFO     Setting up an openmm platform on GPU 0\n",
      "2022-12-12 15:04:36.833 INFO     Setting up an openmm platform on GPU 0\n",
      "2022-12-12 15:04:37.845 INFO     Setting up an openmm platform on GPU 0\n",
      "2022-12-12 15:04:38.869 INFO     Setting up an openmm platform on GPU 0\n",
      "2022-12-12 15:04:39.885 INFO     Setting up an openmm platform on GPU 0\n",
      "2022-12-12 15:04:40.892 INFO     Setting up an openmm platform on GPU 0\n",
      "2022-12-12 15:04:41.968 INFO     Setting up an openmm platform on GPU 0\n",
      "2022-12-12 15:04:43.027 INFO     Setting up an openmm platform on GPU 0\n",
      "2022-12-12 15:04:44.081 INFO     Setting up an openmm platform on GPU 0\n",
      "2022-12-12 15:04:45.161 INFO     4f0b3bf451bf417395857db8401a004f|production_simulation_gas finished executing after 229991.24820299947 ms\n",
      "2022-12-12 15:04:45.355 INFO     Executing 4f0b3bf451bf417395857db8401a004f|average_gas_potential\n",
      "2022-12-12 15:04:46.479 INFO     4f0b3bf451bf417395857db8401a004f|average_gas_potential finished executing after 1123.0180940001446 ms\n",
      "2022-12-12 15:04:46.489 INFO     Executing 4f0b3bf451bf417395857db8401a004f|energy_of_vaporization\n",
      "2022-12-12 15:04:46.492 INFO     4f0b3bf451bf417395857db8401a004f|energy_of_vaporization finished executing after 1.115100000788516 ms\n",
      "2022-12-12 15:04:46.493 INFO     Executing 4f0b3bf451bf417395857db8401a004f|ideal_volume\n",
      "2022-12-12 15:04:46.495 INFO     4f0b3bf451bf417395857db8401a004f|ideal_volume finished executing after 0.5298000005495851 ms\n",
      "2022-12-12 15:04:46.505 INFO     Executing 4f0b3bf451bf417395857db8401a004f|enthalpy_of_vaporization\n",
      "2022-12-12 15:04:46.508 INFO     4f0b3bf451bf417395857db8401a004f|enthalpy_of_vaporization finished executing after 0.9420000005775364 ms\n",
      "2022-12-12 15:04:46.509 INFO     4f0b3bf451bf417395857db8401a004f|conditional_group loop finished after 1 iterations\n",
      "2022-12-12 15:04:46.649 INFO     4f0b3bf451bf417395857db8401a004f|conditional_group finished executing after 886649.0971769999 ms\n",
      "2022-12-12 15:04:46.874 INFO     Launching a job with access to GPUs 0\n",
      "2022-12-12 15:04:47.295 INFO     Executing 3b3bf3f008084e1bbe2ea698dee7509e|decorrelate_observables\n",
      "2022-12-12 15:04:47.315 INFO     3b3bf3f008084e1bbe2ea698dee7509e|decorrelate_observables finished executing after 17.963399999644025 ms\n",
      "2022-12-12 15:04:47.337 INFO     Launching a job with access to GPUs 0\n",
      "2022-12-12 15:04:47.778 INFO     Executing 4f0b3bf451bf417395857db8401a004f|decorrelate_trajectory_liquid\n",
      "2022-12-12 15:04:47.979 INFO     4f0b3bf451bf417395857db8401a004f|decorrelate_trajectory_liquid finished executing after 199.51209900045797 ms\n",
      "2022-12-12 15:04:48.000 INFO     Launching a job with access to GPUs 0\n",
      "2022-12-12 15:04:48.435 INFO     Executing 3b3bf3f008084e1bbe2ea698dee7509e|decorrelate_trajectory\n",
      "2022-12-12 15:04:48.645 INFO     3b3bf3f008084e1bbe2ea698dee7509e|decorrelate_trajectory finished executing after 208.08199900056934 ms\n",
      "2022-12-12 15:04:48.668 INFO     Launching a job with access to GPUs 0\n",
      "2022-12-12 15:04:49.088 INFO     Executing 4f0b3bf451bf417395857db8401a004f|decorrelate_trajectory_gas\n",
      "2022-12-12 15:04:50.026 INFO     4f0b3bf451bf417395857db8401a004f|decorrelate_trajectory_gas finished executing after 936.985096999706 ms\n",
      "2022-12-12 15:04:50.049 INFO     Launching a job with access to GPUs 0\n",
      "2022-12-12 15:04:51.074 INFO     Launching a job with access to GPUs 0\n",
      "2022-12-12 15:04:51.491 INFO     Executing 4f0b3bf451bf417395857db8401a004f|decorrelate_observables_gas\n",
      "2022-12-12 15:04:51.603 INFO     4f0b3bf451bf417395857db8401a004f|decorrelate_observables_gas finished executing after 110.18600000079459 ms\n",
      "2022-12-12 15:04:51.629 INFO     Launching a job with access to GPUs 0\n",
      "2022-12-12 15:04:52.042 INFO     Executing 4f0b3bf451bf417395857db8401a004f|decorrelate_observables_liquid\n",
      "2022-12-12 15:04:52.057 INFO     4f0b3bf451bf417395857db8401a004f|decorrelate_observables_liquid finished executing after 14.039700000466837 ms\n",
      "2022-12-12 15:04:52.082 INFO     Launching a job with access to GPUs 0\n",
      "2022-12-12 15:04:54.056 INFO     Launching a job with access to GPUs 0\n",
      "2022-12-12 15:04:54.103 INFO     Launching a job with access to GPUs 0\n",
      "2022-12-12 15:04:54.464 INFO     Finished server request f47a9e0c6c944cbfbc2d1b08c43af130\n",
      "\n",
      "2 properties were estimated using the SimulationLayer layer.\n",
      "\n",
      "\n",
      "#=============================================================================================================#\n",
      "#| \u001b[1;94m                                            pure_data Density                                            \u001b[0m |#\n",
      "#| \u001b[1;94m Temperature  Pressure Substance  Reference  Calculated +- Stdev     Delta    Weight    Denom     Term   \u001b[0m |#\n",
      "#=============================================================================================================#\n",
      "  298.15 K 1.0 atm CCO{solv}{x=1.000000}   785.070        783.774 +- 0.581    -1.296   1.00000  30.00000   0.00187  \n",
      "---------------------------------------------------------------------------------------------------------------\n",
      "\n",
      "#=============================================================================================================#\n",
      "#| \u001b[1;94m                                    pure_data EnthalpyOfVaporization                                     \u001b[0m |#\n",
      "#| \u001b[1;94m Temperature  Pressure Substance  Reference  Calculated +- Stdev     Delta    Weight    Denom     Term   \u001b[0m |#\n",
      "#=============================================================================================================#\n",
      "  298.15 K 1.0 atm CCO{solv}{x=1.000000}    42.260         42.091 +- 0.125    -0.169   1.00000   3.00000   0.00316  \n",
      "---------------------------------------------------------------------------------------------------------------\n",
      "#===================================================================================#\n",
      "#| \u001b[94m                         Objective Function Breakdown                          \u001b[0m |#\n",
      "#| \u001b[94m  Target Name              Residual  x  Weight  =  Contribution (Current-Prev) \u001b[0m |#\n",
      "#===================================================================================#\n",
      "pure_data                      0.00503      1.000 \u001b[92m     5.02996e-03\u001b[0m ( -1.069e+00 ) \n",
      "Regularization                 0.00378      1.000 \u001b[91m     3.77642e-03\u001b[0m ( +3.776e-03 ) \n",
      "Total                                             \u001b[92m     8.80638e-03\u001b[0m ( -1.065e+00 ) \n",
      "-------------------------------------------------------------------------------------\n",
      "Creating the directory /home/wyan/Workspace/openff-evaluator/docs/tutorials/result/optimize to print the force field\n",
      "#========================================================================#\n",
      "#|  The force field has been written to the result/optimize directory.  |#\n",
      "#|    Input file with optimization parameters saved to optimize.sav.    |#\n",
      "#========================================================================#\n",
      "\n",
      "  Step       |k|        |dk|       |grad|       -=X2=-     Delta(X2)    StepQual\n",
      "     1   6.145e-02   6.145e-02   4.670e+00\u001b[92m   8.80638e-03\u001b[0m  -1.065e+00      0.995\n",
      "\n",
      "#========================================================#\n",
      "#| \u001b[94m                   Total Gradient                   \u001b[0m |#\n",
      "#========================================================#\n",
      "   0 [ -1.02412465e+00 ] : vdW/Atom/epsilon/[#1:1]-[#6X4]\n",
      "   1 [  1.85053795e+00 ] : vdW/Atom/rmin_half/[#1:1]-[#6X4]\n",
      "   2 [ -7.74819462e-01 ] : vdW/Atom/epsilon/[#1:1]-[#6X4]-[#7,#8,#9,#16,#17,#35]\n",
      "   3 [  6.88496844e-01 ] : vdW/Atom/rmin_half/[#1:1]-[#6X4]-[#7,#8,#9,#16,#17,#35]\n",
      "   4 [ -4.85872536e-01 ] : vdW/Atom/epsilon/[#1:1]-[#8]\n",
      "   5 [  1.77635724e-02 ] : vdW/Atom/rmin_half/[#1:1]-[#8]\n",
      "   6 [ -9.27819505e-01 ] : vdW/Atom/epsilon/[#6X4:1]\n",
      "   7 [ -1.08847940e+00 ] : vdW/Atom/rmin_half/[#6X4:1]\n",
      "   8 [ -1.97174491e-02 ] : vdW/Atom/epsilon/[#8X2H1+0:1]\n",
      "   9 [  3.73874815e+00 ] : vdW/Atom/rmin_half/[#8X2H1+0:1]\n",
      "----------------------------------------------------------\n",
      "#========================================================#\n",
      "#| \u001b[94m                   Total Hessian                    \u001b[0m |#\n",
      "#========================================================#\n",
      " 1.32514799e+02 -1.07848344e+02  9.36150468e+01 -2.52706645e+01  6.98460566e+01 -1.74102565e+00  8.78510493e+01  1.30041447e+02  3.59738357e-01 -4.12970991e+02 \n",
      "-1.07848344e+02  5.33330627e+02 -9.95456438e+01  2.31884492e+02 -2.68757380e+01  3.46286482e+00 -1.79319237e+02 -1.47600017e+02 -5.87717370e+00  6.04989935e+02 \n",
      " 9.36150468e+01 -9.95456438e+01  7.02611163e+01 -2.87134060e+01  4.85514000e+01 -1.35036226e+00  6.83684961e+01  9.52897515e+01  5.38012141e-01 -3.09447444e+02 \n",
      "-2.52706645e+01  2.31884492e+02 -2.87134060e+01  1.07573333e+02  1.19165968e+00  1.30295531e+00 -6.79341728e+01 -4.43332484e+01 -2.73212065e+00  2.05804549e+02 \n",
      " 6.98460566e+01 -2.68757380e+01  4.85514000e+01  1.19165968e+00  4.15295004e+01 -7.90554802e-01  3.95711134e+01  6.67931514e+01 -1.96629834e-01 -2.02611419e+02 \n",
      "-1.74102565e+00  3.46286482e+00 -1.35036226e+00  1.30295531e+00 -7.90554802e-01  2.03249040e+00 -1.66043385e+00 -1.91846284e+00 -3.03405315e-02  6.71615378e+00 \n",
      " 8.78510493e+01 -1.79319237e+02  6.83684961e+01 -6.79341728e+01  3.95711134e+01 -1.66043385e+00  8.68910671e+01  9.72206562e+01  1.58882177e+00 -3.41627559e+02 \n",
      " 1.30041447e+02 -1.47600017e+02  9.52897515e+01 -4.43332484e+01  6.67931514e+01 -1.91846284e+00  9.72206562e+01  1.35213868e+02  8.64962688e-01 -4.35414772e+02 \n",
      " 3.59738357e-01 -5.87717370e+00  5.38012141e-01 -2.73212065e+00 -1.96629834e-01 -3.03405315e-02  1.58882177e+00  8.64962688e-01  2.07139983e+00 -4.46618344e+00 \n",
      "-4.12970991e+02  6.04989935e+02 -3.09447444e+02  2.05804549e+02 -2.02611419e+02  6.71615378e+00 -3.41627559e+02 -4.35414772e+02 -4.46618344e+00  1.46600699e+03 \n",
      "----------------------------------------------------------\n",
      "Convergence criterion reached in step size (1.00e-01)\n",
      "#========================================================#\n",
      "#| \u001b[92m               \u001b[0m\u001b[1mOptimization Converged\u001b[0m               \u001b[0m |#\n",
      "#| \u001b[92m           Final objective function value           \u001b[0m |#\n",
      "#| \u001b[92m  Full:  8.806380e-03  Un-penalized:  5.029957e-03  \u001b[0m |#\n",
      "#========================================================#\n",
      "#========================================================#\n",
      "#| \u001b[94m           Final optimization parameters:           \u001b[0m |#\n",
      "#========================================================#\n",
      "   0 [  3.7021e-03 ] : vdW/Atom/epsilon/[#1:1]-[#6X4]\n",
      "   1 [  3.9898e-02 ] : vdW/Atom/rmin_half/[#1:1]-[#6X4]\n",
      "   2 [  5.5754e-03 ] : vdW/Atom/epsilon/[#1:1]-[#6X4]-[#7,#8,#9,#16,#17,#35]\n",
      "   3 [  2.5286e-02 ] : vdW/Atom/rmin_half/[#1:1]-[#6X4]-[#7,#8,#9,#16,#17,#35]\n",
      "   4 [  1.0558e-03 ] : vdW/Atom/epsilon/[#1:1]-[#8]\n",
      "   5 [ -1.0021e-04 ] : vdW/Atom/rmin_half/[#1:1]-[#8]\n",
      "   6 [ -5.9226e-03 ] : vdW/Atom/epsilon/[#6X4:1]\n",
      "   7 [  1.1337e-02 ] : vdW/Atom/rmin_half/[#6X4:1]\n",
      "   8 [ -2.6431e-03 ] : vdW/Atom/epsilon/[#8X2H1+0:1]\n",
      "   9 [ -3.6451e-02 ] : vdW/Atom/rmin_half/[#8X2H1+0:1]\n",
      "#========================================================#\n",
      "#| \u001b[94m             Final physical parameters:             \u001b[0m |#\n",
      "#========================================================#\n",
      "   0 [  1.6070e-02 ] : vdW/Atom/epsilon/[#1:1]-[#6X4]\n",
      "   1 [  1.5269e+00 ] : vdW/Atom/rmin_half/[#1:1]-[#6X4]\n",
      "   2 [  1.6258e-02 ] : vdW/Atom/epsilon/[#1:1]-[#6X4]-[#7,#8,#9,#16,#17,#35]\n",
      "   3 [  1.4123e+00 ] : vdW/Atom/rmin_half/[#1:1]-[#6X4]-[#7,#8,#9,#16,#17,#35]\n",
      "   4 [  1.5828e-04 ] : vdW/Atom/epsilon/[#1:1]-[#8]\n",
      "   5 [  2.9990e-01 ] : vdW/Atom/rmin_half/[#1:1]-[#8]\n",
      "   6 [  1.0881e-01 ] : vdW/Atom/epsilon/[#6X4:1]\n",
      "   7 [  1.9193e+00 ] : vdW/Atom/rmin_half/[#6X4:1]\n",
      "   8 [  2.1014e-01 ] : vdW/Atom/epsilon/[#8X2H1+0:1]\n",
      "   9 [  1.6845e+00 ] : vdW/Atom/rmin_half/[#8X2H1+0:1]\n",
      "----------------------------------------------------------\n",
      "Backing up result/optimize/openff-1.0.0-tagged.offxml -> result/optimize/openff-1.0.0-tagged_1.offxml\n",
      "#========================================================================#\n",
      "#|  The force field has been written to the result/optimize directory.  |#\n",
      "#|    Input file with optimization parameters saved to optimize.sav.    |#\n",
      "#========================================================================#\n",
      "Wall time since calculation start: 1984.0 seconds\n",
      "#========================================================#\n",
      "#| \u001b[1;44;93m               Calculation Finished.                \u001b[0m |#\n",
      "#| \u001b[1;44;93m     ---==(  May the Force be with you!  )==---     \u001b[0m |#\n",
      "#========================================================#\n",
      "Look in optimize.err for more (possibly relevant) printout.\n"
     ]
    }
   ],
   "source": [
    "!ForceBalance optimize.in"
   ]
  },
  {
   "cell_type": "markdown",
   "metadata": {
    "colab_type": "text",
    "collapsed": false,
    "id": "xSuicGKR--yI",
    "pycharm": {
     "name": "#%% md\n"
    }
   },
   "source": [
    "If everything went well *ForceBalance* should exit cleanly, and will have stored out newly optimized force field in the\n",
    "`results` directory."
   ]
  },
  {
   "cell_type": "code",
   "execution_count": 22,
   "metadata": {
    "colab": {
     "base_uri": "https://localhost:8080/",
     "height": 34
    },
    "colab_type": "code",
    "id": "9XwxXlBX--yK",
    "outputId": "c0640494-9b26-4f7e-8e79-406158c3ab3d",
    "pycharm": {
     "name": "#%%\n"
    }
   },
   "outputs": [
    {
     "name": "stdout",
     "output_type": "stream",
     "text": [
      "openff-1.0.0-tagged.offxml  openff-1.0.0-tagged_1.offxml\n"
     ]
    }
   ],
   "source": [
    "!ls result/optimize"
   ]
  },
  {
   "cell_type": "markdown",
   "metadata": {
    "colab_type": "text",
    "collapsed": false,
    "id": "THb-Zxd4--yN",
    "pycharm": {
     "name": "#%% md\n"
    }
   },
   "source": [
    "## Plotting the results\n",
    "\n",
    "As a last step in this tutorial, we will extract the objective function at each iteration from the *ForceBalance* output\n",
    "files and plot this using `matplotlib`.\n",
    "\n",
    "First, we will extract the objective function from the `pickle` serialized output files which can be found in the \n",
    "`optimize.tmp/pure_data/iter_****/` directories:"
   ]
  },
  {
   "cell_type": "code",
   "execution_count": 23,
   "metadata": {
    "colab": {
     "base_uri": "https://localhost:8080/",
     "height": 34
    },
    "colab_type": "code",
    "id": "o5Hhm6XB--yP",
    "outputId": "8fc45775-b549-425f-f49e-2e0c8fec1b78",
    "pycharm": {
     "name": "#%% \n"
    }
   },
   "outputs": [
    {
     "name": "stdout",
     "output_type": "stream",
     "text": [
      "[1.0739707742526847, 0.005029957393205019]\n"
     ]
    }
   ],
   "source": [
    "from forcebalance.nifty import lp_load\n",
    "\n",
    "# Determine how many iterations ForceBalance has completed.\n",
    "from glob import glob\n",
    "n_iterations = len(glob(\"optimize.tmp/pure_data/iter*\"))\n",
    "\n",
    "# Extract the objective function at each iteration.\n",
    "objective_function = []\n",
    "\n",
    "for iteration in range(n_iterations):\n",
    "\n",
    "    folder_name = \"iter_\" + str(iteration).zfill(4)\n",
    "    file_path = f\"optimize.tmp/pure_data/{folder_name}/objective.p\"\n",
    "    \n",
    "    statistics = lp_load(file_path)\n",
    "    objective_function.append(statistics[\"X\"])\n",
    "\n",
    "print(objective_function)\n",
    "    "
   ]
  },
  {
   "cell_type": "markdown",
   "metadata": {
    "colab_type": "text",
    "collapsed": false,
    "id": "p0VXrv-3--yT",
    "pycharm": {
     "name": "#%% md\n"
    }
   },
   "source": [
    "The objective function is then easily plotted:"
   ]
  },
  {
   "cell_type": "code",
   "execution_count": 24,
   "metadata": {
    "colab": {
     "base_uri": "https://localhost:8080/",
     "height": 297
    },
    "colab_type": "code",
    "id": "DzOieX2B--yU",
    "outputId": "51331014-27cc-4829-84b6-bf64f0a550f4",
    "pycharm": {
     "name": "#%%\n"
    }
   },
   "outputs": [
    {
     "name": "stdout",
     "output_type": "stream",
     "text": [
      "2022-12-12 15:05:17.617 INFO     generated new fontManager\n"
     ]
    },
    {
     "data": {
      "image/png": "[encoded data removed]",
      "text/plain": [
       "<Figure size 400x400 with 1 Axes>"
      ]
     },
     "metadata": {},
     "output_type": "display_data"
    }
   ],
   "source": [
    "from matplotlib import pyplot\n",
    "figure, axis = pyplot.subplots(1, 1, figsize=(4, 4))\n",
    "\n",
    "axis.set_xlabel(\"Iteration\")\n",
    "axis.set_ylabel(\"Objective Function\")\n",
    "\n",
    "axis.plot(range(n_iterations), objective_function, marker=\"o\")\n",
    "\n",
    "figure.tight_layout()"
   ]
  },
  {
   "cell_type": "markdown",
   "metadata": {
    "colab_type": "text",
    "collapsed": false,
    "id": "PbzleU137H9m",
    "pycharm": {
     "name": "#%% md\n"
    }
   },
   "source": [
    "## Conclusion\n",
    "\n",
    "And that concludes the fourth tutorial! \n",
    "\n",
    "If you have any questions and / or feedback, please open an issue on the\n",
    "[GitHub issue tracker](https://github.com/openforcefield/openff-evaluator/issues)."
   ]
  }
 ],
 "metadata": {
  "accelerator": "GPU",
  "colab": {
   "collapsed_sections": [],
   "name": "tutorial04.ipynb",
   "provenance": [
    {
     "file_id": "https://github.com/openforcefield/openff-evaluator/blob/master/docs/tutorials/tutorial04.ipynb",
     "timestamp": 1583264626727
    }
   ]
  },
  "kernelspec": {
   "display_name": "fb",
   "language": "python",
   "name": "python3"
  },
  "language_info": {
   "codemirror_mode": {
    "name": "ipython",
    "version": 3
   },
   "file_extension": ".py",
   "mimetype": "text/x-python",
   "name": "python",
   "nbconvert_exporter": "python",
   "pygments_lexer": "ipython3",
   "version": "3.9.15"
  },
  "vscode": {
   "interpreter": {
    "hash": "2d4a41250ee95a6593cb4afdb532de9ea193b0aae78adf1b3dd87d56803ff7a6"
   }
  }
 },
 "nbformat": 4,
 "nbformat_minor": 0
}

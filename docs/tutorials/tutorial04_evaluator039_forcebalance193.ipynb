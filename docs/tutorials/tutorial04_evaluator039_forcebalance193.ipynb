{
 "cells": [
  {
   "cell_type": "markdown",
   "metadata": {
    "colab_type": "text",
    "collapsed": false,
    "id": "lgtY-H9A--wi"
   },
   "source": [
    "# Tutorial 04 - Optimizing Force Fields\n",
    "\n",
    "[![Open In Colab](https://colab.research.google.com/assets/colab-badge.svg)](https://colab.research.google.com/github/openforcefield/openff-evaluator/blob/master/docs/tutorials/tutorial04.ipynb)\n",
    "\n",
    "In this tutorial we will be using the OpenFF Evaluator framework in combination with the fantastic [*ForceBalance*](\n",
    "https://github.com/leeping/forcebalance) software to optimize a molecular force field against the physical property data \n",
    "set we created in the [first tutorial](tutorial01.ipynb).\n",
    "\n",
    "*ForceBalance* offers a suite of tools for optimizing molecular force fields against a set of target data. Perhaps one of \n",
    "the most fundamental targets to fit against is experimental physical property data. Physical property data has been used \n",
    "extensively for decades to inform the values of non-bonded Van der Waals (VdW) interaction parameters (often referred to \n",
    "as Lennard-Jones parameters).\n",
    "\n",
    "*ForceBalance* is seamlessly integrated with the evaluator framework, using it to evaluate the deviations between\n",
    "target experimentally measured data points and those evaluated using the force field being optimized (as well as the \n",
    "gradient of those deviations with respect to the force field parameters being optimized).\n",
    "\n",
    "The tutorial will cover:\n",
    "\n",
    "- setting up the input files and directory structure required by ForceBalace.\n",
    "- setting up an `EvaluatorServer` for *ForceBalance* to connect to.\n",
    "- running *ForceBalance* using those input files.\n",
    "- extracting and plotting a number of statistics output during the optimization."
   ]
  },
  {
   "cell_type": "markdown",
   "metadata": {
    "colab_type": "text",
    "collapsed": false,
    "id": "cPgYOGJG--wj"
   },
   "source": [
    "*Note: If you are running this tutorial in google colab you will need to run a setup script instead of following the \n",
    "installation instructions:*"
   ]
  },
  {
   "cell_type": "code",
   "execution_count": 21,
   "metadata": {
    "colab": {},
    "colab_type": "code",
    "id": "OS7HuXMj--wn",
    "pycharm": {
     "name": "#%%\n"
    }
   },
   "outputs": [],
   "source": [
    "# !wget https://raw.githubusercontent.com/openforcefield/openff-evaluator/master/docs/tutorials/colab_setup.ipynb\n",
    "# %run colab_setup.ipynb"
   ]
  },
  {
   "cell_type": "code",
   "execution_count": 22,
   "metadata": {},
   "outputs": [],
   "source": [
    "import os, sys\n",
    "os.environ['CUDA_VISIBLE_DEVICES']='0'\n",
    "sys.path.append('../../')"
   ]
  },
  {
   "cell_type": "markdown",
   "metadata": {
    "colab_type": "text",
    "collapsed": false,
    "id": "4JOt9Apq--wt"
   },
   "source": [
    "*For this tutorial make sure that you are using a GPU accelerated runtime.*\n",
    "\n",
    "For the sake of clarity all warnings will be disabled in this tutorial:"
   ]
  },
  {
   "cell_type": "code",
   "execution_count": 23,
   "metadata": {
    "colab": {},
    "colab_type": "code",
    "id": "k7tFiECf--wu",
    "pycharm": {
     "name": "#%%\n"
    }
   },
   "outputs": [],
   "source": [
    "import warnings\n",
    "warnings.filterwarnings('ignore')\n",
    "import logging\n",
    "logging.getLogger(\"openforcefield\").setLevel(logging.ERROR)"
   ]
  },
  {
   "cell_type": "markdown",
   "metadata": {
    "colab_type": "text",
    "collapsed": false,
    "id": "sFwGxGQA--w0"
   },
   "source": [
    "We will also enable time-stamped logging to help track the progress of our calculations:"
   ]
  },
  {
   "cell_type": "code",
   "execution_count": 24,
   "metadata": {
    "colab": {},
    "colab_type": "code",
    "id": "nqp2BKbJ--w1",
    "pycharm": {
     "name": "#%%\n"
    }
   },
   "outputs": [],
   "source": [
    "from openff.evaluator.utils import setup_timestamp_logging\n",
    "setup_timestamp_logging()"
   ]
  },
  {
   "cell_type": "markdown",
   "metadata": {
    "colab_type": "text",
    "collapsed": false,
    "id": "cdnCJ18b--w6"
   },
   "source": [
    "## Setting up the ForceBalance Inputs\n",
    "\n",
    "In this section we will be creating the directory structure required by *ForceBalance*, and populating it with the \n",
    "required input files.\n",
    "\n",
    "### Creating the Directory Structure\n",
    "\n",
    "To begin with, we will create a directory to store the starting force field parameters in:"
   ]
  },
  {
   "cell_type": "code",
   "execution_count": 25,
   "metadata": {
    "colab": {},
    "colab_type": "code",
    "id": "Fp-lsXMt--w7",
    "pycharm": {
     "name": "#%%\n"
    }
   },
   "outputs": [
    {
     "name": "stdout",
     "output_type": "stream",
     "text": [
      "mkdir: cannot create directory ‘forcefield’: File exists\n"
     ]
    }
   ],
   "source": [
    "!mkdir forcefield"
   ]
  },
  {
   "cell_type": "markdown",
   "metadata": {
    "colab_type": "text",
    "collapsed": false,
    "id": "J7sd8tN8--w-"
   },
   "source": [
    "and one to store the input parameters for our 'fitting target' - in this case a data set of physical properties:"
   ]
  },
  {
   "cell_type": "code",
   "execution_count": 26,
   "metadata": {
    "colab": {},
    "colab_type": "code",
    "id": "_ZX45ta6--xA",
    "pycharm": {
     "name": "#%%\n"
    }
   },
   "outputs": [],
   "source": [
    "!mkdir -p targets/pure_data"
   ]
  },
  {
   "cell_type": "markdown",
   "metadata": {
    "colab_type": "text",
    "collapsed": false,
    "id": "dYYPy60I--xE"
   },
   "source": [
    "### Defining the Training Data Set\n",
    "\n",
    "With the directories created, we will next specify the data set of physical properties which we will be training the \n",
    "force field against:"
   ]
  },
  {
   "cell_type": "code",
   "execution_count": 27,
   "metadata": {
    "colab": {},
    "colab_type": "code",
    "id": "qlLsxPQm--xG",
    "pycharm": {
     "name": "#%%\n"
    }
   },
   "outputs": [],
   "source": [
    "# For convenience we will use the copy shipped with the framework\n",
    "from openff.evaluator.utils import get_data_filename\n",
    "data_set_path = get_data_filename(\"tutorials/tutorial01/filtered_data_set.json\")\n",
    "\n",
    "# Load the data set.\n",
    "from openff.evaluator.datasets import PhysicalPropertyDataSet\n",
    "data_set = PhysicalPropertyDataSet.from_json(data_set_path)\n",
    "\n",
    "# Due to a small bug in ForceBalance we need to zero out any uncertainties\n",
    "# which are undefined. This will be fixed in future versions.\n",
    "from openff.evaluator.attributes import UNDEFINED\n",
    "\n",
    "for physical_property in data_set:\n",
    "    \n",
    "    if physical_property.uncertainty != UNDEFINED:\n",
    "        continue\n",
    "        \n",
    "    physical_property.uncertainty = 0.0 * physical_property.default_unit()"
   ]
  },
  {
   "cell_type": "code",
   "execution_count": 28,
   "metadata": {},
   "outputs": [
    {
     "name": "stdout",
     "output_type": "stream",
     "text": [
      "2022-12-12 20:42:41.146 INFO     2 data points were removed after applying the FilterBySmiles component.\n",
      "2022-12-12 20:42:41.146 INFO     2 data points were removed after applying the FilterBySmiles component.\n"
     ]
    }
   ],
   "source": [
    "from openff.evaluator.datasets.curation.components.filtering import (\n",
    "    FilterBySmiles,\n",
    "    FilterBySmilesSchema,\n",
    ")\n",
    "\n",
    "data_set = FilterBySmiles.apply(\n",
    "    data_set, FilterBySmilesSchema(smiles_to_include=[\"CCO\"]),\n",
    ")"
   ]
  },
  {
   "cell_type": "markdown",
   "metadata": {
    "colab_type": "text",
    "collapsed": false,
    "id": "GaPGpS4d--xL",
    "pycharm": {
     "name": "#%% md\n"
    }
   },
   "source": [
    "To speed up the runtime of this tutorial, we will only train the force field against measurements made for ethanol"
   ]
  },
  {
   "cell_type": "code",
   "execution_count": 29,
   "metadata": {
    "colab": {},
    "colab_type": "code",
    "id": "UD7Vim_u--xM",
    "pycharm": {
     "name": "#%%\n"
    }
   },
   "outputs": [],
   "source": [
    "# data_set.filter_by_smiles(\"CCO\")"
   ]
  },
  {
   "cell_type": "markdown",
   "metadata": {
    "colab_type": "text",
    "collapsed": false,
    "id": "hDpgPpB4--xQ",
    "pycharm": {
     "name": "#%% md\n"
    }
   },
   "source": [
    "in real optimizations however the data set should be **much** larger than two data points!\n",
    "\n",
    "With those changes made, we can save the data set in our targets directory:"
   ]
  },
  {
   "cell_type": "code",
   "execution_count": 30,
   "metadata": {
    "colab": {},
    "colab_type": "code",
    "id": "MMsDtL9y--xR",
    "pycharm": {
     "name": "#%%\n"
    }
   },
   "outputs": [],
   "source": [
    "# Store the data set in the `pure_data` targets folder:\n",
    "data_set.json(\"targets/pure_data/training_set.json\");"
   ]
  },
  {
   "cell_type": "markdown",
   "metadata": {
    "colab_type": "text",
    "collapsed": false,
    "id": "5Zy5rehy--xV"
   },
   "source": [
    "### Defining the Starting Force Field Parameters\n",
    "\n",
    "We will use the OpenFF Parsley 1.0.0 force field as the starting parameters for the optimization. These can be loaded\n",
    "directly into an OpenFF `ForceField` object using the OpenFF toolkit:"
   ]
  },
  {
   "cell_type": "code",
   "execution_count": 31,
   "metadata": {
    "colab": {},
    "colab_type": "code",
    "id": "EaHKkQ61--xW",
    "pycharm": {
     "name": "#%%\n"
    }
   },
   "outputs": [],
   "source": [
    "from openff.toolkit.typing.engines.smirnoff import ForceField\n",
    "force_field = ForceField('openff-1.0.0.offxml')"
   ]
  },
  {
   "cell_type": "markdown",
   "metadata": {
    "colab_type": "text",
    "collapsed": false,
    "id": "fCSYfufg--xa",
    "pycharm": {
     "name": "#%% md\n"
    }
   },
   "source": [
    "In order to use these parameters in *ForceBalance*, we need to 'tag' the individual parameters in the force field that\n",
    "we wish to optimize. The toolkit easily enables us to add these tags using cosmetic attributes:"
   ]
  },
  {
   "cell_type": "code",
   "execution_count": 32,
   "metadata": {
    "colab": {},
    "colab_type": "code",
    "id": "fFzLhLKE--xb",
    "pycharm": {
     "name": "#%%\n"
    }
   },
   "outputs": [
    {
     "name": "stdout",
     "output_type": "stream",
     "text": [
      "<openff.toolkit.topology.topology.ValenceDict object at 0x7fd527cb2910>\n",
      "<openff.toolkit.topology.topology.ValenceDict object at 0x7fd527cb26a0>\n",
      "<openff.toolkit.topology.topology.ValenceDict object at 0x7fd527cb2fd0>\n",
      "<openff.toolkit.topology.topology.ValenceDict object at 0x7fd527d7c190>\n",
      "<openff.toolkit.topology.topology.ImproperDict object at 0x7fd527db8190>\n",
      "<openff.toolkit.topology.topology.ValenceDict object at 0x7fd527db8070>\n",
      "<openff.toolkit.topology.topology.ValenceDict object at 0x7fd527d7c190>\n",
      "<openff.toolkit.topology.topology.ValenceDict object at 0x7fd527d40f40>\n"
     ]
    }
   ],
   "source": [
    "# Extract the smiles of all unique components in our data set.\n",
    "from openff.toolkit.topology import Molecule, Topology\n",
    "\n",
    "all_smiles = set(\n",
    "    component.smiles\n",
    "    for substance in data_set.substances\n",
    "    for component in substance.components\n",
    ")\n",
    "\n",
    "for smiles in all_smiles:\n",
    "\n",
    "    # Find those VdW parameters which would be applied to those components.\n",
    "    molecule = Molecule.from_smiles(smiles)\n",
    "    topology = Topology.from_molecules([molecule])\n",
    "\n",
    "    labels = force_field.label_molecules(topology)[0]\n",
    "\n",
    "    # Tag the exercised parameters as to be optimized.\n",
    "    for parameter in labels[\"vdW\"].values():\n",
    "        parameter.add_cosmetic_attribute(\"parameterize\", \"epsilon, rmin_half\")"
   ]
  },
  {
   "cell_type": "markdown",
   "metadata": {
    "colab_type": "text",
    "collapsed": false,
    "id": "cIs15IZl--xe",
    "pycharm": {
     "name": "#%% md\n"
    }
   },
   "source": [
    "Here we have made use of the toolkit's handy `label_molecules` function to see which VdW parameters will be assigned\n",
    "to the molecules in our data set, and tagged them to be parameterized.\n",
    "\n",
    "With those tags added, we can save the parameters in the `forcefield` directory:"
   ]
  },
  {
   "cell_type": "code",
   "execution_count": 33,
   "metadata": {
    "colab": {},
    "colab_type": "code",
    "id": "tOs0bcBo--xf",
    "pycharm": {
     "name": "#%%\n"
    }
   },
   "outputs": [],
   "source": [
    "# Save the annotated force field file.\n",
    "force_field.to_file('forcefield/openff-1.0.0-tagged.offxml')"
   ]
  },
  {
   "cell_type": "markdown",
   "metadata": {
    "colab_type": "text",
    "collapsed": false,
    "id": "Zu8JXeni--xj"
   },
   "source": [
    "*Note: The force field parameters are stored in the [OpenFF SMIRNOFF XML format](https://open-forcefield-toolkit.readthedocs.io/en/0.6.0/smirnoff.html).*\n",
    "\n",
    "### Creating the Main Input File\n",
    "\n",
    "Next, we will create the main *ForceBalance* input file. For the sake of brevity a default input file which ships with \n",
    "this framework will be used:"
   ]
  },
  {
   "cell_type": "code",
   "execution_count": 34,
   "metadata": {
    "colab": {
     "base_uri": "https://localhost:8080/",
     "height": 34
    },
    "colab_type": "code",
    "id": "OnaiZmGW--xl",
    "outputId": "bffbe59b-b819-4307-d5fd-4f01fd2422e6",
    "pycharm": {
     "name": "#%%\n"
    }
   },
   "outputs": [
    {
     "data": {
      "text/plain": [
       "'optimize.in'"
      ]
     },
     "execution_count": 34,
     "metadata": {},
     "output_type": "execute_result"
    }
   ],
   "source": [
    "input_file_path = get_data_filename(\"tutorials/tutorial04/optimize.in\")\n",
    "\n",
    "# Copy the input file into our directory structure\n",
    "import shutil\n",
    "shutil.copyfile(input_file_path, \"optimize.in\")"
   ]
  },
  {
   "cell_type": "markdown",
   "metadata": {
    "colab_type": "text",
    "collapsed": false,
    "id": "Oxvx-yIo--xq"
   },
   "source": [
    "While there are many options that can be set within this file, the main options of interest for our purposes appear\n",
    "at the bottom of the file:"
   ]
  },
  {
   "cell_type": "code",
   "execution_count": 35,
   "metadata": {
    "colab": {
     "base_uri": "https://localhost:8080/",
     "height": 119
    },
    "colab_type": "code",
    "id": "vDgpFQUq--xr",
    "outputId": "bc95c1d2-991b-422d-e503-2b68fdd5e250",
    "pycharm": {
     "name": "#%%\n"
    }
   },
   "outputs": [
    {
     "name": "stdout",
     "output_type": "stream",
     "text": [
      "$target\n",
      "name pure_data\n",
      "type Evaluator_SMIRNOFF\n",
      "weight 1.0\n",
      "evaluator_input options.json\n",
      "$end"
     ]
    }
   ],
   "source": [
    "!tail -n 6 optimize.in"
   ]
  },
  {
   "cell_type": "markdown",
   "metadata": {
    "colab_type": "text",
    "collapsed": false,
    "id": "SleJoA3i--xu"
   },
   "source": [
    "Here we have specified that we wish to create a new *ForceBalance* `Evaluator_SMIRNOFF` target called `pure_data` \n",
    "(corresponding to the name of the directory we created in the earlier step).\n",
    " \n",
    "The main input to this target is the file path to an `options.json` file - it is this file which will specify all the\n",
    "options which should be used when *ForceBalance* requests that our target data set be estimated using the current sets\n",
    "of force field parameters.\n",
    "\n",
    "We will create this file in the `targets/pure_data` directory later in this section."
   ]
  },
  {
   "cell_type": "markdown",
   "metadata": {
    "colab_type": "text",
    "collapsed": false,
    "id": "DIUi886c--xv",
    "pycharm": {
     "name": "#%% md\n"
    }
   },
   "source": [
    "The data set is the JSON serialized representation of the `PhysicalPropertyDataSet` we created during the [first \n",
    "tutorial](tutorial01.ipynb).\n",
    "\n",
    "### Defining the Estimation Options\n",
    "\n",
    "The final step before we can start the optimization is to create the set of options which will govern how our data set\n",
    "is estimated using the Evaluator framework.\n",
    " \n",
    "These options will be stored in an `Evaluator_SMIRNOFF` object:"
   ]
  },
  {
   "cell_type": "code",
   "execution_count": 36,
   "metadata": {
    "colab": {},
    "colab_type": "code",
    "id": "Tyloz19F--xw",
    "pycharm": {
     "name": "#%% \n"
    }
   },
   "outputs": [],
   "source": [
    "from forcebalance.evaluator_io import Evaluator_SMIRNOFF\n",
    "\n",
    "# Create the ForceBalance options object\n",
    "target_options = Evaluator_SMIRNOFF.OptionsFile()\n",
    "# Set the path to the data set\n",
    "target_options.data_set_path = \"training_set.json\"\n",
    "target_options.polling_interval = 30"
   ]
  },
  {
   "cell_type": "markdown",
   "metadata": {
    "colab_type": "text",
    "collapsed": false,
    "id": "mOy6-hgf--xz",
    "pycharm": {
     "name": "#%% md\n"
    }
   },
   "source": [
    "This object exposes both a set of *ForceBalance* specific options, as well as the set of Evaluator options. \n",
    "\n",
    "The *ForceBalance* specific options allow us to define how each type of property will contribute to the optimization\n",
    "objective function (the value which we are trying to minimize):\n",
    "\n",
    "$$\\Delta(\\theta) = \\sum^N_n \\dfrac{weight_n}{M_n} \\sum^{M_n}_m \\left(\\dfrac{y_m^{ref} - y_m(\\theta)}{denominator_{n}}\\right)^2$$ \n",
    "\n",
    "where $N$ is the number of types of properties (e.g. density, enthalpy of vaporization, etc.), $M_n$ is the number of\n",
    "data points of type $n$, $y_m^{ref}$ is the experimental value of data point $m$ and $y_m(\\theta)$ is the estimated \n",
    "value of data point $m$ using the current force field parameters\n",
    "\n",
    "In particular, the options object allows us to specify both an amount to scale each type of properties contribution to \n",
    "the objective function by ($weight_n$), and the amount to scale the difference between the experimental and estimated\n",
    "properties ($denominator_n$):"
   ]
  },
  {
   "cell_type": "code",
   "execution_count": 37,
   "metadata": {
    "colab": {},
    "colab_type": "code",
    "id": "yLM9plwn--xz",
    "pycharm": {
     "name": "#%%\n"
    }
   },
   "outputs": [],
   "source": [
    "from openff.evaluator import unit\n",
    "\n",
    "target_options.weights = {\n",
    "    \"Density\": 1.0,\n",
    "    \"EnthalpyOfVaporization\": 1.0\n",
    "}\n",
    "target_options.denominators = {\n",
    "    \"Density\": 30.0 * unit.kilogram / unit.meter ** 3,\n",
    "    \"EnthalpyOfVaporization\": 3.0 * unit.kilojoule / unit.mole\n",
    "}\n",
    " "
   ]
  },
  {
   "cell_type": "markdown",
   "metadata": {
    "colab_type": "text",
    "collapsed": false,
    "id": "JfdFCewd--x3",
    "pycharm": {
     "name": "#%% md\n"
    }
   },
   "source": [
    " \n",
    "where here we have chosen values that ensure that both types of properties contribute roughly equally to the total\n",
    "objective function.\n",
    "\n",
    "The Evaluator specific options correspond to a standard `RequestOptions` object:"
   ]
  },
  {
   "cell_type": "code",
   "execution_count": 38,
   "metadata": {
    "colab": {},
    "colab_type": "code",
    "id": "70fNiyjg--x4",
    "pycharm": {
     "name": "#%%\n"
    }
   },
   "outputs": [],
   "source": [
    "from openff.evaluator.client import RequestOptions\n",
    "\n",
    "# Create the options which evaluator should use.\n",
    "evaluator_options = RequestOptions()\n",
    "# Choose which calculation layers to make available.\n",
    "evaluator_options.calculation_layers = [\"SimulationLayer\"]\n",
    "\n",
    "# Reduce the default number of molecules\n",
    "from openff.evaluator.properties import Density, EnthalpyOfVaporization\n",
    "\n",
    "density_schema = Density.default_simulation_schema(n_molecules=256)\n",
    "h_vap_schema = EnthalpyOfVaporization.default_simulation_schema(n_molecules=256)\n",
    "\n",
    "evaluator_options.add_schema(\"SimulationLayer\", \"Density\", density_schema)\n",
    "evaluator_options.add_schema(\"SimulationLayer\", \"EnthalpyOfVaporization\", h_vap_schema)\n",
    "\n",
    "target_options.estimation_options = evaluator_options"
   ]
  },
  {
   "cell_type": "markdown",
   "metadata": {
    "colab_type": "text",
    "collapsed": false,
    "id": "O4-QdP-E--x7",
    "pycharm": {
     "name": "#%% md\n"
    }
   },
   "source": [
    "These options allow us to control exactly how each type of property should be estimated, which calculation approaches\n",
    "should be used and more. Here we use the same options are were used in the [second tutorial](tutorial02.ipynb)\n",
    "\n",
    "*Note: more information about the different estimation options can be [found here](../gettingstarted/client.rst)*"
   ]
  },
  {
   "cell_type": "markdown",
   "metadata": {
    "colab_type": "text",
    "collapsed": false,
    "id": "0qXKzNY7--x8",
    "pycharm": {
     "name": "#%% md\n"
    }
   },
   "source": [
    "And that's the options created! We will finish off by serializing the options into our target directory:"
   ]
  },
  {
   "cell_type": "code",
   "execution_count": 39,
   "metadata": {
    "colab": {},
    "colab_type": "code",
    "id": "7TNFFE75--x9",
    "pycharm": {
     "name": "#%%\n"
    }
   },
   "outputs": [],
   "source": [
    "# Save the options to file.\n",
    "with open(\"targets/pure_data/options.json\", \"w\") as file:\n",
    "    file.write(target_options.to_json())"
   ]
  },
  {
   "cell_type": "markdown",
   "metadata": {
    "colab_type": "text",
    "collapsed": false,
    "id": "vZkeoQTV--yA",
    "pycharm": {
     "name": "#%% md\n"
    }
   },
   "source": [
    "## Launching an Evaluator Server\n",
    "\n",
    "With the *ForceBalance* options created, we can now move onto launching the `EvaluatorServer` which *ForceBalance* will \n",
    "call out to when it needs the data set to be evaluated:"
   ]
  },
  {
   "cell_type": "code",
   "execution_count": 40,
   "metadata": {
    "colab": {
     "base_uri": "https://localhost:8080/",
     "height": 34
    },
    "colab_type": "code",
    "id": "Jdr55Aez--yA",
    "outputId": "b56f258e-55c3-4e21-ae0c-fb939c37a95e",
    "pycharm": {
     "name": "#%%\n"
    }
   },
   "outputs": [
    {
     "name": "stdout",
     "output_type": "stream",
     "text": [
      "2022-12-12 20:42:47.722 INFO     To route to workers diagnostics web server please install jupyter-server-proxy: python -m pip install jupyter-server-proxy\n",
      "2022-12-12 20:42:47.722 INFO     To route to workers diagnostics web server please install jupyter-server-proxy: python -m pip install jupyter-server-proxy\n",
      "2022-12-12 20:42:47.759 INFO     State start\n",
      "2022-12-12 20:42:47.759 INFO     State start\n",
      "2022-12-12 20:42:47.763 INFO       Scheduler at: inproc://172.31.189.80/2460/1\n",
      "2022-12-12 20:42:47.763 INFO       Scheduler at: inproc://172.31.189.80/2460/1\n",
      "2022-12-12 20:42:47.764 INFO       dashboard at:            localhost:8787\n",
      "2022-12-12 20:42:47.764 INFO       dashboard at:            localhost:8787\n",
      "2022-12-12 20:42:47.770 INFO     Found stale lock file and directory '/tmp/dask-worker-space/worker-lpp8e0kw', purging\n",
      "2022-12-12 20:42:47.770 INFO     Found stale lock file and directory '/tmp/dask-worker-space/worker-lpp8e0kw', purging\n",
      "2022-12-12 20:42:47.775 INFO           Start worker at: inproc://172.31.189.80/2460/4\n",
      "2022-12-12 20:42:47.775 INFO           Start worker at: inproc://172.31.189.80/2460/4\n",
      "2022-12-12 20:42:47.777 INFO              Listening to:        inproc172.31.189.80\n",
      "2022-12-12 20:42:47.777 INFO              Listening to:        inproc172.31.189.80\n",
      "2022-12-12 20:42:47.778 INFO               Worker name:                          0\n",
      "2022-12-12 20:42:47.778 INFO               Worker name:                          0\n",
      "2022-12-12 20:42:47.779 INFO              dashboard at:        172.31.189.80:39957\n",
      "2022-12-12 20:42:47.779 INFO              dashboard at:        172.31.189.80:39957\n",
      "2022-12-12 20:42:47.780 INFO     Waiting to connect to: inproc://172.31.189.80/2460/1\n",
      "2022-12-12 20:42:47.780 INFO     Waiting to connect to: inproc://172.31.189.80/2460/1\n",
      "2022-12-12 20:42:47.782 INFO     -------------------------------------------------\n",
      "2022-12-12 20:42:47.782 INFO     -------------------------------------------------\n",
      "2022-12-12 20:42:47.784 INFO                   Threads:                          8\n",
      "2022-12-12 20:42:47.784 INFO                   Threads:                          8\n",
      "2022-12-12 20:42:47.785 INFO                    Memory:                  30.98 GiB\n",
      "2022-12-12 20:42:47.785 INFO                    Memory:                  30.98 GiB\n",
      "2022-12-12 20:42:47.786 INFO           Local Directory: /tmp/dask-worker-space/worker-rdd53pkf\n",
      "2022-12-12 20:42:47.786 INFO           Local Directory: /tmp/dask-worker-space/worker-rdd53pkf\n",
      "2022-12-12 20:42:47.787 INFO     -------------------------------------------------\n",
      "2022-12-12 20:42:47.787 INFO     -------------------------------------------------\n",
      "2022-12-12 20:42:47.792 INFO     Register worker <WorkerState 'inproc://172.31.189.80/2460/4', name: 0, status: init, memory: 0, processing: 0>\n",
      "2022-12-12 20:42:47.792 INFO     Register worker <WorkerState 'inproc://172.31.189.80/2460/4', name: 0, status: init, memory: 0, processing: 0>\n",
      "2022-12-12 20:42:47.794 INFO     Starting worker compute stream, inproc://172.31.189.80/2460/4\n",
      "2022-12-12 20:42:47.794 INFO     Starting worker compute stream, inproc://172.31.189.80/2460/4\n",
      "2022-12-12 20:42:47.795 INFO     Starting established connection to inproc://172.31.189.80/2460/5\n",
      "2022-12-12 20:42:47.795 INFO     Starting established connection to inproc://172.31.189.80/2460/5\n",
      "2022-12-12 20:42:47.796 INFO             Registered to: inproc://172.31.189.80/2460/1\n",
      "2022-12-12 20:42:47.796 INFO             Registered to: inproc://172.31.189.80/2460/1\n",
      "2022-12-12 20:42:47.797 INFO     -------------------------------------------------\n",
      "2022-12-12 20:42:47.797 INFO     -------------------------------------------------\n",
      "2022-12-12 20:42:47.799 INFO     Starting established connection to inproc://172.31.189.80/2460/1\n",
      "2022-12-12 20:42:47.799 INFO     Starting established connection to inproc://172.31.189.80/2460/1\n",
      "2022-12-12 20:42:47.804 INFO     Receive client connection: Client-89a25b4e-7a5d-11ed-899c-00163e0c95e9\n",
      "2022-12-12 20:42:47.804 INFO     Receive client connection: Client-89a25b4e-7a5d-11ed-899c-00163e0c95e9\n",
      "2022-12-12 20:42:47.805 INFO     Starting established connection to inproc://172.31.189.80/2460/6\n",
      "2022-12-12 20:42:47.805 INFO     Starting established connection to inproc://172.31.189.80/2460/6\n",
      "2022-12-12 20:42:47.943 INFO     Server listening at port 8000\n",
      "2022-12-12 20:42:47.943 INFO     Server listening at port 8000\n"
     ]
    }
   ],
   "source": [
    "# Launch the calculation backend which will distribute any calculations.\n",
    "from openff.evaluator.backends import ComputeResources\n",
    "from openff.evaluator.backends.dask import DaskLocalCluster\n",
    "\n",
    "calculation_backend = DaskLocalCluster(\n",
    "    number_of_workers=1,\n",
    "    resources_per_worker=ComputeResources(\n",
    "        number_of_threads=1, \n",
    "        number_of_gpus=1, \n",
    "        preferred_gpu_toolkit=ComputeResources.GPUToolkit.CUDA\n",
    "    ),\n",
    ")\n",
    "calculation_backend.start()\n",
    "\n",
    "# Launch the server object which will listen for estimation requests and schedule any \n",
    "# required calculations.\n",
    "from openff.evaluator.server import EvaluatorServer\n",
    "\n",
    "evaluator_server = EvaluatorServer(calculation_backend=calculation_backend)\n",
    "evaluator_server.start(asynchronous=True)"
   ]
  },
  {
   "cell_type": "markdown",
   "metadata": {
    "colab_type": "text",
    "collapsed": false,
    "id": "R2QFxF68--yF"
   },
   "source": [
    "We will not go into the details of this here as this was already covered in the [second tutorial](tutorial02.ipynb)\n",
    "\n",
    "## Running ForceBalance\n",
    "\n",
    "With the inputs created and an Evaluator server spun up, we are finally ready to run the optimization! This can be \n",
    "accomplished with a single command:"
   ]
  },
  {
   "cell_type": "code",
   "execution_count": 41,
   "metadata": {
    "colab": {},
    "colab_type": "code",
    "id": "mKt1jGxI--yG",
    "pycharm": {
     "name": "#%%\n"
    }
   },
   "outputs": [
    {
     "name": "stdout",
     "output_type": "stream",
     "text": [
      "Backing up the output file to optimize.bak ..\n",
      "Use -f option to force overwrite\n",
      "Output will be written to optimize.out\n",
      "#=====================================#\n",
      "#|     For black and white mode,     |#\n",
      "#|      Run this script with -b      |#\n",
      "#=====================================#\n",
      "#======================================================================#\n",
      "#| \u001b[1m            Welcome to ForceBalance version 1.9.2! =D             \u001b[0m |#\n",
      "#| \u001b[1m                 Force Field Optimization System                  \u001b[0m |#\n",
      "#| \u001b[1m                                                                  \u001b[0m |#\n",
      "#| \u001b[1m                             Authors:                             \u001b[0m |#\n",
      "#| \u001b[1m                          Lee-Ping Wang                           \u001b[0m |#\n",
      "#| \u001b[1m                  Yudong Qiu, Keri A. McKiernan                   \u001b[0m |#\n",
      "#| \u001b[1m          Jeffrey R. Wagner, Hyesu Jang, Simon Boothroyd          \u001b[0m |#\n",
      "#| \u001b[1m          Arthur Vigil, Erik G. Brandt, John Stoppelman           \u001b[0m |#\n",
      "#| \u001b[1m                  Johnny Israeli, Matt Thompson                   \u001b[0m |#\n",
      "#======================================================================#\n",
      "\n",
      "                          \u001b[44m     \u001b[0m                                        \n",
      "                       \u001b[44m        \u001b[0m      \u001b[43m     \u001b[0m                              \n",
      "                    \u001b[44m        \u001b[0m   \u001b[44m  \u001b[0m    \u001b[43m         \u001b[0m                          \n",
      "                 \u001b[44m       \u001b[0m    \u001b[44m      \u001b[0m      \u001b[43m         \u001b[0m                       \n",
      "             \u001b[44m        \u001b[0m    \u001b[44m        \u001b[0m          \u001b[43m         \u001b[0m                    \n",
      "          \u001b[44m        \u001b[0m    \u001b[44m        \u001b[0m                 \u001b[43m        \u001b[0m                 \n",
      "       \u001b[44m        \u001b[0m    \u001b[44m       \u001b[0m                        \u001b[43m        \u001b[0m              \n",
      "    \u001b[44m        \u001b[0m   \u001b[44m        \u001b[0m                              \u001b[43m         \u001b[0m          \n",
      "   \u001b[44m      \u001b[0m   \u001b[44m        \u001b[0m               `.:+@@###@'          \u001b[43m         \u001b[0m       \n",
      "    \u001b[44m \u001b[0m    \u001b[44m        \u001b[0m          ,;'+###############.             \u001b[43m     \u001b[0m       \n",
      "      \u001b[44m        \u001b[0m         +################':`                    \u001b[43m \u001b[0m        \n",
      "      \u001b[44m     \u001b[0m              `.,,...####+.                                  \n",
      "                                ,#####      +##.               \u001b[44m   \u001b[0m   \u001b[44m   \u001b[0m\n",
      " \u001b[43m    \u001b[0m                            #####      ######             \u001b[44m   \u001b[0m   \u001b[44m   \u001b[0m\n",
      " \u001b[43m    \u001b[0m                ###'        ####'     :#####'             \u001b[44m   \u001b[0m   \u001b[44m   \u001b[0m\n",
      " \u001b[43m    \u001b[0m                :####@      ####.    ,####'               \u001b[44m   \u001b[0m   \u001b[44m   \u001b[0m\n",
      " \u001b[43m    \u001b[0m                 ######     ####    +###+                 \u001b[44m   \u001b[0m   \u001b[44m   \u001b[0m\n",
      " \u001b[43m    \u001b[0m                  #####     ####   ###;                   \u001b[44m   \u001b[0m   \u001b[44m   \u001b[0m\n",
      " \u001b[43m    \u001b[0m                   :##      ####  ++`                     \u001b[44m   \u001b[0m   \u001b[44m   \u001b[0m\n",
      " \u001b[43m    \u001b[0m                            ####``..:;+##############+`   \u001b[44m   \u001b[0m   \u001b[44m   \u001b[0m\n",
      " \u001b[43m    \u001b[0m             .,:;;'++##################################`  \u001b[44m   \u001b[0m   \u001b[44m   \u001b[0m\n",
      " \u001b[43m    \u001b[0m    `############################++++''';;;;;;;;;;;'';    \u001b[44m   \u001b[0m   \u001b[44m   \u001b[0m\n",
      " \u001b[43m    \u001b[0m      ,########':,.``       ####                          \u001b[44m   \u001b[0m   \u001b[44m   \u001b[0m\n",
      " \u001b[43m    \u001b[0m                            ####                          \u001b[44m   \u001b[0m   \u001b[44m   \u001b[0m\n",
      " \u001b[43m    \u001b[0m                            ####                          \u001b[44m   \u001b[0m   \u001b[44m   \u001b[0m\n",
      " \u001b[43m    \u001b[0m                            ####                          \u001b[44m   \u001b[0m   \u001b[44m   \u001b[0m\n",
      " \u001b[43m    \u001b[0m                            ####                          \u001b[44m   \u001b[0m   \u001b[44m   \u001b[0m\n",
      " \u001b[43m    \u001b[0m                            ####                          \u001b[44m   \u001b[0m   \u001b[44m   \u001b[0m\n",
      " \u001b[43m    \u001b[0m                            ####                          \u001b[44m   \u001b[0m   \u001b[44m   \u001b[0m\n",
      " \u001b[43m    \u001b[0m                            ####                          \u001b[44m   \u001b[0m   \u001b[44m   \u001b[0m\n",
      "      \u001b[44m    \u001b[0m                       ####                                   \n",
      "     \u001b[44m        \u001b[0m                    ####                                   \n",
      "    \u001b[44m \u001b[0m    \u001b[44m       \u001b[0m                 ####                       \u001b[43m     \u001b[0m       \n",
      "   \u001b[44m     \u001b[0m    \u001b[44m        \u001b[0m             ####                    \u001b[43m        \u001b[0m       \n",
      "   \u001b[44m        \u001b[0m    \u001b[44m        \u001b[0m          ###                  \u001b[43m         \u001b[0m         \n",
      "      \u001b[44m        \u001b[0m    \u001b[44m        \u001b[0m        +`               \u001b[43m        \u001b[0m             \n",
      "          \u001b[44m        \u001b[0m   \u001b[44m        \u001b[0m                   \u001b[43m        \u001b[0m                \n",
      "             \u001b[44m        \u001b[0m   \u001b[44m         \u001b[0m           \u001b[43m         \u001b[0m                   \n",
      "                \u001b[44m        \u001b[0m    \u001b[44m       \u001b[0m      \u001b[43m         \u001b[0m                      \n",
      "                   \u001b[44m        \u001b[0m    \u001b[44m   \u001b[0m    \u001b[43m        \u001b[0m                          \n",
      "                      \u001b[44m        \u001b[0m       \u001b[43m      \u001b[0m                             \n",
      "                          \u001b[44m      \u001b[0m      \u001b[43m  \u001b[0m                                \n",
      "                             \u001b[44m  \u001b[0m                                         \n",
      "\n",
      "Reading options from file: optimize.in\n",
      "#========================================================#\n",
      "#| \u001b[95m  Options at their default values are not printed   \u001b[0m |#\n",
      "#| \u001b[95m        Use 'verbose_options True' to Enable        \u001b[0m |#\n",
      "#========================================================#\n",
      "Reading force field from file: openff-1.0.0-tagged.offxml\n",
      "#=========================================================#\n",
      "#| \u001b[92m Starting parameter indices, physical values and IDs \u001b[0m |#\n",
      "#=========================================================#\n",
      "   0 [  1.5700e-02 ] : vdW/Atom/epsilon/[#1:1]-[#6X4]\n",
      "   1 [  1.4870e+00 ] : vdW/Atom/rmin_half/[#1:1]-[#6X4]\n",
      "   2 [  1.5700e-02 ] : vdW/Atom/epsilon/[#1:1]-[#6X4]-[#7,#8,#9,#16,#17,#35]\n",
      "   3 [  1.3870e+00 ] : vdW/Atom/rmin_half/[#1:1]-[#6X4]-[#7,#8,#9,#16,#17,#35]\n",
      "   4 [  5.2700e-05 ] : vdW/Atom/epsilon/[#1:1]-[#8]\n",
      "   5 [  3.0000e-01 ] : vdW/Atom/rmin_half/[#1:1]-[#8]\n",
      "   6 [  1.0940e-01 ] : vdW/Atom/epsilon/[#6X4:1]\n",
      "   7 [  1.9080e+00 ] : vdW/Atom/rmin_half/[#6X4:1]\n",
      "   8 [  2.1040e-01 ] : vdW/Atom/epsilon/[#8X2H1+0:1]\n",
      "   9 [  1.7210e+00 ] : vdW/Atom/rmin_half/[#8X2H1+0:1]\n",
      "-----------------------------------------------------------\n",
      "#=========================================================#\n",
      "#| \u001b[91m Rescaling Factors by Type (Lower Takes Precedence): \u001b[0m |#\n",
      "#=========================================================#\n",
      "   vdW/Atom/epsilon                     : 1.00000e-01\n",
      "   vdW/Atom/rmin_half                   : 1.00000e+00\n",
      "-----------------------------------------------------------\n",
      "#========================================================#\n",
      "#| \u001b[91m   Rescaling Types / Factors by Parameter Number:   \u001b[0m |#\n",
      "#========================================================#\n",
      "   0 [    vdW/Atom/epsilon              : 1.00000e-01 ] : vdW/Atom/epsilon/[#1:1]-[#6X4]\n",
      "   1 [    vdW/Atom/rmin_half            : 1.00000e+00 ] : vdW/Atom/rmin_half/[#1:1]-[#6X4]\n",
      "   2 [    vdW/Atom/epsilon              : 1.00000e-01 ] : vdW/Atom/epsilon/[#1:1]-[#6X4]-[#7,#8,#9,#16,#17,#35]\n",
      "   3 [    vdW/Atom/rmin_half            : 1.00000e+00 ] : vdW/Atom/rmin_half/[#1:1]-[#6X4]-[#7,#8,#9,#16,#17,#35]\n",
      "   4 [    vdW/Atom/epsilon              : 1.00000e-01 ] : vdW/Atom/epsilon/[#1:1]-[#8]\n",
      "   5 [    vdW/Atom/rmin_half            : 1.00000e+00 ] : vdW/Atom/rmin_half/[#1:1]-[#8]\n",
      "   6 [    vdW/Atom/epsilon              : 1.00000e-01 ] : vdW/Atom/epsilon/[#6X4:1]\n",
      "   7 [    vdW/Atom/rmin_half            : 1.00000e+00 ] : vdW/Atom/rmin_half/[#6X4:1]\n",
      "   8 [    vdW/Atom/epsilon              : 1.00000e-01 ] : vdW/Atom/epsilon/[#8X2H1+0:1]\n",
      "   9 [    vdW/Atom/rmin_half            : 1.00000e+00 ] : vdW/Atom/rmin_half/[#8X2H1+0:1]\n",
      "----------------------------------------------------------\n",
      "#========================================================#\n",
      "#| \u001b[92m               Setup for force field                \u001b[0m |#\n",
      "#========================================================#\n",
      "fnms                      ['openff-1.0.0-tagged.offxml'] \n",
      "priors                    OrderedDict([('vdW/Atom/epsilon', 0.1), ('vdW/Atom/rmin_half', 1.0)]) \n",
      "----------------------------------------------------------\n",
      "Backing up: optimize.tmp/pure_data to: optimize.bak/pure_data_7.tar.bz2\n",
      "targets/pure_data/options.json\n",
      "#========================================================#\n",
      "#| \u001b[92m             Loaded experimental data.              \u001b[0m |#\n",
      "#========================================================#\n",
      "#========================================================#\n",
      "#| \u001b[92m        Reference CCO{solv}{x=1.000000} data        \u001b[0m |#\n",
      "#========================================================#\n",
      "Density 298.15 K-101.325 kPa 785.0700000000002 kg / m ** 3+/-0.0 kg / m ** 3 \n",
      "EnthalpyOfVaporization 298.15 K-101.325 kPa 42.26 kJ / mol+/-0.02 kJ / mol \n",
      "----------------------------------------------------------\n",
      "#========================================================#\n",
      "#| \u001b[92m            Setup for target pure_data :            \u001b[0m |#\n",
      "#========================================================#\n",
      "name                      pure_data \n",
      "type                      EVALUATOR_SMIRNOFF \n",
      "tgtdir                    targets/pure_data \n",
      "evaluator_input           options.json \n",
      "----------------------------------------------------------\n",
      "#========================================================#\n",
      "#| \u001b[92m        SMIRNOFF Parameter Coverage Analysis        \u001b[0m |#\n",
      "#========================================================#\n",
      "Force field assignment data written to /root/code/openff-evaluator-main/docs/tutorials/smirnoff_parameter_assignments.json\n",
      " idx Parameter                                                                                                   Count\n",
      "----------------------------------------------------------------------------------------------------------------------\n",
      "   0 vdW/Atom/epsilon/[#1:1]-[#6X4]                                                                       :          0\n",
      "   1 vdW/Atom/rmin_half/[#1:1]-[#6X4]                                                                     :          0\n",
      "   2 vdW/Atom/epsilon/[#1:1]-[#6X4]-[#7,#8,#9,#16,#17,#35]                                                :          0\n",
      "   3 vdW/Atom/rmin_half/[#1:1]-[#6X4]-[#7,#8,#9,#16,#17,#35]                                              :          0\n",
      "   4 vdW/Atom/epsilon/[#1:1]-[#8]                                                                         :          0\n",
      "   5 vdW/Atom/rmin_half/[#1:1]-[#8]                                                                       :          0\n",
      "   6 vdW/Atom/epsilon/[#6X4:1]                                                                            :          0\n",
      "   7 vdW/Atom/rmin_half/[#6X4:1]                                                                          :          0\n",
      "   8 vdW/Atom/epsilon/[#8X2H1+0:1]                                                                        :          0\n",
      "   9 vdW/Atom/rmin_half/[#8X2H1+0:1]                                                                      :          0\n",
      "SNIRNOFF Parameter Coverage Analysis result: 0/10 parameters are covered.\n",
      "----------------------------------------------------------------------------------------------------------------------\n",
      "Using parabolic regularization (Gaussian prior) with strength 1.0e+00 (+), 0.0e+00 (x)\n",
      "#========================================================#\n",
      "#| \u001b[92m           Setup for objective function :           \u001b[0m |#\n",
      "#========================================================#\n",
      "penalty_additive          1.0 \n",
      "normalize_weights         False \n",
      "----------------------------------------------------------\n",
      "#========================================================#\n",
      "#| \u001b[92m                Setup for optimizer                 \u001b[0m |#\n",
      "#========================================================#\n",
      "jobtype                   OPTIMIZE \n",
      "trust0                    0.25 \n",
      "mintrust                  0.05 \n",
      "eps                       0.01 \n",
      "convergence_objective     0.1 \n",
      "convergence_step          0.1 \n",
      "convergence_gradient      0.1 \n",
      "maxstep                   4 \n",
      "adapt_fac                 0.2 \n",
      "adapt_damp                1.0 \n",
      "print_hess                True \n",
      "err_tol                   1.0 \n",
      "input_file                optimize.in \n",
      "----------------------------------------------------------\n",
      "Calculation started at 2022-12-12 08:42 PM\n",
      "#========================================================#\n",
      "#| \u001b[1m                  Main Optimizer                    \u001b[0m |#\n",
      "#| \u001b[1m   Newton-Raphson Method (Adaptive Trust Radius)    \u001b[0m |#\n",
      "#| \u001b[1m                                                    \u001b[0m |#\n",
      "#| \u001b[1m       \u001b[0mConvergence criteria (1 of 3 needed):        \u001b[0m |#\n",
      "#| \u001b[1m          \u001b[0mObjective Function  : 1.000e-01           \u001b[0m |#\n",
      "#| \u001b[1m          \u001b[0mNorm of Gradient    : 1.000e-01           \u001b[0m |#\n",
      "#| \u001b[1m          \u001b[0mParameter step size : 1.000e-01           \u001b[0m |#\n",
      "#========================================================#\n",
      "#========================================================#\n",
      "#|       Color Key for Objective Function -=X2=-        |#\n",
      "#|  \u001b[1mBold\u001b[0m = Initial step                                 |#\n",
      "#|  \u001b[92mGreen = Current lowest value of objective function\u001b[0m  |#\n",
      "#|  \u001b[91mRed = Objective function rises, step rejected\u001b[0m       |#\n",
      "#|  \u001b[0mNo color = Not at the lowest value                  |#\n",
      "#========================================================#\n",
      "#========================================================#\n",
      "#| \u001b[94m     Iteration 0: Evaluating objective function     \u001b[0m |#\n",
      "#| \u001b[94m        and derivatives through second order        \u001b[0m |#\n",
      "#========================================================#\n",
      "2022-12-12 20:42:50.589 INFO     Received estimation request from ('127.0.0.1', 38976)\n",
      "2022-12-12 20:42:50.589 INFO     Received estimation request from ('127.0.0.1', 38976)\n",
      "Requesting the estimation of 2 properties, and their gradients with respect to 10 parameters.\n",
      "2022-12-12 20:42:50.664 INFO     Launching batch c3c20c0774e44e04b19246ef547be0ea using the SimulationLayer layer\n",
      "2022-12-12 20:42:50.664 INFO     Launching batch c3c20c0774e44e04b19246ef547be0ea using the SimulationLayer layer\n",
      "2022-12-12 20:42:50.667 INFO     Building workflow 0 of 2\n",
      "2022-12-12 20:42:50.667 INFO     Building workflow 0 of 2\n",
      "<openff.toolkit.topology.topology.ValenceDict object at 0x7fd50e147640>\n",
      "<openff.toolkit.topology.topology.ValenceDict object at 0x7fd50e147f10>\n",
      "<openff.toolkit.topology.topology.ValenceDict object at 0x7fd50e147eb0>\n",
      "<openff.toolkit.topology.topology.ValenceDict object at 0x7fd50e147fd0>\n",
      "<openff.toolkit.topology.topology.ImproperDict object at 0x7fd50e147850>\n",
      "<openff.toolkit.topology.topology.ValenceDict object at 0x7fd50e147e50>\n",
      "<openff.toolkit.topology.topology.ValenceDict object at 0x7fd50e147b50>\n",
      "<openff.toolkit.topology.topology.ValenceDict object at 0x7fd50e147a30>\n",
      "2022-12-12 20:42:50.969 INFO     Building workflow 1 of 2\n",
      "2022-12-12 20:42:50.969 INFO     Building workflow 1 of 2\n",
      "<openff.toolkit.topology.topology.ValenceDict object at 0x7fd50e1b5ac0>\n",
      "<openff.toolkit.topology.topology.ValenceDict object at 0x7fd50e15bb20>\n",
      "<openff.toolkit.topology.topology.ValenceDict object at 0x7fd50e1184f0>\n",
      "<openff.toolkit.topology.topology.ValenceDict object at 0x7fd50e1b5fa0>\n",
      "<openff.toolkit.topology.topology.ImproperDict object at 0x7fd50e1b5ac0>\n",
      "<openff.toolkit.topology.topology.ValenceDict object at 0x7fd50e15bc40>\n",
      "<openff.toolkit.topology.topology.ValenceDict object at 0x7fd50e15b970>\n",
      "<openff.toolkit.topology.topology.ValenceDict object at 0x7fd50e15bbe0>\n",
      "2022-12-12 20:42:51.387 INFO     Launching a job with access to GPUs 0\n",
      "2022-12-12 20:42:51.387 INFO     Launching a job with access to GPUs 0\n",
      "2022-12-12 20:42:51.469 INFO     Launching a job with access to GPUs 0\n",
      "2022-12-12 20:42:51.469 INFO     Launching a job with access to GPUs 0\n",
      "2022-12-12 20:42:51.480 INFO     Executing 4f0b3bf451bf417395857db8401a004f|build_coordinates_liquid\n",
      "2022-12-12 20:42:51.480 INFO     Executing 4f0b3bf451bf417395857db8401a004f|build_coordinates_liquid\n",
      "2022-12-12 20:42:51.525 INFO     Executing 4f0b3bf451bf417395857db8401a004f|build_coordinates_gas\n",
      "2022-12-12 20:42:51.525 INFO     Executing 4f0b3bf451bf417395857db8401a004f|build_coordinates_gas\n",
      "2022-12-12 20:42:51.688 INFO     4f0b3bf451bf417395857db8401a004f|build_coordinates_gas finished executing after 158.5344430004625 ms\n",
      "2022-12-12 20:42:51.688 INFO     4f0b3bf451bf417395857db8401a004f|build_coordinates_gas finished executing after 158.5344430004625 ms\n",
      "2022-12-12 20:42:51.716 INFO     Launching a job with access to GPUs 0\n",
      "2022-12-12 20:42:51.716 INFO     Launching a job with access to GPUs 0\n",
      "2022-12-12 20:42:51.767 INFO     Executing 4f0b3bf451bf417395857db8401a004f|assign_parameters_gas\n",
      "2022-12-12 20:42:51.767 INFO     Executing 4f0b3bf451bf417395857db8401a004f|assign_parameters_gas\n",
      "2022-12-12 20:42:51.925 INFO     12 torsions added\n",
      "2022-12-12 20:42:51.925 INFO     12 torsions added\n",
      "2022-12-12 20:42:51.928 INFO     0 impropers added, each applied in a six-fold trefoil\n",
      "2022-12-12 20:42:51.928 INFO     0 impropers added, each applied in a six-fold trefoil\n",
      "2022-12-12 20:42:51.933 INFO     2 bonds added (6 skipped due to constraints)\n",
      "2022-12-12 20:42:51.933 INFO     2 bonds added (6 skipped due to constraints)\n",
      "2022-12-12 20:42:51.936 INFO     13 angles added (0 skipped due to constraints)\n",
      "2022-12-12 20:42:51.936 INFO     13 angles added (0 skipped due to constraints)\n",
      "2022-12-12 20:42:52.279 INFO     4f0b3bf451bf417395857db8401a004f|build_coordinates_liquid finished executing after 795.1954060008575 ms\n",
      "2022-12-12 20:42:52.279 INFO     4f0b3bf451bf417395857db8401a004f|build_coordinates_liquid finished executing after 795.1954060008575 ms\n",
      "2022-12-12 20:42:52.308 INFO     Launching a job with access to GPUs 0\n",
      "2022-12-12 20:42:52.308 INFO     4f0b3bf451bf417395857db8401a004f|assign_parameters_gas finished executing after 536.9835929996043 ms\n",
      "2022-12-12 20:42:52.308 INFO     4f0b3bf451bf417395857db8401a004f|assign_parameters_gas finished executing after 536.9835929996043 ms\n",
      "2022-12-12 20:42:52.308 INFO     Launching a job with access to GPUs 0\n",
      "2022-12-12 20:42:52.345 INFO     Launching a job with access to GPUs 0\n",
      "2022-12-12 20:42:52.345 INFO     Launching a job with access to GPUs 0\n",
      "2022-12-12 20:42:52.359 INFO     Executing 4f0b3bf451bf417395857db8401a004f|assign_parameters_liquid\n",
      "2022-12-12 20:42:52.359 INFO     Executing 4f0b3bf451bf417395857db8401a004f|assign_parameters_liquid\n",
      "2022-12-12 20:42:52.403 INFO     Executing 4f0b3bf451bf417395857db8401a004f|energy_minimisation_gas\n",
      "2022-12-12 20:42:52.403 INFO     Executing 4f0b3bf451bf417395857db8401a004f|energy_minimisation_gas\n",
      "2022-12-12 20:42:52.412 INFO     Setting up an openmm platform on GPU 0\n",
      "2022-12-12 20:42:52.412 INFO     Setting up an openmm platform on GPU 0\n",
      "2022-12-12 20:42:52.564 INFO     4f0b3bf451bf417395857db8401a004f|energy_minimisation_gas finished executing after 157.8330129996175 ms\n",
      "2022-12-12 20:42:52.564 INFO     4f0b3bf451bf417395857db8401a004f|energy_minimisation_gas finished executing after 157.8330129996175 ms\n",
      "2022-12-12 20:42:52.600 INFO     Launching a job with access to GPUs 0\n",
      "2022-12-12 20:42:52.600 INFO     Launching a job with access to GPUs 0\n",
      "2022-12-12 20:42:52.654 INFO     Executing 4f0b3bf451bf417395857db8401a004f|equilibration_simulation_gas\n",
      "2022-12-12 20:42:52.654 INFO     Executing 4f0b3bf451bf417395857db8401a004f|equilibration_simulation_gas\n",
      "2022-12-12 20:42:52.923 INFO     Setting up a simulation with 1 threads\n",
      "2022-12-12 20:42:52.923 INFO     Setting up a simulation with 1 threads\n",
      "2022-12-12 20:42:52.939 INFO     No checkpoint files were found.\n",
      "2022-12-12 20:42:52.939 INFO     No checkpoint files were found.\n",
      "2022-12-12 20:42:53.665 INFO     3072 torsions added\n",
      "2022-12-12 20:42:53.665 INFO     3072 torsions added\n",
      "2022-12-12 20:42:53.690 INFO     0 impropers added, each applied in a six-fold trefoil\n",
      "2022-12-12 20:42:53.690 INFO     0 impropers added, each applied in a six-fold trefoil\n",
      "2022-12-12 20:42:53.795 INFO     512 bonds added (1536 skipped due to constraints)\n",
      "2022-12-12 20:42:53.795 INFO     512 bonds added (1536 skipped due to constraints)\n",
      "2022-12-12 20:42:54.027 INFO     3328 angles added (0 skipped due to constraints)\n",
      "2022-12-12 20:42:54.027 INFO     3328 angles added (0 skipped due to constraints)\n",
      "2022-12-12 20:42:54.655 INFO     4f0b3bf451bf417395857db8401a004f|assign_parameters_liquid finished executing after 2292.3851360010303 ms\n",
      "2022-12-12 20:42:54.655 INFO     4f0b3bf451bf417395857db8401a004f|assign_parameters_liquid finished executing after 2292.3851360010303 ms\n",
      "2022-12-12 20:42:54.685 INFO     Launching a job with access to GPUs 0\n",
      "2022-12-12 20:42:54.685 INFO     Launching a job with access to GPUs 0\n",
      "2022-12-12 20:42:54.737 INFO     Executing 4f0b3bf451bf417395857db8401a004f|energy_minimisation_liquid\n",
      "2022-12-12 20:42:54.737 INFO     Executing 4f0b3bf451bf417395857db8401a004f|energy_minimisation_liquid\n",
      "2022-12-12 20:42:54.746 INFO     Setting up an openmm platform on GPU 0\n",
      "2022-12-12 20:42:54.746 INFO     Setting up an openmm platform on GPU 0\n",
      "2022-12-12 20:42:55.308 INFO     4f0b3bf451bf417395857db8401a004f|equilibration_simulation_gas finished executing after 2650.616157001423 ms\n",
      "2022-12-12 20:42:55.308 INFO     4f0b3bf451bf417395857db8401a004f|equilibration_simulation_gas finished executing after 2650.616157001423 ms\n",
      "2022-12-12 20:42:56.854 INFO     4f0b3bf451bf417395857db8401a004f|energy_minimisation_liquid finished executing after 2112.8683169990836 ms\n",
      "2022-12-12 20:42:56.854 INFO     4f0b3bf451bf417395857db8401a004f|energy_minimisation_liquid finished executing after 2112.8683169990836 ms\n",
      "2022-12-12 20:42:56.902 INFO     Launching a job with access to GPUs 0\n",
      "2022-12-12 20:42:56.902 INFO     Launching a job with access to GPUs 0\n",
      "2022-12-12 20:42:56.951 INFO     Executing 4f0b3bf451bf417395857db8401a004f|equilibration_simulation_liquid\n",
      "2022-12-12 20:42:56.951 INFO     Executing 4f0b3bf451bf417395857db8401a004f|equilibration_simulation_liquid\n",
      "2022-12-12 20:42:57.207 INFO     Setting up an openmm platform on GPU 0\n",
      "2022-12-12 20:42:57.207 INFO     Setting up an openmm platform on GPU 0\n",
      "2022-12-12 20:42:58.161 INFO     No checkpoint files were found.\n",
      "2022-12-12 20:42:58.161 INFO     No checkpoint files were found.\n",
      "2022-12-12 20:43:24.260 INFO     4f0b3bf451bf417395857db8401a004f|equilibration_simulation_liquid finished executing after 27305.777816000045 ms\n",
      "2022-12-12 20:43:24.260 INFO     4f0b3bf451bf417395857db8401a004f|equilibration_simulation_liquid finished executing after 27305.777816000045 ms\n",
      "2022-12-12 20:43:24.433 INFO     Launching a job with access to GPUs 0\n",
      "2022-12-12 20:43:24.433 INFO     Launching a job with access to GPUs 0\n",
      "2022-12-12 20:43:24.511 INFO     Executing 4f0b3bf451bf417395857db8401a004f|conditional_group\n",
      "2022-12-12 20:43:24.511 INFO     Executing 4f0b3bf451bf417395857db8401a004f|conditional_group\n",
      "2022-12-12 20:43:24.527 INFO     Executing 4f0b3bf451bf417395857db8401a004f|production_simulation_liquid\n",
      "2022-12-12 20:43:24.527 INFO     Executing 4f0b3bf451bf417395857db8401a004f|production_simulation_liquid\n",
      "2022-12-12 20:43:24.774 INFO     Setting up an openmm platform on GPU 0\n",
      "2022-12-12 20:43:24.774 INFO     Setting up an openmm platform on GPU 0\n",
      "2022-12-12 20:43:25.767 INFO     No checkpoint files were found.\n",
      "2022-12-12 20:43:25.767 INFO     No checkpoint files were found.\n",
      "2022-12-12 20:47:49.958 INFO     Setting up an openmm platform on GPU 0\n",
      "2022-12-12 20:47:49.958 INFO     Setting up an openmm platform on GPU 0\n",
      "2022-12-12 20:47:50.907 INFO     Setting up an openmm platform on GPU 0\n",
      "2022-12-12 20:47:50.907 INFO     Setting up an openmm platform on GPU 0\n",
      "2022-12-12 20:47:52.277 INFO     Setting up an openmm platform on GPU 0\n",
      "2022-12-12 20:47:52.277 INFO     Setting up an openmm platform on GPU 0\n",
      "2022-12-12 20:47:53.169 INFO     Setting up an openmm platform on GPU 0\n",
      "2022-12-12 20:47:53.169 INFO     Setting up an openmm platform on GPU 0\n",
      "2022-12-12 20:47:54.404 INFO     Setting up an openmm platform on GPU 0\n",
      "2022-12-12 20:47:54.404 INFO     Setting up an openmm platform on GPU 0\n",
      "2022-12-12 20:47:55.264 INFO     Setting up an openmm platform on GPU 0\n",
      "2022-12-12 20:47:55.264 INFO     Setting up an openmm platform on GPU 0\n",
      "2022-12-12 20:47:56.394 INFO     Setting up an openmm platform on GPU 0\n",
      "2022-12-12 20:47:56.394 INFO     Setting up an openmm platform on GPU 0\n",
      "2022-12-12 20:47:57.348 INFO     Setting up an openmm platform on GPU 0\n",
      "2022-12-12 20:47:57.348 INFO     Setting up an openmm platform on GPU 0\n",
      "2022-12-12 20:47:58.723 INFO     Setting up an openmm platform on GPU 0\n",
      "2022-12-12 20:47:58.723 INFO     Setting up an openmm platform on GPU 0\n",
      "2022-12-12 20:47:59.649 INFO     Setting up an openmm platform on GPU 0\n",
      "2022-12-12 20:47:59.649 INFO     Setting up an openmm platform on GPU 0\n",
      "2022-12-12 20:48:00.802 INFO     Setting up an openmm platform on GPU 0\n",
      "2022-12-12 20:48:00.802 INFO     Setting up an openmm platform on GPU 0\n",
      "2022-12-12 20:48:01.763 INFO     Setting up an openmm platform on GPU 0\n",
      "2022-12-12 20:48:01.763 INFO     Setting up an openmm platform on GPU 0\n",
      "2022-12-12 20:48:03.042 INFO     Setting up an openmm platform on GPU 0\n",
      "2022-12-12 20:48:03.042 INFO     Setting up an openmm platform on GPU 0\n",
      "2022-12-12 20:48:04.027 INFO     Setting up an openmm platform on GPU 0\n",
      "2022-12-12 20:48:04.027 INFO     Setting up an openmm platform on GPU 0\n",
      "2022-12-12 20:48:05.248 INFO     Setting up an openmm platform on GPU 0\n",
      "2022-12-12 20:48:05.248 INFO     Setting up an openmm platform on GPU 0\n",
      "2022-12-12 20:48:06.161 INFO     Setting up an openmm platform on GPU 0\n",
      "2022-12-12 20:48:06.161 INFO     Setting up an openmm platform on GPU 0\n",
      "2022-12-12 20:48:07.290 INFO     Setting up an openmm platform on GPU 0\n",
      "2022-12-12 20:48:07.290 INFO     Setting up an openmm platform on GPU 0\n",
      "2022-12-12 20:48:08.174 INFO     Setting up an openmm platform on GPU 0\n",
      "2022-12-12 20:48:08.174 INFO     Setting up an openmm platform on GPU 0\n",
      "2022-12-12 20:48:09.442 INFO     Setting up an openmm platform on GPU 0\n",
      "2022-12-12 20:48:09.442 INFO     Setting up an openmm platform on GPU 0\n",
      "2022-12-12 20:48:10.312 INFO     Setting up an openmm platform on GPU 0\n",
      "2022-12-12 20:48:10.312 INFO     Setting up an openmm platform on GPU 0\n",
      "2022-12-12 20:48:11.245 INFO     4f0b3bf451bf417395857db8401a004f|production_simulation_liquid finished executing after 286717.0700100014 ms\n",
      "2022-12-12 20:48:11.245 INFO     4f0b3bf451bf417395857db8401a004f|production_simulation_liquid finished executing after 286717.0700100014 ms\n",
      "2022-12-12 20:48:11.347 INFO     Executing 4f0b3bf451bf417395857db8401a004f|average_liquid_potential\n",
      "2022-12-12 20:48:11.347 INFO     Executing 4f0b3bf451bf417395857db8401a004f|average_liquid_potential\n",
      "2022-12-12 20:48:12.201 INFO     4f0b3bf451bf417395857db8401a004f|average_liquid_potential finished executing after 851.6310089999024 ms\n",
      "2022-12-12 20:48:12.201 INFO     4f0b3bf451bf417395857db8401a004f|average_liquid_potential finished executing after 851.6310089999024 ms\n",
      "2022-12-12 20:48:12.306 INFO     Executing 3b3bf3f008084e1bbe2ea698dee7509e|average_density\n",
      "2022-12-12 20:48:12.306 INFO     Executing 3b3bf3f008084e1bbe2ea698dee7509e|average_density\n",
      "2022-12-12 20:48:13.113 INFO     3b3bf3f008084e1bbe2ea698dee7509e|average_density finished executing after 804.5449770015694 ms\n",
      "2022-12-12 20:48:13.113 INFO     3b3bf3f008084e1bbe2ea698dee7509e|average_density finished executing after 804.5449770015694 ms\n",
      "2022-12-12 20:48:13.116 INFO     Executing 4f0b3bf451bf417395857db8401a004f|production_simulation_gas\n",
      "2022-12-12 20:48:13.116 INFO     Executing 4f0b3bf451bf417395857db8401a004f|production_simulation_gas\n",
      "2022-12-12 20:48:13.121 INFO     Setting up a simulation with 1 threads\n",
      "2022-12-12 20:48:13.121 INFO     Setting up a simulation with 1 threads\n",
      "2022-12-12 20:48:13.130 INFO     No checkpoint files were found.\n",
      "2022-12-12 20:48:13.130 INFO     No checkpoint files were found.\n",
      "2022-12-12 20:53:43.817 INFO     Setting up an openmm platform on GPU 0\n",
      "2022-12-12 20:53:43.817 INFO     Setting up an openmm platform on GPU 0\n",
      "2022-12-12 20:53:44.410 INFO     Setting up an openmm platform on GPU 0\n",
      "2022-12-12 20:53:44.410 INFO     Setting up an openmm platform on GPU 0\n",
      "2022-12-12 20:53:44.992 INFO     Setting up an openmm platform on GPU 0\n",
      "2022-12-12 20:53:44.992 INFO     Setting up an openmm platform on GPU 0\n",
      "2022-12-12 20:53:45.529 INFO     Setting up an openmm platform on GPU 0\n",
      "2022-12-12 20:53:45.529 INFO     Setting up an openmm platform on GPU 0\n",
      "2022-12-12 20:53:46.075 INFO     Setting up an openmm platform on GPU 0\n",
      "2022-12-12 20:53:46.075 INFO     Setting up an openmm platform on GPU 0\n",
      "2022-12-12 20:53:46.661 INFO     Setting up an openmm platform on GPU 0\n",
      "2022-12-12 20:53:46.661 INFO     Setting up an openmm platform on GPU 0\n",
      "2022-12-12 20:53:47.177 INFO     Setting up an openmm platform on GPU 0\n",
      "2022-12-12 20:53:47.177 INFO     Setting up an openmm platform on GPU 0\n",
      "2022-12-12 20:53:47.693 INFO     Setting up an openmm platform on GPU 0\n",
      "2022-12-12 20:53:47.693 INFO     Setting up an openmm platform on GPU 0\n",
      "2022-12-12 20:53:48.204 INFO     Setting up an openmm platform on GPU 0\n",
      "2022-12-12 20:53:48.204 INFO     Setting up an openmm platform on GPU 0\n",
      "2022-12-12 20:53:48.698 INFO     Setting up an openmm platform on GPU 0\n",
      "2022-12-12 20:53:48.698 INFO     Setting up an openmm platform on GPU 0\n",
      "2022-12-12 20:53:49.315 INFO     Setting up an openmm platform on GPU 0\n",
      "2022-12-12 20:53:49.315 INFO     Setting up an openmm platform on GPU 0\n",
      "2022-12-12 20:53:49.852 INFO     Setting up an openmm platform on GPU 0\n",
      "2022-12-12 20:53:49.852 INFO     Setting up an openmm platform on GPU 0\n",
      "2022-12-12 20:53:50.365 INFO     Setting up an openmm platform on GPU 0\n",
      "2022-12-12 20:53:50.365 INFO     Setting up an openmm platform on GPU 0\n",
      "2022-12-12 20:53:50.866 INFO     Setting up an openmm platform on GPU 0\n",
      "2022-12-12 20:53:50.866 INFO     Setting up an openmm platform on GPU 0\n",
      "2022-12-12 20:53:51.382 INFO     Setting up an openmm platform on GPU 0\n",
      "2022-12-12 20:53:51.382 INFO     Setting up an openmm platform on GPU 0\n",
      "2022-12-12 20:53:51.871 INFO     Setting up an openmm platform on GPU 0\n",
      "2022-12-12 20:53:51.871 INFO     Setting up an openmm platform on GPU 0\n",
      "2022-12-12 20:53:52.397 INFO     Setting up an openmm platform on GPU 0\n",
      "2022-12-12 20:53:52.397 INFO     Setting up an openmm platform on GPU 0\n",
      "2022-12-12 20:53:52.946 INFO     Setting up an openmm platform on GPU 0\n",
      "2022-12-12 20:53:52.946 INFO     Setting up an openmm platform on GPU 0\n",
      "2022-12-12 20:53:53.504 INFO     Setting up an openmm platform on GPU 0\n",
      "2022-12-12 20:53:53.504 INFO     Setting up an openmm platform on GPU 0\n",
      "2022-12-12 20:53:54.007 INFO     Setting up an openmm platform on GPU 0\n",
      "2022-12-12 20:53:54.007 INFO     Setting up an openmm platform on GPU 0\n",
      "2022-12-12 20:53:54.663 INFO     4f0b3bf451bf417395857db8401a004f|production_simulation_gas finished executing after 341544.48541499913 ms\n",
      "2022-12-12 20:53:54.663 INFO     4f0b3bf451bf417395857db8401a004f|production_simulation_gas finished executing after 341544.48541499913 ms\n",
      "2022-12-12 20:53:55.073 INFO     Executing 4f0b3bf451bf417395857db8401a004f|average_gas_potential\n",
      "2022-12-12 20:53:55.073 INFO     Executing 4f0b3bf451bf417395857db8401a004f|average_gas_potential\n",
      "2022-12-12 20:53:56.725 INFO     4f0b3bf451bf417395857db8401a004f|average_gas_potential finished executing after 1649.0283839993936 ms\n",
      "2022-12-12 20:53:56.725 INFO     4f0b3bf451bf417395857db8401a004f|average_gas_potential finished executing after 1649.0283839993936 ms\n",
      "2022-12-12 20:53:56.739 INFO     Executing 4f0b3bf451bf417395857db8401a004f|energy_of_vaporization\n",
      "2022-12-12 20:53:56.739 INFO     Executing 4f0b3bf451bf417395857db8401a004f|energy_of_vaporization\n",
      "2022-12-12 20:53:56.744 INFO     4f0b3bf451bf417395857db8401a004f|energy_of_vaporization finished executing after 1.9218840006942628 ms\n",
      "2022-12-12 20:53:56.744 INFO     4f0b3bf451bf417395857db8401a004f|energy_of_vaporization finished executing after 1.9218840006942628 ms\n",
      "2022-12-12 20:53:56.747 INFO     Executing 4f0b3bf451bf417395857db8401a004f|ideal_volume\n",
      "2022-12-12 20:53:56.747 INFO     Executing 4f0b3bf451bf417395857db8401a004f|ideal_volume\n",
      "2022-12-12 20:53:56.749 INFO     4f0b3bf451bf417395857db8401a004f|ideal_volume finished executing after 0.40725100006966386 ms\n",
      "2022-12-12 20:53:56.749 INFO     4f0b3bf451bf417395857db8401a004f|ideal_volume finished executing after 0.40725100006966386 ms\n",
      "2022-12-12 20:53:56.758 INFO     Executing 4f0b3bf451bf417395857db8401a004f|enthalpy_of_vaporization\n",
      "2022-12-12 20:53:56.758 INFO     Executing 4f0b3bf451bf417395857db8401a004f|enthalpy_of_vaporization\n",
      "2022-12-12 20:53:56.760 INFO     4f0b3bf451bf417395857db8401a004f|enthalpy_of_vaporization finished executing after 0.8438879995082971 ms\n",
      "2022-12-12 20:53:56.760 INFO     4f0b3bf451bf417395857db8401a004f|enthalpy_of_vaporization finished executing after 0.8438879995082971 ms\n",
      "2022-12-12 20:53:56.762 INFO     4f0b3bf451bf417395857db8401a004f|conditional_group loop finished after 1 iterations\n",
      "2022-12-12 20:53:56.762 INFO     4f0b3bf451bf417395857db8401a004f|conditional_group loop finished after 1 iterations\n",
      "2022-12-12 20:53:56.938 INFO     4f0b3bf451bf417395857db8401a004f|conditional_group finished executing after 632421.6141149991 ms\n",
      "2022-12-12 20:53:56.938 INFO     4f0b3bf451bf417395857db8401a004f|conditional_group finished executing after 632421.6141149991 ms\n",
      "2022-12-12 20:53:57.106 INFO     Launching a job with access to GPUs 0\n",
      "2022-12-12 20:53:57.106 INFO     Launching a job with access to GPUs 0\n",
      "2022-12-12 20:53:57.107 INFO     Launching a job with access to GPUs 0\n",
      "2022-12-12 20:53:57.107 INFO     Launching a job with access to GPUs 0\n",
      "2022-12-12 20:53:57.107 INFO     Launching a job with access to GPUs 0\n",
      "2022-12-12 20:53:57.107 INFO     Launching a job with access to GPUs 0\n",
      "2022-12-12 20:53:57.107 INFO     Launching a job with access to GPUs 0\n",
      "2022-12-12 20:53:57.107 INFO     Launching a job with access to GPUs 0\n",
      "2022-12-12 20:53:57.108 INFO     Launching a job with access to GPUs 0\n",
      "2022-12-12 20:53:57.108 INFO     Launching a job with access to GPUs 0\n",
      "2022-12-12 20:53:57.109 INFO     Launching a job with access to GPUs 0\n",
      "2022-12-12 20:53:57.109 INFO     Launching a job with access to GPUs 0\n",
      "2022-12-12 20:53:57.670 INFO     Executing 4f0b3bf451bf417395857db8401a004f|decorrelate_observables_liquid\n",
      "2022-12-12 20:53:57.670 INFO     Executing 4f0b3bf451bf417395857db8401a004f|decorrelate_observables_liquid\n",
      "2022-12-12 20:53:57.701 INFO     4f0b3bf451bf417395857db8401a004f|decorrelate_observables_liquid finished executing after 22.12188700104889 ms\n",
      "2022-12-12 20:53:57.701 INFO     4f0b3bf451bf417395857db8401a004f|decorrelate_observables_liquid finished executing after 22.12188700104889 ms\n",
      "2022-12-12 20:53:57.701 INFO     Executing 4f0b3bf451bf417395857db8401a004f|decorrelate_observables_gas\n",
      "2022-12-12 20:53:57.701 INFO     Executing 4f0b3bf451bf417395857db8401a004f|decorrelate_observables_gas\n",
      "2022-12-12 20:53:57.878 INFO     Executing 3b3bf3f008084e1bbe2ea698dee7509e|decorrelate_trajectory\n",
      "2022-12-12 20:53:57.878 INFO     Executing 3b3bf3f008084e1bbe2ea698dee7509e|decorrelate_trajectory\n",
      "2022-12-12 20:53:57.927 INFO     Executing 3b3bf3f008084e1bbe2ea698dee7509e|decorrelate_observables\n",
      "2022-12-12 20:53:57.927 INFO     Executing 3b3bf3f008084e1bbe2ea698dee7509e|decorrelate_observables\n",
      "2022-12-12 20:53:57.972 INFO     3b3bf3f008084e1bbe2ea698dee7509e|decorrelate_observables finished executing after 37.71977299948048 ms\n",
      "2022-12-12 20:53:57.972 INFO     3b3bf3f008084e1bbe2ea698dee7509e|decorrelate_observables finished executing after 37.71977299948048 ms\n",
      "2022-12-12 20:53:58.085 INFO     Executing 4f0b3bf451bf417395857db8401a004f|decorrelate_trajectory_liquid\n",
      "2022-12-12 20:53:58.085 INFO     Executing 4f0b3bf451bf417395857db8401a004f|decorrelate_trajectory_liquid\n",
      "2022-12-12 20:53:58.110 INFO     4f0b3bf451bf417395857db8401a004f|decorrelate_observables_gas finished executing after 402.4111090002407 ms\n",
      "2022-12-12 20:53:58.110 INFO     4f0b3bf451bf417395857db8401a004f|decorrelate_observables_gas finished executing after 402.4111090002407 ms\n",
      "2022-12-12 20:53:58.120 INFO     Executing 4f0b3bf451bf417395857db8401a004f|decorrelate_trajectory_gas\n",
      "2022-12-12 20:53:58.120 INFO     Executing 4f0b3bf451bf417395857db8401a004f|decorrelate_trajectory_gas\n",
      "2022-12-12 20:53:58.455 INFO     4f0b3bf451bf417395857db8401a004f|decorrelate_trajectory_liquid finished executing after 367.4923500002478 ms\n",
      "2022-12-12 20:53:58.455 INFO     4f0b3bf451bf417395857db8401a004f|decorrelate_trajectory_liquid finished executing after 367.4923500002478 ms\n",
      "2022-12-12 20:53:58.496 INFO     3b3bf3f008084e1bbe2ea698dee7509e|decorrelate_trajectory finished executing after 614.5550450000883 ms\n",
      "2022-12-12 20:53:58.496 INFO     3b3bf3f008084e1bbe2ea698dee7509e|decorrelate_trajectory finished executing after 614.5550450000883 ms\n",
      "2022-12-12 20:53:58.527 INFO     Launching a job with access to GPUs 0\n",
      "2022-12-12 20:53:58.527 INFO     Launching a job with access to GPUs 0\n",
      "2022-12-12 20:53:59.514 INFO     4f0b3bf451bf417395857db8401a004f|decorrelate_trajectory_gas finished executing after 1389.380598000571 ms\n",
      "2022-12-12 20:53:59.514 INFO     4f0b3bf451bf417395857db8401a004f|decorrelate_trajectory_gas finished executing after 1389.380598000571 ms\n",
      "2022-12-12 20:53:59.546 INFO     Launching a job with access to GPUs 0\n",
      "2022-12-12 20:53:59.546 INFO     Launching a job with access to GPUs 0\n",
      "2022-12-12 20:54:02.354 INFO     Launching a job with access to GPUs 0\n",
      "2022-12-12 20:54:02.354 INFO     Launching a job with access to GPUs 0\n",
      "2022-12-12 20:54:02.422 INFO     Launching a job with access to GPUs 0\n",
      "2022-12-12 20:54:02.422 INFO     Launching a job with access to GPUs 0\n",
      "2022-12-12 20:54:03.111 INFO     Finished server request c3c20c0774e44e04b19246ef547be0ea\n",
      "2022-12-12 20:54:03.111 INFO     Finished server request c3c20c0774e44e04b19246ef547be0ea\n",
      "\n",
      "2 properties were estimated using the SimulationLayer layer.\n",
      "\n",
      "\n",
      "#=============================================================================================================#\n",
      "#| \u001b[1;94m                                            pure_data Density                                            \u001b[0m |#\n",
      "#| \u001b[1;94m Temperature  Pressure Substance  Reference  Calculated +- Stdev     Delta    Weight    Denom     Term   \u001b[0m |#\n",
      "#=============================================================================================================#\n",
      "  298.15 K 1.0 atm CCO{solv}{x=1.000000}   785.070        792.648 +- 0.590     7.578   1.00000  30.00000   0.06380  \n",
      "---------------------------------------------------------------------------------------------------------------\n",
      "\n",
      "#=============================================================================================================#\n",
      "#| \u001b[1;94m                                    pure_data EnthalpyOfVaporization                                     \u001b[0m |#\n",
      "#| \u001b[1;94m Temperature  Pressure Substance  Reference  Calculated +- Stdev     Delta    Weight    Denom     Term   \u001b[0m |#\n",
      "#=============================================================================================================#\n",
      "  298.15 K 1.0 atm CCO{solv}{x=1.000000}    42.260         39.285 +- 0.136    -2.975   1.00000   3.00000   0.98309  \n",
      "---------------------------------------------------------------------------------------------------------------\n",
      "#====================================================================#\n",
      "#| \u001b[94m                  Objective Function Breakdown                  \u001b[0m |#\n",
      "#| \u001b[94m  Target Name              Residual  x  Weight  =  Contribution \u001b[0m |#\n",
      "#====================================================================#\n",
      "pure_data                      1.04689      1.000 \u001b[94m     1.04689e+00\u001b[0m \n",
      "Regularization                 0.00000      1.000 \u001b[94m     0.00000e+00\u001b[0m \n",
      "Total                                             \u001b[94m     1.04689e+00\u001b[0m \n",
      "----------------------------------------------------------------------\n",
      "\n",
      "  Step       |k|        |dk|       |grad|       -=X2=-     Delta(X2)    StepQual\n",
      "     0   0.000e+00   0.000e+00   5.278e+01\u001b[1m   1.04689e+00\u001b[0m   0.000e+00      0.000\n",
      "\n",
      "#========================================================#\n",
      "#| \u001b[94m                   Total Gradient                   \u001b[0m |#\n",
      "#========================================================#\n",
      "   0 [ -1.51145791e+01 ] : vdW/Atom/epsilon/[#1:1]-[#6X4]\n",
      "   1 [ -2.79619515e-03 ] : vdW/Atom/rmin_half/[#1:1]-[#6X4]\n",
      "   2 [ -1.11815154e+01 ] : vdW/Atom/epsilon/[#1:1]-[#6X4]-[#7,#8,#9,#16,#17,#35]\n",
      "   3 [ -3.38719793e+00 ] : vdW/Atom/rmin_half/[#1:1]-[#6X4]-[#7,#8,#9,#16,#17,#35]\n",
      "   4 [ -1.56692965e+01 ] : vdW/Atom/epsilon/[#1:1]-[#8]\n",
      "   5 [  7.43448105e-02 ] : vdW/Atom/rmin_half/[#1:1]-[#8]\n",
      "   6 [ -7.59674373e+00 ] : vdW/Atom/epsilon/[#6X4:1]\n",
      "   7 [ -1.59739926e+01 ] : vdW/Atom/rmin_half/[#6X4:1]\n",
      "   8 [  2.05638048e-01 ] : vdW/Atom/epsilon/[#8X2H1+0:1]\n",
      "   9 [  4.31486826e+01 ] : vdW/Atom/rmin_half/[#8X2H1+0:1]\n",
      "----------------------------------------------------------\n",
      "#========================================================#\n",
      "#| \u001b[94m                   Total Hessian                    \u001b[0m |#\n",
      "#========================================================#\n",
      " 1.61800458e+02 -1.24309293e+02  1.13362913e+02 -4.92147122e+01  1.75875167e+02 -8.40474202e-01  1.08825384e+02  1.48048078e+02  1.83274473e+00 -5.05499813e+02 \n",
      "-1.24309293e+02  3.06939695e+02 -8.00546644e+01  1.80683711e+02 -1.53913109e+02  7.45008870e-01 -1.32400022e+02 -8.02671677e+01 -8.13629454e+00  4.75805997e+02 \n",
      " 1.13362913e+02 -8.00546644e+01  8.27374466e+01 -2.93530641e+01  1.24098717e+02 -5.92673899e-01  7.53368620e+01  1.06388410e+02  1.03813871e+00 -3.55378859e+02 \n",
      "-4.92147122e+01  1.80683711e+02 -2.93530641e+01  1.14533465e+02 -6.58582574e+01  3.21211770e-01 -6.61645033e+01 -2.17297743e+01 -5.15332569e+00  2.12149534e+02 \n",
      " 1.75875167e+02 -1.53913109e+02  1.24098717e+02 -6.58582574e+01  1.96970950e+02 -9.32508367e-01  1.23692851e+02  1.60074833e+02  2.56813568e+00 -5.63129858e+02 \n",
      "-8.40474202e-01  7.45008870e-01 -5.92673899e-01  3.21211770e-01 -9.32508367e-01  2.00446044e+00 -5.93279962e-01 -7.63377377e-01 -1.25783644e-02  2.69485331e+00 \n",
      " 1.08825384e+02 -1.32400022e+02  7.53368620e+01 -6.61645033e+01  1.23692851e+02 -5.93279962e-01  8.70576394e+01  9.28201780e+01  2.78669820e+00 -3.63182175e+02 \n",
      " 1.48048078e+02 -8.02671677e+01  1.06388410e+02 -2.17297743e+01  1.60074833e+02 -7.63377377e-01  9.28201780e+01  1.45009081e+02  5.73292198e-01 -4.54483922e+02 \n",
      " 1.83274473e+00 -8.13629454e+00  1.03813871e+00 -5.15332569e+00  2.56813568e+00 -1.25783644e-02  2.78669820e+00  5.73292198e-01  2.23727160e+00 -8.45860594e+00 \n",
      "-5.05499813e+02  4.75805997e+02 -3.55378859e+02  2.12149534e+02 -5.63129858e+02  2.69485331e+00 -3.63182175e+02 -4.54483922e+02 -8.45860594e+00  1.63380220e+03 \n",
      "----------------------------------------------------------\n",
      "Calculating nonlinear optimization step\n",
      "Newton-Raphson step found (length 6.5582e-02)\n",
      "#========================================================#\n",
      "#| \u001b[95m  Mathematical Parameters (Current + Step = Next)   \u001b[0m |#\n",
      "#========================================================#\n",
      "   0 [  0.0000e+00 + 1.4579e-02 =  1.4579e-02 ] : vdW/Atom/epsilon/[#1:1]-[#6X4]\n",
      "   1 [  0.0000e+00 + 4.0912e-02 =  4.0912e-02 ] : vdW/Atom/rmin_half/[#1:1]-[#6X4]\n",
      "   2 [  0.0000e+00 + 1.2382e-02 =  1.2382e-02 ] : vdW/Atom/epsilon/[#1:1]-[#6X4]-[#7,#8,#9,#16,#17,#35]\n",
      "   3 [  0.0000e+00 + 3.1242e-02 =  3.1242e-02 ] : vdW/Atom/rmin_half/[#1:1]-[#6X4]-[#7,#8,#9,#16,#17,#35]\n",
      "   4 [  0.0000e+00 + 1.1755e-02 =  1.1755e-02 ] : vdW/Atom/epsilon/[#1:1]-[#8]\n",
      "   5 [  0.0000e+00 - 5.3792e-05 = -5.3792e-05 ] : vdW/Atom/rmin_half/[#1:1]-[#8]\n",
      "   6 [  0.0000e+00 - 2.0521e-03 = -2.0521e-03 ] : vdW/Atom/epsilon/[#6X4:1]\n",
      "   7 [  0.0000e+00 + 2.2264e-02 =  2.2264e-02 ] : vdW/Atom/rmin_half/[#6X4:1]\n",
      "   8 [  0.0000e+00 - 1.5167e-03 = -1.5167e-03 ] : vdW/Atom/epsilon/[#8X2H1+0:1]\n",
      "   9 [  0.0000e+00 - 2.5397e-02 = -2.5397e-02 ] : vdW/Atom/rmin_half/[#8X2H1+0:1]\n",
      "----------------------------------------------------------\n",
      "#========================================================#\n",
      "#| \u001b[95m    Physical Parameters (Current + Step = Next)     \u001b[0m |#\n",
      "#========================================================#\n",
      "   0 [  1.5700e-02 + 1.4579e-03 =  1.7158e-02 ] : vdW/Atom/epsilon/[#1:1]-[#6X4]\n",
      "   1 [  1.4870e+00 + 4.0912e-02 =  1.5279e+00 ] : vdW/Atom/rmin_half/[#1:1]-[#6X4]\n",
      "   2 [  1.5700e-02 + 1.2382e-03 =  1.6938e-02 ] : vdW/Atom/epsilon/[#1:1]-[#6X4]-[#7,#8,#9,#16,#17,#35]\n",
      "   3 [  1.3870e+00 + 3.1242e-02 =  1.4182e+00 ] : vdW/Atom/rmin_half/[#1:1]-[#6X4]-[#7,#8,#9,#16,#17,#35]\n",
      "   4 [  5.2700e-05 + 1.1755e-03 =  1.2282e-03 ] : vdW/Atom/epsilon/[#1:1]-[#8]\n",
      "   5 [  3.0000e-01 - 5.3792e-05 =  2.9995e-01 ] : vdW/Atom/rmin_half/[#1:1]-[#8]\n",
      "   6 [  1.0940e-01 - 2.0521e-04 =  1.0919e-01 ] : vdW/Atom/epsilon/[#6X4:1]\n",
      "   7 [  1.9080e+00 + 2.2264e-02 =  1.9303e+00 ] : vdW/Atom/rmin_half/[#6X4:1]\n",
      "   8 [  2.1040e-01 - 1.5167e-04 =  2.1025e-01 ] : vdW/Atom/epsilon/[#8X2H1+0:1]\n",
      "   9 [  1.7210e+00 - 2.5397e-02 =  1.6956e+00 ] : vdW/Atom/rmin_half/[#8X2H1+0:1]\n",
      "----------------------------------------------------------\n",
      "Backing up optimize.sav -> optimize.bak/optimize_1.sav\n",
      "Input file with saved parameters: optimize.sav\n",
      "#========================================================#\n",
      "#| \u001b[94m     Iteration 1: Evaluating objective function     \u001b[0m |#\n",
      "#| \u001b[94m        and derivatives through second order        \u001b[0m |#\n",
      "#========================================================#\n",
      "2022-12-12 20:54:21.926 INFO     Received estimation request from ('127.0.0.1', 41044)\n",
      "2022-12-12 20:54:21.926 INFO     Received estimation request from ('127.0.0.1', 41044)\n",
      "Requesting the estimation of 2 properties, and their gradients with respect to 10 parameters.\n",
      "2022-12-12 20:54:21.997 INFO     Launching batch 9b9eda079b324d0f9f8db508beaf2c79 using the SimulationLayer layer\n",
      "2022-12-12 20:54:21.997 INFO     Launching batch 9b9eda079b324d0f9f8db508beaf2c79 using the SimulationLayer layer\n",
      "2022-12-12 20:54:22.002 INFO     Building workflow 0 of 2\n",
      "2022-12-12 20:54:22.002 INFO     Building workflow 0 of 2\n",
      "<openff.toolkit.topology.topology.ValenceDict object at 0x7fd4ed23cc70>\n",
      "<openff.toolkit.topology.topology.ValenceDict object at 0x7fd4ed23e1f0>\n",
      "<openff.toolkit.topology.topology.ValenceDict object at 0x7fd4ed23ebe0>\n",
      "<openff.toolkit.topology.topology.ValenceDict object at 0x7fd4ed23ee80>\n",
      "<openff.toolkit.topology.topology.ImproperDict object at 0x7fd4ed23e6d0>\n",
      "<openff.toolkit.topology.topology.ValenceDict object at 0x7fd4ed23e760>\n",
      "<openff.toolkit.topology.topology.ValenceDict object at 0x7fd4ed23ea60>\n",
      "<openff.toolkit.topology.topology.ValenceDict object at 0x7fd4ed23ed30>\n",
      "2022-12-12 20:54:22.167 INFO     Building workflow 1 of 2\n",
      "2022-12-12 20:54:22.167 INFO     Building workflow 1 of 2\n",
      "<openff.toolkit.topology.topology.ValenceDict object at 0x7fd4ed251fa0>\n",
      "<openff.toolkit.topology.topology.ValenceDict object at 0x7fd4ed253940>\n",
      "<openff.toolkit.topology.topology.ValenceDict object at 0x7fd4ed253d90>\n",
      "<openff.toolkit.topology.topology.ValenceDict object at 0x7fd4ed253ca0>\n",
      "<openff.toolkit.topology.topology.ImproperDict object at 0x7fd4ed245400>\n",
      "<openff.toolkit.topology.topology.ValenceDict object at 0x7fd4ed2c0490>\n",
      "<openff.toolkit.topology.topology.ValenceDict object at 0x7fd4ed245250>\n",
      "<openff.toolkit.topology.topology.ValenceDict object at 0x7fd4ed245760>\n",
      "2022-12-12 20:54:22.411 INFO     Launching a job with access to GPUs 0\n",
      "2022-12-12 20:54:22.411 INFO     Launching a job with access to GPUs 0\n",
      "2022-12-12 20:54:22.434 INFO     Launching a job with access to GPUs 0\n",
      "2022-12-12 20:54:22.434 INFO     Launching a job with access to GPUs 0\n",
      "2022-12-12 20:54:22.514 INFO     Executing 4f0b3bf451bf417395857db8401a004f|build_coordinates_liquid\n",
      "2022-12-12 20:54:22.514 INFO     Executing 4f0b3bf451bf417395857db8401a004f|build_coordinates_liquid\n",
      "2022-12-12 20:54:22.539 INFO     Executing 4f0b3bf451bf417395857db8401a004f|build_coordinates_gas\n",
      "2022-12-12 20:54:22.539 INFO     Executing 4f0b3bf451bf417395857db8401a004f|build_coordinates_gas\n",
      "2022-12-12 20:54:22.886 INFO     4f0b3bf451bf417395857db8401a004f|build_coordinates_gas finished executing after 342.59114199994656 ms\n",
      "2022-12-12 20:54:22.886 INFO     4f0b3bf451bf417395857db8401a004f|build_coordinates_gas finished executing after 342.59114199994656 ms\n",
      "2022-12-12 20:54:22.917 INFO     Launching a job with access to GPUs 0\n",
      "2022-12-12 20:54:22.917 INFO     Launching a job with access to GPUs 0\n",
      "2022-12-12 20:54:22.968 INFO     Executing 4f0b3bf451bf417395857db8401a004f|assign_parameters_gas\n",
      "2022-12-12 20:54:22.968 INFO     Executing 4f0b3bf451bf417395857db8401a004f|assign_parameters_gas\n",
      "2022-12-12 20:54:23.113 INFO     12 torsions added\n",
      "2022-12-12 20:54:23.113 INFO     12 torsions added\n",
      "2022-12-12 20:54:23.116 INFO     0 impropers added, each applied in a six-fold trefoil\n",
      "2022-12-12 20:54:23.116 INFO     0 impropers added, each applied in a six-fold trefoil\n",
      "2022-12-12 20:54:23.121 INFO     2 bonds added (6 skipped due to constraints)\n",
      "2022-12-12 20:54:23.121 INFO     2 bonds added (6 skipped due to constraints)\n",
      "2022-12-12 20:54:23.124 INFO     13 angles added (0 skipped due to constraints)\n",
      "2022-12-12 20:54:23.124 INFO     13 angles added (0 skipped due to constraints)\n",
      "2022-12-12 20:54:23.475 INFO     4f0b3bf451bf417395857db8401a004f|build_coordinates_liquid finished executing after 957.3796509994281 ms\n",
      "2022-12-12 20:54:23.475 INFO     4f0b3bf451bf417395857db8401a004f|build_coordinates_liquid finished executing after 957.3796509994281 ms\n",
      "2022-12-12 20:54:23.533 INFO     Launching a job with access to GPUs 0\n",
      "2022-12-12 20:54:23.533 INFO     Launching a job with access to GPUs 0\n",
      "2022-12-12 20:54:23.591 INFO     Executing 4f0b3bf451bf417395857db8401a004f|assign_parameters_liquid\n",
      "2022-12-12 20:54:23.591 INFO     Executing 4f0b3bf451bf417395857db8401a004f|assign_parameters_liquid\n",
      "2022-12-12 20:54:23.718 INFO     4f0b3bf451bf417395857db8401a004f|assign_parameters_gas finished executing after 745.8819340008631 ms\n",
      "2022-12-12 20:54:23.718 INFO     4f0b3bf451bf417395857db8401a004f|assign_parameters_gas finished executing after 745.8819340008631 ms\n",
      "2022-12-12 20:54:23.752 INFO     Launching a job with access to GPUs 0\n",
      "2022-12-12 20:54:23.752 INFO     Launching a job with access to GPUs 0\n",
      "2022-12-12 20:54:23.809 INFO     Executing 4f0b3bf451bf417395857db8401a004f|energy_minimisation_gas\n",
      "2022-12-12 20:54:23.809 INFO     Executing 4f0b3bf451bf417395857db8401a004f|energy_minimisation_gas\n",
      "2022-12-12 20:54:23.819 INFO     Setting up an openmm platform on GPU 0\n",
      "2022-12-12 20:54:23.819 INFO     Setting up an openmm platform on GPU 0\n",
      "2022-12-12 20:54:23.973 INFO     4f0b3bf451bf417395857db8401a004f|energy_minimisation_gas finished executing after 159.9608790002094 ms\n",
      "2022-12-12 20:54:23.973 INFO     4f0b3bf451bf417395857db8401a004f|energy_minimisation_gas finished executing after 159.9608790002094 ms\n",
      "2022-12-12 20:54:24.008 INFO     Launching a job with access to GPUs 0\n",
      "2022-12-12 20:54:24.008 INFO     Launching a job with access to GPUs 0\n",
      "2022-12-12 20:54:24.064 INFO     Executing 4f0b3bf451bf417395857db8401a004f|equilibration_simulation_gas\n",
      "2022-12-12 20:54:24.064 INFO     Executing 4f0b3bf451bf417395857db8401a004f|equilibration_simulation_gas\n",
      "2022-12-12 20:54:24.526 INFO     Setting up a simulation with 1 threads\n",
      "2022-12-12 20:54:24.526 INFO     Setting up a simulation with 1 threads\n",
      "2022-12-12 20:54:24.541 INFO     No checkpoint files were found.\n",
      "2022-12-12 20:54:24.541 INFO     No checkpoint files were found.\n",
      "2022-12-12 20:54:24.900 INFO     3072 torsions added\n",
      "2022-12-12 20:54:24.900 INFO     3072 torsions added\n",
      "2022-12-12 20:54:25.081 INFO     0 impropers added, each applied in a six-fold trefoil\n",
      "2022-12-12 20:54:25.081 INFO     0 impropers added, each applied in a six-fold trefoil\n",
      "2022-12-12 20:54:25.187 INFO     512 bonds added (1536 skipped due to constraints)\n",
      "2022-12-12 20:54:25.187 INFO     512 bonds added (1536 skipped due to constraints)\n",
      "2022-12-12 20:54:25.288 INFO     3328 angles added (0 skipped due to constraints)\n",
      "2022-12-12 20:54:25.288 INFO     3328 angles added (0 skipped due to constraints)\n",
      "2022-12-12 20:54:25.882 INFO     4f0b3bf451bf417395857db8401a004f|assign_parameters_liquid finished executing after 2287.282432998836 ms\n",
      "2022-12-12 20:54:25.882 INFO     4f0b3bf451bf417395857db8401a004f|assign_parameters_liquid finished executing after 2287.282432998836 ms\n",
      "2022-12-12 20:54:25.916 INFO     Launching a job with access to GPUs 0\n",
      "2022-12-12 20:54:25.916 INFO     Launching a job with access to GPUs 0\n",
      "2022-12-12 20:54:25.972 INFO     Executing 4f0b3bf451bf417395857db8401a004f|energy_minimisation_liquid\n",
      "2022-12-12 20:54:25.972 INFO     Executing 4f0b3bf451bf417395857db8401a004f|energy_minimisation_liquid\n",
      "2022-12-12 20:54:25.983 INFO     Setting up an openmm platform on GPU 0\n",
      "2022-12-12 20:54:25.983 INFO     Setting up an openmm platform on GPU 0\n",
      "2022-12-12 20:54:26.858 INFO     4f0b3bf451bf417395857db8401a004f|equilibration_simulation_gas finished executing after 2789.4369610003196 ms\n",
      "2022-12-12 20:54:26.858 INFO     4f0b3bf451bf417395857db8401a004f|equilibration_simulation_gas finished executing after 2789.4369610003196 ms\n",
      "2022-12-12 20:54:27.788 INFO     4f0b3bf451bf417395857db8401a004f|energy_minimisation_liquid finished executing after 1812.3609400008718 ms\n",
      "2022-12-12 20:54:27.788 INFO     4f0b3bf451bf417395857db8401a004f|energy_minimisation_liquid finished executing after 1812.3609400008718 ms\n",
      "2022-12-12 20:54:27.842 INFO     Launching a job with access to GPUs 0\n",
      "2022-12-12 20:54:27.842 INFO     Launching a job with access to GPUs 0\n",
      "2022-12-12 20:54:27.893 INFO     Executing 4f0b3bf451bf417395857db8401a004f|equilibration_simulation_liquid\n",
      "2022-12-12 20:54:27.893 INFO     Executing 4f0b3bf451bf417395857db8401a004f|equilibration_simulation_liquid\n",
      "2022-12-12 20:54:28.346 INFO     Setting up an openmm platform on GPU 0\n",
      "2022-12-12 20:54:28.346 INFO     Setting up an openmm platform on GPU 0\n",
      "2022-12-12 20:54:29.271 INFO     No checkpoint files were found.\n",
      "2022-12-12 20:54:29.271 INFO     No checkpoint files were found.\n",
      "2022-12-12 20:54:55.379 INFO     4f0b3bf451bf417395857db8401a004f|equilibration_simulation_liquid finished executing after 27481.055707999985 ms\n",
      "2022-12-12 20:54:55.379 INFO     4f0b3bf451bf417395857db8401a004f|equilibration_simulation_liquid finished executing after 27481.055707999985 ms\n",
      "2022-12-12 20:54:55.551 INFO     Launching a job with access to GPUs 0\n",
      "2022-12-12 20:54:55.551 INFO     Launching a job with access to GPUs 0\n",
      "2022-12-12 20:54:55.633 INFO     Executing 4f0b3bf451bf417395857db8401a004f|conditional_group\n",
      "2022-12-12 20:54:55.633 INFO     Executing 4f0b3bf451bf417395857db8401a004f|conditional_group\n",
      "2022-12-12 20:54:55.647 INFO     Executing 4f0b3bf451bf417395857db8401a004f|production_simulation_liquid\n",
      "2022-12-12 20:54:55.647 INFO     Executing 4f0b3bf451bf417395857db8401a004f|production_simulation_liquid\n",
      "2022-12-12 20:54:56.091 INFO     Setting up an openmm platform on GPU 0\n",
      "2022-12-12 20:54:56.091 INFO     Setting up an openmm platform on GPU 0\n",
      "2022-12-12 20:54:57.012 INFO     No checkpoint files were found.\n",
      "2022-12-12 20:54:57.012 INFO     No checkpoint files were found.\n"
     ]
    }
   ],
   "source": [
    "!ForceBalance optimize.in"
   ]
  },
  {
   "cell_type": "markdown",
   "metadata": {
    "colab_type": "text",
    "collapsed": false,
    "id": "xSuicGKR--yI",
    "pycharm": {
     "name": "#%% md\n"
    }
   },
   "source": [
    "If everything went well *ForceBalance* should exit cleanly, and will have stored out newly optimized force field in the\n",
    "`results` directory."
   ]
  },
  {
   "cell_type": "code",
   "execution_count": null,
   "metadata": {
    "colab": {
     "base_uri": "https://localhost:8080/",
     "height": 34
    },
    "colab_type": "code",
    "id": "9XwxXlBX--yK",
    "outputId": "c0640494-9b26-4f7e-8e79-406158c3ab3d",
    "pycharm": {
     "name": "#%%\n"
    }
   },
   "outputs": [
    {
     "name": "stdout",
     "output_type": "stream",
     "text": [
      "openff-1.0.0-tagged_1.offxml  openff-1.0.0-tagged.offxml\n"
     ]
    }
   ],
   "source": [
    "!ls result/optimize"
   ]
  },
  {
   "cell_type": "markdown",
   "metadata": {
    "colab_type": "text",
    "collapsed": false,
    "id": "THb-Zxd4--yN",
    "pycharm": {
     "name": "#%% md\n"
    }
   },
   "source": [
    "## Plotting the results\n",
    "\n",
    "As a last step in this tutorial, we will extract the objective function at each iteration from the *ForceBalance* output\n",
    "files and plot this using `matplotlib`.\n",
    "\n",
    "First, we will extract the objective function from the `pickle` serialized output files which can be found in the \n",
    "`optimize.tmp/pure_data/iter_****/` directories:"
   ]
  },
  {
   "cell_type": "code",
   "execution_count": null,
   "metadata": {
    "colab": {
     "base_uri": "https://localhost:8080/",
     "height": 34
    },
    "colab_type": "code",
    "id": "o5Hhm6XB--yP",
    "outputId": "8fc45775-b549-425f-f49e-2e0c8fec1b78",
    "pycharm": {
     "name": "#%% \n"
    }
   },
   "outputs": [
    {
     "name": "stdout",
     "output_type": "stream",
     "text": [
      "[0.9270359101845124, 0.011497456194198362]\n"
     ]
    }
   ],
   "source": [
    "from forcebalance.nifty import lp_load\n",
    "\n",
    "# Determine how many iterations ForceBalance has completed.\n",
    "from glob import glob\n",
    "n_iterations = len(glob(\"optimize.tmp/pure_data/iter*\"))\n",
    "\n",
    "# Extract the objective function at each iteration.\n",
    "objective_function = []\n",
    "\n",
    "for iteration in range(n_iterations):\n",
    "\n",
    "    folder_name = \"iter_\" + str(iteration).zfill(4)\n",
    "    file_path = f\"optimize.tmp/pure_data/{folder_name}/objective.p\"\n",
    "    \n",
    "    statistics = lp_load(file_path)\n",
    "    objective_function.append(statistics[\"X\"])\n",
    "\n",
    "print(objective_function)\n",
    "    "
   ]
  },
  {
   "cell_type": "markdown",
   "metadata": {
    "colab_type": "text",
    "collapsed": false,
    "id": "p0VXrv-3--yT",
    "pycharm": {
     "name": "#%% md\n"
    }
   },
   "source": [
    "The objective function is then easily plotted:"
   ]
  },
  {
   "cell_type": "code",
   "execution_count": null,
   "metadata": {
    "colab": {
     "base_uri": "https://localhost:8080/",
     "height": 297
    },
    "colab_type": "code",
    "id": "DzOieX2B--yU",
    "outputId": "51331014-27cc-4829-84b6-bf64f0a550f4",
    "pycharm": {
     "name": "#%%\n"
    }
   },
   "outputs": [
    {
     "data": {
      "image/png": "[encoded data removed]",
      "text/plain": [
       "<Figure size 288x288 with 1 Axes>"
      ]
     },
     "metadata": {
      "tags": []
     },
     "output_type": "display_data"
    }
   ],
   "source": [
    "from matplotlib import pyplot\n",
    "figure, axis = pyplot.subplots(1, 1, figsize=(4, 4))\n",
    "\n",
    "axis.set_xlabel(\"Iteration\")\n",
    "axis.set_ylabel(\"Objective Function\")\n",
    "\n",
    "axis.plot(range(n_iterations), objective_function, marker=\"o\")\n",
    "\n",
    "figure.tight_layout()"
   ]
  },
  {
   "cell_type": "markdown",
   "metadata": {
    "colab_type": "text",
    "collapsed": false,
    "id": "PbzleU137H9m",
    "pycharm": {
     "name": "#%% md\n"
    }
   },
   "source": [
    "## Conclusion\n",
    "\n",
    "And that concludes the fourth tutorial! \n",
    "\n",
    "If you have any questions and / or feedback, please open an issue on the\n",
    "[GitHub issue tracker](https://github.com/openforcefield/openff-evaluator/issues)."
   ]
  }
 ],
 "metadata": {
  "accelerator": "GPU",
  "colab": {
   "collapsed_sections": [],
   "name": "tutorial04.ipynb",
   "provenance": [
    {
     "file_id": "https://github.com/openforcefield/openff-evaluator/blob/master/docs/tutorials/tutorial04.ipynb",
     "timestamp": 1583264626727
    }
   ]
  },
  "kernelspec": {
   "display_name": "Python 3.9.15 ('dev')",
   "language": "python",
   "name": "python3"
  },
  "language_info": {
   "codemirror_mode": {
    "name": "ipython",
    "version": 3
   },
   "file_extension": ".py",
   "mimetype": "text/x-python",
   "name": "python",
   "nbconvert_exporter": "python",
   "pygments_lexer": "ipython3",
   "version": "3.9.15"
  },
  "vscode": {
   "interpreter": {
    "hash": "b6ffe58be5471dd70d8a3e799194a4cda9f91ca95a024b51bc48a8ce2ea8ae2a"
   }
  }
 },
 "nbformat": 4,
 "nbformat_minor": 0
}

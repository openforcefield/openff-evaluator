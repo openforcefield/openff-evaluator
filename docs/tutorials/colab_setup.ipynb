{
 "cells": [
  {
   "cell_type": "code",
   "execution_count": null,
   "metadata": {
    "collapsed": true
   },
   "outputs": [],
   "source": [
    "!wget https://repo.anaconda.com/miniconda/Miniconda3-latest-Linux-x86_64.sh \n",
    "!chmod -x ./Miniconda3-latest-Linux-x86_64.sh \n",
    "!bash ./Miniconda3-latest-Linux-x86_64.sh -b -f -p /usr/local\n",
    "\n",
    "!wget https://raw.githubusercontent.com/openforcefield/openff-evaluator/master/devtools/conda-envs/test_env.yaml\n",
    "!sed -i -z 's/python\\n/python ==3.6.9\\n/g' test_env.yaml\n",
    "!. /usr/local/etc/profile.d/conda.sh && conda env update --name base --file test_env.yaml && conda install --yes -c conda-forge forcebalance && conda list\n",
    "\n",
    "!pip install git+https://github.com/openforcefield/openff-evaluator.git@master\n",
    "!wget https://raw.githubusercontent.com/openforcefield/openff-forcefields/7300a486581feff508b9401241443f941924783f/openforcefields/offxml/openff-1.0.0.offxml\n",
    "\n",
    "import os\n",
    "import sys\n",
    "\n",
    "sys.path.append('/usr/local/lib/python3.6/site-packages/')\n",
    "os.environ[\"CUDA_VISIBLE_DEVICES\"] = \"0\""
   ]
  }
 ],
 "metadata": {
  "kernelspec": {
   "display_name": "Python 3",
   "language": "python",
   "name": "python3"
  },
  "language_info": {
   "codemirror_mode": {
    "name": "ipython",
    "version": 2
   },
   "file_extension": ".py",
   "mimetype": "text/x-python",
   "name": "python",
   "nbconvert_exporter": "python",
   "pygments_lexer": "ipython2",
   "version": "2.7.6"
  },
  "pycharm": {
   "stem_cell": {
    "cell_type": "raw",
    "source": [],
    "metadata": {
     "collapsed": false
    }
   }
  }
 },
 "nbformat": 4,
 "nbformat_minor": 0
}
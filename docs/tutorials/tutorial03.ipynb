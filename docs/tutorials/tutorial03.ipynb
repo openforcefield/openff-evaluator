{
 "cells": [
  {
   "cell_type": "markdown",
   "metadata": {
    "colab_type": "text",
    "id": "YSV5DrHtlHp-",
    "pycharm": {
     "name": "#%% md\n"
    }
   },
   "source": [
    "# Tutorial 03 - Analysing Data Sets\n",
    "\n",
    "[![Open In Colab](https://colab.research.google.com/assets/colab-badge.svg)](https://colab.research.google.com/github/openforcefield/openff-evaluator/blob/main/docs/tutorials/tutorial03.ipynb)\n",
    "\n",
    "In this tutorial we will be analysing the results of the calculations which we performed in the [second tutorial](tutorial02.ipynb). \n",
    "The tutorial will cover:\n",
    "\n",
    "- comparing the estimated data set with the experimental data set.\n",
    "- plotting the two data sets. "
   ]
  },
  {
   "cell_type": "markdown",
   "metadata": {
    "colab_type": "text",
    "id": "pvunG4GblHqA"
   },
   "source": [
    "*Note: If you are running this tutorial in google colab you will need to run a setup script instead of following the \n",
    "installation instructions:*"
   ]
  },
  {
   "cell_type": "code",
   "execution_count": null,
   "metadata": {
    "colab": {},
    "colab_type": "code",
    "id": "BRDQOezZlHqC",
    "pycharm": {
     "is_executing": false,
     "name": "#%%\n"
    }
   },
   "outputs": [],
   "source": [
    "# !wget https://raw.githubusercontent.com/openforcefield/openff-evaluator/main/docs/tutorials/colab_setup.ipynb\n",
    "# %run colab_setup.ipynb"
   ]
  },
  {
   "cell_type": "markdown",
   "metadata": {
    "colab_type": "text",
    "id": "kETNDAhSlHqJ"
   },
   "source": [
    "For the sake of clarity all warnings will be disabled in this tutorial:"
   ]
  },
  {
   "cell_type": "code",
   "execution_count": null,
   "metadata": {
    "colab": {},
    "colab_type": "code",
    "id": "DDquWWI4lHqL",
    "pycharm": {
     "is_executing": false,
     "name": "#%%\n"
    }
   },
   "outputs": [],
   "source": [
    "import warnings\n",
    "\n",
    "warnings.filterwarnings(\"ignore\")\n",
    "import logging\n",
    "\n",
    "logging.getLogger(\"openff.toolkit\").setLevel(logging.ERROR)"
   ]
  },
  {
   "cell_type": "markdown",
   "metadata": {
    "colab_type": "text",
    "id": "D5fOLXw1lHqS",
    "pycharm": {
     "name": "#%% md\n"
    }
   },
   "source": [
    "## Loading the Data Sets\n",
    "\n",
    "We will begin by loading both the experimental data set and the estimated data set:"
   ]
  },
  {
   "cell_type": "code",
   "execution_count": null,
   "metadata": {
    "colab": {},
    "colab_type": "code",
    "id": "4aHO4zhClHqX",
    "pycharm": {
     "is_executing": false,
     "name": "#%%\n"
    }
   },
   "outputs": [],
   "source": [
    "import pathlib\n",
    "\n",
    "from openff.evaluator.datasets import PhysicalPropertyDataSet\n",
    "\n",
    "experimental_data_set_path = \"filtered_data_set.json\"\n",
    "estimated_data_set_path = \"estimated_data_set.json\"\n",
    "\n",
    "# If you have not yet completed the previous tutorials or do not have the data set files\n",
    "# available, this tutorial will use copies provided by the framework\n",
    "\n",
    "if not (\n",
    "    pathlib.Path(experimental_data_set_path).exists()\n",
    "    and pathlib.Path(estimated_data_set_path).exists()\n",
    "):\n",
    "    from openff.evaluator.utils import get_data_filename\n",
    "\n",
    "    experimental_data_set_path = get_data_filename(\n",
    "        \"tutorials/tutorial01/filtered_data_set.json\"\n",
    "    )\n",
    "    estimated_data_set_path = get_data_filename(\n",
    "        \"tutorials/tutorial02/estimated_data_set.json\"\n",
    "    )\n",
    "\n",
    "experimental_data_set = PhysicalPropertyDataSet.from_json(experimental_data_set_path)\n",
    "estimated_data_set = PhysicalPropertyDataSet.from_json(estimated_data_set_path)"
   ]
  },
  {
   "cell_type": "markdown",
   "metadata": {
    "colab_type": "text",
    "id": "5vl3MxX5lHqh",
    "pycharm": {
     "name": "#%% md\n"
    }
   },
   "source": [
    "if everything went well from the previous tutorials, these data sets will contain the density and $H_{vap}$ of ethanol \n",
    "and isopropanol:"
   ]
  },
  {
   "cell_type": "code",
   "execution_count": null,
   "metadata": {
    "colab": {
     "base_uri": "https://localhost:8080/",
     "height": 241
    },
    "colab_type": "code",
    "executionInfo": {
     "elapsed": 293013,
     "status": "ok",
     "timestamp": 1583292817554,
     "user": {
      "displayName": "",
      "photoUrl": "",
      "userId": ""
     },
     "user_tz": 420
    },
    "id": "4vI-dJ3VlHqj",
    "outputId": "930607e6-2a25-4c00-9362-c6b4b4ba1613",
    "pycharm": {
     "is_executing": false,
     "name": "#%%\n"
    }
   },
   "outputs": [],
   "source": [
    "experimental_data_set.to_pandas().head()"
   ]
  },
  {
   "cell_type": "code",
   "execution_count": null,
   "metadata": {
    "colab": {
     "base_uri": "https://localhost:8080/",
     "height": 224
    },
    "colab_type": "code",
    "executionInfo": {
     "elapsed": 293099,
     "status": "ok",
     "timestamp": 1583292817643,
     "user": {
      "displayName": "",
      "photoUrl": "",
      "userId": ""
     },
     "user_tz": 420
    },
    "id": "PNJ1G1LXlHqq",
    "outputId": "17f510e9-2e7e-458d-cf8b-f70626df919f",
    "pycharm": {
     "is_executing": false,
     "name": "#%%\n"
    }
   },
   "outputs": [],
   "source": [
    "estimated_data_set.to_pandas().head()"
   ]
  },
  {
   "cell_type": "markdown",
   "metadata": {
    "colab_type": "text",
    "id": "X9NjUh89lHqx"
   },
   "source": [
    "## Extracting the Results\n",
    "\n",
    "We will now compare how the value of each property estimated by simulation deviates from the experimental measurement. \n",
    "\n",
    "To do this we will extract a list which contains pairs of experimental and evaluated properties. We can easily match \n",
    "properties based on the unique ids which were automatically assigned to them on their creation:"
   ]
  },
  {
   "cell_type": "code",
   "execution_count": null,
   "metadata": {
    "colab": {},
    "colab_type": "code",
    "id": "kc65RHp_lHqz",
    "pycharm": {
     "is_executing": false,
     "name": "#%%\n"
    }
   },
   "outputs": [],
   "source": [
    "properties_by_type = {\"Density\": [], \"EnthalpyOfVaporization\": []}\n",
    "\n",
    "for experimental_property in experimental_data_set:\n",
    "    # Find the estimated property which has the same id as the\n",
    "    # experimental property.\n",
    "    estimated_property = next(\n",
    "        x for x in estimated_data_set if x.id == experimental_property.id\n",
    "    )\n",
    "\n",
    "    # Add this pair of properties to the list of pairs\n",
    "    property_type = experimental_property.__class__.__name__\n",
    "    properties_by_type[property_type].append(\n",
    "        (experimental_property, estimated_property)\n",
    "    )"
   ]
  },
  {
   "cell_type": "markdown",
   "metadata": {
    "colab_type": "text",
    "id": "I6lPQul9lHq5",
    "pycharm": {
     "name": "#%% md\n"
    }
   },
   "source": [
    "## Plotting the Results\n",
    "\n",
    "We will now compare the experimental results to the estimated ones by plotting them using `matplotlib`:"
   ]
  },
  {
   "cell_type": "code",
   "execution_count": null,
   "metadata": {
    "colab": {
     "base_uri": "https://localhost:8080/",
     "height": 300
    },
    "colab_type": "code",
    "executionInfo": {
     "elapsed": 293750,
     "status": "ok",
     "timestamp": 1583292818301,
     "user": {
      "displayName": "",
      "photoUrl": "",
      "userId": ""
     },
     "user_tz": 420
    },
    "id": "m71PXnHPlHq6",
    "outputId": "9d9ed590-6749-4bef-b4e1-43f014e1a764",
    "pycharm": {
     "is_executing": false,
     "name": "#%%\n"
    }
   },
   "outputs": [],
   "source": [
    "from matplotlib import pyplot\n",
    "\n",
    "# Create the figure we will plot to.\n",
    "figure, axes = pyplot.subplots(nrows=1, ncols=2, figsize=(8.0, 4.0))\n",
    "\n",
    "# Set the axis titles\n",
    "axes[0].set_xlabel(\"OpenFF 1.0.0\")\n",
    "axes[0].set_ylabel(\"Experimental\")\n",
    "axes[0].set_title(\"Density $kg m^{-3}$\")\n",
    "\n",
    "axes[1].set_xlabel(\"OpenFF 1.0.0\")\n",
    "axes[1].set_ylabel(\"Experimental\")\n",
    "axes[1].set_title(\"$H_{vap}$ $kJ mol^{-1}$\")\n",
    "\n",
    "# Define the preferred units of the properties\n",
    "from openff.units import unit\n",
    "\n",
    "preferred_units = {\n",
    "    \"Density\": unit.kilogram / unit.meter**3,\n",
    "    \"EnthalpyOfVaporization\": unit.kilojoule / unit.mole,\n",
    "}\n",
    "\n",
    "for index, property_type in enumerate(properties_by_type):\n",
    "    experimental_values = []\n",
    "    estimated_values = []\n",
    "\n",
    "    preferred_unit = preferred_units[property_type]\n",
    "\n",
    "    # Convert the values of our properties to the preferred units.\n",
    "    for experimental_property, estimated_property in properties_by_type[property_type]:\n",
    "        experimental_values.append(\n",
    "            experimental_property.value.to(preferred_unit).magnitude\n",
    "        )\n",
    "        estimated_values.append(estimated_property.value.to(preferred_unit).magnitude)\n",
    "\n",
    "    axes[index].plot(\n",
    "        estimated_values, experimental_values, marker=\"x\", linestyle=\"None\"\n",
    "    )"
   ]
  },
  {
   "cell_type": "markdown",
   "metadata": {
    "colab_type": "text",
    "id": "tx8U-ExOlHrA",
    "pycharm": {
     "name": "#%% md\n"
    }
   },
   "source": [
    "## Conclusion\n",
    "\n",
    "And that concludes the third tutorial!\n",
    "\n",
    "If you have any questions and / or feedback, please open an issue on the\n",
    "[GitHub issue tracker](https://github.com/openforcefield/openff-evaluator/issues)."
   ]
  }
 ],
 "metadata": {
  "colab": {
   "collapsed_sections": [],
   "name": "Copy of tutorial03.ipynb",
   "provenance": [
    {
     "file_id": "1HqdyHBbruwoS6e5FUHcxEmFgUV7CJtyE",
     "timestamp": 1583293097635
    },
    {
     "file_id": "https://github.com/openforcefield/openff-evaluator/blob/main/docs/tutorials/tutorial03.ipynb",
     "timestamp": 1583293048478
    }
   ]
  },
  "kernelspec": {
   "display_name": "evaluator-test-env",
   "language": "python",
   "name": "python3"
  },
  "language_info": {
   "codemirror_mode": {
    "name": "ipython",
    "version": 3
   },
   "file_extension": ".py",
   "mimetype": "text/x-python",
   "name": "python",
   "nbconvert_exporter": "python",
   "pygments_lexer": "ipython3",
   "version": "3.10.9"
  },
  "vscode": {
   "interpreter": {
    "hash": "410f84a7dee2fd8da3e676bc69193e1fbd008e9a63ed8da16ae0332e91fd8194"
   }
  }
 },
 "nbformat": 4,
 "nbformat_minor": 0
}

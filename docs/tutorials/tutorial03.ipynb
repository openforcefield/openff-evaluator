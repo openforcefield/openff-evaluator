{
 "cells": [
  {
   "cell_type": "markdown",
   "metadata": {
    "colab_type": "text",
    "collapsed": true,
    "id": "YSV5DrHtlHp-",
    "pycharm": {
     "name": "#%% md\n"
    }
   },
   "source": [
    "# Tutorial 03 - Analysing Data Sets\n",
    "\n",
    "[![Open In Colab](https://colab.research.google.com/assets/colab-badge.svg)](https://colab.research.google.com/github/openforcefield/openff-evaluator/blob/main/docs/tutorials/tutorial03.ipynb)\n",
    "\n",
    "In this tutorial we will be analysing the results of the calculations which we performed in the [second tutorial](tutorial02.ipynb). \n",
    "The tutorial will cover:\n",
    "\n",
    "- comparing the estimated data set with the experimental data set.\n",
    "- plotting the two data sets. "
   ]
  },
  {
   "cell_type": "markdown",
   "metadata": {
    "colab_type": "text",
    "collapsed": false,
    "id": "pvunG4GblHqA"
   },
   "source": [
    "*Note: If you are running this tutorial in google colab you will need to run a setup script instead of following the \n",
    "installation instructions:*"
   ]
  },
  {
   "cell_type": "code",
   "execution_count": 1,
   "metadata": {
    "colab": {},
    "colab_type": "code",
    "id": "BRDQOezZlHqC",
    "pycharm": {
     "is_executing": false,
     "name": "#%%\n"
    }
   },
   "outputs": [],
   "source": [
    "# !wget https://raw.githubusercontent.com/openforcefield/openff-evaluator/main/docs/tutorials/colab_setup.ipynb\n",
    "# %run colab_setup.ipynb"
   ]
  },
  {
   "cell_type": "markdown",
   "metadata": {
    "colab_type": "text",
    "collapsed": false,
    "id": "kETNDAhSlHqJ"
   },
   "source": [
    "For the sake of clarity all warnings will be disabled in this tutorial:"
   ]
  },
  {
   "cell_type": "code",
   "execution_count": 2,
   "metadata": {
    "colab": {},
    "colab_type": "code",
    "id": "DDquWWI4lHqL",
    "pycharm": {
     "is_executing": false,
     "name": "#%%\n"
    }
   },
   "outputs": [],
   "source": [
    "import warnings\n",
    "\n",
    "warnings.filterwarnings(\"ignore\")\n",
    "import logging\n",
    "\n",
    "logging.getLogger(\"openforcefield\").setLevel(logging.ERROR)"
   ]
  },
  {
   "cell_type": "markdown",
   "metadata": {
    "colab_type": "text",
    "collapsed": false,
    "id": "D5fOLXw1lHqS",
    "pycharm": {
     "name": "#%% md\n"
    }
   },
   "source": [
    "## Loading the Data Sets\n",
    "\n",
    "We will begin by loading both the experimental data set and the estimated data set:"
   ]
  },
  {
   "cell_type": "code",
   "execution_count": 3,
   "metadata": {
    "colab": {},
    "colab_type": "code",
    "id": "4aHO4zhClHqX",
    "pycharm": {
     "is_executing": false,
     "name": "#%%\n"
    }
   },
   "outputs": [],
   "source": [
    "from openff.evaluator.datasets import PhysicalPropertyDataSet\n",
    "\n",
    "experimental_data_set_path = \"filtered_data_set.json\"\n",
    "estimated_data_set_path = \"estimated_data_set.json\"\n",
    "\n",
    "# If you have not yet completed the previous tutorials or do not have the data set files\n",
    "# available, copies are provided by the framework:\n",
    "\n",
    "# from openff.evaluator.utils import get_data_filename\n",
    "# experimental_data_set_path = get_data_filename(\n",
    "#     \"tutorials/tutorial01/filtered_data_set.json\"\n",
    "# )\n",
    "# estimated_data_set_path = get_data_filename(\n",
    "#     \"tutorials/tutorial02/estimated_data_set.json\"\n",
    "# )\n",
    "\n",
    "experimental_data_set = PhysicalPropertyDataSet.from_json(experimental_data_set_path)\n",
    "estimated_data_set = PhysicalPropertyDataSet.from_json(estimated_data_set_path)"
   ]
  },
  {
   "cell_type": "markdown",
   "metadata": {
    "colab_type": "text",
    "collapsed": false,
    "id": "5vl3MxX5lHqh",
    "pycharm": {
     "name": "#%% md\n"
    }
   },
   "source": [
    "if everything went well from the previous tutorials, these data sets will contain the density and $H_{vap}$ of ethanol \n",
    "and isopropanol:"
   ]
  },
  {
   "cell_type": "code",
   "execution_count": 4,
   "metadata": {
    "colab": {
     "base_uri": "https://localhost:8080/",
     "height": 241
    },
    "colab_type": "code",
    "executionInfo": {
     "elapsed": 293013,
     "status": "ok",
     "timestamp": 1583292817554,
     "user": {
      "displayName": "",
      "photoUrl": "",
      "userId": ""
     },
     "user_tz": 420
    },
    "id": "4vI-dJ3VlHqj",
    "outputId": "930607e6-2a25-4c00-9362-c6b4b4ba1613",
    "pycharm": {
     "is_executing": false,
     "name": "#%%\n"
    }
   },
   "outputs": [
    {
     "data": {
      "text/html": [
       "<div>\n",
       "<style scoped>\n",
       "    .dataframe tbody tr th:only-of-type {\n",
       "        vertical-align: middle;\n",
       "    }\n",
       "\n",
       "    .dataframe tbody tr th {\n",
       "        vertical-align: top;\n",
       "    }\n",
       "\n",
       "    .dataframe thead th {\n",
       "        text-align: right;\n",
       "    }\n",
       "</style>\n",
       "<table border=\"1\" class=\"dataframe\">\n",
       "  <thead>\n",
       "    <tr style=\"text-align: right;\">\n",
       "      <th></th>\n",
       "      <th>Id</th>\n",
       "      <th>Temperature (K)</th>\n",
       "      <th>Pressure (kPa)</th>\n",
       "      <th>Phase</th>\n",
       "      <th>N Components</th>\n",
       "      <th>Component 1</th>\n",
       "      <th>Role 1</th>\n",
       "      <th>Mole Fraction 1</th>\n",
       "      <th>Exact Amount 1</th>\n",
       "      <th>Density Value (g / ml)</th>\n",
       "      <th>Density Uncertainty (g / ml)</th>\n",
       "      <th>EnthalpyOfVaporization Value (kJ / mol)</th>\n",
       "      <th>EnthalpyOfVaporization Uncertainty (kJ / mol)</th>\n",
       "      <th>Source</th>\n",
       "    </tr>\n",
       "  </thead>\n",
       "  <tbody>\n",
       "    <tr>\n",
       "      <th>0</th>\n",
       "      <td>88e5055c8779413aaee525b6e20b76da</td>\n",
       "      <td>298.15</td>\n",
       "      <td>101.325</td>\n",
       "      <td>Liquid</td>\n",
       "      <td>1</td>\n",
       "      <td>CC(C)O</td>\n",
       "      <td>Solvent</td>\n",
       "      <td>1.0</td>\n",
       "      <td>None</td>\n",
       "      <td>0.78270</td>\n",
       "      <td>0.000075</td>\n",
       "      <td>NaN</td>\n",
       "      <td>NaN</td>\n",
       "      <td>10.1016/j.fluid.2013.10.034</td>\n",
       "    </tr>\n",
       "    <tr>\n",
       "      <th>1</th>\n",
       "      <td>61dbd68fbe9c48eaa2539b9284133968</td>\n",
       "      <td>298.15</td>\n",
       "      <td>101.325</td>\n",
       "      <td>Liquid</td>\n",
       "      <td>1</td>\n",
       "      <td>CCO</td>\n",
       "      <td>Solvent</td>\n",
       "      <td>1.0</td>\n",
       "      <td>None</td>\n",
       "      <td>0.78507</td>\n",
       "      <td>0.000060</td>\n",
       "      <td>NaN</td>\n",
       "      <td>NaN</td>\n",
       "      <td>10.1021/je1013476</td>\n",
       "    </tr>\n",
       "    <tr>\n",
       "      <th>2</th>\n",
       "      <td>5c2fa558dbe144bfb381e1db87ef96e3</td>\n",
       "      <td>298.15</td>\n",
       "      <td>101.325</td>\n",
       "      <td>Liquid + Gas</td>\n",
       "      <td>1</td>\n",
       "      <td>CCO</td>\n",
       "      <td>Solvent</td>\n",
       "      <td>1.0</td>\n",
       "      <td>None</td>\n",
       "      <td>NaN</td>\n",
       "      <td>NaN</td>\n",
       "      <td>42.26</td>\n",
       "      <td>0.02</td>\n",
       "      <td>10.1016/S0021-9614(71)80108-8</td>\n",
       "    </tr>\n",
       "    <tr>\n",
       "      <th>3</th>\n",
       "      <td>063abccd6a9145498dbb74f04dbd2e94</td>\n",
       "      <td>298.15</td>\n",
       "      <td>101.325</td>\n",
       "      <td>Liquid + Gas</td>\n",
       "      <td>1</td>\n",
       "      <td>CC(C)O</td>\n",
       "      <td>Solvent</td>\n",
       "      <td>1.0</td>\n",
       "      <td>None</td>\n",
       "      <td>NaN</td>\n",
       "      <td>NaN</td>\n",
       "      <td>45.34</td>\n",
       "      <td>0.02</td>\n",
       "      <td>10.1016/S0021-9614(71)80108-8</td>\n",
       "    </tr>\n",
       "  </tbody>\n",
       "</table>\n",
       "</div>"
      ],
      "text/plain": [
       "                                 Id  Temperature (K)  Pressure (kPa)  \\\n",
       "0  88e5055c8779413aaee525b6e20b76da           298.15         101.325   \n",
       "1  61dbd68fbe9c48eaa2539b9284133968           298.15         101.325   \n",
       "2  5c2fa558dbe144bfb381e1db87ef96e3           298.15         101.325   \n",
       "3  063abccd6a9145498dbb74f04dbd2e94           298.15         101.325   \n",
       "\n",
       "          Phase  N Components Component 1   Role 1  Mole Fraction 1  \\\n",
       "0        Liquid             1      CC(C)O  Solvent              1.0   \n",
       "1        Liquid             1         CCO  Solvent              1.0   \n",
       "2  Liquid + Gas             1         CCO  Solvent              1.0   \n",
       "3  Liquid + Gas             1      CC(C)O  Solvent              1.0   \n",
       "\n",
       "  Exact Amount 1  Density Value (g / ml)  Density Uncertainty (g / ml)  \\\n",
       "0           None                 0.78270                      0.000075   \n",
       "1           None                 0.78507                      0.000060   \n",
       "2           None                     NaN                           NaN   \n",
       "3           None                     NaN                           NaN   \n",
       "\n",
       "   EnthalpyOfVaporization Value (kJ / mol)  \\\n",
       "0                                      NaN   \n",
       "1                                      NaN   \n",
       "2                                    42.26   \n",
       "3                                    45.34   \n",
       "\n",
       "   EnthalpyOfVaporization Uncertainty (kJ / mol)  \\\n",
       "0                                            NaN   \n",
       "1                                            NaN   \n",
       "2                                           0.02   \n",
       "3                                           0.02   \n",
       "\n",
       "                          Source  \n",
       "0    10.1016/j.fluid.2013.10.034  \n",
       "1              10.1021/je1013476  \n",
       "2  10.1016/S0021-9614(71)80108-8  \n",
       "3  10.1016/S0021-9614(71)80108-8  "
      ]
     },
     "execution_count": 4,
     "metadata": {},
     "output_type": "execute_result"
    }
   ],
   "source": [
    "experimental_data_set.to_pandas().head()"
   ]
  },
  {
   "cell_type": "code",
   "execution_count": 5,
   "metadata": {
    "colab": {
     "base_uri": "https://localhost:8080/",
     "height": 224
    },
    "colab_type": "code",
    "executionInfo": {
     "elapsed": 293099,
     "status": "ok",
     "timestamp": 1583292817643,
     "user": {
      "displayName": "",
      "photoUrl": "",
      "userId": ""
     },
     "user_tz": 420
    },
    "id": "PNJ1G1LXlHqq",
    "outputId": "17f510e9-2e7e-458d-cf8b-f70626df919f",
    "pycharm": {
     "is_executing": false,
     "name": "#%%\n"
    }
   },
   "outputs": [
    {
     "data": {
      "text/html": [
       "<div>\n",
       "<style scoped>\n",
       "    .dataframe tbody tr th:only-of-type {\n",
       "        vertical-align: middle;\n",
       "    }\n",
       "\n",
       "    .dataframe tbody tr th {\n",
       "        vertical-align: top;\n",
       "    }\n",
       "\n",
       "    .dataframe thead th {\n",
       "        text-align: right;\n",
       "    }\n",
       "</style>\n",
       "<table border=\"1\" class=\"dataframe\">\n",
       "  <thead>\n",
       "    <tr style=\"text-align: right;\">\n",
       "      <th></th>\n",
       "      <th>Id</th>\n",
       "      <th>Temperature (K)</th>\n",
       "      <th>Pressure (kPa)</th>\n",
       "      <th>Phase</th>\n",
       "      <th>N Components</th>\n",
       "      <th>Component 1</th>\n",
       "      <th>Role 1</th>\n",
       "      <th>Mole Fraction 1</th>\n",
       "      <th>Exact Amount 1</th>\n",
       "      <th>Density Value (g / ml)</th>\n",
       "      <th>Density Uncertainty (g / ml)</th>\n",
       "      <th>EnthalpyOfVaporization Value (kJ / mol)</th>\n",
       "      <th>EnthalpyOfVaporization Uncertainty (kJ / mol)</th>\n",
       "      <th>Source</th>\n",
       "    </tr>\n",
       "  </thead>\n",
       "  <tbody>\n",
       "    <tr>\n",
       "      <th>0</th>\n",
       "      <td>61dbd68fbe9c48eaa2539b9284133968</td>\n",
       "      <td>298.15</td>\n",
       "      <td>101.325</td>\n",
       "      <td>Liquid</td>\n",
       "      <td>1</td>\n",
       "      <td>CCO</td>\n",
       "      <td>Solvent</td>\n",
       "      <td>1.0</td>\n",
       "      <td>None</td>\n",
       "      <td>0.791792</td>\n",
       "      <td>0.000693</td>\n",
       "      <td>NaN</td>\n",
       "      <td>NaN</td>\n",
       "      <td>SimulationLayer</td>\n",
       "    </tr>\n",
       "    <tr>\n",
       "      <th>1</th>\n",
       "      <td>5c2fa558dbe144bfb381e1db87ef96e3</td>\n",
       "      <td>298.15</td>\n",
       "      <td>101.325</td>\n",
       "      <td>Liquid + Gas</td>\n",
       "      <td>1</td>\n",
       "      <td>CCO</td>\n",
       "      <td>Solvent</td>\n",
       "      <td>1.0</td>\n",
       "      <td>None</td>\n",
       "      <td>NaN</td>\n",
       "      <td>NaN</td>\n",
       "      <td>39.494587</td>\n",
       "      <td>0.132937</td>\n",
       "      <td>SimulationLayer</td>\n",
       "    </tr>\n",
       "    <tr>\n",
       "      <th>2</th>\n",
       "      <td>88e5055c8779413aaee525b6e20b76da</td>\n",
       "      <td>298.15</td>\n",
       "      <td>101.325</td>\n",
       "      <td>Liquid</td>\n",
       "      <td>1</td>\n",
       "      <td>CC(C)O</td>\n",
       "      <td>Solvent</td>\n",
       "      <td>1.0</td>\n",
       "      <td>None</td>\n",
       "      <td>0.804648</td>\n",
       "      <td>0.000796</td>\n",
       "      <td>NaN</td>\n",
       "      <td>NaN</td>\n",
       "      <td>SimulationLayer</td>\n",
       "    </tr>\n",
       "    <tr>\n",
       "      <th>3</th>\n",
       "      <td>063abccd6a9145498dbb74f04dbd2e94</td>\n",
       "      <td>298.15</td>\n",
       "      <td>101.325</td>\n",
       "      <td>Liquid + Gas</td>\n",
       "      <td>1</td>\n",
       "      <td>CC(C)O</td>\n",
       "      <td>Solvent</td>\n",
       "      <td>1.0</td>\n",
       "      <td>None</td>\n",
       "      <td>NaN</td>\n",
       "      <td>NaN</td>\n",
       "      <td>45.520714</td>\n",
       "      <td>0.164091</td>\n",
       "      <td>SimulationLayer</td>\n",
       "    </tr>\n",
       "  </tbody>\n",
       "</table>\n",
       "</div>"
      ],
      "text/plain": [
       "                                 Id  Temperature (K)  Pressure (kPa)  \\\n",
       "0  61dbd68fbe9c48eaa2539b9284133968           298.15         101.325   \n",
       "1  5c2fa558dbe144bfb381e1db87ef96e3           298.15         101.325   \n",
       "2  88e5055c8779413aaee525b6e20b76da           298.15         101.325   \n",
       "3  063abccd6a9145498dbb74f04dbd2e94           298.15         101.325   \n",
       "\n",
       "          Phase  N Components Component 1   Role 1  Mole Fraction 1  \\\n",
       "0        Liquid             1         CCO  Solvent              1.0   \n",
       "1  Liquid + Gas             1         CCO  Solvent              1.0   \n",
       "2        Liquid             1      CC(C)O  Solvent              1.0   \n",
       "3  Liquid + Gas             1      CC(C)O  Solvent              1.0   \n",
       "\n",
       "  Exact Amount 1  Density Value (g / ml)  Density Uncertainty (g / ml)  \\\n",
       "0           None                0.791792                      0.000693   \n",
       "1           None                     NaN                           NaN   \n",
       "2           None                0.804648                      0.000796   \n",
       "3           None                     NaN                           NaN   \n",
       "\n",
       "   EnthalpyOfVaporization Value (kJ / mol)  \\\n",
       "0                                      NaN   \n",
       "1                                39.494587   \n",
       "2                                      NaN   \n",
       "3                                45.520714   \n",
       "\n",
       "   EnthalpyOfVaporization Uncertainty (kJ / mol)           Source  \n",
       "0                                            NaN  SimulationLayer  \n",
       "1                                       0.132937  SimulationLayer  \n",
       "2                                            NaN  SimulationLayer  \n",
       "3                                       0.164091  SimulationLayer  "
      ]
     },
     "execution_count": 5,
     "metadata": {},
     "output_type": "execute_result"
    }
   ],
   "source": [
    "estimated_data_set.to_pandas().head()"
   ]
  },
  {
   "cell_type": "markdown",
   "metadata": {
    "colab_type": "text",
    "collapsed": false,
    "id": "X9NjUh89lHqx"
   },
   "source": [
    "## Extracting the Results\n",
    "\n",
    "We will now compare how the value of each property estimated by simulation deviates from the experimental measurement. \n",
    "\n",
    "To do this we will extract a list which contains pairs of experimental and evaluated properties. We can easily match \n",
    "properties based on the unique ids which were automatically assigned to them on their creation:"
   ]
  },
  {
   "cell_type": "code",
   "execution_count": 6,
   "metadata": {
    "colab": {},
    "colab_type": "code",
    "id": "kc65RHp_lHqz",
    "pycharm": {
     "is_executing": false,
     "name": "#%%\n"
    }
   },
   "outputs": [],
   "source": [
    "properties_by_type = {\"Density\": [], \"EnthalpyOfVaporization\": []}\n",
    "\n",
    "for experimental_property in experimental_data_set:\n",
    "    # Find the estimated property which has the same id as the\n",
    "    # experimental property.\n",
    "    estimated_property = next(\n",
    "        x for x in estimated_data_set if x.id == experimental_property.id\n",
    "    )\n",
    "\n",
    "    # Add this pair of properties to the list of pairs\n",
    "    property_type = experimental_property.__class__.__name__\n",
    "    properties_by_type[property_type].append(\n",
    "        (experimental_property, estimated_property)\n",
    "    )"
   ]
  },
  {
   "cell_type": "markdown",
   "metadata": {
    "colab_type": "text",
    "collapsed": false,
    "id": "I6lPQul9lHq5",
    "pycharm": {
     "name": "#%% md\n"
    }
   },
   "source": [
    "## Plotting the Results\n",
    "\n",
    "We will now compare the experimental results to the estimated ones by plotting them using `matplotlib`:"
   ]
  },
  {
   "cell_type": "code",
   "execution_count": 7,
   "metadata": {
    "colab": {
     "base_uri": "https://localhost:8080/",
     "height": 300
    },
    "colab_type": "code",
    "executionInfo": {
     "elapsed": 293750,
     "status": "ok",
     "timestamp": 1583292818301,
     "user": {
      "displayName": "",
      "photoUrl": "",
      "userId": ""
     },
     "user_tz": 420
    },
    "id": "m71PXnHPlHq6",
    "outputId": "9d9ed590-6749-4bef-b4e1-43f014e1a764",
    "pycharm": {
     "is_executing": false,
     "name": "#%%\n"
    }
   },
   "outputs": [
    {
     "data": {
      "image/png": "[encoded data removed]",
      "text/plain": [
       "<Figure size 800x400 with 2 Axes>"
      ]
     },
     "metadata": {},
     "output_type": "display_data"
    }
   ],
   "source": [
    "from matplotlib import pyplot\n",
    "\n",
    "# Create the figure we will plot to.\n",
    "figure, axes = pyplot.subplots(nrows=1, ncols=2, figsize=(8.0, 4.0))\n",
    "\n",
    "# Set the axis titles\n",
    "axes[0].set_xlabel(\"OpenFF 1.0.0\")\n",
    "axes[0].set_ylabel(\"Experimental\")\n",
    "axes[0].set_title(\"Density $kg m^{-3}$\")\n",
    "\n",
    "axes[1].set_xlabel(\"OpenFF 1.0.0\")\n",
    "axes[1].set_ylabel(\"Experimental\")\n",
    "axes[1].set_title(\"$H_{vap}$ $kJ mol^{-1}$\")\n",
    "\n",
    "# Define the preferred units of the properties\n",
    "from openff.units import unit\n",
    "\n",
    "preferred_units = {\n",
    "    \"Density\": unit.kilogram / unit.meter**3,\n",
    "    \"EnthalpyOfVaporization\": unit.kilojoule / unit.mole,\n",
    "}\n",
    "\n",
    "for index, property_type in enumerate(properties_by_type):\n",
    "    experimental_values = []\n",
    "    estimated_values = []\n",
    "\n",
    "    preferred_unit = preferred_units[property_type]\n",
    "\n",
    "    # Convert the values of our properties to the preferred units.\n",
    "    for experimental_property, estimated_property in properties_by_type[property_type]:\n",
    "        experimental_values.append(\n",
    "            experimental_property.value.to(preferred_unit).magnitude\n",
    "        )\n",
    "        estimated_values.append(estimated_property.value.to(preferred_unit).magnitude)\n",
    "\n",
    "    axes[index].plot(\n",
    "        estimated_values, experimental_values, marker=\"x\", linestyle=\"None\"\n",
    "    )"
   ]
  },
  {
   "cell_type": "markdown",
   "metadata": {
    "colab_type": "text",
    "collapsed": false,
    "id": "tx8U-ExOlHrA",
    "pycharm": {
     "name": "#%% md\n"
    }
   },
   "source": [
    "## Conclusion\n",
    "\n",
    "And that concludes the third tutorial!\n",
    "\n",
    "If you have any questions and / or feedback, please open an issue on the\n",
    "[GitHub issue tracker](https://github.com/openforcefield/openff-evaluator/issues)."
   ]
  }
 ],
 "metadata": {
  "colab": {
   "collapsed_sections": [],
   "name": "Copy of tutorial03.ipynb",
   "provenance": [
    {
     "file_id": "1HqdyHBbruwoS6e5FUHcxEmFgUV7CJtyE",
     "timestamp": 1583293097635
    },
    {
     "file_id": "https://github.com/openforcefield/openff-evaluator/blob/main/docs/tutorials/tutorial03.ipynb",
     "timestamp": 1583293048478
    }
   ]
  },
  "kernelspec": {
   "display_name": "fb195",
   "language": "python",
   "name": "python3"
  },
  "language_info": {
   "codemirror_mode": {
    "name": "ipython",
    "version": 3
   },
   "file_extension": ".py",
   "mimetype": "text/x-python",
   "name": "python",
   "nbconvert_exporter": "python",
   "pygments_lexer": "ipython3",
   "version": "3.9.16"
  },
  "vscode": {
   "interpreter": {
    "hash": "1690fd1766f44aae37ffdbbdf69df6f174a8d4e75cf17a001829423fca41ffdc"
   }
  }
 },
 "nbformat": 4,
 "nbformat_minor": 0
}

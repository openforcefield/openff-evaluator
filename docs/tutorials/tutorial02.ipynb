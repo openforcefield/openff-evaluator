{
 "cells": [
  {
   "cell_type": "markdown",
   "metadata": {
    "colab_type": "text",
    "collapsed": true,
    "id": "1adKOSfooSU5",
    "pycharm": {
     "name": "#%% md\n"
    }
   },
   "source": [
    "# Tutorial 02 - Estimating Data Sets\n",
    "\n",
    "[![Open In Colab](https://colab.research.google.com/assets/colab-badge.svg)](https://colab.research.google.com/github/openforcefield/openff-evaluator/blob/main/docs/tutorials/tutorial02.ipynb)\n",
    "\n",
    "In this tutorial we will be estimating the data set we created in the [first tutorial](tutorial01.ipynb) using molecular \n",
    "simulation. The tutorial will cover:\n",
    "\n",
    "- loading in the data set to estimate, and the force field parameters to use in the calculations.\n",
    "- defining custom calculation schemas for the properties in our data set.\n",
    "- estimating the data set of properties using an [Evaluator server](../gettingstarted/server.rst) instance.\n",
    "- retrieving the results from the server and storing them on disk."
   ]
  },
  {
   "cell_type": "markdown",
   "metadata": {
    "colab_type": "text",
    "collapsed": false,
    "id": "x9Qd3qlAoSU8"
   },
   "source": [
    "*Note: If you are running this tutorial in google colab you will need to run a setup script instead of following the \n",
    "installation instructions:*"
   ]
  },
  {
   "cell_type": "code",
   "execution_count": 1,
   "metadata": {
    "colab": {},
    "colab_type": "code",
    "id": "lp7HdaO9oSU9",
    "pycharm": {
     "name": "#%%\n"
    }
   },
   "outputs": [],
   "source": [
    "# !wget https://raw.githubusercontent.com/openforcefield/openff-evaluator/main/docs/tutorials/colab_setup.ipynb\n",
    "# %run colab_setup.ipynb"
   ]
  },
  {
   "cell_type": "markdown",
   "metadata": {
    "colab_type": "text",
    "collapsed": false,
    "id": "TfarnlY3oSVC"
   },
   "source": [
    "*For this tutorial make sure that you are using a GPU accelerated runtime.*\n",
    "\n",
    "For the sake of clarity all warnings will be disabled in this tutorial:"
   ]
  },
  {
   "cell_type": "code",
   "execution_count": 2,
   "metadata": {
    "colab": {},
    "colab_type": "code",
    "id": "cTYERblroSVE",
    "pycharm": {
     "name": "#%%\n"
    }
   },
   "outputs": [],
   "source": [
    "import warnings\n",
    "warnings.filterwarnings('ignore')\n",
    "import logging\n",
    "logging.getLogger(\"openforcefield\").setLevel(logging.ERROR)"
   ]
  },
  {
   "cell_type": "markdown",
   "metadata": {
    "colab_type": "text",
    "collapsed": false,
    "id": "wsn5fI_hoSVJ"
   },
   "source": [
    "We will also enable time-stamped logging to help track the progress of our calculations:"
   ]
  },
  {
   "cell_type": "code",
   "execution_count": 3,
   "metadata": {
    "colab": {},
    "colab_type": "code",
    "id": "VjmBPJGfoSVL",
    "pycharm": {
     "name": "#%%\n"
    }
   },
   "outputs": [],
   "source": [
    "from openff.evaluator.utils import setup_timestamp_logging\n",
    "setup_timestamp_logging()"
   ]
  },
  {
   "cell_type": "markdown",
   "metadata": {
    "colab_type": "text",
    "collapsed": false,
    "id": "OTDUNKu3oSVP",
    "pycharm": {
     "name": "#%% md\n"
    }
   },
   "source": [
    "## Loading the Data Set and Force Field Parameters\n",
    "\n",
    "We will begin by loading in the data set which we created in the previous tutorial:"
   ]
  },
  {
   "cell_type": "code",
   "execution_count": 4,
   "metadata": {
    "colab": {},
    "colab_type": "code",
    "id": "E3_ZeNPmoSVR",
    "pycharm": {
     "name": "#%%\n"
    }
   },
   "outputs": [],
   "source": [
    "from openff.evaluator.datasets import PhysicalPropertyDataSet\n",
    "\n",
    "data_set_path = \"filtered_data_set.json\"\n",
    "\n",
    "# If you have not yet completed that tutorial or do not have the data set file \n",
    "# available, a copy is provided by the framework:\n",
    "\n",
    "# from openff.evaluator.utils import get_data_filename\n",
    "# data_set_path = get_data_filename(\"tutorials/tutorial01/filtered_data_set.json\")\n",
    "\n",
    "data_set = PhysicalPropertyDataSet.from_json(data_set_path)"
   ]
  },
  {
   "cell_type": "markdown",
   "metadata": {
    "colab_type": "text",
    "collapsed": false,
    "id": "Ebkp-6LwoSVW"
   },
   "source": [
    "As a reminder, this data contains the experimentally measured density and $H_{vap}$ measurements for ethanol and \n",
    "isopropanol at ambient conditions:"
   ]
  },
  {
   "cell_type": "code",
   "execution_count": 5,
   "metadata": {
    "colab": {
     "base_uri": "https://localhost:8080/",
     "height": 241
    },
    "colab_type": "code",
    "executionInfo": {
     "elapsed": 313118,
     "status": "ok",
     "timestamp": 1583290074270,
     "user": {
      "displayName": "Simon Boothroyd",
      "photoUrl": "",
      "userId": "14278355403410282083"
     },
     "user_tz": 420
    },
    "id": "ekwbH95noSVY",
    "outputId": "cc0ecb85-f2c7-4ed4-d607-2aa68f240e41",
    "pycharm": {
     "name": "#%%\n"
    }
   },
   "outputs": [
    {
     "data": {
      "text/html": [
       "<div>\n",
       "<style scoped>\n",
       "    .dataframe tbody tr th:only-of-type {\n",
       "        vertical-align: middle;\n",
       "    }\n",
       "\n",
       "    .dataframe tbody tr th {\n",
       "        vertical-align: top;\n",
       "    }\n",
       "\n",
       "    .dataframe thead th {\n",
       "        text-align: right;\n",
       "    }\n",
       "</style>\n",
       "<table border=\"1\" class=\"dataframe\">\n",
       "  <thead>\n",
       "    <tr style=\"text-align: right;\">\n",
       "      <th></th>\n",
       "      <th>Id</th>\n",
       "      <th>Temperature (K)</th>\n",
       "      <th>Pressure (kPa)</th>\n",
       "      <th>Phase</th>\n",
       "      <th>N Components</th>\n",
       "      <th>Component 1</th>\n",
       "      <th>Role 1</th>\n",
       "      <th>Mole Fraction 1</th>\n",
       "      <th>Exact Amount 1</th>\n",
       "      <th>EnthalpyOfVaporization Value (kJ / mol)</th>\n",
       "      <th>EnthalpyOfVaporization Uncertainty (kJ / mol)</th>\n",
       "      <th>Density Value (g / ml)</th>\n",
       "      <th>Density Uncertainty (g / ml)</th>\n",
       "      <th>Source</th>\n",
       "    </tr>\n",
       "  </thead>\n",
       "  <tbody>\n",
       "    <tr>\n",
       "      <th>0</th>\n",
       "      <td>88e5055c8779413aaee525b6e20b76da</td>\n",
       "      <td>298.15</td>\n",
       "      <td>101.325</td>\n",
       "      <td>Liquid</td>\n",
       "      <td>1</td>\n",
       "      <td>CC(C)O</td>\n",
       "      <td>Solvent</td>\n",
       "      <td>1.0</td>\n",
       "      <td>None</td>\n",
       "      <td>NaN</td>\n",
       "      <td>NaN</td>\n",
       "      <td>0.78270</td>\n",
       "      <td>0.000075</td>\n",
       "      <td>10.1016/j.fluid.2013.10.034</td>\n",
       "    </tr>\n",
       "    <tr>\n",
       "      <th>1</th>\n",
       "      <td>61dbd68fbe9c48eaa2539b9284133968</td>\n",
       "      <td>298.15</td>\n",
       "      <td>101.325</td>\n",
       "      <td>Liquid</td>\n",
       "      <td>1</td>\n",
       "      <td>CCO</td>\n",
       "      <td>Solvent</td>\n",
       "      <td>1.0</td>\n",
       "      <td>None</td>\n",
       "      <td>NaN</td>\n",
       "      <td>NaN</td>\n",
       "      <td>0.78507</td>\n",
       "      <td>0.000060</td>\n",
       "      <td>10.1021/je1013476</td>\n",
       "    </tr>\n",
       "    <tr>\n",
       "      <th>2</th>\n",
       "      <td>5c2fa558dbe144bfb381e1db87ef96e3</td>\n",
       "      <td>298.15</td>\n",
       "      <td>101.325</td>\n",
       "      <td>Liquid + Gas</td>\n",
       "      <td>1</td>\n",
       "      <td>CCO</td>\n",
       "      <td>Solvent</td>\n",
       "      <td>1.0</td>\n",
       "      <td>None</td>\n",
       "      <td>42.26</td>\n",
       "      <td>0.02</td>\n",
       "      <td>NaN</td>\n",
       "      <td>NaN</td>\n",
       "      <td>10.1016/S0021-9614(71)80108-8</td>\n",
       "    </tr>\n",
       "    <tr>\n",
       "      <th>3</th>\n",
       "      <td>063abccd6a9145498dbb74f04dbd2e94</td>\n",
       "      <td>298.15</td>\n",
       "      <td>101.325</td>\n",
       "      <td>Liquid + Gas</td>\n",
       "      <td>1</td>\n",
       "      <td>CC(C)O</td>\n",
       "      <td>Solvent</td>\n",
       "      <td>1.0</td>\n",
       "      <td>None</td>\n",
       "      <td>45.34</td>\n",
       "      <td>0.02</td>\n",
       "      <td>NaN</td>\n",
       "      <td>NaN</td>\n",
       "      <td>10.1016/S0021-9614(71)80108-8</td>\n",
       "    </tr>\n",
       "  </tbody>\n",
       "</table>\n",
       "</div>"
      ],
      "text/plain": [
       "                                 Id  Temperature (K)  Pressure (kPa)  \\\n",
       "0  88e5055c8779413aaee525b6e20b76da           298.15         101.325   \n",
       "1  61dbd68fbe9c48eaa2539b9284133968           298.15         101.325   \n",
       "2  5c2fa558dbe144bfb381e1db87ef96e3           298.15         101.325   \n",
       "3  063abccd6a9145498dbb74f04dbd2e94           298.15         101.325   \n",
       "\n",
       "          Phase  N Components Component 1   Role 1  Mole Fraction 1  \\\n",
       "0        Liquid             1      CC(C)O  Solvent              1.0   \n",
       "1        Liquid             1         CCO  Solvent              1.0   \n",
       "2  Liquid + Gas             1         CCO  Solvent              1.0   \n",
       "3  Liquid + Gas             1      CC(C)O  Solvent              1.0   \n",
       "\n",
       "  Exact Amount 1  EnthalpyOfVaporization Value (kJ / mol)  \\\n",
       "0           None                                      NaN   \n",
       "1           None                                      NaN   \n",
       "2           None                                    42.26   \n",
       "3           None                                    45.34   \n",
       "\n",
       "   EnthalpyOfVaporization Uncertainty (kJ / mol)  Density Value (g / ml)  \\\n",
       "0                                            NaN                 0.78270   \n",
       "1                                            NaN                 0.78507   \n",
       "2                                           0.02                     NaN   \n",
       "3                                           0.02                     NaN   \n",
       "\n",
       "   Density Uncertainty (g / ml)                         Source  \n",
       "0                      0.000075    10.1016/j.fluid.2013.10.034  \n",
       "1                      0.000060              10.1021/je1013476  \n",
       "2                           NaN  10.1016/S0021-9614(71)80108-8  \n",
       "3                           NaN  10.1016/S0021-9614(71)80108-8  "
      ]
     },
     "execution_count": 5,
     "metadata": {},
     "output_type": "execute_result"
    }
   ],
   "source": [
    "data_set.to_pandas().head()"
   ]
  },
  {
   "cell_type": "markdown",
   "metadata": {
    "colab_type": "text",
    "collapsed": false,
    "id": "lVxc5Li3oSVd"
   },
   "source": [
    "We will also define the set of force field parameters which we wish to use to estimate this data set of properties. The\n",
    "framework has support for estimating force field parameters from a range of sources, including those in the OpenFF \n",
    "[SMIRNOFF format](https://open-forcefield-toolkit.readthedocs.io/en/latest/smirnoff.html), those which can be applied by \n",
    "[AmberTools](https://ambermd.org/AmberTools.php), [and more](../gettingstarted/client.rst). \n",
    "\n",
    "Each source of a force field has a corresponding source object in the framework. In this tutorial we will be using the\n",
    "OpenFF Parsley force field which is based off of the SMIRNOFF format:"
   ]
  },
  {
   "cell_type": "code",
   "execution_count": 6,
   "metadata": {
    "colab": {},
    "colab_type": "code",
    "id": "IG3NNKHdoSVf",
    "pycharm": {
     "name": "#%%\n"
    }
   },
   "outputs": [
    {
     "name": "stdout",
     "output_type": "stream",
     "text": [
      "2023-02-12 12:06:39.775 INFO     Attempting to up-convert Electrostatics section from 0.3 to 0.4\n",
      "2023-02-12 12:06:39.776 INFO     Successfully up-converted Electrostatics section from 0.3 to 0.4. `method=\"PME\"` is now split into `periodic_potential=\"Ewald3D-ConductingBoundary\"`, `nonperiodic_potential=\"Coulomb\"`, and `exception_potential=\"Coulomb\"`.\n"
     ]
    }
   ],
   "source": [
    "from openff.evaluator.forcefield import SmirnoffForceFieldSource\n",
    "\n",
    "force_field_path = \"openff-1.0.0.offxml\"\n",
    "force_field_source = SmirnoffForceFieldSource.from_path(force_field_path)"
   ]
  },
  {
   "cell_type": "markdown",
   "metadata": {
    "colab_type": "text",
    "collapsed": false,
    "id": "attbV8Y-oSVj"
   },
   "source": [
    "## Defining the Calculation Schemas\n",
    "\n",
    "The next step we will take will be to define a custom calculation schema for each type of property in our data set.\n",
    " \n",
    "A calculation schema is the blueprint for how a type of property should be calculated using a particular \n",
    "[calculation approach](../layers/calculationlayers.rst), such as directly by simulation, by reprocessing cached \n",
    "simulation data or, in future, a range of other options.\n",
    "\n",
    "The framework has built-in schemas defining how densities and $H_{vap}$ should be estimated from molecular simulation, \n",
    "covering all aspects from coordinate generation, force field assignment, energy minimisation, equilibration and finally \n",
    "the production simulation and data analysis. All of this functionality is implemented via the frameworks built-in, \n",
    "lightweight [workflow engine](../workflows/workflows.rst), however we won't dive into the details of this until a later \n",
    "tutorial.\n",
    "\n",
    "For the purpose of this tutorial, we will simply modify the default calculation schemas to reduce the number of \n",
    "molecules to include in our simulations to speed up the calculations. This step can be skipped entirely if the default\n",
    "options (which we recommend using for 'real-world' calculations) are to be used:"
   ]
  },
  {
   "cell_type": "code",
   "execution_count": 7,
   "metadata": {
    "colab": {},
    "colab_type": "code",
    "id": "QfMb452WoSVk",
    "pycharm": {
     "name": "#%%\n"
    }
   },
   "outputs": [],
   "source": [
    "from openff.evaluator.properties import Density, EnthalpyOfVaporization\n",
    "\n",
    "density_schema = Density.default_simulation_schema(n_molecules=256)\n",
    "h_vap_schema = EnthalpyOfVaporization.default_simulation_schema(n_molecules=256)"
   ]
  },
  {
   "cell_type": "markdown",
   "metadata": {
    "colab_type": "text",
    "collapsed": false,
    "id": "_O3S6NMcoSVp"
   },
   "source": [
    "We could further use this method to set either the absolute or the relative uncertainty that the property should be \n",
    "estimated to within. If either of these are set, the simulations will automatically be extended until the target \n",
    "uncertainty in the property has been met. \n",
    "\n",
    "For our purposes however we won't set any targets, leaving the simulations to run for the default 1 ns.\n",
    "\n",
    "To use these custom schemas, we need to add them to the a request options object which defines all of the options\n",
    "for estimating our data set:"
   ]
  },
  {
   "cell_type": "code",
   "execution_count": 8,
   "metadata": {
    "colab": {},
    "colab_type": "code",
    "id": "f-1zbAbboSVr",
    "pycharm": {
     "name": "#%%\n"
    }
   },
   "outputs": [],
   "source": [
    "from openff.evaluator.client import RequestOptions\n",
    "\n",
    "# Create an options object which defines how the data set should be estimated.\n",
    "estimation_options = RequestOptions()\n",
    "# Specify that we only wish to use molecular simulation to estimate the data set.\n",
    "estimation_options.calculation_layers = [\"SimulationLayer\"]\n",
    "\n",
    "# Add our custom schemas, specifying that the should be used by the 'SimulationLayer'\n",
    "estimation_options.add_schema(\"SimulationLayer\", \"Density\", density_schema)\n",
    "estimation_options.add_schema(\"SimulationLayer\", \"EnthalpyOfVaporization\", h_vap_schema)    "
   ]
  },
  {
   "cell_type": "markdown",
   "metadata": {
    "colab_type": "text",
    "collapsed": false,
    "id": "6oLOzaE5oSVv"
   },
   "source": [
    "## Launching the Server\n",
    "\n",
    "The framework is split into two main applications - an `EvaluatorServer` and an `EvaluatorClient`.\n",
    "\n",
    "The `EvaluatorServer` is the main object which will perform any and all calculations needed to estimate sets of \n",
    "properties. It is design to run on whichever compute resources you may have available (whether that be a single machine \n",
    "or a high performance cluster), wait until a user requests a set of properties be estimated, and then handle that \n",
    "request.\n",
    "\n",
    "The `EvaluatorClient` is the object used by the user to send requests to estimate data sets to running server instances\n",
    "over a TCP connection. It is also used to query the server to see when that request has been fulfilled, and to pull back \n",
    "any results. \n",
    "\n",
    "Let us begin by spawning a new server instance. \n",
    "\n",
    "To launch a server, we need to define how this object is going to interact with the compute resource it is running on. \n",
    "\n",
    "This is accomplished using a [calculation backend](../backends/calculationbackend.rst). While there are several to \n",
    "choose from depending on your needs, well will go with a simple `dask` based one designed to run on a single machine:"
   ]
  },
  {
   "cell_type": "code",
   "execution_count": 9,
   "metadata": {
    "colab": {},
    "colab_type": "code",
    "id": "HwYhG5O1oSVw",
    "pycharm": {
     "name": "#%%\n"
    }
   },
   "outputs": [
    {
     "name": "stdout",
     "output_type": "stream",
     "text": [
      "2023-02-12 12:06:40.621 INFO     To route to workers diagnostics web server please install jupyter-server-proxy: python -m pip install jupyter-server-proxy\n",
      "2023-02-12 12:06:40.656 INFO     State start\n",
      "2023-02-12 12:06:40.660 INFO       Scheduler at: inproc://172.18.240.125/327/1\n",
      "2023-02-12 12:06:40.661 INFO       dashboard at:            localhost:8787\n",
      "2023-02-12 12:06:40.666 INFO     Found stale lock file and directory '/tmp/dask-worker-space/worker-zfh4iu7r', purging\n",
      "2023-02-12 12:06:40.675 INFO           Start worker at: inproc://172.18.240.125/327/4\n",
      "2023-02-12 12:06:40.676 INFO              Listening to:       inproc172.18.240.125\n",
      "2023-02-12 12:06:40.676 INFO               Worker name:                          0\n",
      "2023-02-12 12:06:40.677 INFO              dashboard at:       172.18.240.125:44479\n",
      "2023-02-12 12:06:40.677 INFO     Waiting to connect to: inproc://172.18.240.125/327/1\n",
      "2023-02-12 12:06:40.678 INFO     -------------------------------------------------\n",
      "2023-02-12 12:06:40.678 INFO                   Threads:                          1\n",
      "2023-02-12 12:06:40.679 INFO                    Memory:                  31.21 GiB\n",
      "2023-02-12 12:06:40.679 INFO           Local Directory: /tmp/dask-worker-space/worker-69aiok5o\n",
      "2023-02-12 12:06:40.681 INFO     -------------------------------------------------\n",
      "2023-02-12 12:06:40.684 INFO     Register worker <WorkerState 'inproc://172.18.240.125/327/4', name: 0, status: init, memory: 0, processing: 0>\n",
      "2023-02-12 12:06:40.685 INFO     Starting worker compute stream, inproc://172.18.240.125/327/4\n",
      "2023-02-12 12:06:40.686 INFO     Starting established connection to inproc://172.18.240.125/327/5\n",
      "2023-02-12 12:06:40.687 INFO             Registered to: inproc://172.18.240.125/327/1\n",
      "2023-02-12 12:06:40.687 INFO     -------------------------------------------------\n",
      "2023-02-12 12:06:40.688 INFO     Starting established connection to inproc://172.18.240.125/327/1\n",
      "2023-02-12 12:06:40.693 INFO     Receive client connection: Client-c38bdc64-ab10-11ed-8147-00155d6cdbaa\n",
      "2023-02-12 12:06:40.694 INFO     Starting established connection to inproc://172.18.240.125/327/6\n"
     ]
    }
   ],
   "source": [
    "from openff.evaluator.backends import ComputeResources\n",
    "from openff.evaluator.backends.dask import DaskLocalCluster\n",
    "import os\n",
    "\n",
    "os.environ['CUDA_VISIBLE_DEVICES']='0'\n",
    "\n",
    "calculation_backend = DaskLocalCluster(\n",
    "    number_of_workers=1,\n",
    "    resources_per_worker=ComputeResources(\n",
    "        number_of_threads=1, \n",
    "        number_of_gpus=1, \n",
    "        preferred_gpu_toolkit=ComputeResources.GPUToolkit.CUDA\n",
    "    ),\n",
    ")\n",
    "calculation_backend.start()"
   ]
  },
  {
   "cell_type": "markdown",
   "metadata": {
    "colab_type": "text",
    "collapsed": false,
    "id": "n0KuNxcgoSV1"
   },
   "source": [
    "Here we have specified that we want to run our calculations on a single worker which has access to a single GPU. \n",
    "\n",
    "With that defined, we can go ahead and spin up the server:"
   ]
  },
  {
   "cell_type": "code",
   "execution_count": 10,
   "metadata": {
    "colab": {
     "base_uri": "https://localhost:8080/",
     "height": 35
    },
    "colab_type": "code",
    "executionInfo": {
     "elapsed": 314266,
     "status": "ok",
     "timestamp": 1583290075434,
     "user": {
      "displayName": "Simon Boothroyd",
      "photoUrl": "",
      "userId": "14278355403410282083"
     },
     "user_tz": 420
    },
    "id": "wo8JdqKooSV2",
    "outputId": "9b156566-995b-4721-db76-a9938acae4df",
    "pycharm": {
     "name": "#%%\n"
    }
   },
   "outputs": [
    {
     "name": "stdout",
     "output_type": "stream",
     "text": [
      "2023-02-12 12:06:40.767 INFO     Server listening at port 8000\n"
     ]
    }
   ],
   "source": [
    "from openff.evaluator.server import EvaluatorServer\n",
    "\n",
    "evaluator_server = EvaluatorServer(calculation_backend=calculation_backend)\n",
    "evaluator_server.start(asynchronous=True)"
   ]
  },
  {
   "cell_type": "markdown",
   "metadata": {
    "colab_type": "text",
    "collapsed": false,
    "id": "I2_Q7QmPoSV7"
   },
   "source": [
    "The server will run asynchronously in the background waiting until a client connects and requests that a data set be \n",
    "estimated.\n",
    "\n",
    "## Estimating the Data Set\n",
    "\n",
    "With the server spun up we can go ahead and connect to it using an `EvaluatorClient` and request that it estimate our \n",
    "data set using the custom options we defined earlier:"
   ]
  },
  {
   "cell_type": "code",
   "execution_count": 11,
   "metadata": {
    "colab": {
     "base_uri": "https://localhost:8080/",
     "height": 35
    },
    "colab_type": "code",
    "executionInfo": {
     "elapsed": 314551,
     "status": "ok",
     "timestamp": 1583290075723,
     "user": {
      "displayName": "Simon Boothroyd",
      "photoUrl": "",
      "userId": "14278355403410282083"
     },
     "user_tz": 420
    },
    "id": "N2BgAbafoSV8",
    "outputId": "2b7897f5-d251-4fc7-e6ba-2623ef1cfc7e",
    "pycharm": {
     "name": "#%%\n"
    }
   },
   "outputs": [
    {
     "name": "stdout",
     "output_type": "stream",
     "text": [
      "2023-02-12 12:06:40.816 INFO     Received estimation request from ('127.0.0.1', 34696)\n",
      "2023-02-12 12:06:40.954 INFO     Launching batch 42e7ef198b604acda0cda0af9e5b5d30 using the SimulationLayer layer\n",
      "2023-02-12 12:06:40.961 INFO     Building workflow 0 of 2\n"
     ]
    }
   ],
   "source": [
    "from openff.evaluator.client import EvaluatorClient\n",
    "evaluator_client = EvaluatorClient()\n",
    "\n",
    "request, exception = evaluator_client.request_estimate(\n",
    "    property_set=data_set,\n",
    "    force_field_source=force_field_source,\n",
    "    options=estimation_options,\n",
    ")\n",
    "\n",
    "assert exception is None"
   ]
  },
  {
   "cell_type": "markdown",
   "metadata": {
    "colab_type": "text",
    "collapsed": false,
    "id": "ydTfQgsWoSWB"
   },
   "source": [
    "The server will now receive the requests and begin whirring away fulfilling it. It should be noted that the \n",
    "`request_estimate()` function returns two values - a `request` object, and an `exception` object. If all went well (as \n",
    " it should do here) the `exception` object will be `None`.\n",
    " \n",
    " The `request` object represents the request which we just sent to the server. It stores the unique id which the server\n",
    " assigned to the request, as well as the address of the server that the request was sent to.\n",
    " \n",
    " The `request` object is primarily used to query the current state of our request, and to pull down the results when\n",
    " it the request finishes. Here we will use it it synchronously query the server every 30 seconds until our request has\n",
    " completed."
   ]
  },
  {
   "cell_type": "code",
   "execution_count": 12,
   "metadata": {
    "colab": {},
    "colab_type": "code",
    "id": "JL6Dh0vMoSWD",
    "pycharm": {
     "name": "#%%\n"
    }
   },
   "outputs": [
    {
     "name": "stdout",
     "output_type": "stream",
     "text": [
      "2023-02-12 12:06:40.989 INFO     Building workflow 1 of 2\n"
     ]
    },
    {
     "name": "stdout",
     "output_type": "stream",
     "text": [
      "2023-02-12 12:06:41.276 INFO     Launching batch 0ebe0c6fe8dc4719b6b21126b1c30952 using the SimulationLayer layer\n",
      "2023-02-12 12:06:41.280 INFO     Launching a job with access to GPUs 0\n",
      "2023-02-12 12:06:41.283 INFO     Building workflow 0 of 2\n",
      "2023-02-12 12:06:41.314 INFO     Building workflow 1 of 2\n",
      "2023-02-12 12:06:41.519 INFO     Executing 5c2fa558dbe144bfb381e1db87ef96e3|build_coordinates_liquid\n",
      "2023-02-12 12:06:41.745 WARNING  Warning: importing 'simtk.openmm' is deprecated.  Import 'openmm' instead.\n",
      "2023-02-12 12:06:42.259 INFO     5c2fa558dbe144bfb381e1db87ef96e3|build_coordinates_liquid finished executing after 736.9117920000008 ms\n",
      "2023-02-12 12:06:42.279 INFO     Launching a job with access to GPUs 0\n",
      "2023-02-12 12:06:42.315 INFO     Executing 5c2fa558dbe144bfb381e1db87ef96e3|build_coordinates_gas\n",
      "2023-02-12 12:06:42.483 WARNING  Warning: importing 'simtk.openmm' is deprecated.  Import 'openmm' instead.\n",
      "2023-02-12 12:06:42.545 INFO     5c2fa558dbe144bfb381e1db87ef96e3|build_coordinates_gas finished executing after 228.04659799999172 ms\n",
      "2023-02-12 12:06:42.570 INFO     Launching a job with access to GPUs 0\n",
      "2023-02-12 12:06:42.604 INFO     Executing 5c2fa558dbe144bfb381e1db87ef96e3|assign_parameters_liquid\n",
      "2023-02-12 12:06:48.630 INFO     5c2fa558dbe144bfb381e1db87ef96e3|assign_parameters_liquid finished executing after 6022.627459000006 ms\n",
      "2023-02-12 12:06:48.651 INFO     Launching a job with access to GPUs 0\n",
      "2023-02-12 12:06:48.685 INFO     Executing 5c2fa558dbe144bfb381e1db87ef96e3|assign_parameters_gas\n",
      "2023-02-12 12:06:49.549 INFO     5c2fa558dbe144bfb381e1db87ef96e3|assign_parameters_gas finished executing after 862.0984780000072 ms\n",
      "2023-02-12 12:06:49.571 INFO     Launching a job with access to GPUs 0\n",
      "2023-02-12 12:06:49.608 INFO     Executing 5c2fa558dbe144bfb381e1db87ef96e3|energy_minimisation_liquid\n",
      "2023-02-12 12:06:49.615 INFO     Setting up an openmm platform on GPU 0 with CUDA kernel and mixed precision\n",
      "2023-02-12 12:06:54.587 INFO     5c2fa558dbe144bfb381e1db87ef96e3|energy_minimisation_liquid finished executing after 4976.615561999978 ms\n",
      "2023-02-12 12:06:54.637 INFO     Launching a job with access to GPUs 0\n",
      "2023-02-12 12:06:54.670 INFO     Executing 5c2fa558dbe144bfb381e1db87ef96e3|energy_minimisation_gas\n",
      "2023-02-12 12:06:54.675 INFO     Setting up an openmm platform on GPU 0 with CUDA kernel and mixed precision\n",
      "2023-02-12 12:06:54.881 INFO     5c2fa558dbe144bfb381e1db87ef96e3|energy_minimisation_gas finished executing after 208.55410100000427 ms\n",
      "2023-02-12 12:06:54.900 INFO     Launching a job with access to GPUs 0\n",
      "2023-02-12 12:06:54.937 INFO     Executing 5c2fa558dbe144bfb381e1db87ef96e3|equilibration_simulation_liquid\n",
      "2023-02-12 12:06:55.094 WARNING  Warning: importing 'simtk.openmm' is deprecated.  Import 'openmm' instead.\n",
      "2023-02-12 12:06:55.182 INFO     Setting up an openmm platform on GPU 0 with CUDA kernel and mixed precision\n",
      "2023-02-12 12:06:55.947 INFO     No checkpoint files were found.\n",
      "2023-02-12 12:08:04.668 INFO     5c2fa558dbe144bfb381e1db87ef96e3|equilibration_simulation_liquid finished executing after 69728.91150999999 ms\n",
      "2023-02-12 12:08:05.113 INFO     Launching a job with access to GPUs 0\n",
      "2023-02-12 12:08:05.234 INFO     Executing 5c2fa558dbe144bfb381e1db87ef96e3|equilibration_simulation_gas\n",
      "2023-02-12 12:08:05.922 WARNING  Warning: importing 'simtk.openmm' is deprecated.  Import 'openmm' instead.\n",
      "2023-02-12 12:08:05.994 INFO     Setting up a simulation with 1 threads\n",
      "2023-02-12 12:08:06.029 INFO     No checkpoint files were found.\n",
      "2023-02-12 12:08:08.975 INFO     5c2fa558dbe144bfb381e1db87ef96e3|equilibration_simulation_gas finished executing after 3737.5668020000035 ms\n",
      "2023-02-12 12:08:09.006 INFO     Launching a job with access to GPUs 0\n",
      "2023-02-12 12:08:09.063 INFO     Executing 063abccd6a9145498dbb74f04dbd2e94|build_coordinates_gas\n",
      "2023-02-12 12:08:09.320 WARNING  Warning: importing 'simtk.openmm' is deprecated.  Import 'openmm' instead.\n",
      "2023-02-12 12:08:09.412 INFO     063abccd6a9145498dbb74f04dbd2e94|build_coordinates_gas finished executing after 345.0533909999933 ms\n",
      "2023-02-12 12:08:09.441 INFO     Launching a job with access to GPUs 0\n",
      "2023-02-12 12:08:09.523 INFO     Executing 5c2fa558dbe144bfb381e1db87ef96e3|conditional_group\n",
      "2023-02-12 12:08:09.546 INFO     Executing 5c2fa558dbe144bfb381e1db87ef96e3|ideal_volume\n",
      "2023-02-12 12:08:09.548 INFO     5c2fa558dbe144bfb381e1db87ef96e3|ideal_volume finished executing after 0.6735999999989417 ms\n",
      "2023-02-12 12:08:09.550 INFO     Executing 5c2fa558dbe144bfb381e1db87ef96e3|production_simulation_gas\n",
      "2023-02-12 12:08:09.775 WARNING  Warning: importing 'simtk.openmm' is deprecated.  Import 'openmm' instead.\n",
      "2023-02-12 12:08:09.810 INFO     Setting up a simulation with 1 threads\n",
      "2023-02-12 12:08:09.829 INFO     No checkpoint files were found.\n",
      "2023-02-12 12:11:56.675 INFO     5c2fa558dbe144bfb381e1db87ef96e3|production_simulation_gas finished executing after 227123.70329200002 ms\n",
      "2023-02-12 12:11:56.699 INFO     Executing 5c2fa558dbe144bfb381e1db87ef96e3|average_gas_potential\n",
      "2023-02-12 12:11:57.404 INFO     5c2fa558dbe144bfb381e1db87ef96e3|average_gas_potential finished executing after 703.836100999979 ms\n",
      "2023-02-12 12:11:57.406 INFO     Executing 5c2fa558dbe144bfb381e1db87ef96e3|production_simulation_liquid\n",
      "2023-02-12 12:11:57.410 INFO     Setting up an openmm platform on GPU 0 with CUDA kernel and mixed precision\n",
      "2023-02-12 12:11:58.166 INFO     No checkpoint files were found.\n",
      "2023-02-12 12:24:31.618 INFO     5c2fa558dbe144bfb381e1db87ef96e3|production_simulation_liquid finished executing after 754211.048411 ms\n",
      "2023-02-12 12:24:31.629 INFO     Executing 61dbd68fbe9c48eaa2539b9284133968|average_density\n",
      "2023-02-12 12:24:32.269 INFO     61dbd68fbe9c48eaa2539b9284133968|average_density finished executing after 638.532092000105 ms\n",
      "2023-02-12 12:24:32.278 INFO     Executing 5c2fa558dbe144bfb381e1db87ef96e3|average_liquid_potential\n",
      "2023-02-12 12:24:32.865 INFO     5c2fa558dbe144bfb381e1db87ef96e3|average_liquid_potential finished executing after 585.5252930000461 ms\n",
      "2023-02-12 12:24:32.869 INFO     Executing 5c2fa558dbe144bfb381e1db87ef96e3|energy_of_vaporization\n",
      "2023-02-12 12:24:32.871 INFO     5c2fa558dbe144bfb381e1db87ef96e3|energy_of_vaporization finished executing after 0.8100999998532643 ms\n",
      "2023-02-12 12:24:32.873 INFO     Executing 5c2fa558dbe144bfb381e1db87ef96e3|enthalpy_of_vaporization\n",
      "2023-02-12 12:24:32.875 INFO     5c2fa558dbe144bfb381e1db87ef96e3|enthalpy_of_vaporization finished executing after 0.6307000001015695 ms\n",
      "2023-02-12 12:24:32.876 INFO     5c2fa558dbe144bfb381e1db87ef96e3|conditional_group loop finished after 1 iterations\n",
      "2023-02-12 12:24:32.899 INFO     5c2fa558dbe144bfb381e1db87ef96e3|conditional_group finished executing after 983372.622289 ms\n",
      "2023-02-12 12:24:33.168 INFO     Launching a job with access to GPUs 0\n",
      "2023-02-12 12:24:33.206 INFO     Executing 063abccd6a9145498dbb74f04dbd2e94|assign_parameters_gas\n",
      "2023-02-12 12:24:34.442 INFO     063abccd6a9145498dbb74f04dbd2e94|assign_parameters_gas finished executing after 1232.9588860000058 ms\n",
      "2023-02-12 12:24:34.464 INFO     Launching a job with access to GPUs 0\n",
      "2023-02-12 12:24:34.539 INFO     Executing 5c2fa558dbe144bfb381e1db87ef96e3|decorrelate_trajectory_gas\n",
      "2023-02-12 12:24:34.609 WARNING  Warning: importing 'simtk.openmm' is deprecated.  Import 'openmm' instead.\n",
      "2023-02-12 12:24:35.874 INFO     5c2fa558dbe144bfb381e1db87ef96e3|decorrelate_trajectory_gas finished executing after 1332.214385000043 ms\n",
      "2023-02-12 12:24:35.894 INFO     Launching a job with access to GPUs 0\n",
      "2023-02-12 12:24:35.965 INFO     Executing 5c2fa558dbe144bfb381e1db87ef96e3|decorrelate_observables_gas\n",
      "2023-02-12 12:24:35.990 INFO     5c2fa558dbe144bfb381e1db87ef96e3|decorrelate_observables_gas finished executing after 22.22119900011421 ms\n",
      "2023-02-12 12:24:36.010 INFO     Launching a job with access to GPUs 0\n",
      "2023-02-12 12:24:36.105 INFO     Executing 5c2fa558dbe144bfb381e1db87ef96e3|decorrelate_trajectory_liquid\n",
      "2023-02-12 12:24:36.184 WARNING  Warning: importing 'simtk.openmm' is deprecated.  Import 'openmm' instead.\n",
      "2023-02-12 12:24:36.560 INFO     5c2fa558dbe144bfb381e1db87ef96e3|decorrelate_trajectory_liquid finished executing after 451.54869500015593 ms\n",
      "2023-02-12 12:24:36.583 INFO     Launching a job with access to GPUs 0\n",
      "2023-02-12 12:24:36.656 INFO     Executing 61dbd68fbe9c48eaa2539b9284133968|decorrelate_observables\n",
      "2023-02-12 12:24:36.662 INFO     61dbd68fbe9c48eaa2539b9284133968|decorrelate_observables finished executing after 3.862600000047678 ms\n",
      "2023-02-12 12:24:36.684 INFO     Launching a job with access to GPUs 0\n",
      "2023-02-12 12:24:36.760 INFO     Executing 61dbd68fbe9c48eaa2539b9284133968|decorrelate_trajectory\n",
      "2023-02-12 12:24:36.832 WARNING  Warning: importing 'simtk.openmm' is deprecated.  Import 'openmm' instead.\n",
      "2023-02-12 12:24:37.190 INFO     61dbd68fbe9c48eaa2539b9284133968|decorrelate_trajectory finished executing after 427.27240399995026 ms\n",
      "2023-02-12 12:24:37.213 INFO     Launching a job with access to GPUs 0\n",
      "2023-02-12 12:24:37.284 INFO     Executing 5c2fa558dbe144bfb381e1db87ef96e3|decorrelate_observables_liquid\n",
      "2023-02-12 12:24:37.291 INFO     5c2fa558dbe144bfb381e1db87ef96e3|decorrelate_observables_liquid finished executing after 4.554099999950267 ms\n",
      "2023-02-12 12:24:37.313 INFO     Launching a job with access to GPUs 0\n",
      "2023-02-12 12:24:37.512 INFO     Launching a job with access to GPUs 0\n",
      "2023-02-12 12:24:37.886 INFO     Launching a job with access to GPUs 0\n",
      "2023-02-12 12:24:37.930 INFO     Executing 063abccd6a9145498dbb74f04dbd2e94|energy_minimisation_gas\n",
      "2023-02-12 12:24:37.937 INFO     Setting up an openmm platform on GPU 0 with CUDA kernel and mixed precision\n",
      "2023-02-12 12:24:38.257 INFO     063abccd6a9145498dbb74f04dbd2e94|energy_minimisation_gas finished executing after 324.3620050000118 ms\n",
      "2023-02-12 12:24:38.288 INFO     Launching a job with access to GPUs 0\n",
      "2023-02-12 12:24:38.349 INFO     Launching a job with access to GPUs 0\n",
      "2023-02-12 12:24:38.389 INFO     Executing 063abccd6a9145498dbb74f04dbd2e94|equilibration_simulation_gas\n",
      "2023-02-12 12:24:38.480 WARNING  Warning: importing 'simtk.openmm' is deprecated.  Import 'openmm' instead.\n",
      "2023-02-12 12:24:38.526 INFO     Setting up a simulation with 1 threads\n",
      "2023-02-12 12:24:38.555 INFO     No checkpoint files were found.\n",
      "2023-02-12 12:24:41.742 INFO     063abccd6a9145498dbb74f04dbd2e94|equilibration_simulation_gas finished executing after 3349.882550999837 ms\n",
      "2023-02-12 12:24:41.762 INFO     Launching a job with access to GPUs 0\n",
      "2023-02-12 12:24:41.810 INFO     Launching a job with access to GPUs 0\n",
      "2023-02-12 12:24:42.119 INFO     Finished server request 42e7ef198b604acda0cda0af9e5b5d30\n",
      "2023-02-12 12:24:42.123 INFO     Executing 063abccd6a9145498dbb74f04dbd2e94|build_coordinates_liquid\n",
      "2023-02-12 12:24:42.190 WARNING  Warning: importing 'simtk.openmm' is deprecated.  Import 'openmm' instead.\n",
      "2023-02-12 12:24:43.679 INFO     063abccd6a9145498dbb74f04dbd2e94|build_coordinates_liquid finished executing after 1553.5446240000965 ms\n",
      "2023-02-12 12:24:43.709 INFO     Launching a job with access to GPUs 0\n",
      "2023-02-12 12:24:43.751 INFO     Executing 063abccd6a9145498dbb74f04dbd2e94|assign_parameters_liquid\n",
      "2023-02-12 12:24:53.483 INFO     063abccd6a9145498dbb74f04dbd2e94|assign_parameters_liquid finished executing after 9730.189956000004 ms\n",
      "2023-02-12 12:24:53.509 INFO     Launching a job with access to GPUs 0\n",
      "2023-02-12 12:24:53.548 INFO     Executing 063abccd6a9145498dbb74f04dbd2e94|energy_minimisation_liquid\n",
      "2023-02-12 12:24:53.554 INFO     Setting up an openmm platform on GPU 0 with CUDA kernel and mixed precision\n",
      "2023-02-12 12:24:56.704 INFO     063abccd6a9145498dbb74f04dbd2e94|energy_minimisation_liquid finished executing after 3153.4542599999895 ms\n",
      "2023-02-12 12:24:56.761 INFO     Launching a job with access to GPUs 0\n",
      "2023-02-12 12:24:56.800 INFO     Executing 063abccd6a9145498dbb74f04dbd2e94|equilibration_simulation_liquid\n",
      "2023-02-12 12:24:56.865 WARNING  Warning: importing 'simtk.openmm' is deprecated.  Import 'openmm' instead.\n",
      "2023-02-12 12:24:57.008 INFO     Setting up an openmm platform on GPU 0 with CUDA kernel and mixed precision\n",
      "2023-02-12 12:24:58.267 INFO     No checkpoint files were found.\n",
      "2023-02-12 12:26:09.203 INFO     063abccd6a9145498dbb74f04dbd2e94|equilibration_simulation_liquid finished executing after 72400.81841799997 ms\n",
      "2023-02-12 12:26:09.475 INFO     Launching a job with access to GPUs 0\n",
      "2023-02-12 12:26:09.539 INFO     Executing 063abccd6a9145498dbb74f04dbd2e94|conditional_group\n",
      "2023-02-12 12:26:09.558 INFO     Executing 063abccd6a9145498dbb74f04dbd2e94|ideal_volume\n",
      "2023-02-12 12:26:09.560 INFO     063abccd6a9145498dbb74f04dbd2e94|ideal_volume finished executing after 0.5183999999189837 ms\n",
      "2023-02-12 12:26:09.561 INFO     Executing 063abccd6a9145498dbb74f04dbd2e94|production_simulation_gas\n",
      "2023-02-12 12:26:09.631 WARNING  Warning: importing 'simtk.openmm' is deprecated.  Import 'openmm' instead.\n",
      "2023-02-12 12:26:09.792 INFO     Setting up a simulation with 1 threads\n",
      "2023-02-12 12:26:09.806 INFO     No checkpoint files were found.\n",
      "2023-02-12 12:31:03.257 INFO     063abccd6a9145498dbb74f04dbd2e94|production_simulation_gas finished executing after 293694.828083 ms\n",
      "2023-02-12 12:31:03.277 INFO     Executing 063abccd6a9145498dbb74f04dbd2e94|average_gas_potential\n",
      "2023-02-12 12:31:03.938 INFO     063abccd6a9145498dbb74f04dbd2e94|average_gas_potential finished executing after 659.506009000097 ms\n",
      "2023-02-12 12:31:03.940 INFO     Executing 063abccd6a9145498dbb74f04dbd2e94|production_simulation_liquid\n",
      "2023-02-12 12:31:03.945 INFO     Setting up an openmm platform on GPU 0 with CUDA kernel and mixed precision\n",
      "2023-02-12 12:31:05.893 INFO     No checkpoint files were found.\n",
      "2023-02-12 12:45:12.279 INFO     063abccd6a9145498dbb74f04dbd2e94|production_simulation_liquid finished executing after 848338.0710839999 ms\n",
      "2023-02-12 12:45:12.291 INFO     Executing 88e5055c8779413aaee525b6e20b76da|average_density\n",
      "2023-02-12 12:45:12.790 INFO     88e5055c8779413aaee525b6e20b76da|average_density finished executing after 496.9070010001815 ms\n",
      "2023-02-12 12:45:12.800 INFO     Executing 063abccd6a9145498dbb74f04dbd2e94|average_liquid_potential\n",
      "2023-02-12 12:45:13.319 INFO     063abccd6a9145498dbb74f04dbd2e94|average_liquid_potential finished executing after 517.8560010003821 ms\n",
      "2023-02-12 12:45:13.323 INFO     Executing 063abccd6a9145498dbb74f04dbd2e94|energy_of_vaporization\n",
      "2023-02-12 12:45:13.326 INFO     063abccd6a9145498dbb74f04dbd2e94|energy_of_vaporization finished executing after 0.9128000001510372 ms\n",
      "2023-02-12 12:45:13.328 INFO     Executing 063abccd6a9145498dbb74f04dbd2e94|enthalpy_of_vaporization\n",
      "2023-02-12 12:45:13.330 INFO     063abccd6a9145498dbb74f04dbd2e94|enthalpy_of_vaporization finished executing after 0.6195999999363266 ms\n",
      "2023-02-12 12:45:13.332 INFO     063abccd6a9145498dbb74f04dbd2e94|conditional_group loop finished after 1 iterations\n",
      "2023-02-12 12:45:13.359 INFO     063abccd6a9145498dbb74f04dbd2e94|conditional_group finished executing after 1143817.369478 ms\n",
      "2023-02-12 12:45:13.654 INFO     Launching a job with access to GPUs 0\n",
      "2023-02-12 12:45:13.724 INFO     Executing 88e5055c8779413aaee525b6e20b76da|decorrelate_observables\n",
      "2023-02-12 12:45:13.730 INFO     88e5055c8779413aaee525b6e20b76da|decorrelate_observables finished executing after 2.6852999999391614 ms\n",
      "2023-02-12 12:45:13.751 INFO     Launching a job with access to GPUs 0\n",
      "2023-02-12 12:45:13.823 INFO     Executing 063abccd6a9145498dbb74f04dbd2e94|decorrelate_observables_liquid\n",
      "2023-02-12 12:45:13.829 INFO     063abccd6a9145498dbb74f04dbd2e94|decorrelate_observables_liquid finished executing after 3.3060000000659784 ms\n",
      "2023-02-12 12:45:13.851 INFO     Launching a job with access to GPUs 0\n",
      "2023-02-12 12:45:13.922 INFO     Executing 063abccd6a9145498dbb74f04dbd2e94|decorrelate_observables_gas\n",
      "2023-02-12 12:45:13.948 INFO     063abccd6a9145498dbb74f04dbd2e94|decorrelate_observables_gas finished executing after 23.302499999772408 ms\n",
      "2023-02-12 12:45:13.969 INFO     Launching a job with access to GPUs 0\n",
      "2023-02-12 12:45:14.043 INFO     Executing 063abccd6a9145498dbb74f04dbd2e94|decorrelate_trajectory_liquid\n",
      "2023-02-12 12:45:14.120 WARNING  Warning: importing 'simtk.openmm' is deprecated.  Import 'openmm' instead.\n",
      "2023-02-12 12:45:14.484 INFO     063abccd6a9145498dbb74f04dbd2e94|decorrelate_trajectory_liquid finished executing after 438.43710000010105 ms\n",
      "2023-02-12 12:45:14.508 INFO     Launching a job with access to GPUs 0\n",
      "2023-02-12 12:45:14.576 INFO     Executing 063abccd6a9145498dbb74f04dbd2e94|decorrelate_trajectory_gas\n",
      "2023-02-12 12:45:14.649 WARNING  Warning: importing 'simtk.openmm' is deprecated.  Import 'openmm' instead.\n",
      "2023-02-12 12:45:16.033 INFO     063abccd6a9145498dbb74f04dbd2e94|decorrelate_trajectory_gas finished executing after 1453.4134020000238 ms\n",
      "2023-02-12 12:45:16.060 INFO     Launching a job with access to GPUs 0\n",
      "2023-02-12 12:45:16.155 INFO     Executing 88e5055c8779413aaee525b6e20b76da|decorrelate_trajectory\n",
      "2023-02-12 12:45:16.245 WARNING  Warning: importing 'simtk.openmm' is deprecated.  Import 'openmm' instead.\n",
      "2023-02-12 12:45:16.691 INFO     88e5055c8779413aaee525b6e20b76da|decorrelate_trajectory finished executing after 533.7704009998561 ms\n",
      "2023-02-12 12:45:16.723 INFO     Launching a job with access to GPUs 0\n",
      "2023-02-12 12:45:17.147 INFO     Launching a job with access to GPUs 0\n",
      "2023-02-12 12:45:17.413 INFO     Launching a job with access to GPUs 0\n",
      "2023-02-12 12:45:17.501 INFO     Launching a job with access to GPUs 0\n",
      "2023-02-12 12:45:18.174 INFO     Finished server request 0ebe0c6fe8dc4719b6b21126b1c30952\n",
      "2023-02-12 12:45:45.562 INFO     The server has completed request de949044e628410e9e3b7de6a0584eaf.\n"
     ]
    }
   ],
   "source": [
    "# Wait for the results.\n",
    "results, exception = request.results(synchronous=True, polling_interval=30)\n",
    "assert exception is None"
   ]
  },
  {
   "cell_type": "markdown",
   "metadata": {
    "colab_type": "text",
    "collapsed": false,
    "id": "PkQxhup2oSWI"
   },
   "source": [
    "*Note: we could also asynchronously query for the results of the request. The resultant results object would then \n",
    "contain the partial results of any completed estimates, as well as any exceptions raised during the estimation.*\n",
    "\n",
    "## Inspecting the Results\n",
    "\n",
    "Now that the server has finished estimating our data set and returned the results to us, we can begin to inspect the\n",
    "results of the calculations:"
   ]
  },
  {
   "cell_type": "code",
   "execution_count": 13,
   "metadata": {
    "colab": {
     "base_uri": "https://localhost:8080/",
     "height": 89
    },
    "colab_type": "code",
    "executionInfo": {
     "elapsed": 44,
     "status": "ok",
     "timestamp": 1583292123168,
     "user": {
      "displayName": "Simon Boothroyd",
      "photoUrl": "",
      "userId": "14278355403410282083"
     },
     "user_tz": 420
    },
    "id": "ZHdILm6xoSWJ",
    "outputId": "95ca17d0-d4b6-4ec6-d173-fb02b70f44e6",
    "pycharm": {
     "name": "#%%\n"
    }
   },
   "outputs": [
    {
     "name": "stdout",
     "output_type": "stream",
     "text": [
      "0\n",
      "4\n",
      "0\n",
      "0\n"
     ]
    }
   ],
   "source": [
    "print(len(results.queued_properties))\n",
    "\n",
    "print(len(results.estimated_properties))\n",
    "\n",
    "print(len(results.unsuccessful_properties))\n",
    "print(len(results.exceptions))"
   ]
  },
  {
   "cell_type": "markdown",
   "metadata": {
    "colab_type": "text",
    "collapsed": false,
    "id": "UwJcIvzFoSWO"
   },
   "source": [
    "We can (hopefully) see here that there were no exceptions raised during the calculation, and that all of our properties\n",
    "were successfully estimated.\n",
    "\n",
    "We will extract the estimated data set and save this to disk:"
   ]
  },
  {
   "cell_type": "code",
   "execution_count": 14,
   "metadata": {
    "colab": {},
    "colab_type": "code",
    "id": "2X5wCljioSWP",
    "pycharm": {
     "name": "#%%\n"
    }
   },
   "outputs": [],
   "source": [
    "results.estimated_properties.json(\"estimated_data_set.json\", format=True);"
   ]
  },
  {
   "cell_type": "markdown",
   "metadata": {
    "colab_type": "text",
    "collapsed": false,
    "id": "H7mpER-ToSWT"
   },
   "source": [
    "## Conclusion\n",
    "\n",
    "And that concludes the second tutorial. In the next tutorial we will be performing some basic analysis on our estimated\n",
    "results.\n",
    "\n",
    "If you have any questions and / or feedback, please open an issue on the\n",
    "[GitHub issue tracker](https://github.com/openforcefield/openff-evaluator/issues).\n"
   ]
  }
 ],
 "metadata": {
  "accelerator": "GPU",
  "colab": {
   "collapsed_sections": [],
   "name": "tutorial02.ipynb",
   "provenance": [
    {
     "file_id": "https://github.com/openforcefield/openff-evaluator/blob/main/docs/tutorials/tutorial02.ipynb",
     "timestamp": 1583275445271
    }
   ]
  },
  "kernelspec": {
   "display_name": "fb195",
   "language": "python",
   "name": "python3"
  },
  "language_info": {
   "codemirror_mode": {
    "name": "ipython",
    "version": 3
   },
   "file_extension": ".py",
   "mimetype": "text/x-python",
   "name": "python",
   "nbconvert_exporter": "python",
   "pygments_lexer": "ipython3",
   "version": "3.9.16"
  },
  "vscode": {
   "interpreter": {
    "hash": "1690fd1766f44aae37ffdbbdf69df6f174a8d4e75cf17a001829423fca41ffdc"
   }
  }
 },
 "nbformat": 4,
 "nbformat_minor": 0
}

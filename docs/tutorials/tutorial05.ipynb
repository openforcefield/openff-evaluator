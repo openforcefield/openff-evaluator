{
 "cells": [
  {
   "cell_type": "markdown",
   "id": "4fc8037c-d8d3-45a4-9e1d-4a45861b5580",
   "metadata": {},
   "source": [
    "# Estimating datasets with a pre-equilibration step\n",
    "\n",
    "In this tutorial we will be estimating a data set using a pre-equilibration step. This is especially useful for when you will be estimating a data set multiple times, for example while optimizing force field parameters or benchmarking the same data set with many force fields. This tutorial will cover:\n",
    "\n",
    "- creating a toy dataset\n",
    "- defining custom calculation schemas for the properties in our data set\n",
    "- executing an equilibration phase to a specified kJ/mol error tolerance\n",
    "- executing a pre-equilibrated simulation phase that uses the equilibrated boxes as input"
   ]
  },
  {
   "cell_type": "code",
   "execution_count": 1,
   "id": "1ae054d1-c14e-402f-90ed-df73e4f26d42",
   "metadata": {},
   "outputs": [],
   "source": [
    "from openff.units import unit\n",
    "from openff.evaluator.backends import ComputeResources\n",
    "from openff.evaluator.backends.dask import DaskLocalCluster\n",
    "from openff.evaluator.datasets import (\n",
    "    MeasurementSource,\n",
    "    PhysicalPropertyDataSet,\n",
    "    PropertyPhase,\n",
    ")\n",
    "from openff.evaluator.client import EvaluatorClient, RequestOptions, Request\n",
    "from openff.evaluator.server.server import Batch, EvaluatorServer\n",
    "\n",
    "from openff.evaluator.forcefield import (\n",
    "    LigParGenForceFieldSource,\n",
    "    SmirnoffForceFieldSource,\n",
    "    TLeapForceFieldSource,\n",
    ")\n",
    "\n",
    "from openff.evaluator.properties import Density, EnthalpyOfMixing\n",
    "from openff.evaluator.substances import Substance\n",
    "from openff.evaluator.thermodynamics import ThermodynamicState"
   ]
  },
  {
   "cell_type": "markdown",
   "id": "83cb6360-05a1-4530-a7e0-17d2d14e9bb7",
   "metadata": {},
   "source": [
    "## Create a toy dataset\n",
    "\n",
    "Properties can be downloaded from the internet, loaded from a file, or created dynamically. Here we quickly create a small dataset."
   ]
  },
  {
   "cell_type": "code",
   "execution_count": 2,
   "id": "79c90878-526b-433a-90e7-8daec9bfd1ec",
   "metadata": {},
   "outputs": [],
   "source": [
    "dataset = PhysicalPropertyDataSet()\n",
    "thermodynamic_state = ThermodynamicState(\n",
    "    temperature=298.15 * unit.kelvin,\n",
    "    pressure=101.325 * unit.kilopascal,\n",
    ")\n",
    "dataset.add_properties(\n",
    "    Density(\n",
    "        thermodynamic_state=thermodynamic_state,\n",
    "        phase=PropertyPhase.Liquid,\n",
    "        value=1.0 * Density.default_unit(),\n",
    "        uncertainty=1.0 * Density.default_unit(),\n",
    "        source=MeasurementSource(doi=\" \"),\n",
    "        substance=Substance.from_components(\"CCCO\"),\n",
    "    ),\n",
    "    EnthalpyOfMixing(\n",
    "        thermodynamic_state=thermodynamic_state,\n",
    "        phase=PropertyPhase.Liquid,\n",
    "        value=1.0 * EnthalpyOfMixing.default_unit(),\n",
    "        uncertainty=1.0 * EnthalpyOfMixing.default_unit(),\n",
    "        source=MeasurementSource(doi=\" \"),\n",
    "        substance=Substance.from_components(\"CCCO\", \"O\"),\n",
    "    )\n",
    ")\n",
    "for i, prop in enumerate(dataset.properties, 1):\n",
    "    prop.id = str(i)"
   ]
  },
  {
   "cell_type": "markdown",
   "id": "66adb843-885e-4dd2-9797-540a5839309f",
   "metadata": {},
   "source": [
    "We now need to define options for the equilibration phase.\n",
    "\n",
    "Here, we set an absolute tolerance for the potential energy of 100 kJ/mol -- note the units are in terms of energy.\n",
    "Currently a relative error tolerance is unsupported."
   ]
  },
  {
   "cell_type": "code",
   "execution_count": 3,
   "id": "41c2f68b-a1c3-4bba-b77a-32ae8504eafa",
   "metadata": {},
   "outputs": [],
   "source": [
    "equilibration_options = RequestOptions()\n",
    "equilibration_options.calculation_layers = [\"EquilibrationLayer\"]\n",
    "density_equilibration_schema = Density.default_equilibration_schema(\n",
    "    n_molecules=256,\n",
    "    absolute_tolerance=100 * unit.kilojoules / unit.mole,\n",
    ")\n",
    "\n",
    "dhmix_equilibration_schema = EnthalpyOfMixing.default_equilibration_schema(\n",
    "    n_molecules=256,\n",
    "    absolute_tolerance=100 * unit.kilojoules / unit.mole,\n",
    ")\n",
    "equilibration_options.add_schema(\n",
    "    \"EquilibrationLayer\",\n",
    "    \"Density\",\n",
    "    density_equilibration_schema,\n",
    ")\n",
    "equilibration_options.add_schema(\n",
    "    \"EquilibrationLayer\",\n",
    "    \"EnthalpyOfMixing\",\n",
    "    dhmix_equilibration_schema,\n",
    ")\n"
   ]
  },
  {
   "cell_type": "markdown",
   "id": "78dee027-30e3-4e44-881f-b96f4eec3f43",
   "metadata": {},
   "source": [
    "We then specify a PreequilibratedSimulationLayer to actually compute the properties after equilibrating."
   ]
  },
  {
   "cell_type": "code",
   "execution_count": 4,
   "id": "f4a58966-72e3-4d9b-be01-62df5db0f62b",
   "metadata": {},
   "outputs": [],
   "source": [
    "preequilibrated_simulation_options = RequestOptions()\n",
    "preequilibrated_simulation_options.calculation_layers = [\"PreequilibratedSimulationLayer\"]\n",
    "density_preequilibration_schema = Density.default_preequilibrated_simulation_schema(\n",
    "    n_molecules=256,\n",
    "    # toy tolerance for quick computation!\n",
    "    absolute_tolerance=0.5 * Density.default_unit()\n",
    ")\n",
    "dhmix_preequilibration_schema = EnthalpyOfMixing.default_preequilibrated_simulation_schema(\n",
    "    n_molecules=256,\n",
    "    # toy tolerance for quick computation!\n",
    "    absolute_tolerance=0.5 * EnthalpyOfMixing.default_unit()\n",
    ")\n",
    "preequilibrated_simulation_options.add_schema(\n",
    "    \"PreequilibratedSimulationLayer\",\n",
    "    \"Density\",\n",
    "    density_preequilibration_schema,\n",
    ")\n",
    "preequilibrated_simulation_options.add_schema(\n",
    "    \"PreequilibratedSimulationLayer\",\n",
    "    \"EnthalpyOfMixing\",\n",
    "    dhmix_preequilibration_schema,\n",
    ")"
   ]
  },
  {
   "cell_type": "markdown",
   "id": "afc41e23-39b7-44c7-8e00-849a10a668b2",
   "metadata": {},
   "source": [
    "We load a force field from SMIRNOFF."
   ]
  },
  {
   "cell_type": "code",
   "execution_count": 5,
   "id": "6e18eecd-93ac-402f-9934-7d579af1b38c",
   "metadata": {},
   "outputs": [],
   "source": [
    "force_field_path = \"openff-2.1.0.offxml\"\n",
    "force_field_source = SmirnoffForceFieldSource.from_path(\n",
    "    force_field_path\n",
    ")"
   ]
  },
  {
   "cell_type": "markdown",
   "id": "fb1a1568-c181-4506-95ae-3e555d4117a3",
   "metadata": {},
   "source": [
    "And now to compute."
   ]
  },
  {
   "cell_type": "code",
   "execution_count": null,
   "id": "c9d488c8-b83e-4135-a9b5-2bf391730c27",
   "metadata": {},
   "outputs": [],
   "source": [
    "with DaskLocalCluster(\n",
    "    # uncomment options below to use a GPU to compute (much faster than CPU-only).\n",
    "    \n",
    "    # number_of_workers=1,\n",
    "    # resources_per_worker=ComputeResources(\n",
    "    #     number_of_threads=1,\n",
    "    #     number_of_gpus=1,\n",
    "    #     preferred_gpu_toolkit=ComputeResources.GPUToolkit.CUDA,\n",
    "    # ),\n",
    ") as calculation_backend:\n",
    "    server = EvaluatorServer(\n",
    "        calculation_backend=calculation_backend,\n",
    "        working_directory=\".\",\n",
    "        delete_working_files=False\n",
    "    )\n",
    "    with server:\n",
    "        client = EvaluatorClient()\n",
    "\n",
    "        # we first request the equilibration data\n",
    "        # this can be copied between different runs to avoid re-running\n",
    "        # the data is saved in a directory called \"stored_data\"\n",
    "    \n",
    "        request, error = client.request_estimate(\n",
    "            dataset,\n",
    "            force_field_source,\n",
    "            equilibration_options,\n",
    "        )\n",
    "\n",
    "        # block until computation finished\n",
    "        results, exception = request.results(synchronous=True, polling_interval=30)\n",
    "        assert exception is None\n",
    "\n",
    "        # now we request the actual properties to compute\n",
    "        # this reads equilibration data from the stored_data directory\n",
    "\n",
    "        request, error = client.request_estimate(\n",
    "            dataset,\n",
    "            force_field_source,\n",
    "            preequilibrated_simulation_options,\n",
    "        )\n",
    "\n",
    "        # block until computation finished\n",
    "        results, exception = request.results(synchronous=True, polling_interval=30)\n",
    "        assert exception is None\n",
    "        "
   ]
  },
  {
   "cell_type": "code",
   "execution_count": null,
   "id": "58badb41-2bd9-42f8-a8eb-9fd1f1acf0a2",
   "metadata": {},
   "outputs": [],
   "source": [
    "print(len(results.queued_properties))"
   ]
  },
  {
   "cell_type": "code",
   "execution_count": null,
   "id": "0fbfa991-abff-4162-bdc9-a758e79e615a",
   "metadata": {},
   "outputs": [],
   "source": [
    "print(len(results.estimated_properties))"
   ]
  },
  {
   "cell_type": "code",
   "execution_count": null,
   "id": "41219b14-94e1-40b4-9869-f1906d9d056c",
   "metadata": {},
   "outputs": [],
   "source": [
    "print(len(results.unsuccessful_properties))"
   ]
  },
  {
   "cell_type": "code",
   "execution_count": null,
   "id": "28ea2662-ea1c-4894-9cf1-48f0bdb7cfec",
   "metadata": {},
   "outputs": [],
   "source": [
    "print(len(results.exceptions))"
   ]
  }
 ],
 "metadata": {
  "kernelspec": {
   "display_name": "Python (evaluator-test-env)",
   "language": "python",
   "name": "evaluator-test-env"
  },
  "language_info": {
   "codemirror_mode": {
    "name": "ipython",
    "version": 3
   },
   "file_extension": ".py",
   "mimetype": "text/x-python",
   "name": "python",
   "nbconvert_exporter": "python",
   "pygments_lexer": "ipython3",
   "version": "3.11.9"
  }
 },
 "nbformat": 4,
 "nbformat_minor": 5
}

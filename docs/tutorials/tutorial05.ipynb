{
 "cells": [
  {
   "cell_type": "code",
   "execution_count": 1,
   "id": "1c311e04-5ee1-4dfe-8520-03f75569ef99",
   "metadata": {},
   "outputs": [],
   "source": [
    "from openff.units import unit\n",
    "from openff.evaluator.backends import ComputeResources\n",
    "from openff.evaluator.backends.dask import DaskLocalCluster\n",
    "from openff.evaluator.datasets import (\n",
    "    MeasurementSource,\n",
    "    PhysicalPropertyDataSet,\n",
    "    PropertyPhase,\n",
    ")\n",
    "from openff.evaluator.client import EvaluatorClient, RequestOptions, Request\n",
    "from openff.evaluator.server.server import Batch, EvaluatorServer\n",
    "\n",
    "from openff.evaluator.forcefield import (\n",
    "    LigParGenForceFieldSource,\n",
    "    SmirnoffForceFieldSource,\n",
    "    TLeapForceFieldSource,\n",
    ")\n",
    "\n",
    "from openff.evaluator.properties import Density, EnthalpyOfMixing\n",
    "from openff.evaluator.substances import Substance\n",
    "from openff.evaluator.thermodynamics import ThermodynamicState"
   ]
  },
  {
   "cell_type": "markdown",
   "id": "83cb6360-05a1-4530-a7e0-17d2d14e9bb7",
   "metadata": {},
   "source": [
    "## Create a toy dataset\n",
    "\n",
    "Properties can be downloaded from the internet, loaded from a file, or created dynamically. Here we quickly create a small dataset."
   ]
  },
  {
   "cell_type": "code",
   "execution_count": 2,
   "id": "79c90878-526b-433a-90e7-8daec9bfd1ec",
   "metadata": {},
   "outputs": [],
   "source": [
    "dataset = PhysicalPropertyDataSet()\n",
    "thermodynamic_state = ThermodynamicState(\n",
    "    temperature=298.15 * unit.kelvin,\n",
    "    pressure=101.325 * unit.kilopascal,\n",
    ")\n",
    "dataset.add_properties(\n",
    "    Density(\n",
    "        thermodynamic_state=thermodynamic_state,\n",
    "        phase=PropertyPhase.Liquid,\n",
    "        value=1.0 * Density.default_unit(),\n",
    "        uncertainty=1.0 * Density.default_unit(),\n",
    "        source=MeasurementSource(doi=\" \"),\n",
    "        substance=Substance.from_components(\"CCCO\"),\n",
    "    ),\n",
    "    EnthalpyOfMixing(\n",
    "        thermodynamic_state=thermodynamic_state,\n",
    "        phase=PropertyPhase.Liquid,\n",
    "        value=1.0 * EnthalpyOfMixing.default_unit(),\n",
    "        uncertainty=1.0 * EnthalpyOfMixing.default_unit(),\n",
    "        source=MeasurementSource(doi=\" \"),\n",
    "        substance=Substance.from_components(\"CCCO\", \"O\"),\n",
    "    )\n",
    ")"
   ]
  },
  {
   "cell_type": "markdown",
   "id": "66adb843-885e-4dd2-9797-540a5839309f",
   "metadata": {},
   "source": [
    "We now need to define options for both equilibration and pre-equilibrated simulation."
   ]
  },
  {
   "cell_type": "code",
   "execution_count": 3,
   "id": "41c2f68b-a1c3-4bba-b77a-32ae8504eafa",
   "metadata": {},
   "outputs": [
    {
     "name": "stdout",
     "output_type": "stream",
     "text": [
      "build_coordinates\n",
      "assign_parameters\n",
      "energy_minimisation\n",
      "conditional_group\n"
     ]
    }
   ],
   "source": [
    "equilibration_options = RequestOptions()\n",
    "equilibration_options.calculation_layers = [\"EquilibrationLayer\"]\n",
    "density_equilibration_schema = Density.default_equilibration_schema(\n",
    "    n_molecules=256,\n",
    "    relative_tolerance=0.01,\n",
    ")\n",
    "\n",
    "dhmix_equilibration_schema = EnthalpyOfMixing.default_equilibration_schema(\n",
    "    n_molecules=256,\n",
    "    relative_tolerance=0.01,\n",
    ")\n",
    "equilibration_options.add_schema(\n",
    "    \"EquilibrationLayer\",\n",
    "    \"Density\",\n",
    "    density_equilibration_schema,\n",
    ")\n",
    "equilibration_options.add_schema(\n",
    "    \"EquilibrationLayer\",\n",
    "    \"EnthalpyOfMixing\",\n",
    "    dhmix_equilibration_schema,\n",
    ")\n",
    "\n",
    "preequilibrated_simulation_options = RequestOptions()\n",
    "preequilibrated_simulation_options.calculation_layers = [\"PreequilibratedSimulationLayer\"]\n",
    "density_preequilibration_schema = Density.default_preequilibrated_simulation_schema(\n",
    "    n_molecules=256,\n",
    "    relative_tolerance=0.01,\n",
    ")\n",
    "dhmix_preequilibration_schema = EnthalpyOfMixing.default_preequilibrated_simulation_schema(\n",
    "    n_molecules=256,\n",
    "    relative_tolerance=0.01,\n",
    ")\n",
    "preequilibrated_simulation_options.add_schema(\n",
    "    \"PreequilibratedSimulationLayer\",\n",
    "    \"Density\",\n",
    "    density_preequilibration_schema,\n",
    ")\n",
    "preequilibrated_simulation_options.add_schema(\n",
    "    \"PreequilibratedSimulationLayer\",\n",
    "    \"EnthalpyOfMixing\",\n",
    "    dhmix_preequilibration_schema,\n",
    ")"
   ]
  },
  {
   "cell_type": "markdown",
   "id": "afc41e23-39b7-44c7-8e00-849a10a668b2",
   "metadata": {},
   "source": [
    "We load a force field from SMIRNOFF."
   ]
  },
  {
   "cell_type": "code",
   "execution_count": 5,
   "id": "6e18eecd-93ac-402f-9934-7d579af1b38c",
   "metadata": {},
   "outputs": [],
   "source": [
    "force_field_path = \"openff-2.1.0.offxml\"\n",
    "force_field_source = SmirnoffForceFieldSource.from_path(\n",
    "    force_field_path\n",
    ")"
   ]
  },
  {
   "cell_type": "code",
   "execution_count": null,
   "id": "c9d488c8-b83e-4135-a9b5-2bf391730c27",
   "metadata": {},
   "outputs": [
    {
     "name": "stdout",
     "output_type": "stream",
     "text": [
      "callback\n",
      "[<Future: pending, key: _wrapped_function-47cfb53078386e084a75f760e4b05d48>]\n",
      "<Future: pending, key: _wrapped_function-f83d9cf950709775725722e59082c548>\n"
     ]
    },
    {
     "name": "stderr",
     "output_type": "stream",
     "text": [
      "/Users/lily/pydev/openff-evaluator/openff/evaluator/workflow/workflow.py:942: UserWarning: executing\n",
      "  warnings.warn(\"executing\")\n",
      "/Users/lily/pydev/openff-evaluator/openff/evaluator/workflow/workflow.py:946: UserWarning: dict_keys(['176316eace504875a0a82be6cd6c017c|build_coordinates_component_0', '176316eace504875a0a82be6cd6c017c|assign_parameters_component_0', '176316eace504875a0a82be6cd6c017c|energy_minimisation_component_0', '176316eace504875a0a82be6cd6c017c|conditional_group_component_0', '176316eace504875a0a82be6cd6c017c|build_coordinates_component_1', '176316eace504875a0a82be6cd6c017c|assign_parameters_component_1', '176316eace504875a0a82be6cd6c017c|energy_minimisation_component_1', '176316eace504875a0a82be6cd6c017c|conditional_group_component_1', '176316eace504875a0a82be6cd6c017c|build_coordinates_mixture', '176316eace504875a0a82be6cd6c017c|assign_parameters_mixture', '176316eace504875a0a82be6cd6c017c|energy_minimisation_mixture', '176316eace504875a0a82be6cd6c017c|conditional_group_mixture'])\n",
      "  warnings.warn(str(protocol_outputs.keys()))\n"
     ]
    }
   ],
   "source": [
    "with DaskLocalCluster(\n",
    "    number_of_workers=1,\n",
    "    resources_per_worker=ComputeResources(\n",
    "        number_of_threads=1,\n",
    "        number_of_gpus=1,\n",
    "        preferred_gpu_toolkit=ComputeResources.GPUToolkit.CUDA,\n",
    "    ),\n",
    ") as calculation_backend:\n",
    "    server = EvaluatorServer(\n",
    "        calculation_backend=calculation_backend,\n",
    "        working_directory=\".\",\n",
    "        delete_working_files=False\n",
    "    )\n",
    "    with server:\n",
    "        client = EvaluatorClient()\n",
    "    \n",
    "        # test equilibration\n",
    "        request, error = client.request_estimate(\n",
    "            dataset,\n",
    "            force_field_source,\n",
    "            equilibration_options,\n",
    "        )"
   ]
  },
  {
   "cell_type": "code",
   "execution_count": null,
   "id": "045a66cd-8339-4aa9-950a-bc1cff095014",
   "metadata": {},
   "outputs": [],
   "source": []
  }
 ],
 "metadata": {
  "kernelspec": {
   "display_name": "Python (evaluator-test-env)",
   "language": "python",
   "name": "evaluator-test-env"
  },
  "language_info": {
   "codemirror_mode": {
    "name": "ipython",
    "version": 3
   },
   "file_extension": ".py",
   "mimetype": "text/x-python",
   "name": "python",
   "nbconvert_exporter": "python",
   "pygments_lexer": "ipython3",
   "version": "3.11.9"
  }
 },
 "nbformat": 4,
 "nbformat_minor": 5
}

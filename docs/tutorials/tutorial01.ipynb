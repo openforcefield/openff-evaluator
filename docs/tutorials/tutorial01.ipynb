{
 "nbformat": 4,
 "nbformat_minor": 0,
 "metadata": {
  "kernelspec": {
   "display_name": "Python 3",
   "language": "python",
   "name": "python3"
  },
  "language_info": {
   "codemirror_mode": {
    "name": "ipython",
    "version": 2
   },
   "file_extension": ".py",
   "mimetype": "text/x-python",
   "name": "python",
   "nbconvert_exporter": "python",
   "pygments_lexer": "ipython2",
   "version": "2.7.6"
  },
  "colab": {
   "name": "tutorial01.ipynb",
   "provenance": [
    {
     "file_id": "https://github.com/openforcefield/openff-evaluator/blob/master/docs/tutorials/tutorial01.ipynb",
     "timestamp": 1583264541058
    }
   ],
   "collapsed_sections": []
  }
 },
 "cells": [
  {
   "cell_type": "markdown",
   "metadata": {
    "collapsed": false,
    "id": "fCQhSMBX3WOP",
    "colab_type": "text"
   },
   "source": [
    "# Tutorial 01 - Loading Data Sets\n",
    "\n",
    "[![Open In Colab](https://colab.research.google.com/assets/colab-badge.svg)](https://colab.research.google.com/github/openforcefield/openff-evaluator/blob/master/docs/tutorials/tutorial01.ipynb)\n",
    "\n",
    "In this tutorial we will be exploring the frameworks utilities for loading and manipulating data sets of physical\n",
    "property measurements. The tutorial will cover\n",
    "\n",
    "- Loading a data set of density measurements from NISTs ThermoML Archive\n",
    "- Filtering the data set down using a range of criteria, including temperature pressure, and composition.\n",
    "- Supplementing the data set with enthalpy of vaporization ($\\Delta H_{v}$) data sourced directly from the literature\n",
    "\n",
    "If you haven't yet installed the OpenFF Evaluator framework on your machine, check out the [installation instructions \n",
    "here!](../install.rst)"
   ]
  },
  {
   "cell_type": "markdown",
   "metadata": {
    "collapsed": false,
    "pycharm": {
     "name": "#%% md\n"
    },
    "id": "gMcVrp5e3WOS",
    "colab_type": "text"
   },
   "source": [
    "*Note: If you are running this tutorial in google colab you will need to run a setup script instead of following the \n",
    "installation instructions:*"
   ]
  },
  {
   "cell_type": "code",
   "metadata": {
    "pycharm": {
     "name": "#%%\n"
    },
    "id": "SrYqUKE93WOU",
    "colab_type": "code",
    "colab": {}
   },
   "source": [
    "# !wget https://raw.githubusercontent.com/openforcefield/openff-evaluator/master/docs/tutorials/colab_setup.ipynb\n",
    "# %run colab_setup.ipynb"
   ],
   "execution_count": 1,
   "outputs": []
  },
  {
   "cell_type": "markdown",
   "metadata": {
    "collapsed": false,
    "pycharm": {
     "name": "#%% md\n"
    },
    "id": "JowZqBF23WOa",
    "colab_type": "text"
   },
   "source": [
    "For the sake of clarity all warnings will be disabled in this tutorial:"
   ]
  },
  {
   "cell_type": "code",
   "metadata": {
    "pycharm": {
     "name": "#%%\n"
    },
    "id": "Fa44xTAy3WOc",
    "colab_type": "code",
    "colab": {}
   },
   "source": [
    "import warnings\n",
    "warnings.filterwarnings('ignore')\n",
    "import logging\n",
    "logging.getLogger(\"openff.toolkit\").setLevel(logging.ERROR)"
   ],
   "execution_count": 2,
   "outputs": []
  },
  {
   "cell_type": "markdown",
   "metadata": {
    "collapsed": false,
    "pycharm": {
     "name": "#%% md\n"
    },
    "id": "QfZ0AwW-3WOj",
    "colab_type": "text"
   },
   "source": [
    "## Extracting Data from ThermoML\n",
    "\n",
    "For anyone who is not familiar with the ThermoML archive - it is a fantastic database of physical property measurements\n",
    "which have been extracted from data published in the \n",
    "\n",
    "- Journal of Chemical and Engineering Data\n",
    "- Journal of Chemical Thermodynamics\n",
    "- Fluid Phase Equilibria\n",
    "- Thermochimica Acta \n",
    "- International Journal of Thermophysics\n",
    "\n",
    "journals. It includes data for a wealth of different physical properties, from simple densities and melting points, to \n",
    "activity coefficients and osmotic coefficients, all of which is freely available. As such, it serves as a fantastic \n",
    "resource for benchmarking and optimising molecular force fields against.\n",
    "\n",
    "The Evaluator framework has built-in support for extracting this wealth of data, storing the data in easy to manipulate \n",
    "python objects, and for automatically re-computing those properties using an array of calculation techniques, such as \n",
    "molecular simulations and, in future, from trained surrogate models.\n",
    "\n",
    "This support is provided by the `ThermoMLDataSet` object:"
   ]
  },
  {
   "cell_type": "code",
   "metadata": {
    "pycharm": {
     "name": "#%%\n"
    },
    "id": "GrU7WuUE3WOm",
    "colab_type": "code",
    "colab": {}
   },
   "source": [
    "from openff.evaluator.datasets.thermoml import ThermoMLDataSet"
   ],
   "execution_count": 3,
   "outputs": []
  },
  {
   "cell_type": "markdown",
   "metadata": {
    "collapsed": false,
    "pycharm": {
     "name": "#%% md\n"
    },
    "id": "XWBXcXF03WOw",
    "colab_type": "text"
   },
   "source": [
    "The `ThermoMLDataSet` object offers two main routes for extracting data the the archive:\n",
    "\n",
    "- extracting data directly from the NIST ThermoML web server\n",
    "- extracting data from a local ThermoML XML archive file\n",
    "\n",
    "Here we will be extracting data directly from the web server. To pull data from the web server we need to specifiy the \n",
    "digital object identifiers (DOIs) of the data we wish to extract - these correspond to the DOI of the publication that\n",
    "the data was initially sourced from.\n",
    "\n",
    "For this tutorial we will be extracting data using the following DOIs:   "
   ]
  },
  {
   "cell_type": "code",
   "metadata": {
    "pycharm": {
     "name": "#%%\n"
    },
    "id": "530MHJsR3WOy",
    "colab_type": "code",
    "colab": {}
   },
   "source": [
    "data_set = ThermoMLDataSet.from_doi(\n",
    "    \"10.1016/j.fluid.2013.10.034\",\n",
    "    \"10.1021/je1013476\",\n",
    ")"
   ],
   "execution_count": 4,
   "outputs": []
  },
  {
   "cell_type": "markdown",
   "metadata": {
    "collapsed": false,
    "pycharm": {
     "name": "#%% md\n"
    },
    "id": "DKTRAAy_3WO8",
    "colab_type": "text"
   },
   "source": [
    "We can inspect the data set to see how many properties were loaded:"
   ]
  },
  {
   "cell_type": "code",
   "metadata": {
    "pycharm": {
     "name": "#%% \n"
    },
    "id": "Q6OUsdH43WO_",
    "colab_type": "code",
    "outputId": "de8c21b9-f525-4849-cf76-45f71950fd1e",
    "executionInfo": {
     "status": "ok",
     "timestamp": 1583268516022,
     "user_tz": 420,
     "elapsed": 351767,
     "user": {
      "displayName": "Simon Boothroyd",
      "photoUrl": "",
      "userId": "14278355403410282083"
     }
    },
    "colab": {
     "base_uri": "https://localhost:8080/",
     "height": 35
    }
   },
   "source": [
    "len(data_set)"
   ],
   "execution_count": 5,
   "outputs": [
    {
     "data": {
      "text/plain": "275"
     },
     "execution_count": 5,
     "metadata": {},
     "output_type": "execute_result"
    }
   ]
  },
  {
   "cell_type": "markdown",
   "metadata": {
    "collapsed": false,
    "pycharm": {
     "name": "#%% md\n"
    },
    "id": "szMNT-tV3WPG",
    "colab_type": "text"
   },
   "source": [
    "and for how many different substances those properties were measured for:"
   ]
  },
  {
   "cell_type": "code",
   "metadata": {
    "pycharm": {
     "name": "#%%\n"
    },
    "id": "uSGF7E9-3WPH",
    "colab_type": "code",
    "outputId": "d968d0fe-ef68-43e4-85f7-9a59f05c66c6",
    "executionInfo": {
     "status": "ok",
     "timestamp": 1583268516023,
     "user_tz": 420,
     "elapsed": 351764,
     "user": {
      "displayName": "Simon Boothroyd",
      "photoUrl": "",
      "userId": "14278355403410282083"
     }
    },
    "colab": {
     "base_uri": "https://localhost:8080/",
     "height": 35
    }
   },
   "source": [
    "len(data_set.substances)"
   ],
   "execution_count": 6,
   "outputs": [
    {
     "data": {
      "text/plain": "254"
     },
     "execution_count": 6,
     "metadata": {},
     "output_type": "execute_result"
    }
   ]
  },
  {
   "cell_type": "markdown",
   "metadata": {
    "collapsed": false,
    "pycharm": {
     "name": "#%% md\n"
    },
    "id": "LZT4CQ0q3WPM",
    "colab_type": "text"
   },
   "source": [
    "We can also easily check which types of properties were loaded in:"
   ]
  },
  {
   "cell_type": "code",
   "metadata": {
    "pycharm": {
     "name": "#%% \n"
    },
    "id": "LTHDuTUh3WPO",
    "colab_type": "code",
    "outputId": "ede1dffc-3619-45cd-85ce-6bcbabd182d7",
    "executionInfo": {
     "status": "ok",
     "timestamp": 1583268516024,
     "user_tz": 420,
     "elapsed": 351762,
     "user": {
      "displayName": "Simon Boothroyd",
      "photoUrl": "",
      "userId": "14278355403410282083"
     }
    },
    "colab": {
     "base_uri": "https://localhost:8080/",
     "height": 35
    }
   },
   "source": [
    "print(data_set.property_types)"
   ],
   "execution_count": 7,
   "outputs": [
    {
     "name": "stdout",
     "output_type": "stream",
     "text": [
      "{'EnthalpyOfMixing', 'Density'}\n"
     ]
    }
   ]
  },
  {
   "cell_type": "markdown",
   "metadata": {
    "collapsed": false,
    "pycharm": {
     "name": "#%% md\n"
    },
    "id": "4YpYiQYr3WPT",
    "colab_type": "text"
   },
   "source": [
    "## Filtering the Data Set\n",
    "\n",
    "The data set object we just created contains many different functions which will allow us to filter the data down, \n",
    "retaining only those measurements which are of interest to us.\n",
    "\n",
    "The first thing we will do is filter out all of the measurements which aren't density measurements:"
   ]
  },
  {
   "cell_type": "code",
   "metadata": {
    "pycharm": {
     "name": "#%%\n"
    },
    "id": "QXphqqP53WPV",
    "colab_type": "code",
    "outputId": "b19709c6-1524-4ef4-ff50-84e9112b05cd",
    "executionInfo": {
     "status": "ok",
     "timestamp": 1583268516025,
     "user_tz": 420,
     "elapsed": 351760,
     "user": {
      "displayName": "Simon Boothroyd",
      "photoUrl": "",
      "userId": "14278355403410282083"
     }
    },
    "colab": {
     "base_uri": "https://localhost:8080/",
     "height": 35
    }
   },
   "source": [
    "from openff.evaluator.datasets.curation.components.filtering import (\n",
    "    FilterByPropertyTypes,\n",
    "    FilterByPropertyTypesSchema\n",
    ")\n",
    "\n",
    "data_set = FilterByPropertyTypes.apply(\n",
    "    data_set, FilterByPropertyTypesSchema(property_types=[\"Density\"])\n",
    ")\n",
    "\n",
    "print(data_set.property_types)"
   ],
   "execution_count": 8,
   "outputs": [
    {
     "name": "stdout",
     "output_type": "stream",
     "text": [
      "{'Density'}\n"
     ]
    }
   ]
  },
  {
   "cell_type": "markdown",
   "metadata": {
    "collapsed": false,
    "pycharm": {
     "name": "#%% md\n"
    },
    "id": "R7P4Q5pd3WPZ",
    "colab_type": "text"
   },
   "source": [
    "Next we will filter out all measurements which were made away from atmospheric conditions: "
   ]
  },
  {
   "cell_type": "code",
   "metadata": {
    "pycharm": {
     "name": "#%% \n"
    },
    "id": "D9iOJ28l3WPb",
    "colab_type": "code",
    "outputId": "754dddaf-ac27-43c2-a77d-001b0dd2b336",
    "executionInfo": {
     "status": "ok",
     "timestamp": 1583268516125,
     "user_tz": 420,
     "elapsed": 351857,
     "user": {
      "displayName": "Simon Boothroyd",
      "photoUrl": "",
      "userId": "14278355403410282083"
     }
    },
    "colab": {
     "base_uri": "https://localhost:8080/",
     "height": 53
    }
   },
   "source": [
    "from openff.evaluator.datasets.curation.components.filtering import (\n",
    "    FilterByPressure,\n",
    "    FilterByPressureSchema,\n",
    "    FilterByTemperature,\n",
    "    FilterByTemperatureSchema,\n",
    ")\n",
    "\n",
    "print(f\"There were {len(data_set)} properties before filtering\")\n",
    "\n",
    "# First filter by temperature.\n",
    "data_set = FilterByTemperature.apply(\n",
    "    data_set,\n",
    "    FilterByTemperatureSchema(minimum_temperature=298.0, maximum_temperature=298.2)\n",
    ")\n",
    "# and then by pressure\n",
    "data_set = FilterByPressure.apply(\n",
    "    data_set,\n",
    "    FilterByPressureSchema(minimum_pressure=101.224, maximum_pressure=101.426)\n",
    ")\n",
    "\n",
    "print(f\"There are now {len(data_set)} properties after filtering\")"
   ],
   "execution_count": 9,
   "outputs": [
    {
     "name": "stdout",
     "output_type": "stream",
     "text": [
      "There were 213 properties before filtering\n",
      "There are now 9 properties after filtering\n"
     ]
    }
   ]
  },
  {
   "cell_type": "markdown",
   "metadata": {
    "collapsed": false,
    "pycharm": {
     "name": "#%% md\n"
    },
    "id": "wcW0jWKb3WPf",
    "colab_type": "text"
   },
   "source": [
    "Finally, we will filter out all measurements which were not measured for either ethanol (CCO) or isopropanol (CC(C)O):"
   ]
  },
  {
   "cell_type": "code",
   "metadata": {
    "pycharm": {
     "name": "#%%\n"
    },
    "id": "GngQ8DJ93WPh",
    "colab_type": "code",
    "outputId": "66d05bf0-6cb8-4d07-da53-381a70ae7c90",
    "executionInfo": {
     "status": "ok",
     "timestamp": 1583268516126,
     "user_tz": 420,
     "elapsed": 351855,
     "user": {
      "displayName": "Simon Boothroyd",
      "photoUrl": "",
      "userId": "14278355403410282083"
     }
    },
    "colab": {
     "base_uri": "https://localhost:8080/",
     "height": 35
    }
   },
   "source": [
    "from openff.evaluator.datasets.curation.components.filtering import (\n",
    "    FilterBySmiles,\n",
    "    FilterBySmilesSchema,\n",
    ")\n",
    "\n",
    "data_set = FilterBySmiles.apply(\n",
    "    data_set,\n",
    "    FilterBySmilesSchema(smiles_to_include=[\"CCO\", \"CC(C)O\"])\n",
    ")\n",
    "\n",
    "print(f\"There are now {len(data_set)} properties after filtering\")"
   ],
   "execution_count": 10,
   "outputs": [
    {
     "name": "stdout",
     "output_type": "stream",
     "text": [
      "There are now 2 properties after filtering\n"
     ]
    }
   ]
  },
  {
   "cell_type": "markdown",
   "metadata": {
    "collapsed": false,
    "pycharm": {
     "name": "#%% md\n"
    },
    "id": "9Jw4dJZz3WPn",
    "colab_type": "text"
   },
   "source": [
    "We will convert the filtered data to a pandas `DataFrame` to more easily visualize the final data set:"
   ]
  },
  {
   "cell_type": "code",
   "metadata": {
    "pycharm": {
     "name": "#%%\n"
    },
    "id": "6zcKs8vw3WPo",
    "colab_type": "code",
    "outputId": "d5d5e565-adc6-49fd-8b98-b505e20b378d",
    "executionInfo": {
     "status": "ok",
     "timestamp": 1583268516127,
     "user_tz": 420,
     "elapsed": 351853,
     "user": {
      "displayName": "Simon Boothroyd",
      "photoUrl": "",
      "userId": "14278355403410282083"
     }
    },
    "colab": {
     "base_uri": "https://localhost:8080/",
     "height": 111
    }
   },
   "source": [
    "pandas_data_set = data_set.to_pandas()\n",
    "pandas_data_set[\n",
    "    [\"Temperature (K)\", \"Pressure (kPa)\", \"Component 1\", \"Density Value (g / ml)\", \"Source\"]\n",
    "].head()"
   ],
   "execution_count": 11,
   "outputs": [
    {
     "data": {
      "text/plain": "   Temperature (K)  Pressure (kPa) Component 1  Density Value (g / ml)  \\\n0           298.15         101.325      CC(C)O                 0.78270   \n1           298.15         101.325         CCO                 0.78507   \n\n                        Source  \n0  10.1016/j.fluid.2013.10.034  \n1            10.1021/je1013476  ",
      "text/html": "<div>\n<style scoped>\n    .dataframe tbody tr th:only-of-type {\n        vertical-align: middle;\n    }\n\n    .dataframe tbody tr th {\n        vertical-align: top;\n    }\n\n    .dataframe thead th {\n        text-align: right;\n    }\n</style>\n<table border=\"1\" class=\"dataframe\">\n  <thead>\n    <tr style=\"text-align: right;\">\n      <th></th>\n      <th>Temperature (K)</th>\n      <th>Pressure (kPa)</th>\n      <th>Component 1</th>\n      <th>Density Value (g / ml)</th>\n      <th>Source</th>\n    </tr>\n  </thead>\n  <tbody>\n    <tr>\n      <th>0</th>\n      <td>298.15</td>\n      <td>101.325</td>\n      <td>CC(C)O</td>\n      <td>0.78270</td>\n      <td>10.1016/j.fluid.2013.10.034</td>\n    </tr>\n    <tr>\n      <th>1</th>\n      <td>298.15</td>\n      <td>101.325</td>\n      <td>CCO</td>\n      <td>0.78507</td>\n      <td>10.1021/je1013476</td>\n    </tr>\n  </tbody>\n</table>\n</div>"
     },
     "execution_count": 11,
     "metadata": {},
     "output_type": "execute_result"
    }
   ]
  },
  {
   "cell_type": "markdown",
   "metadata": {
    "collapsed": false,
    "pycharm": {
     "name": "#%% md\n"
    },
    "id": "qLt21Daw3WPv",
    "colab_type": "text"
   },
   "source": [
    "Through filtering, we have now cut down from over 250 property measurements down to just 2. There are many more \n",
    "possible filters which can be applied. All of these and more information about the data set object can be found in the\n",
    "`PhysicalPropertyDataSet` (from which the `ThermoMLDataSet` class inherits) API documentation.\n",
    "\n",
    "## Adding Extra Data\n",
    "\n",
    "For the final part of this tutorial, we will be supplementing our newly filtered data set with some enthalpy of \n",
    "vaporization ($\\Delta H_{v}$) measurements sourced directly from the literature (as opposed to from the ThermoML \n",
    "archive).\n",
    "\n",
    "We will be sourcing values of the $\\Delta H_{v}$ of ethanol and isopropanol, summarised in the table below, from the \n",
    "[Enthalpies of vaporization of some aliphatic alcohols](https://www.sciencedirect.com/science/article/pii/S0021961471801088) \n",
    "publication:\n",
    "\n",
    "| Compound    | Temperature / $K$ | $\\Delta H_{v}$ / $kJ mol^{-1}$ | $\\delta \\Delta H_{v}$ / $kJ mol^{-1}$ |\n",
    "|-------------|-------------------|--------------------------------|---------------------------------------|\n",
    "| Ethanol     | 298.15            | 42.26                          | 0.02                                  |\n",
    "| Isopropanol | 298.15            | 45.34                          | 0.02                                  |\n",
    "\n",
    "In order to create a new $\\Delta H_{v}$ measurements, we will first define the state (namely temperature and pressure)\n",
    "that the measurements were recorded at:"
   ]
  },
  {
   "cell_type": "code",
   "metadata": {
    "pycharm": {
     "name": "#%%\n"
    },
    "id": "s-ZPLIP73WPw",
    "colab_type": "code",
    "colab": {}
   },
   "source": [
    "from openff.units import unit\n",
    "from openff.evaluator.thermodynamics import ThermodynamicState\n",
    "\n",
    "thermodynamic_state = ThermodynamicState(\n",
    "    temperature=298.15 * unit.kelvin, pressure=1.0 * unit.atmosphere\n",
    ") "
   ],
   "execution_count": 12,
   "outputs": []
  },
  {
   "cell_type": "markdown",
   "metadata": {
    "collapsed": false,
    "pycharm": {
     "name": "#%% md\n"
    },
    "id": "QIQ5Kyit3WP2",
    "colab_type": "text"
   },
   "source": [
    "*Note: Here we have made use of the `openff.evaluator.unit` module to attach units to the temperatures and pressures\n",
    "we are filtering by. This module simply exposes a `UnitRegistry` from the fantastic [pint](https://pint.readthedocs.io/en/stable/)\n",
    "library. Pint provides full support for attaching to units to values and is used extensively throughout this\n",
    "framework.*\n",
    "\n",
    "the substances that the measurements were recorded for:"
   ]
  },
  {
   "cell_type": "code",
   "metadata": {
    "pycharm": {
     "name": "#%%\n"
    },
    "id": "SUDl9mlN3WP3",
    "colab_type": "code",
    "colab": {}
   },
   "source": [
    "from openff.evaluator.substances import Substance\n",
    "\n",
    "ethanol = Substance.from_components(\"CCO\")\n",
    "isopropanol = Substance.from_components(\"CC(C)O\")"
   ],
   "execution_count": 13,
   "outputs": []
  },
  {
   "cell_type": "markdown",
   "metadata": {
    "collapsed": false,
    "pycharm": {
     "name": "#%% md\n"
    },
    "id": "CVAiPSET3WP8",
    "colab_type": "text"
   },
   "source": [
    "and the source of this measurement (defined as the DOI of the publication):"
   ]
  },
  {
   "cell_type": "code",
   "metadata": {
    "pycharm": {
     "name": "#%%\n"
    },
    "id": "L9k9s2d03WP9",
    "colab_type": "code",
    "colab": {}
   },
   "source": [
    "from openff.evaluator.datasets import MeasurementSource\n",
    "\n",
    "source = MeasurementSource(doi=\"10.1016/S0021-9614(71)80108-8\")"
   ],
   "execution_count": 14,
   "outputs": []
  },
  {
   "cell_type": "markdown",
   "metadata": {
    "collapsed": false,
    "pycharm": {
     "name": "#%% md\n"
    },
    "id": "SRFL2U9m3WQB",
    "colab_type": "text"
   },
   "source": [
    "We will combine this information with the values of the measurements to create an object which encodes each of the \n",
    "$\\Delta H_{v}$ measurements  "
   ]
  },
  {
   "cell_type": "code",
   "metadata": {
    "pycharm": {
     "name": "#%%\n"
    },
    "id": "S84948QW3WQD",
    "colab_type": "code",
    "colab": {}
   },
   "source": [
    "from openff.evaluator.datasets import PropertyPhase\n",
    "from openff.evaluator.properties import EnthalpyOfVaporization\n",
    "\n",
    "ethanol_hvap = EnthalpyOfVaporization(\n",
    "    thermodynamic_state=thermodynamic_state,\n",
    "    phase=PropertyPhase.Liquid | PropertyPhase.Gas,\n",
    "    substance=ethanol,\n",
    "    value=42.26*unit.kilojoule / unit.mole,\n",
    "    uncertainty=0.02*unit.kilojoule / unit.mole,\n",
    "    source=source\n",
    ")\n",
    "isopropanol_hvap = EnthalpyOfVaporization(\n",
    "    thermodynamic_state=thermodynamic_state,\n",
    "    phase=PropertyPhase.Liquid | PropertyPhase.Gas,\n",
    "    substance=isopropanol,\n",
    "    value=45.34*unit.kilojoule / unit.mole,\n",
    "    uncertainty=0.02*unit.kilojoule / unit.mole,\n",
    "    source=source\n",
    ")"
   ],
   "execution_count": 15,
   "outputs": []
  },
  {
   "cell_type": "markdown",
   "metadata": {
    "collapsed": false,
    "pycharm": {
     "name": "#%% md\n"
    },
    "id": "qkXOskeG3WQI",
    "colab_type": "text"
   },
   "source": [
    "These properties can then be added to our data set:"
   ]
  },
  {
   "cell_type": "code",
   "metadata": {
    "pycharm": {
     "name": "#%%\n"
    },
    "id": "MVLy9Pus3WQJ",
    "colab_type": "code",
    "colab": {}
   },
   "source": [
    "data_set.add_properties(ethanol_hvap, isopropanol_hvap)"
   ],
   "execution_count": 16,
   "outputs": []
  },
  {
   "cell_type": "markdown",
   "metadata": {
    "collapsed": false,
    "id": "IXvNfKbG3WQO",
    "colab_type": "text"
   },
   "source": [
    "If we print the data set again using pandas we should see that our new measurements have been added:"
   ]
  },
  {
   "cell_type": "code",
   "metadata": {
    "pycharm": {
     "name": "#%%\n"
    },
    "id": "WztbDFxA3WQQ",
    "colab_type": "code",
    "outputId": "a622a763-75df-4101-9555-2714ec56fe15",
    "executionInfo": {
     "status": "ok",
     "timestamp": 1583268516251,
     "user_tz": 420,
     "elapsed": 351959,
     "user": {
      "displayName": "Simon Boothroyd",
      "photoUrl": "",
      "userId": "14278355403410282083"
     }
    },
    "colab": {
     "base_uri": "https://localhost:8080/",
     "height": 173
    }
   },
   "source": [
    "pandas_data_set = data_set.to_pandas()\n",
    "pandas_data_set[\n",
    "    [\"Temperature (K)\", \n",
    "     \"Pressure (kPa)\", \n",
    "     \"Component 1\", \n",
    "     \"Density Value (g / ml)\", \n",
    "     \"EnthalpyOfVaporization Value (kJ / mol)\", \n",
    "     \"Source\"\n",
    "     ]\n",
    "].head()"
   ],
   "execution_count": 17,
   "outputs": [
    {
     "data": {
      "text/plain": "   Temperature (K)  Pressure (kPa) Component 1  Density Value (g / ml)  \\\n0           298.15         101.325      CC(C)O                 0.78270   \n1           298.15         101.325         CCO                 0.78507   \n2           298.15         101.325         CCO                     NaN   \n3           298.15         101.325      CC(C)O                     NaN   \n\n   EnthalpyOfVaporization Value (kJ / mol)                         Source  \n0                                      NaN    10.1016/j.fluid.2013.10.034  \n1                                      NaN              10.1021/je1013476  \n2                                    42.26  10.1016/S0021-9614(71)80108-8  \n3                                    45.34  10.1016/S0021-9614(71)80108-8  ",
      "text/html": "<div>\n<style scoped>\n    .dataframe tbody tr th:only-of-type {\n        vertical-align: middle;\n    }\n\n    .dataframe tbody tr th {\n        vertical-align: top;\n    }\n\n    .dataframe thead th {\n        text-align: right;\n    }\n</style>\n<table border=\"1\" class=\"dataframe\">\n  <thead>\n    <tr style=\"text-align: right;\">\n      <th></th>\n      <th>Temperature (K)</th>\n      <th>Pressure (kPa)</th>\n      <th>Component 1</th>\n      <th>Density Value (g / ml)</th>\n      <th>EnthalpyOfVaporization Value (kJ / mol)</th>\n      <th>Source</th>\n    </tr>\n  </thead>\n  <tbody>\n    <tr>\n      <th>0</th>\n      <td>298.15</td>\n      <td>101.325</td>\n      <td>CC(C)O</td>\n      <td>0.78270</td>\n      <td>NaN</td>\n      <td>10.1016/j.fluid.2013.10.034</td>\n    </tr>\n    <tr>\n      <th>1</th>\n      <td>298.15</td>\n      <td>101.325</td>\n      <td>CCO</td>\n      <td>0.78507</td>\n      <td>NaN</td>\n      <td>10.1021/je1013476</td>\n    </tr>\n    <tr>\n      <th>2</th>\n      <td>298.15</td>\n      <td>101.325</td>\n      <td>CCO</td>\n      <td>NaN</td>\n      <td>42.26</td>\n      <td>10.1016/S0021-9614(71)80108-8</td>\n    </tr>\n    <tr>\n      <th>3</th>\n      <td>298.15</td>\n      <td>101.325</td>\n      <td>CC(C)O</td>\n      <td>NaN</td>\n      <td>45.34</td>\n      <td>10.1016/S0021-9614(71)80108-8</td>\n    </tr>\n  </tbody>\n</table>\n</div>"
     },
     "execution_count": 17,
     "metadata": {},
     "output_type": "execute_result"
    }
   ]
  },
  {
   "cell_type": "markdown",
   "metadata": {
    "collapsed": false,
    "pycharm": {
     "name": "#%% md\n"
    },
    "id": "XZDGlVrE3WQU",
    "colab_type": "text"
   },
   "source": [
    "## Conclusion\n",
    "\n",
    "We will finish off this tutorial by saving the data set we have created as a JSON file for future use:"
   ]
  },
  {
   "cell_type": "code",
   "metadata": {
    "pycharm": {
     "name": "#%%\n"
    },
    "id": "HrhoALaI3WQV",
    "colab_type": "code",
    "colab": {}
   },
   "source": [
    "data_set.json(\"filtered_data_set.json\", format=True);"
   ],
   "execution_count": 18,
   "outputs": []
  },
  {
   "cell_type": "markdown",
   "metadata": {
    "collapsed": false,
    "id": "8FmNVb3r3WQb",
    "colab_type": "text"
   },
   "source": [
    "And that concludes the first tutorial. For more information about data sets in the Evaluator framework check out the \n",
    "[data set](../datasets/physicalproperties.rst) and [ThermoML](../datasets/thermomldatasets.rst) documentation.\n",
    "\n",
    "In the next tutorial we will be estimating the data set we have created here using molecular simulation.\n",
    "\n",
    "If you have any questions and / or feedback, please open an issue on the\n",
    "[GitHub issue tracker](https://github.com/openforcefield/openff-evaluator/issues)."
   ]
  }
 ]
}

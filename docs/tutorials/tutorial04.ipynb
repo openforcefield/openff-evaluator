{
 "cells": [
  {
   "cell_type": "markdown",
   "metadata": {
    "colab_type": "text",
    "collapsed": false,
    "id": "lgtY-H9A--wi"
   },
   "source": [
    "# Tutorial 04 - Optimizing Force Fields\n",
    "\n",
    "[![Open In Colab](https://colab.research.google.com/assets/colab-badge.svg)](https://colab.research.google.com/github/openforcefield/openff-evaluator/blob/main/docs/tutorials/tutorial04.ipynb)\n",
    "\n",
    "In this tutorial we will be using the OpenFF Evaluator framework in combination with the fantastic [*ForceBalance*](\n",
    "https://github.com/leeping/forcebalance) software to optimize a molecular force field against the physical property data \n",
    "set we created in the [first tutorial](tutorial01.ipynb).\n",
    "\n",
    "*ForceBalance* offers a suite of tools for optimizing molecular force fields against a set of target data. Perhaps one of \n",
    "the most fundamental targets to fit against is experimental physical property data. Physical property data has been used \n",
    "extensively for decades to inform the values of non-bonded Van der Waals (VdW) interaction parameters (often referred to \n",
    "as Lennard-Jones parameters).\n",
    "\n",
    "*ForceBalance* is seamlessly integrated with the evaluator framework, using it to evaluate the deviations between\n",
    "target experimentally measured data points and those evaluated using the force field being optimized (as well as the \n",
    "gradient of those deviations with respect to the force field parameters being optimized).\n",
    "\n",
    "The tutorial will cover:\n",
    "\n",
    "- setting up the input files and directory structure required by ForceBalace.\n",
    "- setting up an `EvaluatorServer` for *ForceBalance* to connect to.\n",
    "- running *ForceBalance* using those input files.\n",
    "- extracting and plotting a number of statistics output during the optimization."
   ]
  },
  {
   "cell_type": "markdown",
   "metadata": {
    "colab_type": "text",
    "collapsed": false,
    "id": "cPgYOGJG--wj"
   },
   "source": [
    "*Note: If you are running this tutorial in google colab you will need to run a setup script instead of following the \n",
    "installation instructions:*"
   ]
  },
  {
   "cell_type": "code",
   "execution_count": 1,
   "metadata": {
    "colab": {},
    "colab_type": "code",
    "id": "OS7HuXMj--wn",
    "pycharm": {
     "name": "#%%\n"
    }
   },
   "outputs": [],
   "source": [
    "# !wget https://raw.githubusercontent.com/openforcefield/openff-evaluator/main/docs/tutorials/colab_setup.ipynb\n",
    "# %run colab_setup.ipynb"
   ]
  },
  {
   "cell_type": "markdown",
   "metadata": {
    "colab_type": "text",
    "collapsed": false,
    "id": "4JOt9Apq--wt"
   },
   "source": [
    "*For this tutorial make sure that you are using a GPU accelerated runtime.*\n",
    "\n",
    "For the sake of clarity all warnings will be disabled in this tutorial:"
   ]
  },
  {
   "cell_type": "code",
   "execution_count": 2,
   "metadata": {
    "colab": {},
    "colab_type": "code",
    "id": "k7tFiECf--wu",
    "pycharm": {
     "name": "#%%\n"
    }
   },
   "outputs": [],
   "source": [
    "import warnings\n",
    "\n",
    "warnings.filterwarnings(\"ignore\")\n",
    "import logging\n",
    "\n",
    "logging.getLogger(\"openforcefield\").setLevel(logging.ERROR)"
   ]
  },
  {
   "cell_type": "markdown",
   "metadata": {
    "colab_type": "text",
    "collapsed": false,
    "id": "sFwGxGQA--w0"
   },
   "source": [
    "We will also enable time-stamped logging to help track the progress of our calculations:"
   ]
  },
  {
   "cell_type": "code",
   "execution_count": 3,
   "metadata": {
    "colab": {},
    "colab_type": "code",
    "id": "nqp2BKbJ--w1",
    "pycharm": {
     "name": "#%%\n"
    }
   },
   "outputs": [],
   "source": [
    "from openff.evaluator.utils import setup_timestamp_logging\n",
    "\n",
    "setup_timestamp_logging()"
   ]
  },
  {
   "cell_type": "markdown",
   "metadata": {
    "colab_type": "text",
    "collapsed": false,
    "id": "cdnCJ18b--w6"
   },
   "source": [
    "## Setting up the ForceBalance Inputs\n",
    "\n",
    "In this section we will be creating the directory structure required by *ForceBalance*, and populating it with the \n",
    "required input files.\n",
    "\n",
    "### Creating the Directory Structure\n",
    "\n",
    "To begin with, we will create a directory to store the starting force field parameters in:"
   ]
  },
  {
   "cell_type": "code",
   "execution_count": 4,
   "metadata": {
    "colab": {},
    "colab_type": "code",
    "id": "Fp-lsXMt--w7",
    "pycharm": {
     "name": "#%%\n"
    }
   },
   "outputs": [
    {
     "name": "stdout",
     "output_type": "stream",
     "text": [
      "mkdir: cannot create directory ‘forcefield’: File exists\n"
     ]
    }
   ],
   "source": [
    "!mkdir forcefield"
   ]
  },
  {
   "cell_type": "markdown",
   "metadata": {
    "colab_type": "text",
    "collapsed": false,
    "id": "J7sd8tN8--w-"
   },
   "source": [
    "and one to store the input parameters for our 'fitting target' - in this case a data set of physical properties:"
   ]
  },
  {
   "cell_type": "code",
   "execution_count": 5,
   "metadata": {
    "colab": {},
    "colab_type": "code",
    "id": "_ZX45ta6--xA",
    "pycharm": {
     "name": "#%%\n"
    }
   },
   "outputs": [],
   "source": [
    "!mkdir -p targets/pure_data"
   ]
  },
  {
   "cell_type": "markdown",
   "metadata": {
    "colab_type": "text",
    "collapsed": false,
    "id": "dYYPy60I--xE"
   },
   "source": [
    "### Defining the Training Data Set\n",
    "\n",
    "With the directories created, we will next specify the data set of physical properties which we will be training the \n",
    "force field against:"
   ]
  },
  {
   "cell_type": "code",
   "execution_count": 6,
   "metadata": {
    "colab": {},
    "colab_type": "code",
    "id": "qlLsxPQm--xG",
    "pycharm": {
     "name": "#%%\n"
    }
   },
   "outputs": [],
   "source": [
    "# For convenience we will use the copy shipped with the framework\n",
    "from openff.evaluator.utils import get_data_filename\n",
    "\n",
    "data_set_path = get_data_filename(\"tutorials/tutorial01/filtered_data_set.json\")\n",
    "\n",
    "# Load the data set.\n",
    "from openff.evaluator.datasets import PhysicalPropertyDataSet\n",
    "\n",
    "data_set = PhysicalPropertyDataSet.from_json(data_set_path)\n",
    "\n",
    "# Due to a small bug in ForceBalance we need to zero out any uncertainties\n",
    "# which are undefined. This will be fixed in future versions.\n",
    "from openff.evaluator.attributes import UNDEFINED\n",
    "\n",
    "for physical_property in data_set:\n",
    "    if physical_property.uncertainty != UNDEFINED:\n",
    "        continue\n",
    "\n",
    "    physical_property.uncertainty = 0.0 * physical_property.default_unit()"
   ]
  },
  {
   "cell_type": "markdown",
   "metadata": {
    "colab_type": "text",
    "collapsed": false,
    "id": "GaPGpS4d--xL",
    "pycharm": {
     "name": "#%% md\n"
    }
   },
   "source": [
    "To speed up the runtime of this tutorial, we will only train the force field against measurements made for ethanol"
   ]
  },
  {
   "cell_type": "code",
   "execution_count": 7,
   "metadata": {
    "colab": {},
    "colab_type": "code",
    "id": "UD7Vim_u--xM",
    "pycharm": {
     "name": "#%%\n"
    }
   },
   "outputs": [
    {
     "name": "stdout",
     "output_type": "stream",
     "text": [
      "2023-02-12 12:52:22.703 INFO     2 data points were removed after applying the FilterBySmiles component.\n"
     ]
    }
   ],
   "source": [
    "from openff.evaluator.datasets.curation.components.filtering import (\n",
    "    FilterBySmiles,\n",
    "    FilterBySmilesSchema,\n",
    ")\n",
    "\n",
    "data_set = FilterBySmiles.apply(\n",
    "    data_set,\n",
    "    FilterBySmilesSchema(smiles_to_include=[\"CCO\"]),\n",
    ")"
   ]
  },
  {
   "cell_type": "markdown",
   "metadata": {
    "colab_type": "text",
    "collapsed": false,
    "id": "hDpgPpB4--xQ",
    "pycharm": {
     "name": "#%% md\n"
    }
   },
   "source": [
    "in real optimizations however the data set should be **much** larger than two data points!\n",
    "\n",
    "With those changes made, we can save the data set in our targets directory:"
   ]
  },
  {
   "cell_type": "code",
   "execution_count": 8,
   "metadata": {
    "colab": {},
    "colab_type": "code",
    "id": "MMsDtL9y--xR",
    "pycharm": {
     "name": "#%%\n"
    }
   },
   "outputs": [],
   "source": [
    "# Store the data set in the `pure_data` targets folder:\n",
    "data_set.json(\"targets/pure_data/training_set.json\");"
   ]
  },
  {
   "cell_type": "markdown",
   "metadata": {
    "colab_type": "text",
    "collapsed": false,
    "id": "5Zy5rehy--xV"
   },
   "source": [
    "### Defining the Starting Force Field Parameters\n",
    "\n",
    "We will use the OpenFF Parsley 1.0.0 force field as the starting parameters for the optimization. These can be loaded\n",
    "directly into an OpenFF `ForceField` object using the OpenFF toolkit:"
   ]
  },
  {
   "cell_type": "code",
   "execution_count": 9,
   "metadata": {
    "colab": {},
    "colab_type": "code",
    "id": "EaHKkQ61--xW",
    "pycharm": {
     "name": "#%%\n"
    }
   },
   "outputs": [
    {
     "name": "stdout",
     "output_type": "stream",
     "text": [
      "2023-02-12 12:52:23.261 INFO     Attempting to up-convert Electrostatics section from 0.3 to 0.4\n",
      "2023-02-12 12:52:23.262 INFO     Successfully up-converted Electrostatics section from 0.3 to 0.4. `method=\"PME\"` is now split into `periodic_potential=\"Ewald3D-ConductingBoundary\"`, `nonperiodic_potential=\"Coulomb\"`, and `exception_potential=\"Coulomb\"`.\n"
     ]
    }
   ],
   "source": [
    "from openff.toolkit.typing.engines.smirnoff import ForceField\n",
    "\n",
    "force_field = ForceField(\"openff-1.0.0.offxml\")"
   ]
  },
  {
   "cell_type": "markdown",
   "metadata": {
    "colab_type": "text",
    "collapsed": false,
    "id": "fCSYfufg--xa",
    "pycharm": {
     "name": "#%% md\n"
    }
   },
   "source": [
    "In order to use these parameters in *ForceBalance*, we need to 'tag' the individual parameters in the force field that\n",
    "we wish to optimize. The toolkit easily enables us to add these tags using cosmetic attributes:"
   ]
  },
  {
   "cell_type": "code",
   "execution_count": 10,
   "metadata": {
    "colab": {},
    "colab_type": "code",
    "id": "fFzLhLKE--xb",
    "pycharm": {
     "name": "#%%\n"
    }
   },
   "outputs": [],
   "source": [
    "# Extract the smiles of all unique components in our data set.\n",
    "from openff.toolkit.topology import Molecule, Topology\n",
    "\n",
    "all_smiles = {\n",
    "    component.smiles\n",
    "    for substance in data_set.substances\n",
    "    for component in substance.components\n",
    "}\n",
    "\n",
    "for smiles in all_smiles:\n",
    "    # Find those VdW parameters which would be applied to those components.\n",
    "    molecule = Molecule.from_smiles(smiles)\n",
    "    topology = Topology.from_molecules([molecule])\n",
    "\n",
    "    labels = force_field.label_molecules(topology)[0]\n",
    "\n",
    "    # Tag the exercised parameters as to be optimized.\n",
    "    for parameter in labels[\"vdW\"].values():\n",
    "        parameter.add_cosmetic_attribute(\"parameterize\", \"epsilon, rmin_half\")"
   ]
  },
  {
   "cell_type": "markdown",
   "metadata": {
    "colab_type": "text",
    "collapsed": false,
    "id": "cIs15IZl--xe",
    "pycharm": {
     "name": "#%% md\n"
    }
   },
   "source": [
    "Here we have made use of the toolkit's handy `label_molecules` function to see which VdW parameters will be assigned\n",
    "to the molecules in our data set, and tagged them to be parameterized.\n",
    "\n",
    "With those tags added, we can save the parameters in the `forcefield` directory:"
   ]
  },
  {
   "cell_type": "code",
   "execution_count": 11,
   "metadata": {
    "colab": {},
    "colab_type": "code",
    "id": "tOs0bcBo--xf",
    "pycharm": {
     "name": "#%%\n"
    }
   },
   "outputs": [],
   "source": [
    "# Save the annotated force field file.\n",
    "force_field.to_file(\"forcefield/openff-1.0.0-tagged.offxml\")"
   ]
  },
  {
   "cell_type": "markdown",
   "metadata": {
    "colab_type": "text",
    "collapsed": false,
    "id": "Zu8JXeni--xj"
   },
   "source": [
    "*Note: The force field parameters are stored in the [OpenFF SMIRNOFF XML format](https://open-forcefield-toolkit.readthedocs.io/en/0.6.0/smirnoff.html).*\n",
    "\n",
    "### Creating the Main Input File\n",
    "\n",
    "Next, we will create the main *ForceBalance* input file. For the sake of brevity a default input file which ships with \n",
    "this framework will be used:"
   ]
  },
  {
   "cell_type": "code",
   "execution_count": 12,
   "metadata": {
    "colab": {
     "base_uri": "https://localhost:8080/",
     "height": 34
    },
    "colab_type": "code",
    "id": "OnaiZmGW--xl",
    "outputId": "bffbe59b-b819-4307-d5fd-4f01fd2422e6",
    "pycharm": {
     "name": "#%%\n"
    }
   },
   "outputs": [
    {
     "data": {
      "text/plain": [
       "'optimize.in'"
      ]
     },
     "execution_count": 12,
     "metadata": {},
     "output_type": "execute_result"
    }
   ],
   "source": [
    "input_file_path = get_data_filename(\"tutorials/tutorial04/optimize.in\")\n",
    "\n",
    "# Copy the input file into our directory structure\n",
    "import shutil\n",
    "\n",
    "shutil.copyfile(input_file_path, \"optimize.in\")"
   ]
  },
  {
   "cell_type": "markdown",
   "metadata": {
    "colab_type": "text",
    "collapsed": false,
    "id": "Oxvx-yIo--xq"
   },
   "source": [
    "While there are many options that can be set within this file, the main options of interest for our purposes appear\n",
    "at the bottom of the file:"
   ]
  },
  {
   "cell_type": "code",
   "execution_count": 13,
   "metadata": {
    "colab": {
     "base_uri": "https://localhost:8080/",
     "height": 119
    },
    "colab_type": "code",
    "id": "vDgpFQUq--xr",
    "outputId": "bc95c1d2-991b-422d-e503-2b68fdd5e250",
    "pycharm": {
     "name": "#%%\n"
    }
   },
   "outputs": [
    {
     "name": "stdout",
     "output_type": "stream",
     "text": [
      "$target\n",
      "name pure_data\n",
      "type Evaluator_SMIRNOFF\n",
      "weight 1.0\n",
      "evaluator_input options.json\n",
      "$end"
     ]
    }
   ],
   "source": [
    "!tail -n 6 optimize.in"
   ]
  },
  {
   "cell_type": "markdown",
   "metadata": {
    "colab_type": "text",
    "collapsed": false,
    "id": "SleJoA3i--xu"
   },
   "source": [
    "Here we have specified that we wish to create a new *ForceBalance* `Evaluator_SMIRNOFF` target called `pure_data` \n",
    "(corresponding to the name of the directory we created in the earlier step).\n",
    " \n",
    "The main input to this target is the file path to an `options.json` file - it is this file which will specify all the\n",
    "options which should be used when *ForceBalance* requests that our target data set be estimated using the current sets\n",
    "of force field parameters.\n",
    "\n",
    "We will create this file in the `targets/pure_data` directory later in this section."
   ]
  },
  {
   "cell_type": "markdown",
   "metadata": {
    "colab_type": "text",
    "collapsed": false,
    "id": "DIUi886c--xv",
    "pycharm": {
     "name": "#%% md\n"
    }
   },
   "source": [
    "The data set is the JSON serialized representation of the `PhysicalPropertyDataSet` we created during the [first \n",
    "tutorial](tutorial01.ipynb).\n",
    "\n",
    "### Defining the Estimation Options\n",
    "\n",
    "The final step before we can start the optimization is to create the set of options which will govern how our data set\n",
    "is estimated using the Evaluator framework.\n",
    " \n",
    "These options will be stored in an `Evaluator_SMIRNOFF` object:"
   ]
  },
  {
   "cell_type": "code",
   "execution_count": 14,
   "metadata": {
    "colab": {},
    "colab_type": "code",
    "id": "Tyloz19F--xw",
    "pycharm": {
     "name": "#%% \n"
    }
   },
   "outputs": [
    {
     "name": "stdout",
     "output_type": "stream",
     "text": [
      "2023-02-12 12:52:24.104 WARNING  Warning: importing 'simtk.openmm' is deprecated.  Import 'openmm' instead.\n"
     ]
    }
   ],
   "source": [
    "from forcebalance.evaluator_io import Evaluator_SMIRNOFF\n",
    "\n",
    "# Create the ForceBalance options object\n",
    "target_options = Evaluator_SMIRNOFF.OptionsFile()\n",
    "# Set the path to the data set\n",
    "target_options.data_set_path = \"training_set.json\""
   ]
  },
  {
   "cell_type": "markdown",
   "metadata": {
    "colab_type": "text",
    "collapsed": false,
    "id": "mOy6-hgf--xz",
    "pycharm": {
     "name": "#%% md\n"
    }
   },
   "source": [
    "This object exposes both a set of *ForceBalance* specific options, as well as the set of Evaluator options. \n",
    "\n",
    "The *ForceBalance* specific options allow us to define how each type of property will contribute to the optimization\n",
    "objective function (the value which we are trying to minimize):\n",
    "\n",
    "$$\\Delta(\\theta) = \\sum^N_n \\dfrac{weight_n}{M_n} \\sum^{M_n}_m \\left(\\dfrac{y_m^{ref} - y_m(\\theta)}{denominator_{n}}\\right)^2$$ \n",
    "\n",
    "where $N$ is the number of types of properties (e.g. density, enthalpy of vaporization, etc.), $M_n$ is the number of\n",
    "data points of type $n$, $y_m^{ref}$ is the experimental value of data point $m$ and $y_m(\\theta)$ is the estimated \n",
    "value of data point $m$ using the current force field parameters\n",
    "\n",
    "In particular, the options object allows us to specify both an amount to scale each type of properties contribution to \n",
    "the objective function by ($weight_n$), and the amount to scale the difference between the experimental and estimated\n",
    "properties ($denominator_n$):"
   ]
  },
  {
   "cell_type": "code",
   "execution_count": 15,
   "metadata": {
    "colab": {},
    "colab_type": "code",
    "id": "yLM9plwn--xz",
    "pycharm": {
     "name": "#%%\n"
    }
   },
   "outputs": [],
   "source": [
    "from openff.units import unit\n",
    "\n",
    "target_options.weights = {\"Density\": 1.0, \"EnthalpyOfVaporization\": 1.0}\n",
    "target_options.denominators = {\n",
    "    \"Density\": 30.0 * unit.kilogram / unit.meter**3,\n",
    "    \"EnthalpyOfVaporization\": 3.0 * unit.kilojoule / unit.mole,\n",
    "}"
   ]
  },
  {
   "cell_type": "markdown",
   "metadata": {
    "colab_type": "text",
    "collapsed": false,
    "id": "JfdFCewd--x3",
    "pycharm": {
     "name": "#%% md\n"
    }
   },
   "source": [
    " \n",
    "where here we have chosen values that ensure that both types of properties contribute roughly equally to the total\n",
    "objective function.\n",
    "\n",
    "The Evaluator specific options correspond to a standard `RequestOptions` object:"
   ]
  },
  {
   "cell_type": "code",
   "execution_count": 16,
   "metadata": {
    "colab": {},
    "colab_type": "code",
    "id": "70fNiyjg--x4",
    "pycharm": {
     "name": "#%%\n"
    }
   },
   "outputs": [],
   "source": [
    "from openff.evaluator.client import RequestOptions\n",
    "\n",
    "# Create the options which evaluator should use.\n",
    "evaluator_options = RequestOptions()\n",
    "# Choose which calculation layers to make available.\n",
    "evaluator_options.calculation_layers = [\"SimulationLayer\"]\n",
    "\n",
    "# Reduce the default number of molecules\n",
    "from openff.evaluator.properties import Density, EnthalpyOfVaporization\n",
    "\n",
    "density_schema = Density.default_simulation_schema(n_molecules=256)\n",
    "h_vap_schema = EnthalpyOfVaporization.default_simulation_schema(n_molecules=256)\n",
    "\n",
    "evaluator_options.add_schema(\"SimulationLayer\", \"Density\", density_schema)\n",
    "evaluator_options.add_schema(\"SimulationLayer\", \"EnthalpyOfVaporization\", h_vap_schema)\n",
    "\n",
    "target_options.estimation_options = evaluator_options"
   ]
  },
  {
   "cell_type": "markdown",
   "metadata": {
    "colab_type": "text",
    "collapsed": false,
    "id": "O4-QdP-E--x7",
    "pycharm": {
     "name": "#%% md\n"
    }
   },
   "source": [
    "These options allow us to control exactly how each type of property should be estimated, which calculation approaches\n",
    "should be used and more. Here we use the same options are were used in the [second tutorial](tutorial02.ipynb)\n",
    "\n",
    "*Note: more information about the different estimation options can be [found here](../gettingstarted/client.rst)*"
   ]
  },
  {
   "cell_type": "markdown",
   "metadata": {
    "colab_type": "text",
    "collapsed": false,
    "id": "0qXKzNY7--x8",
    "pycharm": {
     "name": "#%% md\n"
    }
   },
   "source": [
    "And that's the options created! We will finish off by serializing the options into our target directory:"
   ]
  },
  {
   "cell_type": "code",
   "execution_count": 17,
   "metadata": {
    "colab": {},
    "colab_type": "code",
    "id": "7TNFFE75--x9",
    "pycharm": {
     "name": "#%%\n"
    }
   },
   "outputs": [],
   "source": [
    "# Save the options to file.\n",
    "with open(\"targets/pure_data/options.json\", \"w\") as file:\n",
    "    file.write(target_options.to_json())"
   ]
  },
  {
   "cell_type": "markdown",
   "metadata": {
    "colab_type": "text",
    "collapsed": false,
    "id": "vZkeoQTV--yA",
    "pycharm": {
     "name": "#%% md\n"
    }
   },
   "source": [
    "## Launching an Evaluator Server\n",
    "\n",
    "With the *ForceBalance* options created, we can now move onto launching the `EvaluatorServer` which *ForceBalance* will \n",
    "call out to when it needs the data set to be evaluated:"
   ]
  },
  {
   "cell_type": "code",
   "execution_count": 18,
   "metadata": {
    "colab": {
     "base_uri": "https://localhost:8080/",
     "height": 34
    },
    "colab_type": "code",
    "id": "Jdr55Aez--yA",
    "outputId": "b56f258e-55c3-4e21-ae0c-fb939c37a95e",
    "pycharm": {
     "name": "#%%\n"
    }
   },
   "outputs": [
    {
     "name": "stdout",
     "output_type": "stream",
     "text": [
      "2023-02-12 12:52:25.437 INFO     To route to workers diagnostics web server please install jupyter-server-proxy: python -m pip install jupyter-server-proxy\n",
      "2023-02-12 12:52:25.470 INFO     State start\n",
      "2023-02-12 12:52:25.473 INFO       Scheduler at: inproc://172.18.240.125/3801/1\n",
      "2023-02-12 12:52:25.474 INFO       dashboard at:            localhost:8787\n",
      "2023-02-12 12:52:25.477 INFO     Found stale lock file and directory '/tmp/dask-worker-space/worker-fvyx2ber', purging\n",
      "2023-02-12 12:52:25.478 INFO     Found stale lock file and directory '/tmp/dask-worker-space/worker-69aiok5o', purging\n",
      "2023-02-12 12:52:25.483 INFO           Start worker at: inproc://172.18.240.125/3801/4\n",
      "2023-02-12 12:52:25.484 INFO              Listening to:       inproc172.18.240.125\n",
      "2023-02-12 12:52:25.485 INFO               Worker name:                          0\n",
      "2023-02-12 12:52:25.486 INFO              dashboard at:       172.18.240.125:33181\n",
      "2023-02-12 12:52:25.486 INFO     Waiting to connect to: inproc://172.18.240.125/3801/1\n",
      "2023-02-12 12:52:25.487 INFO     -------------------------------------------------\n",
      "2023-02-12 12:52:25.488 INFO                   Threads:                          1\n",
      "2023-02-12 12:52:25.489 INFO                    Memory:                  31.21 GiB\n",
      "2023-02-12 12:52:25.489 INFO           Local Directory: /tmp/dask-worker-space/worker-b391dkei\n",
      "2023-02-12 12:52:25.490 INFO     -------------------------------------------------\n",
      "2023-02-12 12:52:25.494 INFO     Register worker <WorkerState 'inproc://172.18.240.125/3801/4', name: 0, status: init, memory: 0, processing: 0>\n",
      "2023-02-12 12:52:25.495 INFO     Starting worker compute stream, inproc://172.18.240.125/3801/4\n",
      "2023-02-12 12:52:25.496 INFO     Starting established connection to inproc://172.18.240.125/3801/5\n",
      "2023-02-12 12:52:25.497 INFO             Registered to: inproc://172.18.240.125/3801/1\n",
      "2023-02-12 12:52:25.498 INFO     -------------------------------------------------\n",
      "2023-02-12 12:52:25.499 INFO     Starting established connection to inproc://172.18.240.125/3801/1\n",
      "2023-02-12 12:52:25.504 INFO     Receive client connection: Client-2794d227-ab17-11ed-8ed9-00155d6cdbaa\n",
      "2023-02-12 12:52:25.505 INFO     Starting established connection to inproc://172.18.240.125/3801/6\n",
      "2023-02-12 12:52:25.616 INFO     Server listening at port 8000\n"
     ]
    }
   ],
   "source": [
    "import os\n",
    "\n",
    "# Launch the calculation backend which will distribute any calculations.\n",
    "from openff.evaluator.backends import ComputeResources\n",
    "from openff.evaluator.backends.dask import DaskLocalCluster\n",
    "\n",
    "os.environ[\"CUDA_VISIBLE_DEVICES\"] = \"0\"\n",
    "\n",
    "calculation_backend = DaskLocalCluster(\n",
    "    number_of_workers=1,\n",
    "    resources_per_worker=ComputeResources(\n",
    "        number_of_threads=1,\n",
    "        number_of_gpus=1,\n",
    "        preferred_gpu_toolkit=ComputeResources.GPUToolkit.CUDA,\n",
    "    ),\n",
    ")\n",
    "calculation_backend.start()\n",
    "\n",
    "# Launch the server object which will listen for estimation requests and schedule any\n",
    "# required calculations.\n",
    "from openff.evaluator.server import EvaluatorServer\n",
    "\n",
    "evaluator_server = EvaluatorServer(calculation_backend=calculation_backend)\n",
    "evaluator_server.start(asynchronous=True)"
   ]
  },
  {
   "cell_type": "markdown",
   "metadata": {
    "colab_type": "text",
    "collapsed": false,
    "id": "R2QFxF68--yF"
   },
   "source": [
    "We will not go into the details of this here as this was already covered in the [second tutorial](tutorial02.ipynb)\n",
    "\n",
    "## Running ForceBalance\n",
    "\n",
    "With the inputs created and an Evaluator server spun up, we are finally ready to run the optimization! This can be \n",
    "accomplished with a single command:"
   ]
  },
  {
   "cell_type": "code",
   "execution_count": 19,
   "metadata": {
    "colab": {},
    "colab_type": "code",
    "id": "mKt1jGxI--yG",
    "pycharm": {
     "name": "#%%\n"
    }
   },
   "outputs": [
    {
     "name": "stdout",
     "output_type": "stream",
     "text": [
      "Output will be written to optimize.out\n",
      "#=====================================#\n",
      "#|     For black and white mode,     |#\n",
      "#|      Run this script with -b      |#\n",
      "#=====================================#\n",
      "#======================================================================#\n",
      "#| \u001b[1m            Welcome to ForceBalance version 1.9.5! =D             \u001b[0m |#\n",
      "#| \u001b[1m                 Force Field Optimization System                  \u001b[0m |#\n",
      "#| \u001b[1m                                                                  \u001b[0m |#\n",
      "#| \u001b[1m                             Authors:                             \u001b[0m |#\n",
      "#| \u001b[1m                          Lee-Ping Wang                           \u001b[0m |#\n",
      "#| \u001b[1m                  Yudong Qiu, Keri A. McKiernan                   \u001b[0m |#\n",
      "#| \u001b[1m          Jeffrey R. Wagner, Hyesu Jang, Simon Boothroyd          \u001b[0m |#\n",
      "#| \u001b[1m          Arthur Vigil, Erik G. Brandt, John Stoppelman           \u001b[0m |#\n",
      "#| \u001b[1m                  Johnny Israeli, Matt Thompson                   \u001b[0m |#\n",
      "#======================================================================#\n",
      "\n",
      "                          \u001b[44m     \u001b[0m                                        \n",
      "                       \u001b[44m        \u001b[0m      \u001b[43m     \u001b[0m                              \n",
      "                    \u001b[44m        \u001b[0m   \u001b[44m  \u001b[0m    \u001b[43m         \u001b[0m                          \n",
      "                 \u001b[44m       \u001b[0m    \u001b[44m      \u001b[0m      \u001b[43m         \u001b[0m                       \n",
      "             \u001b[44m        \u001b[0m    \u001b[44m        \u001b[0m          \u001b[43m         \u001b[0m                    \n",
      "          \u001b[44m        \u001b[0m    \u001b[44m        \u001b[0m                 \u001b[43m        \u001b[0m                 \n",
      "       \u001b[44m        \u001b[0m    \u001b[44m       \u001b[0m                        \u001b[43m        \u001b[0m              \n",
      "    \u001b[44m        \u001b[0m   \u001b[44m        \u001b[0m                              \u001b[43m         \u001b[0m          \n",
      "   \u001b[44m      \u001b[0m   \u001b[44m        \u001b[0m               `.:+@@###@'          \u001b[43m         \u001b[0m       \n",
      "    \u001b[44m \u001b[0m    \u001b[44m        \u001b[0m          ,;'+###############.             \u001b[43m     \u001b[0m       \n",
      "      \u001b[44m        \u001b[0m         +################':`                    \u001b[43m \u001b[0m        \n",
      "      \u001b[44m     \u001b[0m              `.,,...####+.                                  \n",
      "                                ,#####      +##.               \u001b[44m   \u001b[0m   \u001b[44m   \u001b[0m\n",
      " \u001b[43m    \u001b[0m                            #####      ######             \u001b[44m   \u001b[0m   \u001b[44m   \u001b[0m\n",
      " \u001b[43m    \u001b[0m                ###'        ####'     :#####'             \u001b[44m   \u001b[0m   \u001b[44m   \u001b[0m\n",
      " \u001b[43m    \u001b[0m                :####@      ####.    ,####'               \u001b[44m   \u001b[0m   \u001b[44m   \u001b[0m\n",
      " \u001b[43m    \u001b[0m                 ######     ####    +###+                 \u001b[44m   \u001b[0m   \u001b[44m   \u001b[0m\n",
      " \u001b[43m    \u001b[0m                  #####     ####   ###;                   \u001b[44m   \u001b[0m   \u001b[44m   \u001b[0m\n",
      " \u001b[43m    \u001b[0m                   :##      ####  ++`                     \u001b[44m   \u001b[0m   \u001b[44m   \u001b[0m\n",
      " \u001b[43m    \u001b[0m                            ####``..:;+##############+`   \u001b[44m   \u001b[0m   \u001b[44m   \u001b[0m\n",
      " \u001b[43m    \u001b[0m             .,:;;'++##################################`  \u001b[44m   \u001b[0m   \u001b[44m   \u001b[0m\n",
      " \u001b[43m    \u001b[0m    `############################++++''';;;;;;;;;;;'';    \u001b[44m   \u001b[0m   \u001b[44m   \u001b[0m\n",
      " \u001b[43m    \u001b[0m      ,########':,.``       ####                          \u001b[44m   \u001b[0m   \u001b[44m   \u001b[0m\n",
      " \u001b[43m    \u001b[0m                            ####                          \u001b[44m   \u001b[0m   \u001b[44m   \u001b[0m\n",
      " \u001b[43m    \u001b[0m                            ####                          \u001b[44m   \u001b[0m   \u001b[44m   \u001b[0m\n",
      " \u001b[43m    \u001b[0m                            ####                          \u001b[44m   \u001b[0m   \u001b[44m   \u001b[0m\n",
      " \u001b[43m    \u001b[0m                            ####                          \u001b[44m   \u001b[0m   \u001b[44m   \u001b[0m\n",
      " \u001b[43m    \u001b[0m                            ####                          \u001b[44m   \u001b[0m   \u001b[44m   \u001b[0m\n",
      " \u001b[43m    \u001b[0m                            ####                          \u001b[44m   \u001b[0m   \u001b[44m   \u001b[0m\n",
      " \u001b[43m    \u001b[0m                            ####                          \u001b[44m   \u001b[0m   \u001b[44m   \u001b[0m\n",
      "      \u001b[44m    \u001b[0m                       ####                                   \n",
      "     \u001b[44m        \u001b[0m                    ####                                   \n",
      "    \u001b[44m \u001b[0m    \u001b[44m       \u001b[0m                 ####                       \u001b[43m     \u001b[0m       \n",
      "   \u001b[44m     \u001b[0m    \u001b[44m        \u001b[0m             ####                    \u001b[43m        \u001b[0m       \n",
      "   \u001b[44m        \u001b[0m    \u001b[44m        \u001b[0m          ###                  \u001b[43m         \u001b[0m         \n",
      "      \u001b[44m        \u001b[0m    \u001b[44m        \u001b[0m        +`               \u001b[43m        \u001b[0m             \n",
      "          \u001b[44m        \u001b[0m   \u001b[44m        \u001b[0m                   \u001b[43m        \u001b[0m                \n",
      "             \u001b[44m        \u001b[0m   \u001b[44m         \u001b[0m           \u001b[43m         \u001b[0m                   \n",
      "                \u001b[44m        \u001b[0m    \u001b[44m       \u001b[0m      \u001b[43m         \u001b[0m                      \n",
      "                   \u001b[44m        \u001b[0m    \u001b[44m   \u001b[0m    \u001b[43m        \u001b[0m                          \n",
      "                      \u001b[44m        \u001b[0m       \u001b[43m      \u001b[0m                             \n",
      "                          \u001b[44m      \u001b[0m      \u001b[43m  \u001b[0m                                \n",
      "                             \u001b[44m  \u001b[0m                                         \n",
      "\n",
      "Reading options from file: optimize.in\n",
      "#========================================================#\n",
      "#| \u001b[95m  Options at their default values are not printed   \u001b[0m |#\n",
      "#| \u001b[95m        Use 'verbose_options True' to Enable        \u001b[0m |#\n",
      "#========================================================#\n",
      "Reading force field from file: openff-1.0.0-tagged.offxml\n",
      "#=========================================================#\n",
      "#| \u001b[92m Starting parameter indices, physical values and IDs \u001b[0m |#\n",
      "#=========================================================#\n",
      "   0 [  1.5700e-02 ] : vdW/Atom/epsilon/[#1:1]-[#6X4]\n",
      "   1 [  1.4870e+00 ] : vdW/Atom/rmin_half/[#1:1]-[#6X4]\n",
      "   2 [  1.5700e-02 ] : vdW/Atom/epsilon/[#1:1]-[#6X4]-[#7,#8,#9,#16,#17,#35]\n",
      "   3 [  1.3870e+00 ] : vdW/Atom/rmin_half/[#1:1]-[#6X4]-[#7,#8,#9,#16,#17,#35]\n",
      "   4 [  5.2700e-05 ] : vdW/Atom/epsilon/[#1:1]-[#8]\n",
      "   5 [  3.0000e-01 ] : vdW/Atom/rmin_half/[#1:1]-[#8]\n",
      "   6 [  1.0940e-01 ] : vdW/Atom/epsilon/[#6X4:1]\n",
      "   7 [  1.9080e+00 ] : vdW/Atom/rmin_half/[#6X4:1]\n",
      "   8 [  2.1040e-01 ] : vdW/Atom/epsilon/[#8X2H1+0:1]\n",
      "   9 [  1.7210e+00 ] : vdW/Atom/rmin_half/[#8X2H1+0:1]\n",
      "-----------------------------------------------------------\n",
      "#=========================================================#\n",
      "#| \u001b[91m Rescaling Factors by Type (Lower Takes Precedence): \u001b[0m |#\n",
      "#=========================================================#\n",
      "   vdW/Atom/epsilon                     : 1.00000e-01\n",
      "   vdW/Atom/rmin_half                   : 1.00000e+00\n",
      "-----------------------------------------------------------\n",
      "#========================================================#\n",
      "#| \u001b[91m   Rescaling Types / Factors by Parameter Number:   \u001b[0m |#\n",
      "#========================================================#\n",
      "   0 [    vdW/Atom/epsilon              : 1.00000e-01 ] : vdW/Atom/epsilon/[#1:1]-[#6X4]\n",
      "   1 [    vdW/Atom/rmin_half            : 1.00000e+00 ] : vdW/Atom/rmin_half/[#1:1]-[#6X4]\n",
      "   2 [    vdW/Atom/epsilon              : 1.00000e-01 ] : vdW/Atom/epsilon/[#1:1]-[#6X4]-[#7,#8,#9,#16,#17,#35]\n",
      "   3 [    vdW/Atom/rmin_half            : 1.00000e+00 ] : vdW/Atom/rmin_half/[#1:1]-[#6X4]-[#7,#8,#9,#16,#17,#35]\n",
      "   4 [    vdW/Atom/epsilon              : 1.00000e-01 ] : vdW/Atom/epsilon/[#1:1]-[#8]\n",
      "   5 [    vdW/Atom/rmin_half            : 1.00000e+00 ] : vdW/Atom/rmin_half/[#1:1]-[#8]\n",
      "   6 [    vdW/Atom/epsilon              : 1.00000e-01 ] : vdW/Atom/epsilon/[#6X4:1]\n",
      "   7 [    vdW/Atom/rmin_half            : 1.00000e+00 ] : vdW/Atom/rmin_half/[#6X4:1]\n",
      "   8 [    vdW/Atom/epsilon              : 1.00000e-01 ] : vdW/Atom/epsilon/[#8X2H1+0:1]\n",
      "   9 [    vdW/Atom/rmin_half            : 1.00000e+00 ] : vdW/Atom/rmin_half/[#8X2H1+0:1]\n",
      "----------------------------------------------------------\n",
      "#========================================================#\n",
      "#| \u001b[92m               Setup for force field                \u001b[0m |#\n",
      "#========================================================#\n",
      "fnms                      ['openff-1.0.0-tagged.offxml'] \n",
      "priors                    OrderedDict([('vdW/Atom/epsilon', 0.1), ('vdW/Atom/rmin_half', 1.0)]) \n",
      "----------------------------------------------------------\n",
      "targets/pure_data/options.json\n",
      "#========================================================#\n",
      "#| \u001b[92m             Loaded experimental data.              \u001b[0m |#\n",
      "#========================================================#\n",
      "#========================================================#\n",
      "#| \u001b[92m        Reference CCO{solv}{x=1.000000} data        \u001b[0m |#\n",
      "#========================================================#\n",
      "Density 298.15 kelvin-101.325 kilopascal 785.0700000000002 kilogram / meter ** 3+/-0.0 kilogram / meter ** 3 \n",
      "EnthalpyOfVaporization 298.15 kelvin-101.325 kilopascal 42.26 kilojoule / mole+/-0.02 kilojoule / mole \n",
      "----------------------------------------------------------\n",
      "#========================================================#\n",
      "#| \u001b[92m            Setup for target pure_data :            \u001b[0m |#\n",
      "#========================================================#\n",
      "name                      pure_data \n",
      "type                      EVALUATOR_SMIRNOFF \n",
      "tgtdir                    targets/pure_data \n",
      "evaluator_input           options.json \n",
      "----------------------------------------------------------\n",
      "#========================================================#\n",
      "#| \u001b[92m        SMIRNOFF Parameter Coverage Analysis        \u001b[0m |#\n",
      "#========================================================#\n",
      "Force field assignment data written to /home/wyan/Workspace/openff-evaluator/docs/tutorials/smirnoff_parameter_assignments.json\n",
      " idx Parameter                                                                                                   Count\n",
      "----------------------------------------------------------------------------------------------------------------------\n",
      "   0 vdW/Atom/epsilon/[#1:1]-[#6X4]                                                                       :          0\n",
      "   1 vdW/Atom/rmin_half/[#1:1]-[#6X4]                                                                     :          0\n",
      "   2 vdW/Atom/epsilon/[#1:1]-[#6X4]-[#7,#8,#9,#16,#17,#35]                                                :          0\n",
      "   3 vdW/Atom/rmin_half/[#1:1]-[#6X4]-[#7,#8,#9,#16,#17,#35]                                              :          0\n",
      "   4 vdW/Atom/epsilon/[#1:1]-[#8]                                                                         :          0\n",
      "   5 vdW/Atom/rmin_half/[#1:1]-[#8]                                                                       :          0\n",
      "   6 vdW/Atom/epsilon/[#6X4:1]                                                                            :          0\n",
      "   7 vdW/Atom/rmin_half/[#6X4:1]                                                                          :          0\n",
      "   8 vdW/Atom/epsilon/[#8X2H1+0:1]                                                                        :          0\n",
      "   9 vdW/Atom/rmin_half/[#8X2H1+0:1]                                                                      :          0\n",
      "SMIRNOFF Parameter Coverage Analysis result: 0/10 parameters are covered.\n",
      "----------------------------------------------------------------------------------------------------------------------\n",
      "Using parabolic regularization (Gaussian prior) with strength 1.0e+00 (+), 0.0e+00 (x)\n",
      "#========================================================#\n",
      "#| \u001b[92m           Setup for objective function :           \u001b[0m |#\n",
      "#========================================================#\n",
      "penalty_additive          1.0 \n",
      "normalize_weights         False \n",
      "----------------------------------------------------------\n",
      "#========================================================#\n",
      "#| \u001b[92m                Setup for optimizer                 \u001b[0m |#\n",
      "#========================================================#\n",
      "jobtype                   OPTIMIZE \n",
      "trust0                    0.25 \n",
      "mintrust                  0.05 \n",
      "eps                       0.01 \n",
      "convergence_objective     0.1 \n",
      "convergence_step          0.1 \n",
      "convergence_gradient      0.1 \n",
      "maxstep                   4 \n",
      "adapt_fac                 0.2 \n",
      "adapt_damp                1.0 \n",
      "print_hess                True \n",
      "err_tol                   1.0 \n",
      "input_file                optimize.in \n",
      "----------------------------------------------------------\n",
      "Calculation started at 2023-02-12 12:52 PM\n",
      "#========================================================#\n",
      "#| \u001b[1m                  Main Optimizer                    \u001b[0m |#\n",
      "#| \u001b[1m   Newton-Raphson Method (Adaptive Trust Radius)    \u001b[0m |#\n",
      "#| \u001b[1m                                                    \u001b[0m |#\n",
      "#| \u001b[1m       \u001b[0mConvergence criteria (1 of 3 needed):        \u001b[0m |#\n",
      "#| \u001b[1m          \u001b[0mObjective Function  : 1.000e-01           \u001b[0m |#\n",
      "#| \u001b[1m          \u001b[0mNorm of Gradient    : 1.000e-01           \u001b[0m |#\n",
      "#| \u001b[1m          \u001b[0mParameter step size : 1.000e-01           \u001b[0m |#\n",
      "#========================================================#\n",
      "#========================================================#\n",
      "#|       Color Key for Objective Function -=X2=-        |#\n",
      "#|  \u001b[1mBold\u001b[0m = Initial step                                 |#\n",
      "#|  \u001b[92mGreen = Current lowest value of objective function\u001b[0m  |#\n",
      "#|  \u001b[91mRed = Objective function rises, step rejected\u001b[0m       |#\n",
      "#|  \u001b[0mNo color = Not at the lowest value                  |#\n",
      "#========================================================#\n",
      "#========================================================#\n",
      "#| \u001b[94m     Iteration 0: Evaluating objective function     \u001b[0m |#\n",
      "#| \u001b[94m        and derivatives through second order        \u001b[0m |#\n",
      "#========================================================#\n",
      "2023-02-12 12:52:29.495 INFO     Received estimation request from ('127.0.0.1', 35792)\n",
      "2023-02-12 12:52:29.602 INFO     Launching batch 90d0613348ed468883afe87e16644ac7 using the SimulationLayer layer\n",
      "2023-02-12 12:52:29.604 INFO     Building workflow 0 of 2\n",
      "Requesting the estimation of 2 properties, and their gradients with respect to 10 parameters.\n",
      "2023-02-12 12:52:30.062 INFO     Building workflow 1 of 2\n",
      "2023-02-12 12:52:30.777 INFO     Launching a job with access to GPUs 0\n",
      "2023-02-12 12:52:30.853 INFO     Executing 4f0b3bf451bf417395857db8401a004f|build_coordinates_liquid\n",
      "2023-02-12 12:52:31.627 INFO     4f0b3bf451bf417395857db8401a004f|build_coordinates_liquid finished executing after 771.1240019998513 ms\n",
      "2023-02-12 12:52:31.650 INFO     Launching a job with access to GPUs 0\n",
      "2023-02-12 12:52:31.689 INFO     Executing 4f0b3bf451bf417395857db8401a004f|build_coordinates_gas\n",
      "2023-02-12 12:52:31.815 INFO     4f0b3bf451bf417395857db8401a004f|build_coordinates_gas finished executing after 123.47989999989295 ms\n",
      "2023-02-12 12:52:31.836 INFO     Launching a job with access to GPUs 0\n",
      "2023-02-12 12:52:31.873 INFO     Executing 4f0b3bf451bf417395857db8401a004f|assign_parameters_liquid\n",
      "2023-02-12 12:52:37.957 INFO     4f0b3bf451bf417395857db8401a004f|assign_parameters_liquid finished executing after 6081.669509999756 ms\n",
      "2023-02-12 12:52:37.984 INFO     Launching a job with access to GPUs 0\n",
      "2023-02-12 12:52:38.018 INFO     Executing 4f0b3bf451bf417395857db8401a004f|assign_parameters_gas\n",
      "2023-02-12 12:52:38.850 INFO     4f0b3bf451bf417395857db8401a004f|assign_parameters_gas finished executing after 829.4646009999269 ms\n",
      "2023-02-12 12:52:38.874 INFO     Launching a job with access to GPUs 0\n",
      "2023-02-12 12:52:38.920 INFO     Executing 4f0b3bf451bf417395857db8401a004f|energy_minimisation_liquid\n",
      "2023-02-12 12:52:38.927 INFO     Setting up an openmm platform on GPU 0 with CUDA kernel and mixed precision\n",
      "2023-02-12 12:52:43.484 INFO     4f0b3bf451bf417395857db8401a004f|energy_minimisation_liquid finished executing after 4561.857965999934 ms\n",
      "2023-02-12 12:52:43.551 INFO     Launching a job with access to GPUs 0\n",
      "2023-02-12 12:52:43.602 INFO     Executing 4f0b3bf451bf417395857db8401a004f|energy_minimisation_gas\n",
      "2023-02-12 12:52:43.611 INFO     Setting up an openmm platform on GPU 0 with CUDA kernel and mixed precision\n",
      "2023-02-12 12:52:43.966 INFO     4f0b3bf451bf417395857db8401a004f|energy_minimisation_gas finished executing after 361.14639699962936 ms\n",
      "2023-02-12 12:52:44.008 INFO     Launching a job with access to GPUs 0\n",
      "2023-02-12 12:52:44.071 INFO     Executing 4f0b3bf451bf417395857db8401a004f|equilibration_simulation_liquid\n",
      "2023-02-12 12:52:44.187 INFO     Setting up an openmm platform on GPU 0 with CUDA kernel and mixed precision\n",
      "2023-02-12 12:52:45.463 INFO     No checkpoint files were found.\n",
      "2023-02-12 12:53:54.866 INFO     4f0b3bf451bf417395857db8401a004f|equilibration_simulation_liquid finished executing after 70791.597894 ms\n",
      "2023-02-12 12:53:55.203 INFO     Launching a job with access to GPUs 0\n",
      "2023-02-12 12:53:55.258 INFO     Executing 4f0b3bf451bf417395857db8401a004f|equilibration_simulation_gas\n",
      "2023-02-12 12:53:55.361 INFO     Setting up a simulation with 1 threads\n",
      "2023-02-12 12:53:55.380 INFO     No checkpoint files were found.\n",
      "2023-02-12 12:53:57.292 INFO     4f0b3bf451bf417395857db8401a004f|equilibration_simulation_gas finished executing after 2030.9146519998649 ms\n",
      "2023-02-12 12:53:57.317 INFO     Launching a job with access to GPUs 0\n",
      "2023-02-12 12:53:57.397 INFO     Executing 4f0b3bf451bf417395857db8401a004f|conditional_group\n",
      "2023-02-12 12:53:57.418 INFO     Executing 4f0b3bf451bf417395857db8401a004f|production_simulation_liquid\n",
      "2023-02-12 12:53:57.530 INFO     Setting up an openmm platform on GPU 0 with CUDA kernel and mixed precision\n",
      "2023-02-12 12:53:58.639 INFO     No checkpoint files were found.\n",
      "2023-02-12 13:06:59.109 INFO     Setting up an openmm platform on GPU 0 with CUDA kernel and double precision\n",
      "2023-02-12 13:07:04.842 INFO     Setting up an openmm platform on GPU 0 with CUDA kernel and double precision\n",
      "2023-02-12 13:07:11.142 INFO     Setting up an openmm platform on GPU 0 with CUDA kernel and double precision\n",
      "2023-02-12 13:07:14.648 INFO     Setting up an openmm platform on GPU 0 with CUDA kernel and double precision\n",
      "2023-02-12 13:07:20.483 INFO     Setting up an openmm platform on GPU 0 with CUDA kernel and double precision\n",
      "2023-02-12 13:07:23.928 INFO     Setting up an openmm platform on GPU 0 with CUDA kernel and double precision\n",
      "2023-02-12 13:07:29.870 INFO     Setting up an openmm platform on GPU 0 with CUDA kernel and double precision\n",
      "2023-02-12 13:07:33.278 INFO     Setting up an openmm platform on GPU 0 with CUDA kernel and double precision\n",
      "2023-02-12 13:07:39.173 INFO     Setting up an openmm platform on GPU 0 with CUDA kernel and double precision\n",
      "2023-02-12 13:07:42.591 INFO     Setting up an openmm platform on GPU 0 with CUDA kernel and double precision\n",
      "2023-02-12 13:07:48.535 INFO     Setting up an openmm platform on GPU 0 with CUDA kernel and double precision\n",
      "2023-02-12 13:07:51.958 INFO     Setting up an openmm platform on GPU 0 with CUDA kernel and double precision\n",
      "2023-02-12 13:07:57.887 INFO     Setting up an openmm platform on GPU 0 with CUDA kernel and double precision\n",
      "2023-02-12 13:08:01.294 INFO     Setting up an openmm platform on GPU 0 with CUDA kernel and double precision\n",
      "2023-02-12 13:08:07.199 INFO     Setting up an openmm platform on GPU 0 with CUDA kernel and double precision\n",
      "2023-02-12 13:08:10.620 INFO     Setting up an openmm platform on GPU 0 with CUDA kernel and double precision\n",
      "2023-02-12 13:08:16.531 INFO     Setting up an openmm platform on GPU 0 with CUDA kernel and double precision\n",
      "2023-02-12 13:08:19.924 INFO     Setting up an openmm platform on GPU 0 with CUDA kernel and double precision\n",
      "2023-02-12 13:08:25.852 INFO     Setting up an openmm platform on GPU 0 with CUDA kernel and double precision\n",
      "2023-02-12 13:08:29.266 INFO     Setting up an openmm platform on GPU 0 with CUDA kernel and double precision\n",
      "2023-02-12 13:08:32.634 INFO     4f0b3bf451bf417395857db8401a004f|production_simulation_liquid finished executing after 875213.714389 ms\n",
      "2023-02-12 13:08:32.726 INFO     Executing 3b3bf3f008084e1bbe2ea698dee7509e|average_density\n",
      "2023-02-12 13:08:33.396 INFO     3b3bf3f008084e1bbe2ea698dee7509e|average_density finished executing after 668.8097139999627 ms\n",
      "2023-02-12 13:08:33.468 INFO     Executing 4f0b3bf451bf417395857db8401a004f|average_liquid_potential\n",
      "2023-02-12 13:08:34.132 INFO     4f0b3bf451bf417395857db8401a004f|average_liquid_potential finished executing after 663.0323140002474 ms\n",
      "2023-02-12 13:08:34.134 INFO     Executing 4f0b3bf451bf417395857db8401a004f|production_simulation_gas\n",
      "2023-02-12 13:08:34.138 INFO     Setting up a simulation with 1 threads\n",
      "2023-02-12 13:08:34.146 INFO     No checkpoint files were found.\n",
      "2023-02-12 13:12:15.837 INFO     Setting up an openmm platform on GPU 0 with CUDA kernel and double precision\n",
      "2023-02-12 13:12:18.221 INFO     Setting up an openmm platform on GPU 0 with CUDA kernel and double precision\n",
      "2023-02-12 13:12:19.274 INFO     Setting up an openmm platform on GPU 0 with CUDA kernel and double precision\n",
      "2023-02-12 13:12:20.324 INFO     Setting up an openmm platform on GPU 0 with CUDA kernel and double precision\n",
      "2023-02-12 13:12:21.391 INFO     Setting up an openmm platform on GPU 0 with CUDA kernel and double precision\n",
      "2023-02-12 13:12:22.430 INFO     Setting up an openmm platform on GPU 0 with CUDA kernel and double precision\n",
      "2023-02-12 13:12:23.522 INFO     Setting up an openmm platform on GPU 0 with CUDA kernel and double precision\n",
      "2023-02-12 13:12:24.584 INFO     Setting up an openmm platform on GPU 0 with CUDA kernel and double precision\n",
      "2023-02-12 13:12:25.687 INFO     Setting up an openmm platform on GPU 0 with CUDA kernel and double precision\n",
      "2023-02-12 13:12:26.788 INFO     Setting up an openmm platform on GPU 0 with CUDA kernel and double precision\n",
      "2023-02-12 13:12:27.856 INFO     Setting up an openmm platform on GPU 0 with CUDA kernel and double precision\n",
      "2023-02-12 13:12:28.966 INFO     Setting up an openmm platform on GPU 0 with CUDA kernel and double precision\n",
      "2023-02-12 13:12:30.079 INFO     Setting up an openmm platform on GPU 0 with CUDA kernel and double precision\n",
      "2023-02-12 13:12:31.170 INFO     Setting up an openmm platform on GPU 0 with CUDA kernel and double precision\n",
      "2023-02-12 13:12:32.299 INFO     Setting up an openmm platform on GPU 0 with CUDA kernel and double precision\n",
      "2023-02-12 13:12:33.376 INFO     Setting up an openmm platform on GPU 0 with CUDA kernel and double precision\n",
      "2023-02-12 13:12:34.465 INFO     Setting up an openmm platform on GPU 0 with CUDA kernel and double precision\n",
      "2023-02-12 13:12:35.791 INFO     Setting up an openmm platform on GPU 0 with CUDA kernel and double precision\n",
      "2023-02-12 13:12:36.867 INFO     Setting up an openmm platform on GPU 0 with CUDA kernel and double precision\n",
      "2023-02-12 13:12:37.949 INFO     Setting up an openmm platform on GPU 0 with CUDA kernel and double precision\n",
      "2023-02-12 13:12:39.269 INFO     4f0b3bf451bf417395857db8401a004f|production_simulation_gas finished executing after 245133.64542499994 ms\n",
      "2023-02-12 13:12:39.450 INFO     Executing 4f0b3bf451bf417395857db8401a004f|average_gas_potential\n",
      "2023-02-12 13:12:40.232 INFO     4f0b3bf451bf417395857db8401a004f|average_gas_potential finished executing after 781.3103080002293 ms\n",
      "2023-02-12 13:12:40.242 INFO     Executing 4f0b3bf451bf417395857db8401a004f|energy_of_vaporization\n",
      "2023-02-12 13:12:40.245 INFO     4f0b3bf451bf417395857db8401a004f|energy_of_vaporization finished executing after 1.214300000356161 ms\n",
      "2023-02-12 13:12:40.246 INFO     Executing 4f0b3bf451bf417395857db8401a004f|ideal_volume\n",
      "2023-02-12 13:12:40.247 INFO     4f0b3bf451bf417395857db8401a004f|ideal_volume finished executing after 0.34839999989344506 ms\n",
      "2023-02-12 13:12:40.254 INFO     Executing 4f0b3bf451bf417395857db8401a004f|enthalpy_of_vaporization\n",
      "2023-02-12 13:12:40.256 INFO     4f0b3bf451bf417395857db8401a004f|enthalpy_of_vaporization finished executing after 0.6850999998277985 ms\n",
      "2023-02-12 13:12:40.257 INFO     4f0b3bf451bf417395857db8401a004f|conditional_group loop finished after 1 iterations\n",
      "2023-02-12 13:12:40.460 INFO     4f0b3bf451bf417395857db8401a004f|conditional_group finished executing after 1123060.8785569998 ms\n",
      "2023-02-12 13:12:40.669 INFO     Launching a job with access to GPUs 0\n",
      "2023-02-12 13:12:40.967 INFO     Executing 4f0b3bf451bf417395857db8401a004f|decorrelate_trajectory_liquid\n",
      "2023-02-12 13:12:41.353 INFO     4f0b3bf451bf417395857db8401a004f|decorrelate_trajectory_liquid finished executing after 384.28190400009044 ms\n",
      "2023-02-12 13:12:41.376 INFO     Launching a job with access to GPUs 0\n",
      "2023-02-12 13:12:41.670 INFO     Executing 4f0b3bf451bf417395857db8401a004f|decorrelate_trajectory_gas\n",
      "2023-02-12 13:12:42.542 INFO     4f0b3bf451bf417395857db8401a004f|decorrelate_trajectory_gas finished executing after 869.4060110001374 ms\n",
      "2023-02-12 13:12:42.561 INFO     Launching a job with access to GPUs 0\n",
      "2023-02-12 13:12:42.875 INFO     Executing 4f0b3bf451bf417395857db8401a004f|decorrelate_observables_gas\n",
      "2023-02-12 13:12:42.938 INFO     4f0b3bf451bf417395857db8401a004f|decorrelate_observables_gas finished executing after 60.2954010000758 ms\n",
      "2023-02-12 13:12:42.956 INFO     Launching a job with access to GPUs 0\n",
      "2023-02-12 13:12:43.231 INFO     Executing 3b3bf3f008084e1bbe2ea698dee7509e|decorrelate_trajectory\n",
      "2023-02-12 13:12:43.594 INFO     3b3bf3f008084e1bbe2ea698dee7509e|decorrelate_trajectory finished executing after 361.53270399972826 ms\n",
      "2023-02-12 13:12:43.615 INFO     Launching a job with access to GPUs 0\n",
      "2023-02-12 13:12:43.909 INFO     Executing 4f0b3bf451bf417395857db8401a004f|decorrelate_observables_liquid\n",
      "2023-02-12 13:12:43.926 INFO     4f0b3bf451bf417395857db8401a004f|decorrelate_observables_liquid finished executing after 15.321899999435118 ms\n",
      "2023-02-12 13:12:43.945 INFO     Launching a job with access to GPUs 0\n",
      "2023-02-12 13:12:44.248 INFO     Executing 3b3bf3f008084e1bbe2ea698dee7509e|decorrelate_observables\n",
      "2023-02-12 13:12:44.267 INFO     3b3bf3f008084e1bbe2ea698dee7509e|decorrelate_observables finished executing after 16.479299999446084 ms\n",
      "2023-02-12 13:12:44.286 INFO     Launching a job with access to GPUs 0\n",
      "2023-02-12 13:12:46.048 INFO     Launching a job with access to GPUs 0\n",
      "2023-02-12 13:12:47.096 INFO     Launching a job with access to GPUs 0\n",
      "2023-02-12 13:12:47.151 INFO     Launching a job with access to GPUs 0\n",
      "2023-02-12 13:12:47.640 INFO     Finished server request 90d0613348ed468883afe87e16644ac7\n",
      "\n",
      "2 properties were estimated using the SimulationLayer layer.\n",
      "\n",
      "\n",
      "#=============================================================================================================#\n",
      "#| \u001b[1;94m                                    pure_data EnthalpyOfVaporization                                     \u001b[0m |#\n",
      "#| \u001b[1;94m Temperature  Pressure Substance  Reference  Calculated +- Stdev     Delta    Weight    Denom     Term   \u001b[0m |#\n",
      "#=============================================================================================================#\n",
      "  298.15 kelvin 1.0 standard_atmosphere CCO{solv}{x=1.000000}    42.260         38.912 +- 0.178    -3.348   1.00000   3.00000   1.24574  \n",
      "---------------------------------------------------------------------------------------------------------------\n",
      "\n",
      "#=============================================================================================================#\n",
      "#| \u001b[1;94m                                            pure_data Density                                            \u001b[0m |#\n",
      "#| \u001b[1;94m Temperature  Pressure Substance  Reference  Calculated +- Stdev     Delta    Weight    Denom     Term   \u001b[0m |#\n",
      "#=============================================================================================================#\n",
      "  298.15 kelvin 1.0 standard_atmosphere CCO{solv}{x=1.000000}   785.070        791.073 +- 0.668     6.003   1.00000  30.00000   0.04004  \n",
      "---------------------------------------------------------------------------------------------------------------\n",
      "#====================================================================#\n",
      "#| \u001b[94m                  Objective Function Breakdown                  \u001b[0m |#\n",
      "#| \u001b[94m  Target Name              Residual  x  Weight  =  Contribution \u001b[0m |#\n",
      "#====================================================================#\n",
      "pure_data                      1.28578      1.000 \u001b[94m     1.28578e+00\u001b[0m \n",
      "Regularization                 0.00000      1.000 \u001b[94m     0.00000e+00\u001b[0m \n",
      "Total                                             \u001b[94m     1.28578e+00\u001b[0m \n",
      "----------------------------------------------------------------------\n",
      "\n",
      "  Step       |k|        |dk|       |grad|       -=X2=-     Delta(X2)    StepQual\n",
      "     0   0.000e+00   0.000e+00   5.805e+01\u001b[1m   1.28578e+00\u001b[0m   0.000e+00      0.000\n",
      "\n",
      "#========================================================#\n",
      "#| \u001b[94m                   Total Gradient                   \u001b[0m |#\n",
      "#========================================================#\n",
      "   0 [ -2.07943597e+01 ] : vdW/Atom/epsilon/[#1:1]-[#6X4]\n",
      "   1 [ -3.40625305e+00 ] : vdW/Atom/rmin_half/[#1:1]-[#6X4]\n",
      "   2 [ -1.00411818e+01 ] : vdW/Atom/epsilon/[#1:1]-[#6X4]-[#7,#8,#9,#16,#17,#35]\n",
      "   3 [  4.96277244e-01 ] : vdW/Atom/rmin_half/[#1:1]-[#6X4]-[#7,#8,#9,#16,#17,#35]\n",
      "   4 [ -1.88571785e+01 ] : vdW/Atom/epsilon/[#1:1]-[#8]\n",
      "   5 [  7.92904788e-02 ] : vdW/Atom/rmin_half/[#1:1]-[#8]\n",
      "   6 [ -8.98008768e+00 ] : vdW/Atom/epsilon/[#6X4:1]\n",
      "   7 [ -1.80252619e+01 ] : vdW/Atom/rmin_half/[#6X4:1]\n",
      "   8 [ -1.10133234e-01 ] : vdW/Atom/epsilon/[#8X2H1+0:1]\n",
      "   9 [  4.54210532e+01 ] : vdW/Atom/rmin_half/[#8X2H1+0:1]\n",
      "----------------------------------------------------------\n",
      "#========================================================#\n",
      "#| \u001b[94m                   Total Hessian                    \u001b[0m |#\n",
      "#========================================================#\n",
      " 2.60845555e+02 -1.35325554e+02  1.35503022e+02 -8.33618213e+01  2.23297666e+02 -1.22885794e+00  1.49347284e+02  2.06132529e+02  4.73175929e+00 -6.31299461e+02 \n",
      "-1.35325554e+02  2.98985871e+02 -8.42224098e+01  1.41833825e+02 -1.02185888e+02  9.50328754e-01 -1.25896979e+02 -8.45436489e+01 -6.75196940e+00  4.13938677e+02 \n",
      " 1.35503022e+02 -8.42224098e+01  7.37258716e+01 -4.94502040e+01  1.16033199e+02 -6.61504111e-01  8.10099720e+01  1.06534738e+02  2.73006244e+00 -3.35440716e+02 \n",
      "-8.33618213e+01  1.41833825e+02 -4.94502040e+01  7.15164344e+01 -6.55924529e+01  5.29463517e-01 -6.88642177e+01 -5.62998763e+01 -3.38183615e+00  2.39744994e+02 \n",
      " 2.23297666e+02 -1.02185888e+02  1.16033199e+02 -6.55924529e+01  1.95568064e+02 -1.04028850e+00  1.25760690e+02  1.79317932e+02  3.80669604e+00 -5.39204297e+02 \n",
      "-1.22885794e+00  9.50328754e-01 -6.61504111e-01  5.29463517e-01 -1.04028850e+00  2.00625293e+00 -7.74092645e-01 -9.47001522e-01 -2.82858240e-02  3.11123254e+00 \n",
      " 1.49347284e+02 -1.25896979e+02  8.10099720e+01 -6.88642177e+01  1.25760690e+02 -7.74092645e-01  9.82763224e+01  1.14024721e+02  3.63434386e+00 -3.81975279e+02 \n",
      " 2.06132529e+02 -8.45436489e+01  1.06534738e+02 -5.62998763e+01  1.79317932e+02 -9.47001522e-01  1.14024721e+02  1.68538213e+02  3.32899529e+00 -4.94125843e+02 \n",
      " 4.73175929e+00 -6.75196940e+00  2.73006244e+00 -3.38183615e+00  3.80669604e+00 -2.82858240e-02  3.63434386e+00  3.32899529e+00  2.16739899e+00 -1.31267321e+01 \n",
      "-6.31299461e+02  4.13938677e+02 -3.35440716e+02  2.39744994e+02 -5.39204297e+02  3.11123254e+00 -3.81975279e+02 -4.94125843e+02 -1.31267321e+01  1.57278763e+03 \n",
      "----------------------------------------------------------\n",
      "Calculating nonlinear optimization step\n",
      "Newton-Raphson step found (length 7.6589e-02)\n",
      "#========================================================#\n",
      "#| \u001b[95m  Mathematical Parameters (Current + Step = Next)   \u001b[0m |#\n",
      "#========================================================#\n",
      "   0 [  0.0000e+00 + 2.0168e-02 =  2.0168e-02 ] : vdW/Atom/epsilon/[#1:1]-[#6X4]\n",
      "   1 [  0.0000e+00 + 5.7429e-02 =  5.7429e-02 ] : vdW/Atom/rmin_half/[#1:1]-[#6X4]\n",
      "   2 [  0.0000e+00 + 6.5376e-03 =  6.5376e-03 ] : vdW/Atom/epsilon/[#1:1]-[#6X4]-[#7,#8,#9,#16,#17,#35]\n",
      "   3 [  0.0000e+00 + 2.3025e-02 =  2.3025e-02 ] : vdW/Atom/rmin_half/[#1:1]-[#6X4]-[#7,#8,#9,#16,#17,#35]\n",
      "   4 [  0.0000e+00 + 2.1772e-02 =  2.1772e-02 ] : vdW/Atom/epsilon/[#1:1]-[#8]\n",
      "   5 [  0.0000e+00 - 3.2461e-06 = -3.2461e-06 ] : vdW/Atom/rmin_half/[#1:1]-[#8]\n",
      "   6 [  0.0000e+00 - 2.7303e-03 = -2.7303e-03 ] : vdW/Atom/epsilon/[#6X4:1]\n",
      "   7 [  0.0000e+00 + 2.3038e-02 =  2.3038e-02 ] : vdW/Atom/rmin_half/[#6X4:1]\n",
      "   8 [  0.0000e+00 - 9.1670e-04 = -9.1670e-04 ] : vdW/Atom/epsilon/[#8X2H1+0:1]\n",
      "   9 [  0.0000e+00 - 2.3983e-02 = -2.3983e-02 ] : vdW/Atom/rmin_half/[#8X2H1+0:1]\n",
      "----------------------------------------------------------\n",
      "#========================================================#\n",
      "#| \u001b[95m    Physical Parameters (Current + Step = Next)     \u001b[0m |#\n",
      "#========================================================#\n",
      "   0 [  1.5700e-02 + 2.0168e-03 =  1.7717e-02 ] : vdW/Atom/epsilon/[#1:1]-[#6X4]\n",
      "   1 [  1.4870e+00 + 5.7429e-02 =  1.5444e+00 ] : vdW/Atom/rmin_half/[#1:1]-[#6X4]\n",
      "   2 [  1.5700e-02 + 6.5376e-04 =  1.6354e-02 ] : vdW/Atom/epsilon/[#1:1]-[#6X4]-[#7,#8,#9,#16,#17,#35]\n",
      "   3 [  1.3870e+00 + 2.3025e-02 =  1.4100e+00 ] : vdW/Atom/rmin_half/[#1:1]-[#6X4]-[#7,#8,#9,#16,#17,#35]\n",
      "   4 [  5.2700e-05 + 2.1772e-03 =  2.2299e-03 ] : vdW/Atom/epsilon/[#1:1]-[#8]\n",
      "   5 [  3.0000e-01 - 3.2461e-06 =  3.0000e-01 ] : vdW/Atom/rmin_half/[#1:1]-[#8]\n",
      "   6 [  1.0940e-01 - 2.7303e-04 =  1.0913e-01 ] : vdW/Atom/epsilon/[#6X4:1]\n",
      "   7 [  1.9080e+00 + 2.3038e-02 =  1.9310e+00 ] : vdW/Atom/rmin_half/[#6X4:1]\n",
      "   8 [  2.1040e-01 - 9.1670e-05 =  2.1031e-01 ] : vdW/Atom/epsilon/[#8X2H1+0:1]\n",
      "   9 [  1.7210e+00 - 2.3983e-02 =  1.6970e+00 ] : vdW/Atom/rmin_half/[#8X2H1+0:1]\n",
      "----------------------------------------------------------\n",
      "Input file with saved parameters: optimize.sav\n",
      "#========================================================#\n",
      "#| \u001b[94m     Iteration 1: Evaluating objective function     \u001b[0m |#\n",
      "#| \u001b[94m        and derivatives through second order        \u001b[0m |#\n",
      "#========================================================#\n",
      "2023-02-12 13:22:30.692 INFO     Received estimation request from ('127.0.0.1', 36624)\n",
      "2023-02-12 13:22:30.784 INFO     Launching batch 4a476cd50aa944adbecc780d66c72b01 using the SimulationLayer layer\n",
      "Requesting the estimation of 2 properties, and their gradients with respect to 10 parameters.\n",
      "2023-02-12 13:22:30.787 INFO     Building workflow 0 of 2\n",
      "2023-02-12 13:22:31.246 INFO     Building workflow 1 of 2\n",
      "2023-02-12 13:22:31.703 INFO     Launching a job with access to GPUs 0\n",
      "2023-02-12 13:22:31.739 INFO     Executing 4f0b3bf451bf417395857db8401a004f|build_coordinates_liquid\n",
      "2023-02-12 13:22:32.235 INFO     4f0b3bf451bf417395857db8401a004f|build_coordinates_liquid finished executing after 493.5899980000613 ms\n",
      "2023-02-12 13:22:32.258 INFO     Launching a job with access to GPUs 0\n",
      "2023-02-12 13:22:32.293 INFO     Executing 4f0b3bf451bf417395857db8401a004f|build_coordinates_gas\n",
      "2023-02-12 13:22:32.398 INFO     4f0b3bf451bf417395857db8401a004f|build_coordinates_gas finished executing after 103.67740000037884 ms\n",
      "2023-02-12 13:22:32.418 INFO     Launching a job with access to GPUs 0\n",
      "2023-02-12 13:22:32.448 INFO     Executing 4f0b3bf451bf417395857db8401a004f|assign_parameters_liquid\n",
      "2023-02-12 13:22:37.529 INFO     4f0b3bf451bf417395857db8401a004f|assign_parameters_liquid finished executing after 5078.218394000032 ms\n",
      "2023-02-12 13:22:37.552 INFO     Launching a job with access to GPUs 0\n",
      "2023-02-12 13:22:37.582 INFO     Executing 4f0b3bf451bf417395857db8401a004f|assign_parameters_gas\n",
      "2023-02-12 13:22:38.276 INFO     4f0b3bf451bf417395857db8401a004f|assign_parameters_gas finished executing after 692.2205999999278 ms\n",
      "2023-02-12 13:22:38.298 INFO     Launching a job with access to GPUs 0\n",
      "2023-02-12 13:22:38.334 INFO     Executing 4f0b3bf451bf417395857db8401a004f|energy_minimisation_liquid\n",
      "2023-02-12 13:22:38.339 INFO     Setting up an openmm platform on GPU 0 with CUDA kernel and mixed precision\n",
      "2023-02-12 13:22:41.824 INFO     4f0b3bf451bf417395857db8401a004f|energy_minimisation_liquid finished executing after 3488.4969009999622 ms\n",
      "2023-02-12 13:22:41.875 INFO     Launching a job with access to GPUs 0\n",
      "2023-02-12 13:22:41.909 INFO     Executing 4f0b3bf451bf417395857db8401a004f|energy_minimisation_gas\n",
      "2023-02-12 13:22:41.916 INFO     Setting up an openmm platform on GPU 0 with CUDA kernel and mixed precision\n",
      "2023-02-12 13:22:42.127 INFO     4f0b3bf451bf417395857db8401a004f|energy_minimisation_gas finished executing after 215.1183999994828 ms\n",
      "2023-02-12 13:22:42.146 INFO     Launching a job with access to GPUs 0\n",
      "2023-02-12 13:22:42.179 INFO     Executing 4f0b3bf451bf417395857db8401a004f|equilibration_simulation_liquid\n",
      "2023-02-12 13:22:42.247 INFO     Setting up an openmm platform on GPU 0 with CUDA kernel and mixed precision\n",
      "2023-02-12 13:22:43.026 INFO     No checkpoint files were found.\n",
      "2023-02-12 13:23:44.410 INFO     4f0b3bf451bf417395857db8401a004f|equilibration_simulation_liquid finished executing after 62228.06473000037 ms\n",
      "2023-02-12 13:23:44.616 INFO     Launching a job with access to GPUs 0\n",
      "2023-02-12 13:23:44.652 INFO     Executing 4f0b3bf451bf417395857db8401a004f|equilibration_simulation_gas\n",
      "2023-02-12 13:23:44.725 INFO     Setting up a simulation with 1 threads\n",
      "2023-02-12 13:23:44.738 INFO     No checkpoint files were found.\n",
      "2023-02-12 13:23:46.290 INFO     4f0b3bf451bf417395857db8401a004f|equilibration_simulation_gas finished executing after 1635.812994000844 ms\n",
      "2023-02-12 13:23:46.312 INFO     Launching a job with access to GPUs 0\n",
      "2023-02-12 13:23:46.369 INFO     Executing 4f0b3bf451bf417395857db8401a004f|conditional_group\n",
      "2023-02-12 13:23:46.385 INFO     Executing 4f0b3bf451bf417395857db8401a004f|production_simulation_liquid\n",
      "2023-02-12 13:23:46.451 INFO     Setting up an openmm platform on GPU 0 with CUDA kernel and mixed precision\n",
      "2023-02-12 13:23:47.287 INFO     No checkpoint files were found.\n",
      "2023-02-12 13:35:36.432 INFO     Setting up an openmm platform on GPU 0 with CUDA kernel and double precision\n",
      "2023-02-12 13:35:39.860 INFO     Setting up an openmm platform on GPU 0 with CUDA kernel and double precision\n",
      "2023-02-12 13:35:45.770 INFO     Setting up an openmm platform on GPU 0 with CUDA kernel and double precision\n",
      "2023-02-12 13:35:49.141 INFO     Setting up an openmm platform on GPU 0 with CUDA kernel and double precision\n",
      "2023-02-12 13:35:55.141 INFO     Setting up an openmm platform on GPU 0 with CUDA kernel and double precision\n",
      "2023-02-12 13:35:58.546 INFO     Setting up an openmm platform on GPU 0 with CUDA kernel and double precision\n",
      "2023-02-12 13:36:04.518 INFO     Setting up an openmm platform on GPU 0 with CUDA kernel and double precision\n",
      "2023-02-12 13:36:07.894 INFO     Setting up an openmm platform on GPU 0 with CUDA kernel and double precision\n",
      "2023-02-12 13:36:13.523 INFO     Setting up an openmm platform on GPU 0 with CUDA kernel and double precision\n",
      "2023-02-12 13:36:16.863 INFO     Setting up an openmm platform on GPU 0 with CUDA kernel and double precision\n",
      "2023-02-12 13:36:22.587 INFO     Setting up an openmm platform on GPU 0 with CUDA kernel and double precision\n",
      "2023-02-12 13:36:25.953 INFO     Setting up an openmm platform on GPU 0 with CUDA kernel and double precision\n",
      "2023-02-12 13:36:31.666 INFO     Setting up an openmm platform on GPU 0 with CUDA kernel and double precision\n",
      "2023-02-12 13:36:35.010 INFO     Setting up an openmm platform on GPU 0 with CUDA kernel and double precision\n",
      "2023-02-12 13:36:40.771 INFO     Setting up an openmm platform on GPU 0 with CUDA kernel and double precision\n",
      "2023-02-12 13:36:44.089 INFO     Setting up an openmm platform on GPU 0 with CUDA kernel and double precision\n",
      "2023-02-12 13:36:49.689 INFO     Setting up an openmm platform on GPU 0 with CUDA kernel and double precision\n",
      "2023-02-12 13:36:53.029 INFO     Setting up an openmm platform on GPU 0 with CUDA kernel and double precision\n",
      "2023-02-12 13:36:58.742 INFO     Setting up an openmm platform on GPU 0 with CUDA kernel and double precision\n",
      "2023-02-12 13:37:02.066 INFO     Setting up an openmm platform on GPU 0 with CUDA kernel and double precision\n",
      "2023-02-12 13:37:05.372 INFO     4f0b3bf451bf417395857db8401a004f|production_simulation_liquid finished executing after 798985.8228920002 ms\n",
      "2023-02-12 13:37:05.445 INFO     Executing 3b3bf3f008084e1bbe2ea698dee7509e|average_density\n",
      "2023-02-12 13:37:06.044 INFO     3b3bf3f008084e1bbe2ea698dee7509e|average_density finished executing after 597.511650999877 ms\n",
      "2023-02-12 13:37:06.115 INFO     Executing 4f0b3bf451bf417395857db8401a004f|average_liquid_potential\n",
      "2023-02-12 13:37:06.718 INFO     4f0b3bf451bf417395857db8401a004f|average_liquid_potential finished executing after 601.8478059995687 ms\n",
      "2023-02-12 13:37:06.720 INFO     Executing 4f0b3bf451bf417395857db8401a004f|production_simulation_gas\n",
      "2023-02-12 13:37:06.723 INFO     Setting up a simulation with 1 threads\n",
      "2023-02-12 13:37:06.731 INFO     No checkpoint files were found.\n",
      "2023-02-12 13:40:35.577 INFO     Setting up an openmm platform on GPU 0 with CUDA kernel and double precision\n",
      "2023-02-12 13:40:37.659 INFO     Setting up an openmm platform on GPU 0 with CUDA kernel and double precision\n",
      "2023-02-12 13:40:38.760 INFO     Setting up an openmm platform on GPU 0 with CUDA kernel and double precision\n",
      "2023-02-12 13:40:39.830 INFO     Setting up an openmm platform on GPU 0 with CUDA kernel and double precision\n",
      "2023-02-12 13:40:41.043 INFO     Setting up an openmm platform on GPU 0 with CUDA kernel and double precision\n",
      "2023-02-12 13:40:42.209 INFO     Setting up an openmm platform on GPU 0 with CUDA kernel and double precision\n",
      "2023-02-12 13:40:43.450 INFO     Setting up an openmm platform on GPU 0 with CUDA kernel and double precision\n",
      "2023-02-12 13:40:44.677 INFO     Setting up an openmm platform on GPU 0 with CUDA kernel and double precision\n",
      "2023-02-12 13:40:45.903 INFO     Setting up an openmm platform on GPU 0 with CUDA kernel and double precision\n",
      "2023-02-12 13:40:46.962 INFO     Setting up an openmm platform on GPU 0 with CUDA kernel and double precision\n",
      "2023-02-12 13:40:48.170 INFO     Setting up an openmm platform on GPU 0 with CUDA kernel and double precision\n",
      "2023-02-12 13:40:49.274 INFO     Setting up an openmm platform on GPU 0 with CUDA kernel and double precision\n",
      "2023-02-12 13:40:50.465 INFO     Setting up an openmm platform on GPU 0 with CUDA kernel and double precision\n",
      "2023-02-12 13:40:51.586 INFO     Setting up an openmm platform on GPU 0 with CUDA kernel and double precision\n",
      "2023-02-12 13:40:52.791 INFO     Setting up an openmm platform on GPU 0 with CUDA kernel and double precision\n",
      "2023-02-12 13:40:53.954 INFO     Setting up an openmm platform on GPU 0 with CUDA kernel and double precision\n",
      "2023-02-12 13:40:55.076 INFO     Setting up an openmm platform on GPU 0 with CUDA kernel and double precision\n",
      "2023-02-12 13:40:56.198 INFO     Setting up an openmm platform on GPU 0 with CUDA kernel and double precision\n",
      "2023-02-12 13:40:57.386 INFO     Setting up an openmm platform on GPU 0 with CUDA kernel and double precision\n",
      "2023-02-12 13:40:58.538 INFO     Setting up an openmm platform on GPU 0 with CUDA kernel and double precision\n",
      "2023-02-12 13:40:59.737 INFO     4f0b3bf451bf417395857db8401a004f|production_simulation_gas finished executing after 233016.00323799995 ms\n",
      "2023-02-12 13:40:59.922 INFO     Executing 4f0b3bf451bf417395857db8401a004f|average_gas_potential\n",
      "2023-02-12 13:41:00.752 INFO     4f0b3bf451bf417395857db8401a004f|average_gas_potential finished executing after 828.5357750000912 ms\n",
      "2023-02-12 13:41:00.762 INFO     Executing 4f0b3bf451bf417395857db8401a004f|energy_of_vaporization\n",
      "2023-02-12 13:41:00.765 INFO     4f0b3bf451bf417395857db8401a004f|energy_of_vaporization finished executing after 1.482900000155496 ms\n",
      "2023-02-12 13:41:00.766 INFO     Executing 4f0b3bf451bf417395857db8401a004f|ideal_volume\n",
      "2023-02-12 13:41:00.768 INFO     4f0b3bf451bf417395857db8401a004f|ideal_volume finished executing after 0.3648000001703622 ms\n",
      "2023-02-12 13:41:00.775 INFO     Executing 4f0b3bf451bf417395857db8401a004f|enthalpy_of_vaporization\n",
      "2023-02-12 13:41:00.777 INFO     4f0b3bf451bf417395857db8401a004f|enthalpy_of_vaporization finished executing after 0.8987000001070555 ms\n",
      "2023-02-12 13:41:00.778 INFO     4f0b3bf451bf417395857db8401a004f|conditional_group loop finished after 1 iterations\n",
      "2023-02-12 13:41:01.027 INFO     4f0b3bf451bf417395857db8401a004f|conditional_group finished executing after 1034656.0536369998 ms\n",
      "2023-02-12 13:41:01.237 INFO     Launching a job with access to GPUs 0\n",
      "2023-02-12 13:41:01.668 INFO     Executing 4f0b3bf451bf417395857db8401a004f|decorrelate_trajectory_gas\n",
      "2023-02-12 13:41:02.429 INFO     4f0b3bf451bf417395857db8401a004f|decorrelate_trajectory_gas finished executing after 758.7543769996046 ms\n",
      "2023-02-12 13:41:02.452 INFO     Launching a job with access to GPUs 0\n",
      "2023-02-12 13:41:02.872 INFO     Executing 4f0b3bf451bf417395857db8401a004f|decorrelate_observables_gas\n",
      "2023-02-12 13:41:02.932 INFO     4f0b3bf451bf417395857db8401a004f|decorrelate_observables_gas finished executing after 57.4043980004717 ms\n",
      "2023-02-12 13:41:02.954 INFO     Launching a job with access to GPUs 0\n",
      "2023-02-12 13:41:03.391 INFO     Executing 3b3bf3f008084e1bbe2ea698dee7509e|decorrelate_observables\n",
      "2023-02-12 13:41:03.408 INFO     3b3bf3f008084e1bbe2ea698dee7509e|decorrelate_observables finished executing after 14.846600000055332 ms\n",
      "2023-02-12 13:41:03.430 INFO     Launching a job with access to GPUs 0\n",
      "2023-02-12 13:41:03.853 INFO     Executing 4f0b3bf451bf417395857db8401a004f|decorrelate_trajectory_liquid\n",
      "2023-02-12 13:41:04.076 INFO     4f0b3bf451bf417395857db8401a004f|decorrelate_trajectory_liquid finished executing after 221.20829400046205 ms\n",
      "2023-02-12 13:41:04.097 INFO     Launching a job with access to GPUs 0\n",
      "2023-02-12 13:41:04.530 INFO     Executing 4f0b3bf451bf417395857db8401a004f|decorrelate_observables_liquid\n",
      "2023-02-12 13:41:04.547 INFO     4f0b3bf451bf417395857db8401a004f|decorrelate_observables_liquid finished executing after 15.073900000061258 ms\n",
      "2023-02-12 13:41:04.570 INFO     Launching a job with access to GPUs 0\n",
      "2023-02-12 13:41:05.009 INFO     Executing 3b3bf3f008084e1bbe2ea698dee7509e|decorrelate_trajectory\n",
      "2023-02-12 13:41:05.244 INFO     3b3bf3f008084e1bbe2ea698dee7509e|decorrelate_trajectory finished executing after 232.516293000117 ms\n",
      "2023-02-12 13:41:05.267 INFO     Launching a job with access to GPUs 0\n",
      "2023-02-12 13:41:07.077 INFO     Launching a job with access to GPUs 0\n",
      "2023-02-12 13:41:08.214 INFO     Launching a job with access to GPUs 0\n",
      "2023-02-12 13:41:08.270 INFO     Launching a job with access to GPUs 0\n",
      "2023-02-12 13:41:08.940 INFO     Finished server request 4a476cd50aa944adbecc780d66c72b01\n",
      "\n",
      "2 properties were estimated using the SimulationLayer layer.\n",
      "\n",
      "\n",
      "#=============================================================================================================#\n",
      "#| \u001b[1;94m                                    pure_data EnthalpyOfVaporization                                     \u001b[0m |#\n",
      "#| \u001b[1;94m Temperature  Pressure Substance  Reference  Calculated +- Stdev     Delta    Weight    Denom     Term   \u001b[0m |#\n",
      "#=============================================================================================================#\n",
      "  298.15 kelvin 1.0 standard_atmosphere CCO{solv}{x=1.000000}    42.260         41.534 +- 0.175    -0.726   1.00000   3.00000   0.05856  \n",
      "---------------------------------------------------------------------------------------------------------------\n",
      "\n",
      "#=============================================================================================================#\n",
      "#| \u001b[1;94m                                            pure_data Density                                            \u001b[0m |#\n",
      "#| \u001b[1;94m Temperature  Pressure Substance  Reference  Calculated +- Stdev     Delta    Weight    Denom     Term   \u001b[0m |#\n",
      "#=============================================================================================================#\n",
      "  298.15 kelvin 1.0 standard_atmosphere CCO{solv}{x=1.000000}   785.070        776.226 +- 0.657    -8.844   1.00000  30.00000   0.08690  \n",
      "---------------------------------------------------------------------------------------------------------------\n",
      "#===================================================================================#\n",
      "#| \u001b[94m                         Objective Function Breakdown                          \u001b[0m |#\n",
      "#| \u001b[94m  Target Name              Residual  x  Weight  =  Contribution (Current-Prev) \u001b[0m |#\n",
      "#===================================================================================#\n",
      "pure_data                      0.14546      1.000 \u001b[92m     1.45461e-01\u001b[0m ( -1.140e+00 ) \n",
      "Regularization                 0.00587      1.000 \u001b[91m     5.86593e-03\u001b[0m ( +5.866e-03 ) \n",
      "Total                                             \u001b[92m     1.51327e-01\u001b[0m ( -1.134e+00 ) \n",
      "-------------------------------------------------------------------------------------\n",
      "Creating the directory /home/wyan/Workspace/openff-evaluator/docs/tutorials/result/optimize to print the force field\n",
      "#========================================================================#\n",
      "#|  The force field has been written to the result/optimize directory.  |#\n",
      "#|    Input file with optimization parameters saved to optimize.sav.    |#\n",
      "#========================================================================#\n",
      "\n",
      "  Step       |k|        |dk|       |grad|       -=X2=-     Delta(X2)    StepQual\n",
      "     1   7.659e-02   7.659e-02   2.797e+01\u001b[92m   1.51327e-01\u001b[0m  -1.134e+00      0.886\n",
      "\n",
      "#========================================================#\n",
      "#| \u001b[94m                   Total Gradient                   \u001b[0m |#\n",
      "#========================================================#\n",
      "   0 [ -6.69082822e+00 ] : vdW/Atom/epsilon/[#1:1]-[#6X4]\n",
      "   1 [  9.89041053e+00 ] : vdW/Atom/rmin_half/[#1:1]-[#6X4]\n",
      "   2 [ -3.87681469e+00 ] : vdW/Atom/epsilon/[#1:1]-[#6X4]-[#7,#8,#9,#16,#17,#35]\n",
      "   3 [  5.58189050e+00 ] : vdW/Atom/rmin_half/[#1:1]-[#6X4]-[#7,#8,#9,#16,#17,#35]\n",
      "   4 [ -5.31289588e-01 ] : vdW/Atom/epsilon/[#1:1]-[#8]\n",
      "   5 [  4.26429945e-01 ] : vdW/Atom/rmin_half/[#1:1]-[#8]\n",
      "   6 [ -5.34900454e+00 ] : vdW/Atom/epsilon/[#6X4:1]\n",
      "   7 [ -4.79741338e+00 ] : vdW/Atom/rmin_half/[#6X4:1]\n",
      "   8 [ -4.41889702e-02 ] : vdW/Atom/epsilon/[#8X2H1+0:1]\n",
      "   9 [  2.32634608e+01 ] : vdW/Atom/rmin_half/[#8X2H1+0:1]\n",
      "----------------------------------------------------------\n",
      "#========================================================#\n",
      "#| \u001b[94m                   Total Hessian                    \u001b[0m |#\n",
      "#========================================================#\n",
      " 1.81082573e+02 -1.80646045e+02  1.10379327e+02 -9.26388031e+01  1.36246285e+01 -1.19721537e+01  1.27021121e+02  1.47018887e+02 -1.54037278e+00 -6.18236114e+02 \n",
      "-1.80646045e+02  4.19308233e+02 -9.09550473e+01  2.55164451e+02 -1.86824537e+01  1.02215764e+01 -1.72949110e+02 -9.45631239e+01 -6.34004161e+00  6.29446682e+02 \n",
      " 1.10379327e+02 -9.09550473e+01  7.18015570e+01 -4.30738234e+01  7.96934738e+00 -7.54004108e+00  7.44037652e+01  9.52771381e+01 -1.63402564e+00 -3.80551838e+02 \n",
      "-9.26388031e+01  2.55164451e+02 -4.30738234e+01  1.61168044e+02 -1.04454655e+01  4.91701656e+00 -9.65389607e+01 -3.90846771e+01 -4.63342064e+00  3.23810297e+02 \n",
      " 1.36246285e+01 -1.86824537e+01  7.96934738e+00 -1.04454655e+01  3.14032403e+00 -8.71869628e-01  1.06053837e+01  1.00562154e+01  4.86494940e-02 -4.71576208e+01 \n",
      "-1.19721537e+01  1.02215764e+01 -7.54004108e+00  4.91701656e+00 -8.71869628e-01  2.81500974e+00 -8.13802970e+00 -1.02526764e+01  1.65270004e-01  4.12848818e+01 \n",
      " 1.27021121e+02 -1.72949110e+02  7.44037652e+01 -9.65389607e+01  1.06053837e+01 -8.13802970e+00  1.00639320e+02  9.40333183e+01  4.12399298e-01 -4.39615726e+02 \n",
      " 1.47018887e+02 -9.45631239e+01  9.52771381e+01 -3.90846771e+01  1.00562154e+01 -1.02526764e+01  9.40333183e+01  1.34980559e+02 -3.06907666e+00 -5.06215712e+02 \n",
      "-1.54037278e+00 -6.34004161e+00 -1.63402564e+00 -4.63342064e+00  4.86494940e-02  1.65270004e-01  4.12399298e-01 -3.06907666e+00  2.27831550e+00  5.12254110e+00 \n",
      "-6.18236114e+02  6.29446682e+02 -3.80551838e+02  3.23810297e+02 -4.71576208e+01  4.12848818e+01 -4.39615726e+02 -5.06215712e+02  5.12254110e+00  2.13644350e+03 \n",
      "----------------------------------------------------------\n",
      "Convergence criterion reached in step size (1.00e-01)\n",
      "#========================================================#\n",
      "#| \u001b[92m               \u001b[0m\u001b[1mOptimization Converged\u001b[0m               \u001b[0m |#\n",
      "#| \u001b[92m           Final objective function value           \u001b[0m |#\n",
      "#| \u001b[92m  Full:  1.513268e-01  Un-penalized:  1.454609e-01  \u001b[0m |#\n",
      "#========================================================#\n",
      "#========================================================#\n",
      "#| \u001b[94m           Final optimization parameters:           \u001b[0m |#\n",
      "#========================================================#\n",
      "   0 [  2.0168e-02 ] : vdW/Atom/epsilon/[#1:1]-[#6X4]\n",
      "   1 [  5.7429e-02 ] : vdW/Atom/rmin_half/[#1:1]-[#6X4]\n",
      "   2 [  6.5376e-03 ] : vdW/Atom/epsilon/[#1:1]-[#6X4]-[#7,#8,#9,#16,#17,#35]\n",
      "   3 [  2.3025e-02 ] : vdW/Atom/rmin_half/[#1:1]-[#6X4]-[#7,#8,#9,#16,#17,#35]\n",
      "   4 [  2.1772e-02 ] : vdW/Atom/epsilon/[#1:1]-[#8]\n",
      "   5 [ -3.2461e-06 ] : vdW/Atom/rmin_half/[#1:1]-[#8]\n",
      "   6 [ -2.7303e-03 ] : vdW/Atom/epsilon/[#6X4:1]\n",
      "   7 [  2.3038e-02 ] : vdW/Atom/rmin_half/[#6X4:1]\n",
      "   8 [ -9.1670e-04 ] : vdW/Atom/epsilon/[#8X2H1+0:1]\n",
      "   9 [ -2.3983e-02 ] : vdW/Atom/rmin_half/[#8X2H1+0:1]\n",
      "#========================================================#\n",
      "#| \u001b[94m             Final physical parameters:             \u001b[0m |#\n",
      "#========================================================#\n",
      "   0 [  1.7717e-02 ] : vdW/Atom/epsilon/[#1:1]-[#6X4]\n",
      "   1 [  1.5444e+00 ] : vdW/Atom/rmin_half/[#1:1]-[#6X4]\n",
      "   2 [  1.6354e-02 ] : vdW/Atom/epsilon/[#1:1]-[#6X4]-[#7,#8,#9,#16,#17,#35]\n",
      "   3 [  1.4100e+00 ] : vdW/Atom/rmin_half/[#1:1]-[#6X4]-[#7,#8,#9,#16,#17,#35]\n",
      "   4 [  2.2299e-03 ] : vdW/Atom/epsilon/[#1:1]-[#8]\n",
      "   5 [  3.0000e-01 ] : vdW/Atom/rmin_half/[#1:1]-[#8]\n",
      "   6 [  1.0913e-01 ] : vdW/Atom/epsilon/[#6X4:1]\n",
      "   7 [  1.9310e+00 ] : vdW/Atom/rmin_half/[#6X4:1]\n",
      "   8 [  2.1031e-01 ] : vdW/Atom/epsilon/[#8X2H1+0:1]\n",
      "   9 [  1.6970e+00 ] : vdW/Atom/rmin_half/[#8X2H1+0:1]\n",
      "----------------------------------------------------------\n",
      "Backing up result/optimize/openff-1.0.0-tagged.offxml -> result/optimize/openff-1.0.0-tagged_1.offxml\n",
      "#========================================================================#\n",
      "#|  The force field has been written to the result/optimize directory.  |#\n",
      "#|    Input file with optimization parameters saved to optimize.sav.    |#\n",
      "#========================================================================#\n",
      "Wall time since calculation start: 3002.4 seconds\n",
      "#========================================================#\n",
      "#| \u001b[1;44;93m               Calculation Finished.                \u001b[0m |#\n",
      "#| \u001b[1;44;93m     ---==(  May the Force be with you!  )==---     \u001b[0m |#\n",
      "#========================================================#\n",
      "Look in optimize.err for more (possibly relevant) printout.\n"
     ]
    }
   ],
   "source": [
    "!ForceBalance optimize.in"
   ]
  },
  {
   "cell_type": "markdown",
   "metadata": {
    "colab_type": "text",
    "collapsed": false,
    "id": "xSuicGKR--yI",
    "pycharm": {
     "name": "#%% md\n"
    }
   },
   "source": [
    "If everything went well *ForceBalance* should exit cleanly, and will have stored out newly optimized force field in the\n",
    "`results` directory."
   ]
  },
  {
   "cell_type": "code",
   "execution_count": 20,
   "metadata": {
    "colab": {
     "base_uri": "https://localhost:8080/",
     "height": 34
    },
    "colab_type": "code",
    "id": "9XwxXlBX--yK",
    "outputId": "c0640494-9b26-4f7e-8e79-406158c3ab3d",
    "pycharm": {
     "name": "#%%\n"
    }
   },
   "outputs": [
    {
     "name": "stdout",
     "output_type": "stream",
     "text": [
      "openff-1.0.0-tagged.offxml  openff-1.0.0-tagged_1.offxml\n"
     ]
    }
   ],
   "source": [
    "!ls result/optimize"
   ]
  },
  {
   "cell_type": "markdown",
   "metadata": {
    "colab_type": "text",
    "collapsed": false,
    "id": "THb-Zxd4--yN",
    "pycharm": {
     "name": "#%% md\n"
    }
   },
   "source": [
    "## Plotting the results\n",
    "\n",
    "As a last step in this tutorial, we will extract the objective function at each iteration from the *ForceBalance* output\n",
    "files and plot this using `matplotlib`.\n",
    "\n",
    "First, we will extract the objective function from the `pickle` serialized output files which can be found in the \n",
    "`optimize.tmp/pure_data/iter_****/` directories:"
   ]
  },
  {
   "cell_type": "code",
   "execution_count": 21,
   "metadata": {
    "colab": {
     "base_uri": "https://localhost:8080/",
     "height": 34
    },
    "colab_type": "code",
    "id": "o5Hhm6XB--yP",
    "outputId": "8fc45775-b549-425f-f49e-2e0c8fec1b78",
    "pycharm": {
     "name": "#%% \n"
    }
   },
   "outputs": [
    {
     "name": "stdout",
     "output_type": "stream",
     "text": [
      "[1.2857821957553541, 0.14546087931784857]\n"
     ]
    }
   ],
   "source": [
    "# Determine how many iterations ForceBalance has completed.\n",
    "from glob import glob\n",
    "\n",
    "from forcebalance.nifty import lp_load\n",
    "\n",
    "n_iterations = len(glob(\"optimize.tmp/pure_data/iter*\"))\n",
    "\n",
    "# Extract the objective function at each iteration.\n",
    "objective_function = []\n",
    "\n",
    "for iteration in range(n_iterations):\n",
    "    folder_name = \"iter_\" + str(iteration).zfill(4)\n",
    "    file_path = f\"optimize.tmp/pure_data/{folder_name}/objective.p\"\n",
    "\n",
    "    statistics = lp_load(file_path)\n",
    "    objective_function.append(statistics[\"X\"])\n",
    "\n",
    "print(objective_function)"
   ]
  },
  {
   "cell_type": "markdown",
   "metadata": {
    "colab_type": "text",
    "collapsed": false,
    "id": "p0VXrv-3--yT",
    "pycharm": {
     "name": "#%% md\n"
    }
   },
   "source": [
    "The objective function is then easily plotted:"
   ]
  },
  {
   "cell_type": "code",
   "execution_count": 22,
   "metadata": {
    "colab": {
     "base_uri": "https://localhost:8080/",
     "height": 297
    },
    "colab_type": "code",
    "id": "DzOieX2B--yU",
    "outputId": "51331014-27cc-4829-84b6-bf64f0a550f4",
    "pycharm": {
     "name": "#%%\n"
    }
   },
   "outputs": [
    {
     "data": {
      "image/png": "[encoded data removed]",
      "text/plain": [
       "<Figure size 400x400 with 1 Axes>"
      ]
     },
     "metadata": {},
     "output_type": "display_data"
    }
   ],
   "source": [
    "from matplotlib import pyplot\n",
    "\n",
    "figure, axis = pyplot.subplots(1, 1, figsize=(4, 4))\n",
    "\n",
    "axis.set_xlabel(\"Iteration\")\n",
    "axis.set_ylabel(\"Objective Function\")\n",
    "\n",
    "axis.plot(range(n_iterations), objective_function, marker=\"o\")\n",
    "\n",
    "figure.tight_layout()"
   ]
  },
  {
   "cell_type": "markdown",
   "metadata": {
    "colab_type": "text",
    "collapsed": false,
    "id": "PbzleU137H9m",
    "pycharm": {
     "name": "#%% md\n"
    }
   },
   "source": [
    "## Conclusion\n",
    "\n",
    "And that concludes the fourth tutorial! \n",
    "\n",
    "If you have any questions and / or feedback, please open an issue on the\n",
    "[GitHub issue tracker](https://github.com/openforcefield/openff-evaluator/issues)."
   ]
  }
 ],
 "metadata": {
  "accelerator": "GPU",
  "colab": {
   "collapsed_sections": [],
   "name": "tutorial04.ipynb",
   "provenance": [
    {
     "file_id": "https://github.com/openforcefield/openff-evaluator/blob/main/docs/tutorials/tutorial04.ipynb",
     "timestamp": 1583264626727
    }
   ]
  },
  "kernelspec": {
   "display_name": "fb195",
   "language": "python",
   "name": "python3"
  },
  "language_info": {
   "codemirror_mode": {
    "name": "ipython",
    "version": 3
   },
   "file_extension": ".py",
   "mimetype": "text/x-python",
   "name": "python",
   "nbconvert_exporter": "python",
   "pygments_lexer": "ipython3",
   "version": "3.9.16"
  },
  "vscode": {
   "interpreter": {
    "hash": "1690fd1766f44aae37ffdbbdf69df6f174a8d4e75cf17a001829423fca41ffdc"
   }
  }
 },
 "nbformat": 4,
 "nbformat_minor": 0
}
